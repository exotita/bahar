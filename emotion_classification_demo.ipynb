{
  "cells": [
    {
      "cell_type": "markdown",
      "metadata": {},
      "source": [
        "# Bahar - Multilingual Emotion Classification Demo\n",
        "\n",
        "This notebook demonstrates emotion classification using the **GoEmotions dataset** taxonomy.\n",
        "\n",
        "**Supported Languages:** English, Dutch, Persian (and others)\n",
        "\n",
        "**28 Emotion Categories:**\n",
        "- **Positive (12):** admiration, amusement, approval, caring, desire, excitement, gratitude, joy, love, optimism, pride, relief\n",
        "- **Negative (11):** anger, annoyance, disappointment, disapproval, disgust, embarrassment, fear, grief, nervousness, remorse, sadness\n",
        "- **Ambiguous (4):** confusion, curiosity, realization, surprise\n",
        "- **Neutral (1):** neutral\n",
        "\n",
        "**Reference:** [GoEmotions Research Blog](https://research.google/blog/goemotions-a-dataset-for-fine-grained-emotion-classification/)\n"
      ]
    },
    {
      "cell_type": "markdown",
      "metadata": {},
      "source": [
        "## 1. Setup and Installation\n",
        "\n",
        "First, let's import the required modules and initialize the classifier.\n"
      ]
    },
    {
      "cell_type": "code",
      "execution_count": 1,
      "metadata": {},
      "outputs": [
        {
          "name": "stderr",
          "output_type": "stream",
          "text": [
            "/Users/me/Project/bahar/.venv/lib/python3.12/site-packages/tqdm/auto.py:21: TqdmWarning: IProgress not found. Please update jupyter and ipywidgets. See https://ipywidgets.readthedocs.io/en/stable/user_install.html\n",
            "  from .autonotebook import tqdm as notebook_tqdm\n"
          ]
        },
        {
          "data": {
            "text/html": [
              "<pre style=\"white-space:pre;overflow-x:auto;line-height:normal;font-family:Menlo,'DejaVu Sans Mono',consolas,'Courier New',monospace\"><span style=\"color: #008000; text-decoration-color: #008000; font-weight: bold\">✓</span> Total emotions in GoEmotions taxonomy: <span style=\"color: #008080; text-decoration-color: #008080; font-weight: bold\">28</span>\n",
              "</pre>\n"
            ],
            "text/plain": [
              "\u001b[1;32m✓\u001b[0m Total emotions in GoEmotions taxonomy: \u001b[1;36m28\u001b[0m\n"
            ]
          },
          "metadata": {},
          "output_type": "display_data"
        },
        {
          "data": {
            "text/html": [
              "<pre style=\"white-space:pre;overflow-x:auto;line-height:normal;font-family:Menlo,'DejaVu Sans Mono',consolas,'Courier New',monospace\"><span style=\"color: #000080; text-decoration-color: #000080; font-weight: bold\">ℹ</span> Emotion groups: positive, negative, ambiguous, neutral\n",
              "</pre>\n"
            ],
            "text/plain": [
              "\u001b[1;34mℹ\u001b[0m Emotion groups: positive, negative, ambiguous, neutral\n"
            ]
          },
          "metadata": {},
          "output_type": "display_data"
        }
      ],
      "source": [
        "# ============================================================================\n",
        "# ALL IMPORTS - Consolidated and sorted\n",
        "# ============================================================================\n",
        "\n",
        "# Standard library imports\n",
        "from collections import Counter\n",
        "\n",
        "# Bahar package imports - Analyzers\n",
        "from bahar.analyzers import EmotionAnalyzer, EnhancedAnalyzer\n",
        "from bahar.analyzers.enhanced_analyzer import (\n",
        "    export_to_academic_format,\n",
        "    format_enhanced_output,\n",
        ")\n",
        "\n",
        "# Bahar package imports - GoEmotions dataset\n",
        "from bahar.datasets.goemotions import (\n",
        "    EMOTION_GROUPS,\n",
        "    GOEMOTIONS_EMOTIONS,\n",
        "    SAMPLE_TEXTS,\n",
        ")\n",
        "from bahar.datasets.goemotions.result import format_emotion_output\n",
        "from bahar.datasets.goemotions.samples import get_samples_by_language\n",
        "\n",
        "# Bahar package imports - Rich output utilities\n",
        "from bahar.utils.rich_output import (\n",
        "    console,\n",
        "    print_header,\n",
        "    print_info,\n",
        "    print_section,\n",
        "    print_success,\n",
        ")\n",
        "\n",
        "# Rich library imports\n",
        "from rich.console import Group\n",
        "from rich.panel import Panel\n",
        "from rich.table import Table\n",
        "from rich.text import Text\n",
        "\n",
        "# ============================================================================\n",
        "# Display initial information\n",
        "# ============================================================================\n",
        "\n",
        "print_success(f\"Total emotions in GoEmotions taxonomy: {len(GOEMOTIONS_EMOTIONS)}\")\n",
        "print_info(f\"Emotion groups: {', '.join(list(EMOTION_GROUPS.keys()))}\")\n"
      ]
    },
    {
      "cell_type": "markdown",
      "metadata": {},
      "source": [
        "## 2. Initialize the Classifier\n",
        "\n",
        "Load the pre-trained GoEmotions model. This will download ~400MB on first run.\n"
      ]
    },
    {
      "cell_type": "code",
      "execution_count": 2,
      "metadata": {},
      "outputs": [
        {
          "data": {
            "text/html": [
              "<pre style=\"white-space:pre;overflow-x:auto;line-height:normal;font-family:Menlo,'DejaVu Sans Mono',consolas,'Courier New',monospace\"><span style=\"color: #000080; text-decoration-color: #000080; font-weight: bold\">ℹ</span> Loading model<span style=\"color: #808000; text-decoration-color: #808000\">...</span> <span style=\"font-weight: bold\">(</span>this may take a minute on first run<span style=\"font-weight: bold\">)</span>\n",
              "</pre>\n"
            ],
            "text/plain": [
              "\u001b[1;34mℹ\u001b[0m Loading model\u001b[33m...\u001b[0m \u001b[1m(\u001b[0mthis may take a minute on first run\u001b[1m)\u001b[0m\n"
            ]
          },
          "metadata": {},
          "output_type": "display_data"
        },
        {
          "data": {
            "text/html": [
              "<pre style=\"white-space:pre;overflow-x:auto;line-height:normal;font-family:Menlo,'DejaVu Sans Mono',consolas,'Courier New',monospace\"><span style=\"color: #008000; text-decoration-color: #008000; font-weight: bold\">✓</span> Model loaded successfully!\n",
              "</pre>\n"
            ],
            "text/plain": [
              "\u001b[1;32m✓\u001b[0m Model loaded successfully!\n"
            ]
          },
          "metadata": {},
          "output_type": "display_data"
        }
      ],
      "source": [
        "# Initialize and load the classifier using EmotionAnalyzer\n",
        "# Using English with GoEmotions model (default)\n",
        "classifier = EmotionAnalyzer(language=\"english\", model_key=\"goemotions\")\n",
        "\n",
        "print_info(\"Loading model... (this may take a minute on first run)\")\n",
        "classifier.load_model()\n",
        "print_success(\"Model loaded successfully!\")\n"
      ]
    },
    {
      "cell_type": "markdown",
      "metadata": {},
      "source": [
        "## 3. View the Complete Emotion Taxonomy\n"
      ]
    },
    {
      "cell_type": "code",
      "execution_count": 3,
      "metadata": {},
      "outputs": [
        {
          "data": {
            "text/html": [
              "<pre style=\"white-space:pre;overflow-x:auto;line-height:normal;font-family:Menlo,'DejaVu Sans Mono',consolas,'Courier New',monospace\"><span style=\"font-style: italic\">                                                GoEmotions Taxonomy                                                </span>\n",
              "┏━━━━━━━━━━━━━━━━━┳━━━━━━━━━━┳━━━━━━━━━━━━━━━━━━━━━━━━━━━━━━━━━━━━━━━━━━━━━━━━━━━━━━━━━━━━━━━━━━━━━━━━━━━━━━━━━━━━┓\n",
              "┃<span style=\"color: #008080; text-decoration-color: #008080; font-weight: bold\"> Group           </span>┃<span style=\"color: #008080; text-decoration-color: #008080; font-weight: bold\">    Count </span>┃<span style=\"color: #008080; text-decoration-color: #008080; font-weight: bold\"> Emotions                                                                           </span>┃\n",
              "┡━━━━━━━━━━━━━━━━━╇━━━━━━━━━━╇━━━━━━━━━━━━━━━━━━━━━━━━━━━━━━━━━━━━━━━━━━━━━━━━━━━━━━━━━━━━━━━━━━━━━━━━━━━━━━━━━━━━┩\n",
              "│<span style=\"color: #808000; text-decoration-color: #808000\"> </span><span style=\"color: #008000; text-decoration-color: #008000\">POSITIVE</span><span style=\"color: #808000; text-decoration-color: #808000\">        </span>│<span style=\"color: #800080; text-decoration-color: #800080\">       12 </span>│<span style=\"color: #c0c0c0; text-decoration-color: #c0c0c0\"> admiration, amusement, approval, caring, desire, excitement, gratitude, joy, love, </span>│\n",
              "│<span style=\"color: #808000; text-decoration-color: #808000\">                 </span>│<span style=\"color: #800080; text-decoration-color: #800080\">          </span>│<span style=\"color: #c0c0c0; text-decoration-color: #c0c0c0\"> optimism, pride, relief                                                            </span>│\n",
              "│<span style=\"color: #808000; text-decoration-color: #808000\"> </span><span style=\"color: #800000; text-decoration-color: #800000\">NEGATIVE</span><span style=\"color: #808000; text-decoration-color: #808000\">        </span>│<span style=\"color: #800080; text-decoration-color: #800080\">       11 </span>│<span style=\"color: #c0c0c0; text-decoration-color: #c0c0c0\"> anger, annoyance, disappointment, disapproval, disgust, embarrassment, fear,       </span>│\n",
              "│<span style=\"color: #808000; text-decoration-color: #808000\">                 </span>│<span style=\"color: #800080; text-decoration-color: #800080\">          </span>│<span style=\"color: #c0c0c0; text-decoration-color: #c0c0c0\"> grief, nervousness, remorse, sadness                                               </span>│\n",
              "│<span style=\"color: #808000; text-decoration-color: #808000\"> AMBIGUOUS       </span>│<span style=\"color: #800080; text-decoration-color: #800080\">        4 </span>│<span style=\"color: #c0c0c0; text-decoration-color: #c0c0c0\"> confusion, curiosity, realization, surprise                                        </span>│\n",
              "│<span style=\"color: #808000; text-decoration-color: #808000\"> </span><span style=\"color: #c0c0c0; text-decoration-color: #c0c0c0\">NEUTRAL</span><span style=\"color: #808000; text-decoration-color: #808000\">         </span>│<span style=\"color: #800080; text-decoration-color: #800080\">        1 </span>│<span style=\"color: #c0c0c0; text-decoration-color: #c0c0c0\"> neutral                                                                            </span>│\n",
              "└─────────────────┴──────────┴────────────────────────────────────────────────────────────────────────────────────┘\n",
              "</pre>\n"
            ],
            "text/plain": [
              "\u001b[3m                                                GoEmotions Taxonomy                                                \u001b[0m\n",
              "┏━━━━━━━━━━━━━━━━━┳━━━━━━━━━━┳━━━━━━━━━━━━━━━━━━━━━━━━━━━━━━━━━━━━━━━━━━━━━━━━━━━━━━━━━━━━━━━━━━━━━━━━━━━━━━━━━━━━┓\n",
              "┃\u001b[1;36m \u001b[0m\u001b[1;36mGroup          \u001b[0m\u001b[1;36m \u001b[0m┃\u001b[1;36m \u001b[0m\u001b[1;36m   Count\u001b[0m\u001b[1;36m \u001b[0m┃\u001b[1;36m \u001b[0m\u001b[1;36mEmotions                                                                          \u001b[0m\u001b[1;36m \u001b[0m┃\n",
              "┡━━━━━━━━━━━━━━━━━╇━━━━━━━━━━╇━━━━━━━━━━━━━━━━━━━━━━━━━━━━━━━━━━━━━━━━━━━━━━━━━━━━━━━━━━━━━━━━━━━━━━━━━━━━━━━━━━━━┩\n",
              "│\u001b[33m \u001b[0m\u001b[32mPOSITIVE\u001b[0m\u001b[33m       \u001b[0m\u001b[33m \u001b[0m│\u001b[35m \u001b[0m\u001b[35m      12\u001b[0m\u001b[35m \u001b[0m│\u001b[37m \u001b[0m\u001b[37madmiration, amusement, approval, caring, desire, excitement, gratitude, joy, love,\u001b[0m\u001b[37m \u001b[0m│\n",
              "│\u001b[33m                 \u001b[0m│\u001b[35m          \u001b[0m│\u001b[37m \u001b[0m\u001b[37moptimism, pride, relief                                                           \u001b[0m\u001b[37m \u001b[0m│\n",
              "│\u001b[33m \u001b[0m\u001b[31mNEGATIVE\u001b[0m\u001b[33m       \u001b[0m\u001b[33m \u001b[0m│\u001b[35m \u001b[0m\u001b[35m      11\u001b[0m\u001b[35m \u001b[0m│\u001b[37m \u001b[0m\u001b[37manger, annoyance, disappointment, disapproval, disgust, embarrassment, fear,      \u001b[0m\u001b[37m \u001b[0m│\n",
              "│\u001b[33m                 \u001b[0m│\u001b[35m          \u001b[0m│\u001b[37m \u001b[0m\u001b[37mgrief, nervousness, remorse, sadness                                              \u001b[0m\u001b[37m \u001b[0m│\n",
              "│\u001b[33m \u001b[0m\u001b[33mAMBIGUOUS\u001b[0m\u001b[33m      \u001b[0m\u001b[33m \u001b[0m│\u001b[35m \u001b[0m\u001b[35m       4\u001b[0m\u001b[35m \u001b[0m│\u001b[37m \u001b[0m\u001b[37mconfusion, curiosity, realization, surprise                                       \u001b[0m\u001b[37m \u001b[0m│\n",
              "│\u001b[33m \u001b[0m\u001b[37mNEUTRAL\u001b[0m\u001b[33m        \u001b[0m\u001b[33m \u001b[0m│\u001b[35m \u001b[0m\u001b[35m       1\u001b[0m\u001b[35m \u001b[0m│\u001b[37m \u001b[0m\u001b[37mneutral                                                                           \u001b[0m\u001b[37m \u001b[0m│\n",
              "└─────────────────┴──────────┴────────────────────────────────────────────────────────────────────────────────────┘\n"
            ]
          },
          "metadata": {},
          "output_type": "display_data"
        }
      ],
      "source": [
        "# Display all emotions grouped by sentiment using Rich\n",
        "table = Table(title=\"GoEmotions Taxonomy\", show_header=True, header_style=\"bold cyan\")\n",
        "table.add_column(\"Group\", style=\"yellow\", width=15)\n",
        "table.add_column(\"Count\", style=\"magenta\", justify=\"right\", width=8)\n",
        "table.add_column(\"Emotions\", style=\"white\")\n",
        "\n",
        "for group, emotions in EMOTION_GROUPS.items():\n",
        "    emotion_list = ', '.join(emotions)\n",
        "    # Color code by sentiment\n",
        "    if group == \"positive\":\n",
        "        style = \"green\"\n",
        "    elif group == \"negative\":\n",
        "        style = \"red\"\n",
        "    elif group == \"ambiguous\":\n",
        "        style = \"yellow\"\n",
        "    else:\n",
        "        style = \"white\"\n",
        "\n",
        "    table.add_row(\n",
        "        f\"[{style}]{group.upper()}[/{style}]\",\n",
        "        str(len(emotions)),\n",
        "        emotion_list\n",
        "    )\n",
        "\n",
        "console.print(table)\n"
      ]
    },
    {
      "cell_type": "markdown",
      "metadata": {},
      "source": [
        "## 4. Single Text Classification\n",
        "\n",
        "Let's classify a single text and see the results.\n"
      ]
    },
    {
      "cell_type": "code",
      "execution_count": 4,
      "metadata": {},
      "outputs": [
        {
          "data": {
            "text/html": [
              "<pre style=\"white-space:pre;overflow-x:auto;line-height:normal;font-family:Menlo,'DejaVu Sans Mono',consolas,'Courier New',monospace\"><span style=\"color: #000080; text-decoration-color: #000080\">╭───────────────────────────────────────────────────── </span><span style=\"color: #000080; text-decoration-color: #000080; font-weight: bold\">Text</span><span style=\"color: #000080; text-decoration-color: #000080\"> ──────────────────────────────────────────────────────╮</span>\n",
              "<span style=\"color: #000080; text-decoration-color: #000080\">│</span>                                                                                                                 <span style=\"color: #000080; text-decoration-color: #000080\">│</span>\n",
              "<span style=\"color: #000080; text-decoration-color: #000080\">│</span>  I'm so excited about this amazing opportunity! This is going to be great!                                      <span style=\"color: #000080; text-decoration-color: #000080\">│</span>\n",
              "<span style=\"color: #000080; text-decoration-color: #000080\">│</span>                                                                                                                 <span style=\"color: #000080; text-decoration-color: #000080\">│</span>\n",
              "<span style=\"color: #000080; text-decoration-color: #000080\">╰─────────────────────────────────────────────────────────────────────────────────────────────────────────────────╯</span>\n",
              "</pre>\n"
            ],
            "text/plain": [
              "\u001b[34m╭─\u001b[0m\u001b[34m────────────────────────────────────────────────────\u001b[0m\u001b[34m \u001b[0m\u001b[1;34mText\u001b[0m\u001b[34m \u001b[0m\u001b[34m─────────────────────────────────────────────────────\u001b[0m\u001b[34m─╮\u001b[0m\n",
              "\u001b[34m│\u001b[0m                                                                                                                 \u001b[34m│\u001b[0m\n",
              "\u001b[34m│\u001b[0m  I'm so excited about this amazing opportunity! This is going to be great!                                      \u001b[34m│\u001b[0m\n",
              "\u001b[34m│\u001b[0m                                                                                                                 \u001b[34m│\u001b[0m\n",
              "\u001b[34m╰─────────────────────────────────────────────────────────────────────────────────────────────────────────────────╯\u001b[0m\n"
            ]
          },
          "metadata": {},
          "output_type": "display_data"
        },
        {
          "data": {
            "text/html": [
              "<pre style=\"white-space:pre;overflow-x:auto;line-height:normal;font-family:Menlo,'DejaVu Sans Mono',consolas,'Courier New',monospace\"><span style=\"font-weight: bold\">Sentiment:</span> <span style=\"color: #008000; text-decoration-color: #008000\">POSITIVE</span>\n",
              "</pre>\n"
            ],
            "text/plain": [
              "\u001b[1mSentiment:\u001b[0m \u001b[32mPOSITIVE\u001b[0m\n"
            ]
          },
          "metadata": {},
          "output_type": "display_data"
        },
        {
          "data": {
            "text/html": [
              "<pre style=\"white-space:pre;overflow-x:auto;line-height:normal;font-family:Menlo,'DejaVu Sans Mono',consolas,'Courier New',monospace\"><span style=\"font-style: italic\">                                  Emotion Analysis                                   </span>\n",
              "┏━━━━━━━━━━━━━━━━━┳━━━━━━━━━━━━┳━━━━━━━━━━━━━━━━━━━━━━━━━━━━━━━━━━━━━━━━━━━━━━━━━━━━┓\n",
              "┃<span style=\"color: #800080; text-decoration-color: #800080; font-weight: bold\"> Emotion         </span>┃<span style=\"color: #800080; text-decoration-color: #800080; font-weight: bold\">      Score </span>┃<span style=\"color: #800080; text-decoration-color: #800080; font-weight: bold\"> Confidence                                         </span>┃\n",
              "┡━━━━━━━━━━━━━━━━━╇━━━━━━━━━━━━╇━━━━━━━━━━━━━━━━━━━━━━━━━━━━━━━━━━━━━━━━━━━━━━━━━━━━┩\n",
              "│<span style=\"color: #008080; text-decoration-color: #008080\"> excitement      </span>│<span style=\"color: #008000; text-decoration-color: #008000\">      0.998 </span>│ <span style=\"color: #00ff00; text-decoration-color: #00ff00\">███████████████████████████████████████░          </span> │\n",
              "│<span style=\"color: #008080; text-decoration-color: #008080\"> joy             </span>│<span style=\"color: #008000; text-decoration-color: #008000\">      0.000 </span>│ <span style=\"color: #7f7f7f; text-decoration-color: #7f7f7f\">░░░░░░░░░░░░░░░░░░░░░░░░░░░░░░░░░░░░░░░░          </span> │\n",
              "│<span style=\"color: #008080; text-decoration-color: #008080\"> admiration      </span>│<span style=\"color: #008000; text-decoration-color: #008000\">      0.000 </span>│ <span style=\"color: #7f7f7f; text-decoration-color: #7f7f7f\">░░░░░░░░░░░░░░░░░░░░░░░░░░░░░░░░░░░░░░░░          </span> │\n",
              "└─────────────────┴────────────┴────────────────────────────────────────────────────┘\n",
              "</pre>\n"
            ],
            "text/plain": [
              "\u001b[3m                                  Emotion Analysis                                   \u001b[0m\n",
              "┏━━━━━━━━━━━━━━━━━┳━━━━━━━━━━━━┳━━━━━━━━━━━━━━━━━━━━━━━━━━━━━━━━━━━━━━━━━━━━━━━━━━━━┓\n",
              "┃\u001b[1;35m \u001b[0m\u001b[1;35mEmotion        \u001b[0m\u001b[1;35m \u001b[0m┃\u001b[1;35m \u001b[0m\u001b[1;35m     Score\u001b[0m\u001b[1;35m \u001b[0m┃\u001b[1;35m \u001b[0m\u001b[1;35mConfidence                                        \u001b[0m\u001b[1;35m \u001b[0m┃\n",
              "┡━━━━━━━━━━━━━━━━━╇━━━━━━━━━━━━╇━━━━━━━━━━━━━━━━━━━━━━━━━━━━━━━━━━━━━━━━━━━━━━━━━━━━┩\n",
              "│\u001b[36m \u001b[0m\u001b[36mexcitement     \u001b[0m\u001b[36m \u001b[0m│\u001b[32m \u001b[0m\u001b[32m     0.998\u001b[0m\u001b[32m \u001b[0m│ \u001b[92m███████████████████████████████████████░          \u001b[0m │\n",
              "│\u001b[36m \u001b[0m\u001b[36mjoy            \u001b[0m\u001b[36m \u001b[0m│\u001b[32m \u001b[0m\u001b[32m     0.000\u001b[0m\u001b[32m \u001b[0m│ \u001b[2m░░░░░░░░░░░░░░░░░░░░░░░░░░░░░░░░░░░░░░░░          \u001b[0m │\n",
              "│\u001b[36m \u001b[0m\u001b[36madmiration     \u001b[0m\u001b[36m \u001b[0m│\u001b[32m \u001b[0m\u001b[32m     0.000\u001b[0m\u001b[32m \u001b[0m│ \u001b[2m░░░░░░░░░░░░░░░░░░░░░░░░░░░░░░░░░░░░░░░░          \u001b[0m │\n",
              "└─────────────────┴────────────┴────────────────────────────────────────────────────┘\n"
            ]
          },
          "metadata": {},
          "output_type": "display_data"
        },
        {
          "data": {
            "text/plain": [
              "''"
            ]
          },
          "execution_count": 4,
          "metadata": {},
          "output_type": "execute_result"
        }
      ],
      "source": [
        "# Classify a single text\n",
        "text = \"I'm so excited about this amazing opportunity! This is going to be great!\"\n",
        "\n",
        "result = classifier.analyze(text, top_k=3)\n",
        "\n",
        "# Use Rich formatting (use_rich=True by default)\n",
        "format_emotion_output(result, use_rich=True)\n"
      ]
    },
    {
      "cell_type": "markdown",
      "metadata": {},
      "source": [
        "## 5. Access Raw Prediction Data\n"
      ]
    },
    {
      "cell_type": "code",
      "execution_count": 5,
      "metadata": {},
      "outputs": [
        {
          "data": {
            "text/html": [
              "<pre style=\"white-space:pre;overflow-x:auto;line-height:normal;font-family:Menlo,'DejaVu Sans Mono',consolas,'Courier New',monospace\"><span style=\"font-style: italic\">                           Top 3 Emotions                            </span>\n",
              "┏━━━━━━━━━━━━┳━━━━━━━━┳━━━━━━━━━━━━┳━━━━━━━━━━━━━━━━━━━━━━━━━━━━━━━━┓\n",
              "┃<span style=\"color: #008000; text-decoration-color: #008000; font-weight: bold\"> Emotion    </span>┃<span style=\"color: #008000; text-decoration-color: #008000; font-weight: bold\">  Score </span>┃<span style=\"color: #008000; text-decoration-color: #008000; font-weight: bold\"> Percentage </span>┃<span style=\"color: #008000; text-decoration-color: #008000; font-weight: bold\"> Confidence Bar                 </span>┃\n",
              "┡━━━━━━━━━━━━╇━━━━━━━━╇━━━━━━━━━━━━╇━━━━━━━━━━━━━━━━━━━━━━━━━━━━━━━━┩\n",
              "│<span style=\"color: #008080; text-decoration-color: #008080\"> excitement </span>│<span style=\"color: #800080; text-decoration-color: #800080\"> 0.9985 </span>│<span style=\"color: #808000; text-decoration-color: #808000\">     99.85% </span>│<span style=\"color: #008000; text-decoration-color: #008000\"> █████████████████████████████░ </span>│\n",
              "│<span style=\"color: #008080; text-decoration-color: #008080\"> joy        </span>│<span style=\"color: #800080; text-decoration-color: #800080\"> 0.0003 </span>│<span style=\"color: #808000; text-decoration-color: #808000\">      0.03% </span>│<span style=\"color: #008000; text-decoration-color: #008000\"> ░░░░░░░░░░░░░░░░░░░░░░░░░░░░░░ </span>│\n",
              "│<span style=\"color: #008080; text-decoration-color: #008080\"> admiration </span>│<span style=\"color: #800080; text-decoration-color: #800080\"> 0.0002 </span>│<span style=\"color: #808000; text-decoration-color: #808000\">      0.02% </span>│<span style=\"color: #008000; text-decoration-color: #008000\"> ░░░░░░░░░░░░░░░░░░░░░░░░░░░░░░ </span>│\n",
              "└────────────┴────────┴────────────┴────────────────────────────────┘\n",
              "</pre>\n"
            ],
            "text/plain": [
              "\u001b[3m                           Top 3 Emotions                            \u001b[0m\n",
              "┏━━━━━━━━━━━━┳━━━━━━━━┳━━━━━━━━━━━━┳━━━━━━━━━━━━━━━━━━━━━━━━━━━━━━━━┓\n",
              "┃\u001b[1;32m \u001b[0m\u001b[1;32mEmotion   \u001b[0m\u001b[1;32m \u001b[0m┃\u001b[1;32m \u001b[0m\u001b[1;32m Score\u001b[0m\u001b[1;32m \u001b[0m┃\u001b[1;32m \u001b[0m\u001b[1;32mPercentage\u001b[0m\u001b[1;32m \u001b[0m┃\u001b[1;32m \u001b[0m\u001b[1;32mConfidence Bar                \u001b[0m\u001b[1;32m \u001b[0m┃\n",
              "┡━━━━━━━━━━━━╇━━━━━━━━╇━━━━━━━━━━━━╇━━━━━━━━━━━━━━━━━━━━━━━━━━━━━━━━┩\n",
              "│\u001b[36m \u001b[0m\u001b[36mexcitement\u001b[0m\u001b[36m \u001b[0m│\u001b[35m \u001b[0m\u001b[35m0.9985\u001b[0m\u001b[35m \u001b[0m│\u001b[33m \u001b[0m\u001b[33m    99.85%\u001b[0m\u001b[33m \u001b[0m│\u001b[32m \u001b[0m\u001b[32m█████████████████████████████░\u001b[0m\u001b[32m \u001b[0m│\n",
              "│\u001b[36m \u001b[0m\u001b[36mjoy       \u001b[0m\u001b[36m \u001b[0m│\u001b[35m \u001b[0m\u001b[35m0.0003\u001b[0m\u001b[35m \u001b[0m│\u001b[33m \u001b[0m\u001b[33m     0.03%\u001b[0m\u001b[33m \u001b[0m│\u001b[32m \u001b[0m\u001b[32m░░░░░░░░░░░░░░░░░░░░░░░░░░░░░░\u001b[0m\u001b[32m \u001b[0m│\n",
              "│\u001b[36m \u001b[0m\u001b[36madmiration\u001b[0m\u001b[36m \u001b[0m│\u001b[35m \u001b[0m\u001b[35m0.0002\u001b[0m\u001b[35m \u001b[0m│\u001b[33m \u001b[0m\u001b[33m     0.02%\u001b[0m\u001b[33m \u001b[0m│\u001b[32m \u001b[0m\u001b[32m░░░░░░░░░░░░░░░░░░░░░░░░░░░░░░\u001b[0m\u001b[32m \u001b[0m│\n",
              "└────────────┴────────┴────────────┴────────────────────────────────┘\n"
            ]
          },
          "metadata": {},
          "output_type": "display_data"
        },
        {
          "data": {
            "text/html": [
              "<pre style=\"white-space:pre;overflow-x:auto;line-height:normal;font-family:Menlo,'DejaVu Sans Mono',consolas,'Courier New',monospace\">\n",
              "<span style=\"font-weight: bold\">Sentiment Group:</span> <span style=\"color: #008000; text-decoration-color: #008000\">POSITIVE</span>\n",
              "\n",
              "</pre>\n"
            ],
            "text/plain": [
              "\n",
              "\u001b[1mSentiment Group:\u001b[0m \u001b[32mPOSITIVE\u001b[0m\n",
              "\n"
            ]
          },
          "metadata": {},
          "output_type": "display_data"
        },
        {
          "data": {
            "text/html": [
              "<pre style=\"white-space:pre;overflow-x:auto;line-height:normal;font-family:Menlo,'DejaVu Sans Mono',consolas,'Courier New',monospace\"><span style=\"font-style: italic\">   All Emotion Scores (Top 10)   </span>\n",
              "┏━━━━━━━━┳━━━━━━━━━━━━━┳━━━━━━━━┓\n",
              "┃<span style=\"color: #000080; text-decoration-color: #000080; font-weight: bold\"> Rank   </span>┃<span style=\"color: #000080; text-decoration-color: #000080; font-weight: bold\"> Emotion     </span>┃<span style=\"color: #000080; text-decoration-color: #000080; font-weight: bold\">  Score </span>┃\n",
              "┡━━━━━━━━╇━━━━━━━━━━━━━╇━━━━━━━━┩\n",
              "│<span style=\"color: #7f7f7f; text-decoration-color: #7f7f7f\"> 1      </span>│<span style=\"color: #008080; text-decoration-color: #008080\"> excitement  </span>│<span style=\"color: #800080; text-decoration-color: #800080\"> 0.9985 </span>│\n",
              "│<span style=\"color: #7f7f7f; text-decoration-color: #7f7f7f\"> 2      </span>│<span style=\"color: #008080; text-decoration-color: #008080\"> joy         </span>│<span style=\"color: #800080; text-decoration-color: #800080\"> 0.0003 </span>│\n",
              "│<span style=\"color: #7f7f7f; text-decoration-color: #7f7f7f\"> 3      </span>│<span style=\"color: #008080; text-decoration-color: #008080\"> admiration  </span>│<span style=\"color: #800080; text-decoration-color: #800080\"> 0.0002 </span>│\n",
              "│<span style=\"color: #7f7f7f; text-decoration-color: #7f7f7f\"> 4      </span>│<span style=\"color: #008080; text-decoration-color: #008080\"> approval    </span>│<span style=\"color: #800080; text-decoration-color: #800080\"> 0.0001 </span>│\n",
              "│<span style=\"color: #7f7f7f; text-decoration-color: #7f7f7f\"> 5      </span>│<span style=\"color: #008080; text-decoration-color: #008080\"> amusement   </span>│<span style=\"color: #800080; text-decoration-color: #800080\"> 0.0001 </span>│\n",
              "│<span style=\"color: #7f7f7f; text-decoration-color: #7f7f7f\"> 6      </span>│<span style=\"color: #008080; text-decoration-color: #008080\"> neutral     </span>│<span style=\"color: #800080; text-decoration-color: #800080\"> 0.0001 </span>│\n",
              "│<span style=\"color: #7f7f7f; text-decoration-color: #7f7f7f\"> 7      </span>│<span style=\"color: #008080; text-decoration-color: #008080\"> surprise    </span>│<span style=\"color: #800080; text-decoration-color: #800080\"> 0.0001 </span>│\n",
              "│<span style=\"color: #7f7f7f; text-decoration-color: #7f7f7f\"> 8      </span>│<span style=\"color: #008080; text-decoration-color: #008080\"> pride       </span>│<span style=\"color: #800080; text-decoration-color: #800080\"> 0.0001 </span>│\n",
              "│<span style=\"color: #7f7f7f; text-decoration-color: #7f7f7f\"> 9      </span>│<span style=\"color: #008080; text-decoration-color: #008080\"> gratitude   </span>│<span style=\"color: #800080; text-decoration-color: #800080\"> 0.0001 </span>│\n",
              "│<span style=\"color: #7f7f7f; text-decoration-color: #7f7f7f\"> 10     </span>│<span style=\"color: #008080; text-decoration-color: #008080\"> realization </span>│<span style=\"color: #800080; text-decoration-color: #800080\"> 0.0000 </span>│\n",
              "└────────┴─────────────┴────────┘\n",
              "</pre>\n"
            ],
            "text/plain": [
              "\u001b[3m   All Emotion Scores (Top 10)   \u001b[0m\n",
              "┏━━━━━━━━┳━━━━━━━━━━━━━┳━━━━━━━━┓\n",
              "┃\u001b[1;34m \u001b[0m\u001b[1;34mRank  \u001b[0m\u001b[1;34m \u001b[0m┃\u001b[1;34m \u001b[0m\u001b[1;34mEmotion    \u001b[0m\u001b[1;34m \u001b[0m┃\u001b[1;34m \u001b[0m\u001b[1;34m Score\u001b[0m\u001b[1;34m \u001b[0m┃\n",
              "┡━━━━━━━━╇━━━━━━━━━━━━━╇━━━━━━━━┩\n",
              "│\u001b[2m \u001b[0m\u001b[2m1     \u001b[0m\u001b[2m \u001b[0m│\u001b[36m \u001b[0m\u001b[36mexcitement \u001b[0m\u001b[36m \u001b[0m│\u001b[35m \u001b[0m\u001b[35m0.9985\u001b[0m\u001b[35m \u001b[0m│\n",
              "│\u001b[2m \u001b[0m\u001b[2m2     \u001b[0m\u001b[2m \u001b[0m│\u001b[36m \u001b[0m\u001b[36mjoy        \u001b[0m\u001b[36m \u001b[0m│\u001b[35m \u001b[0m\u001b[35m0.0003\u001b[0m\u001b[35m \u001b[0m│\n",
              "│\u001b[2m \u001b[0m\u001b[2m3     \u001b[0m\u001b[2m \u001b[0m│\u001b[36m \u001b[0m\u001b[36madmiration \u001b[0m\u001b[36m \u001b[0m│\u001b[35m \u001b[0m\u001b[35m0.0002\u001b[0m\u001b[35m \u001b[0m│\n",
              "│\u001b[2m \u001b[0m\u001b[2m4     \u001b[0m\u001b[2m \u001b[0m│\u001b[36m \u001b[0m\u001b[36mapproval   \u001b[0m\u001b[36m \u001b[0m│\u001b[35m \u001b[0m\u001b[35m0.0001\u001b[0m\u001b[35m \u001b[0m│\n",
              "│\u001b[2m \u001b[0m\u001b[2m5     \u001b[0m\u001b[2m \u001b[0m│\u001b[36m \u001b[0m\u001b[36mamusement  \u001b[0m\u001b[36m \u001b[0m│\u001b[35m \u001b[0m\u001b[35m0.0001\u001b[0m\u001b[35m \u001b[0m│\n",
              "│\u001b[2m \u001b[0m\u001b[2m6     \u001b[0m\u001b[2m \u001b[0m│\u001b[36m \u001b[0m\u001b[36mneutral    \u001b[0m\u001b[36m \u001b[0m│\u001b[35m \u001b[0m\u001b[35m0.0001\u001b[0m\u001b[35m \u001b[0m│\n",
              "│\u001b[2m \u001b[0m\u001b[2m7     \u001b[0m\u001b[2m \u001b[0m│\u001b[36m \u001b[0m\u001b[36msurprise   \u001b[0m\u001b[36m \u001b[0m│\u001b[35m \u001b[0m\u001b[35m0.0001\u001b[0m\u001b[35m \u001b[0m│\n",
              "│\u001b[2m \u001b[0m\u001b[2m8     \u001b[0m\u001b[2m \u001b[0m│\u001b[36m \u001b[0m\u001b[36mpride      \u001b[0m\u001b[36m \u001b[0m│\u001b[35m \u001b[0m\u001b[35m0.0001\u001b[0m\u001b[35m \u001b[0m│\n",
              "│\u001b[2m \u001b[0m\u001b[2m9     \u001b[0m\u001b[2m \u001b[0m│\u001b[36m \u001b[0m\u001b[36mgratitude  \u001b[0m\u001b[36m \u001b[0m│\u001b[35m \u001b[0m\u001b[35m0.0001\u001b[0m\u001b[35m \u001b[0m│\n",
              "│\u001b[2m \u001b[0m\u001b[2m10    \u001b[0m\u001b[2m \u001b[0m│\u001b[36m \u001b[0m\u001b[36mrealization\u001b[0m\u001b[36m \u001b[0m│\u001b[35m \u001b[0m\u001b[35m0.0000\u001b[0m\u001b[35m \u001b[0m│\n",
              "└────────┴─────────────┴────────┘\n"
            ]
          },
          "metadata": {},
          "output_type": "display_data"
        }
      ],
      "source": [
        "# Get top emotions and sentiment\n",
        "top_emotions = result.get_top_emotions()\n",
        "sentiment_group = result.get_sentiment_group()\n",
        "\n",
        "# Display using Rich tables\n",
        "# Top 3 emotions table\n",
        "table1 = Table(title=\"Top 3 Emotions\", show_header=True, header_style=\"bold green\")\n",
        "table1.add_column(\"Emotion\", style=\"cyan\")\n",
        "table1.add_column(\"Score\", style=\"magenta\", justify=\"right\")\n",
        "table1.add_column(\"Percentage\", style=\"yellow\", justify=\"right\")\n",
        "table1.add_column(\"Confidence Bar\", style=\"green\")\n",
        "\n",
        "for emotion, score in top_emotions:\n",
        "    bar_length = int(score * 30)\n",
        "    bar = \"█\" * bar_length + \"░\" * (30 - bar_length)\n",
        "    table1.add_row(emotion, f\"{score:.4f}\", f\"{score*100:.2f}%\", bar)\n",
        "\n",
        "console.print(table1)\n",
        "\n",
        "# Sentiment group\n",
        "sentiment_colors = {\"positive\": \"green\", \"negative\": \"red\", \"ambiguous\": \"yellow\", \"neutral\": \"white\"}\n",
        "color = sentiment_colors.get(sentiment_group, \"white\")\n",
        "console.print(f\"\\n[bold]Sentiment Group:[/bold] [{color}]{sentiment_group.upper()}[/{color}]\\n\")\n",
        "\n",
        "# All emotion scores (top 10)\n",
        "table2 = Table(title=\"All Emotion Scores (Top 10)\", show_header=True, header_style=\"bold blue\")\n",
        "table2.add_column(\"Rank\", style=\"dim\", width=6)\n",
        "table2.add_column(\"Emotion\", style=\"cyan\")\n",
        "table2.add_column(\"Score\", style=\"magenta\", justify=\"right\")\n",
        "\n",
        "sorted_emotions = sorted(result.emotions.items(), key=lambda x: x[1], reverse=True)\n",
        "for rank, (emotion, score) in enumerate(sorted_emotions[:10], 1):\n",
        "    table2.add_row(str(rank), emotion, f\"{score:.4f}\")\n",
        "\n",
        "console.print(table2)\n"
      ]
    },
    {
      "cell_type": "markdown",
      "metadata": {},
      "source": [
        "## 6. English Text Examples\n"
      ]
    },
    {
      "cell_type": "code",
      "execution_count": 6,
      "metadata": {},
      "outputs": [
        {
          "data": {
            "text/html": [
              "<pre style=\"white-space:pre;overflow-x:auto;line-height:normal;font-family:Menlo,'DejaVu Sans Mono',consolas,'Courier New',monospace\"><span style=\"color: #008080; text-decoration-color: #008080\">╭─────────────────────────────────────────────────────────────────────────────────────────────────────────────────╮</span>\n",
              "<span style=\"color: #008080; text-decoration-color: #008080\">│</span> <span style=\"color: #008080; text-decoration-color: #008080; font-weight: bold\">ENGLISH SAMPLES</span>                                                                                                 <span style=\"color: #008080; text-decoration-color: #008080\">│</span>\n",
              "<span style=\"color: #008080; text-decoration-color: #008080\">│</span> <span style=\"color: #7f7f7f; text-decoration-color: #7f7f7f\">Analyzing 5 English texts</span>                                                                                       <span style=\"color: #008080; text-decoration-color: #008080\">│</span>\n",
              "<span style=\"color: #008080; text-decoration-color: #008080\">╰─────────────────────────────────────────────────────────────────────────────────────────────────────────────────╯</span>\n",
              "</pre>\n"
            ],
            "text/plain": [
              "\u001b[36m╭─────────────────────────────────────────────────────────────────────────────────────────────────────────────────╮\u001b[0m\n",
              "\u001b[36m│\u001b[0m \u001b[1;36mENGLISH SAMPLES\u001b[0m                                                                                                 \u001b[36m│\u001b[0m\n",
              "\u001b[36m│\u001b[0m \u001b[2mAnalyzing 5 English texts\u001b[0m                                                                                       \u001b[36m│\u001b[0m\n",
              "\u001b[36m╰─────────────────────────────────────────────────────────────────────────────────────────────────────────────────╯\u001b[0m\n"
            ]
          },
          "metadata": {},
          "output_type": "display_data"
        },
        {
          "data": {
            "text/html": [
              "<pre style=\"white-space:pre;overflow-x:auto;line-height:normal;font-family:Menlo,'DejaVu Sans Mono',consolas,'Courier New',monospace\">\n",
              "<span style=\"color: #008080; text-decoration-color: #008080; font-weight: bold\">[Sample </span><span style=\"color: #008080; text-decoration-color: #008080; font-weight: bold\">1</span><span style=\"color: #008080; text-decoration-color: #008080; font-weight: bold\">]</span>\n",
              "</pre>\n"
            ],
            "text/plain": [
              "\n",
              "\u001b[1;36m[\u001b[0m\u001b[1;36mSample \u001b[0m\u001b[1;36m1\u001b[0m\u001b[1;36m]\u001b[0m\n"
            ]
          },
          "metadata": {},
          "output_type": "display_data"
        },
        {
          "data": {
            "text/html": [
              "<pre style=\"white-space:pre;overflow-x:auto;line-height:normal;font-family:Menlo,'DejaVu Sans Mono',consolas,'Courier New',monospace\"><span style=\"color: #000080; text-decoration-color: #000080\">╭───────────────────────────────────────────────────── </span><span style=\"color: #000080; text-decoration-color: #000080; font-weight: bold\">Text</span><span style=\"color: #000080; text-decoration-color: #000080\"> ──────────────────────────────────────────────────────╮</span>\n",
              "<span style=\"color: #000080; text-decoration-color: #000080\">│</span>                                                                                                                 <span style=\"color: #000080; text-decoration-color: #000080\">│</span>\n",
              "<span style=\"color: #000080; text-decoration-color: #000080\">│</span>  I'm so excited about this amazing opportunity! This is going to be great!                                      <span style=\"color: #000080; text-decoration-color: #000080\">│</span>\n",
              "<span style=\"color: #000080; text-decoration-color: #000080\">│</span>                                                                                                                 <span style=\"color: #000080; text-decoration-color: #000080\">│</span>\n",
              "<span style=\"color: #000080; text-decoration-color: #000080\">╰─────────────────────────────────────────────────────────────────────────────────────────────────────────────────╯</span>\n",
              "</pre>\n"
            ],
            "text/plain": [
              "\u001b[34m╭─\u001b[0m\u001b[34m────────────────────────────────────────────────────\u001b[0m\u001b[34m \u001b[0m\u001b[1;34mText\u001b[0m\u001b[34m \u001b[0m\u001b[34m─────────────────────────────────────────────────────\u001b[0m\u001b[34m─╮\u001b[0m\n",
              "\u001b[34m│\u001b[0m                                                                                                                 \u001b[34m│\u001b[0m\n",
              "\u001b[34m│\u001b[0m  I'm so excited about this amazing opportunity! This is going to be great!                                      \u001b[34m│\u001b[0m\n",
              "\u001b[34m│\u001b[0m                                                                                                                 \u001b[34m│\u001b[0m\n",
              "\u001b[34m╰─────────────────────────────────────────────────────────────────────────────────────────────────────────────────╯\u001b[0m\n"
            ]
          },
          "metadata": {},
          "output_type": "display_data"
        },
        {
          "data": {
            "text/html": [
              "<pre style=\"white-space:pre;overflow-x:auto;line-height:normal;font-family:Menlo,'DejaVu Sans Mono',consolas,'Courier New',monospace\"><span style=\"font-weight: bold\">Sentiment:</span> <span style=\"color: #008000; text-decoration-color: #008000\">POSITIVE</span>\n",
              "</pre>\n"
            ],
            "text/plain": [
              "\u001b[1mSentiment:\u001b[0m \u001b[32mPOSITIVE\u001b[0m\n"
            ]
          },
          "metadata": {},
          "output_type": "display_data"
        },
        {
          "data": {
            "text/html": [
              "<pre style=\"white-space:pre;overflow-x:auto;line-height:normal;font-family:Menlo,'DejaVu Sans Mono',consolas,'Courier New',monospace\"><span style=\"font-style: italic\">                                  Emotion Analysis                                   </span>\n",
              "┏━━━━━━━━━━━━━━━━━┳━━━━━━━━━━━━┳━━━━━━━━━━━━━━━━━━━━━━━━━━━━━━━━━━━━━━━━━━━━━━━━━━━━┓\n",
              "┃<span style=\"color: #800080; text-decoration-color: #800080; font-weight: bold\"> Emotion         </span>┃<span style=\"color: #800080; text-decoration-color: #800080; font-weight: bold\">      Score </span>┃<span style=\"color: #800080; text-decoration-color: #800080; font-weight: bold\"> Confidence                                         </span>┃\n",
              "┡━━━━━━━━━━━━━━━━━╇━━━━━━━━━━━━╇━━━━━━━━━━━━━━━━━━━━━━━━━━━━━━━━━━━━━━━━━━━━━━━━━━━━┩\n",
              "│<span style=\"color: #008080; text-decoration-color: #008080\"> excitement      </span>│<span style=\"color: #008000; text-decoration-color: #008000\">      0.998 </span>│ <span style=\"color: #00ff00; text-decoration-color: #00ff00\">███████████████████████████████████████░          </span> │\n",
              "│<span style=\"color: #008080; text-decoration-color: #008080\"> joy             </span>│<span style=\"color: #008000; text-decoration-color: #008000\">      0.000 </span>│ <span style=\"color: #7f7f7f; text-decoration-color: #7f7f7f\">░░░░░░░░░░░░░░░░░░░░░░░░░░░░░░░░░░░░░░░░          </span> │\n",
              "│<span style=\"color: #008080; text-decoration-color: #008080\"> admiration      </span>│<span style=\"color: #008000; text-decoration-color: #008000\">      0.000 </span>│ <span style=\"color: #7f7f7f; text-decoration-color: #7f7f7f\">░░░░░░░░░░░░░░░░░░░░░░░░░░░░░░░░░░░░░░░░          </span> │\n",
              "└─────────────────┴────────────┴────────────────────────────────────────────────────┘\n",
              "</pre>\n"
            ],
            "text/plain": [
              "\u001b[3m                                  Emotion Analysis                                   \u001b[0m\n",
              "┏━━━━━━━━━━━━━━━━━┳━━━━━━━━━━━━┳━━━━━━━━━━━━━━━━━━━━━━━━━━━━━━━━━━━━━━━━━━━━━━━━━━━━┓\n",
              "┃\u001b[1;35m \u001b[0m\u001b[1;35mEmotion        \u001b[0m\u001b[1;35m \u001b[0m┃\u001b[1;35m \u001b[0m\u001b[1;35m     Score\u001b[0m\u001b[1;35m \u001b[0m┃\u001b[1;35m \u001b[0m\u001b[1;35mConfidence                                        \u001b[0m\u001b[1;35m \u001b[0m┃\n",
              "┡━━━━━━━━━━━━━━━━━╇━━━━━━━━━━━━╇━━━━━━━━━━━━━━━━━━━━━━━━━━━━━━━━━━━━━━━━━━━━━━━━━━━━┩\n",
              "│\u001b[36m \u001b[0m\u001b[36mexcitement     \u001b[0m\u001b[36m \u001b[0m│\u001b[32m \u001b[0m\u001b[32m     0.998\u001b[0m\u001b[32m \u001b[0m│ \u001b[92m███████████████████████████████████████░          \u001b[0m │\n",
              "│\u001b[36m \u001b[0m\u001b[36mjoy            \u001b[0m\u001b[36m \u001b[0m│\u001b[32m \u001b[0m\u001b[32m     0.000\u001b[0m\u001b[32m \u001b[0m│ \u001b[2m░░░░░░░░░░░░░░░░░░░░░░░░░░░░░░░░░░░░░░░░          \u001b[0m │\n",
              "│\u001b[36m \u001b[0m\u001b[36madmiration     \u001b[0m\u001b[36m \u001b[0m│\u001b[32m \u001b[0m\u001b[32m     0.000\u001b[0m\u001b[32m \u001b[0m│ \u001b[2m░░░░░░░░░░░░░░░░░░░░░░░░░░░░░░░░░░░░░░░░          \u001b[0m │\n",
              "└─────────────────┴────────────┴────────────────────────────────────────────────────┘\n"
            ]
          },
          "metadata": {},
          "output_type": "display_data"
        },
        {
          "data": {
            "text/html": [
              "<pre style=\"white-space:pre;overflow-x:auto;line-height:normal;font-family:Menlo,'DejaVu Sans Mono',consolas,'Courier New',monospace\"><span style=\"color: #7f7f7f; text-decoration-color: #7f7f7f\">Expected emotion: excitement</span>\n",
              "</pre>\n"
            ],
            "text/plain": [
              "\u001b[2mExpected emotion: excitement\u001b[0m\n"
            ]
          },
          "metadata": {},
          "output_type": "display_data"
        },
        {
          "data": {
            "text/html": [
              "<pre style=\"white-space:pre;overflow-x:auto;line-height:normal;font-family:Menlo,'DejaVu Sans Mono',consolas,'Courier New',monospace\">\n",
              "<span style=\"color: #008080; text-decoration-color: #008080; font-weight: bold\">[Sample </span><span style=\"color: #008080; text-decoration-color: #008080; font-weight: bold\">2</span><span style=\"color: #008080; text-decoration-color: #008080; font-weight: bold\">]</span>\n",
              "</pre>\n"
            ],
            "text/plain": [
              "\n",
              "\u001b[1;36m[\u001b[0m\u001b[1;36mSample \u001b[0m\u001b[1;36m2\u001b[0m\u001b[1;36m]\u001b[0m\n"
            ]
          },
          "metadata": {},
          "output_type": "display_data"
        },
        {
          "data": {
            "text/html": [
              "<pre style=\"white-space:pre;overflow-x:auto;line-height:normal;font-family:Menlo,'DejaVu Sans Mono',consolas,'Courier New',monospace\"><span style=\"color: #000080; text-decoration-color: #000080\">╭───────────────────────────────────────────────────── </span><span style=\"color: #000080; text-decoration-color: #000080; font-weight: bold\">Text</span><span style=\"color: #000080; text-decoration-color: #000080\"> ──────────────────────────────────────────────────────╮</span>\n",
              "<span style=\"color: #000080; text-decoration-color: #000080\">│</span>                                                                                                                 <span style=\"color: #000080; text-decoration-color: #000080\">│</span>\n",
              "<span style=\"color: #000080; text-decoration-color: #000080\">│</span>  I'm really disappointed with the results. This is not what I expected at all.                                  <span style=\"color: #000080; text-decoration-color: #000080\">│</span>\n",
              "<span style=\"color: #000080; text-decoration-color: #000080\">│</span>                                                                                                                 <span style=\"color: #000080; text-decoration-color: #000080\">│</span>\n",
              "<span style=\"color: #000080; text-decoration-color: #000080\">╰─────────────────────────────────────────────────────────────────────────────────────────────────────────────────╯</span>\n",
              "</pre>\n"
            ],
            "text/plain": [
              "\u001b[34m╭─\u001b[0m\u001b[34m────────────────────────────────────────────────────\u001b[0m\u001b[34m \u001b[0m\u001b[1;34mText\u001b[0m\u001b[34m \u001b[0m\u001b[34m─────────────────────────────────────────────────────\u001b[0m\u001b[34m─╮\u001b[0m\n",
              "\u001b[34m│\u001b[0m                                                                                                                 \u001b[34m│\u001b[0m\n",
              "\u001b[34m│\u001b[0m  I'm really disappointed with the results. This is not what I expected at all.                                  \u001b[34m│\u001b[0m\n",
              "\u001b[34m│\u001b[0m                                                                                                                 \u001b[34m│\u001b[0m\n",
              "\u001b[34m╰─────────────────────────────────────────────────────────────────────────────────────────────────────────────────╯\u001b[0m\n"
            ]
          },
          "metadata": {},
          "output_type": "display_data"
        },
        {
          "data": {
            "text/html": [
              "<pre style=\"white-space:pre;overflow-x:auto;line-height:normal;font-family:Menlo,'DejaVu Sans Mono',consolas,'Courier New',monospace\"><span style=\"font-weight: bold\">Sentiment:</span> <span style=\"color: #800000; text-decoration-color: #800000\">NEGATIVE</span>\n",
              "</pre>\n"
            ],
            "text/plain": [
              "\u001b[1mSentiment:\u001b[0m \u001b[31mNEGATIVE\u001b[0m\n"
            ]
          },
          "metadata": {},
          "output_type": "display_data"
        },
        {
          "data": {
            "text/html": [
              "<pre style=\"white-space:pre;overflow-x:auto;line-height:normal;font-family:Menlo,'DejaVu Sans Mono',consolas,'Courier New',monospace\"><span style=\"font-style: italic\">                                  Emotion Analysis                                   </span>\n",
              "┏━━━━━━━━━━━━━━━━━┳━━━━━━━━━━━━┳━━━━━━━━━━━━━━━━━━━━━━━━━━━━━━━━━━━━━━━━━━━━━━━━━━━━┓\n",
              "┃<span style=\"color: #800080; text-decoration-color: #800080; font-weight: bold\"> Emotion         </span>┃<span style=\"color: #800080; text-decoration-color: #800080; font-weight: bold\">      Score </span>┃<span style=\"color: #800080; text-decoration-color: #800080; font-weight: bold\"> Confidence                                         </span>┃\n",
              "┡━━━━━━━━━━━━━━━━━╇━━━━━━━━━━━━╇━━━━━━━━━━━━━━━━━━━━━━━━━━━━━━━━━━━━━━━━━━━━━━━━━━━━┩\n",
              "│<span style=\"color: #008080; text-decoration-color: #008080\"> disappointment  </span>│<span style=\"color: #008000; text-decoration-color: #008000\">      0.999 </span>│ <span style=\"color: #00ff00; text-decoration-color: #00ff00\">███████████████████████████████████████░          </span> │\n",
              "│<span style=\"color: #008080; text-decoration-color: #008080\"> neutral         </span>│<span style=\"color: #008000; text-decoration-color: #008000\">      0.000 </span>│ <span style=\"color: #7f7f7f; text-decoration-color: #7f7f7f\">░░░░░░░░░░░░░░░░░░░░░░░░░░░░░░░░░░░░░░░░          </span> │\n",
              "│<span style=\"color: #008080; text-decoration-color: #008080\"> admiration      </span>│<span style=\"color: #008000; text-decoration-color: #008000\">      0.000 </span>│ <span style=\"color: #7f7f7f; text-decoration-color: #7f7f7f\">░░░░░░░░░░░░░░░░░░░░░░░░░░░░░░░░░░░░░░░░          </span> │\n",
              "└─────────────────┴────────────┴────────────────────────────────────────────────────┘\n",
              "</pre>\n"
            ],
            "text/plain": [
              "\u001b[3m                                  Emotion Analysis                                   \u001b[0m\n",
              "┏━━━━━━━━━━━━━━━━━┳━━━━━━━━━━━━┳━━━━━━━━━━━━━━━━━━━━━━━━━━━━━━━━━━━━━━━━━━━━━━━━━━━━┓\n",
              "┃\u001b[1;35m \u001b[0m\u001b[1;35mEmotion        \u001b[0m\u001b[1;35m \u001b[0m┃\u001b[1;35m \u001b[0m\u001b[1;35m     Score\u001b[0m\u001b[1;35m \u001b[0m┃\u001b[1;35m \u001b[0m\u001b[1;35mConfidence                                        \u001b[0m\u001b[1;35m \u001b[0m┃\n",
              "┡━━━━━━━━━━━━━━━━━╇━━━━━━━━━━━━╇━━━━━━━━━━━━━━━━━━━━━━━━━━━━━━━━━━━━━━━━━━━━━━━━━━━━┩\n",
              "│\u001b[36m \u001b[0m\u001b[36mdisappointment \u001b[0m\u001b[36m \u001b[0m│\u001b[32m \u001b[0m\u001b[32m     0.999\u001b[0m\u001b[32m \u001b[0m│ \u001b[92m███████████████████████████████████████░          \u001b[0m │\n",
              "│\u001b[36m \u001b[0m\u001b[36mneutral        \u001b[0m\u001b[36m \u001b[0m│\u001b[32m \u001b[0m\u001b[32m     0.000\u001b[0m\u001b[32m \u001b[0m│ \u001b[2m░░░░░░░░░░░░░░░░░░░░░░░░░░░░░░░░░░░░░░░░          \u001b[0m │\n",
              "│\u001b[36m \u001b[0m\u001b[36madmiration     \u001b[0m\u001b[36m \u001b[0m│\u001b[32m \u001b[0m\u001b[32m     0.000\u001b[0m\u001b[32m \u001b[0m│ \u001b[2m░░░░░░░░░░░░░░░░░░░░░░░░░░░░░░░░░░░░░░░░          \u001b[0m │\n",
              "└─────────────────┴────────────┴────────────────────────────────────────────────────┘\n"
            ]
          },
          "metadata": {},
          "output_type": "display_data"
        },
        {
          "data": {
            "text/html": [
              "<pre style=\"white-space:pre;overflow-x:auto;line-height:normal;font-family:Menlo,'DejaVu Sans Mono',consolas,'Courier New',monospace\"><span style=\"color: #7f7f7f; text-decoration-color: #7f7f7f\">Expected emotion: disappointment</span>\n",
              "</pre>\n"
            ],
            "text/plain": [
              "\u001b[2mExpected emotion: disappointment\u001b[0m\n"
            ]
          },
          "metadata": {},
          "output_type": "display_data"
        },
        {
          "data": {
            "text/html": [
              "<pre style=\"white-space:pre;overflow-x:auto;line-height:normal;font-family:Menlo,'DejaVu Sans Mono',consolas,'Courier New',monospace\">\n",
              "<span style=\"color: #008080; text-decoration-color: #008080; font-weight: bold\">[Sample </span><span style=\"color: #008080; text-decoration-color: #008080; font-weight: bold\">3</span><span style=\"color: #008080; text-decoration-color: #008080; font-weight: bold\">]</span>\n",
              "</pre>\n"
            ],
            "text/plain": [
              "\n",
              "\u001b[1;36m[\u001b[0m\u001b[1;36mSample \u001b[0m\u001b[1;36m3\u001b[0m\u001b[1;36m]\u001b[0m\n"
            ]
          },
          "metadata": {},
          "output_type": "display_data"
        },
        {
          "data": {
            "text/html": [
              "<pre style=\"white-space:pre;overflow-x:auto;line-height:normal;font-family:Menlo,'DejaVu Sans Mono',consolas,'Courier New',monospace\"><span style=\"color: #000080; text-decoration-color: #000080\">╭───────────────────────────────────────────────────── </span><span style=\"color: #000080; text-decoration-color: #000080; font-weight: bold\">Text</span><span style=\"color: #000080; text-decoration-color: #000080\"> ──────────────────────────────────────────────────────╮</span>\n",
              "<span style=\"color: #000080; text-decoration-color: #000080\">│</span>                                                                                                                 <span style=\"color: #000080; text-decoration-color: #000080\">│</span>\n",
              "<span style=\"color: #000080; text-decoration-color: #000080\">│</span>  Thank you so much for your help! I really appreciate everything you've done for me.                            <span style=\"color: #000080; text-decoration-color: #000080\">│</span>\n",
              "<span style=\"color: #000080; text-decoration-color: #000080\">│</span>                                                                                                                 <span style=\"color: #000080; text-decoration-color: #000080\">│</span>\n",
              "<span style=\"color: #000080; text-decoration-color: #000080\">╰─────────────────────────────────────────────────────────────────────────────────────────────────────────────────╯</span>\n",
              "</pre>\n"
            ],
            "text/plain": [
              "\u001b[34m╭─\u001b[0m\u001b[34m────────────────────────────────────────────────────\u001b[0m\u001b[34m \u001b[0m\u001b[1;34mText\u001b[0m\u001b[34m \u001b[0m\u001b[34m─────────────────────────────────────────────────────\u001b[0m\u001b[34m─╮\u001b[0m\n",
              "\u001b[34m│\u001b[0m                                                                                                                 \u001b[34m│\u001b[0m\n",
              "\u001b[34m│\u001b[0m  Thank you so much for your help! I really appreciate everything you've done for me.                            \u001b[34m│\u001b[0m\n",
              "\u001b[34m│\u001b[0m                                                                                                                 \u001b[34m│\u001b[0m\n",
              "\u001b[34m╰─────────────────────────────────────────────────────────────────────────────────────────────────────────────────╯\u001b[0m\n"
            ]
          },
          "metadata": {},
          "output_type": "display_data"
        },
        {
          "data": {
            "text/html": [
              "<pre style=\"white-space:pre;overflow-x:auto;line-height:normal;font-family:Menlo,'DejaVu Sans Mono',consolas,'Courier New',monospace\"><span style=\"font-weight: bold\">Sentiment:</span> <span style=\"color: #008000; text-decoration-color: #008000\">POSITIVE</span>\n",
              "</pre>\n"
            ],
            "text/plain": [
              "\u001b[1mSentiment:\u001b[0m \u001b[32mPOSITIVE\u001b[0m\n"
            ]
          },
          "metadata": {},
          "output_type": "display_data"
        },
        {
          "data": {
            "text/html": [
              "<pre style=\"white-space:pre;overflow-x:auto;line-height:normal;font-family:Menlo,'DejaVu Sans Mono',consolas,'Courier New',monospace\"><span style=\"font-style: italic\">                                  Emotion Analysis                                   </span>\n",
              "┏━━━━━━━━━━━━━━━━━┳━━━━━━━━━━━━┳━━━━━━━━━━━━━━━━━━━━━━━━━━━━━━━━━━━━━━━━━━━━━━━━━━━━┓\n",
              "┃<span style=\"color: #800080; text-decoration-color: #800080; font-weight: bold\"> Emotion         </span>┃<span style=\"color: #800080; text-decoration-color: #800080; font-weight: bold\">      Score </span>┃<span style=\"color: #800080; text-decoration-color: #800080; font-weight: bold\"> Confidence                                         </span>┃\n",
              "┡━━━━━━━━━━━━━━━━━╇━━━━━━━━━━━━╇━━━━━━━━━━━━━━━━━━━━━━━━━━━━━━━━━━━━━━━━━━━━━━━━━━━━┩\n",
              "│<span style=\"color: #008080; text-decoration-color: #008080\"> gratitude       </span>│<span style=\"color: #008000; text-decoration-color: #008000\">      0.918 </span>│ <span style=\"color: #00ff00; text-decoration-color: #00ff00\">████████████████████████████████████░░░░          </span> │\n",
              "│<span style=\"color: #008080; text-decoration-color: #008080\"> admiration      </span>│<span style=\"color: #008000; text-decoration-color: #008000\">      0.082 </span>│ <span style=\"color: #7f7f7f; text-decoration-color: #7f7f7f\">███░░░░░░░░░░░░░░░░░░░░░░░░░░░░░░░░░░░░░          </span> │\n",
              "│<span style=\"color: #008080; text-decoration-color: #008080\"> approval        </span>│<span style=\"color: #008000; text-decoration-color: #008000\">      0.000 </span>│ <span style=\"color: #7f7f7f; text-decoration-color: #7f7f7f\">░░░░░░░░░░░░░░░░░░░░░░░░░░░░░░░░░░░░░░░░          </span> │\n",
              "└─────────────────┴────────────┴────────────────────────────────────────────────────┘\n",
              "</pre>\n"
            ],
            "text/plain": [
              "\u001b[3m                                  Emotion Analysis                                   \u001b[0m\n",
              "┏━━━━━━━━━━━━━━━━━┳━━━━━━━━━━━━┳━━━━━━━━━━━━━━━━━━━━━━━━━━━━━━━━━━━━━━━━━━━━━━━━━━━━┓\n",
              "┃\u001b[1;35m \u001b[0m\u001b[1;35mEmotion        \u001b[0m\u001b[1;35m \u001b[0m┃\u001b[1;35m \u001b[0m\u001b[1;35m     Score\u001b[0m\u001b[1;35m \u001b[0m┃\u001b[1;35m \u001b[0m\u001b[1;35mConfidence                                        \u001b[0m\u001b[1;35m \u001b[0m┃\n",
              "┡━━━━━━━━━━━━━━━━━╇━━━━━━━━━━━━╇━━━━━━━━━━━━━━━━━━━━━━━━━━━━━━━━━━━━━━━━━━━━━━━━━━━━┩\n",
              "│\u001b[36m \u001b[0m\u001b[36mgratitude      \u001b[0m\u001b[36m \u001b[0m│\u001b[32m \u001b[0m\u001b[32m     0.918\u001b[0m\u001b[32m \u001b[0m│ \u001b[92m████████████████████████████████████░░░░          \u001b[0m │\n",
              "│\u001b[36m \u001b[0m\u001b[36madmiration     \u001b[0m\u001b[36m \u001b[0m│\u001b[32m \u001b[0m\u001b[32m     0.082\u001b[0m\u001b[32m \u001b[0m│ \u001b[2m███░░░░░░░░░░░░░░░░░░░░░░░░░░░░░░░░░░░░░          \u001b[0m │\n",
              "│\u001b[36m \u001b[0m\u001b[36mapproval       \u001b[0m\u001b[36m \u001b[0m│\u001b[32m \u001b[0m\u001b[32m     0.000\u001b[0m\u001b[32m \u001b[0m│ \u001b[2m░░░░░░░░░░░░░░░░░░░░░░░░░░░░░░░░░░░░░░░░          \u001b[0m │\n",
              "└─────────────────┴────────────┴────────────────────────────────────────────────────┘\n"
            ]
          },
          "metadata": {},
          "output_type": "display_data"
        },
        {
          "data": {
            "text/html": [
              "<pre style=\"white-space:pre;overflow-x:auto;line-height:normal;font-family:Menlo,'DejaVu Sans Mono',consolas,'Courier New',monospace\"><span style=\"color: #7f7f7f; text-decoration-color: #7f7f7f\">Expected emotion: gratitude</span>\n",
              "</pre>\n"
            ],
            "text/plain": [
              "\u001b[2mExpected emotion: gratitude\u001b[0m\n"
            ]
          },
          "metadata": {},
          "output_type": "display_data"
        },
        {
          "data": {
            "text/html": [
              "<pre style=\"white-space:pre;overflow-x:auto;line-height:normal;font-family:Menlo,'DejaVu Sans Mono',consolas,'Courier New',monospace\">\n",
              "<span style=\"color: #008080; text-decoration-color: #008080; font-weight: bold\">[Sample </span><span style=\"color: #008080; text-decoration-color: #008080; font-weight: bold\">4</span><span style=\"color: #008080; text-decoration-color: #008080; font-weight: bold\">]</span>\n",
              "</pre>\n"
            ],
            "text/plain": [
              "\n",
              "\u001b[1;36m[\u001b[0m\u001b[1;36mSample \u001b[0m\u001b[1;36m4\u001b[0m\u001b[1;36m]\u001b[0m\n"
            ]
          },
          "metadata": {},
          "output_type": "display_data"
        },
        {
          "data": {
            "text/html": [
              "<pre style=\"white-space:pre;overflow-x:auto;line-height:normal;font-family:Menlo,'DejaVu Sans Mono',consolas,'Courier New',monospace\"><span style=\"color: #000080; text-decoration-color: #000080\">╭───────────────────────────────────────────────────── </span><span style=\"color: #000080; text-decoration-color: #000080; font-weight: bold\">Text</span><span style=\"color: #000080; text-decoration-color: #000080\"> ──────────────────────────────────────────────────────╮</span>\n",
              "<span style=\"color: #000080; text-decoration-color: #000080\">│</span>                                                                                                                 <span style=\"color: #000080; text-decoration-color: #000080\">│</span>\n",
              "<span style=\"color: #000080; text-decoration-color: #000080\">│</span>  I'm confused about what happened. Can someone explain this to me?                                              <span style=\"color: #000080; text-decoration-color: #000080\">│</span>\n",
              "<span style=\"color: #000080; text-decoration-color: #000080\">│</span>                                                                                                                 <span style=\"color: #000080; text-decoration-color: #000080\">│</span>\n",
              "<span style=\"color: #000080; text-decoration-color: #000080\">╰─────────────────────────────────────────────────────────────────────────────────────────────────────────────────╯</span>\n",
              "</pre>\n"
            ],
            "text/plain": [
              "\u001b[34m╭─\u001b[0m\u001b[34m────────────────────────────────────────────────────\u001b[0m\u001b[34m \u001b[0m\u001b[1;34mText\u001b[0m\u001b[34m \u001b[0m\u001b[34m─────────────────────────────────────────────────────\u001b[0m\u001b[34m─╮\u001b[0m\n",
              "\u001b[34m│\u001b[0m                                                                                                                 \u001b[34m│\u001b[0m\n",
              "\u001b[34m│\u001b[0m  I'm confused about what happened. Can someone explain this to me?                                              \u001b[34m│\u001b[0m\n",
              "\u001b[34m│\u001b[0m                                                                                                                 \u001b[34m│\u001b[0m\n",
              "\u001b[34m╰─────────────────────────────────────────────────────────────────────────────────────────────────────────────────╯\u001b[0m\n"
            ]
          },
          "metadata": {},
          "output_type": "display_data"
        },
        {
          "data": {
            "text/html": [
              "<pre style=\"white-space:pre;overflow-x:auto;line-height:normal;font-family:Menlo,'DejaVu Sans Mono',consolas,'Courier New',monospace\"><span style=\"font-weight: bold\">Sentiment:</span> <span style=\"color: #808000; text-decoration-color: #808000\">AMBIGUOUS</span>\n",
              "</pre>\n"
            ],
            "text/plain": [
              "\u001b[1mSentiment:\u001b[0m \u001b[33mAMBIGUOUS\u001b[0m\n"
            ]
          },
          "metadata": {},
          "output_type": "display_data"
        },
        {
          "data": {
            "text/html": [
              "<pre style=\"white-space:pre;overflow-x:auto;line-height:normal;font-family:Menlo,'DejaVu Sans Mono',consolas,'Courier New',monospace\"><span style=\"font-style: italic\">                                  Emotion Analysis                                   </span>\n",
              "┏━━━━━━━━━━━━━━━━━┳━━━━━━━━━━━━┳━━━━━━━━━━━━━━━━━━━━━━━━━━━━━━━━━━━━━━━━━━━━━━━━━━━━┓\n",
              "┃<span style=\"color: #800080; text-decoration-color: #800080; font-weight: bold\"> Emotion         </span>┃<span style=\"color: #800080; text-decoration-color: #800080; font-weight: bold\">      Score </span>┃<span style=\"color: #800080; text-decoration-color: #800080; font-weight: bold\"> Confidence                                         </span>┃\n",
              "┡━━━━━━━━━━━━━━━━━╇━━━━━━━━━━━━╇━━━━━━━━━━━━━━━━━━━━━━━━━━━━━━━━━━━━━━━━━━━━━━━━━━━━┩\n",
              "│<span style=\"color: #008080; text-decoration-color: #008080\"> curiosity       </span>│<span style=\"color: #008000; text-decoration-color: #008000\">      0.921 </span>│ <span style=\"color: #00ff00; text-decoration-color: #00ff00\">████████████████████████████████████░░░░          </span> │\n",
              "│<span style=\"color: #008080; text-decoration-color: #008080\"> confusion       </span>│<span style=\"color: #008000; text-decoration-color: #008000\">      0.078 </span>│ <span style=\"color: #7f7f7f; text-decoration-color: #7f7f7f\">███░░░░░░░░░░░░░░░░░░░░░░░░░░░░░░░░░░░░░          </span> │\n",
              "│<span style=\"color: #008080; text-decoration-color: #008080\"> neutral         </span>│<span style=\"color: #008000; text-decoration-color: #008000\">      0.000 </span>│ <span style=\"color: #7f7f7f; text-decoration-color: #7f7f7f\">░░░░░░░░░░░░░░░░░░░░░░░░░░░░░░░░░░░░░░░░          </span> │\n",
              "└─────────────────┴────────────┴────────────────────────────────────────────────────┘\n",
              "</pre>\n"
            ],
            "text/plain": [
              "\u001b[3m                                  Emotion Analysis                                   \u001b[0m\n",
              "┏━━━━━━━━━━━━━━━━━┳━━━━━━━━━━━━┳━━━━━━━━━━━━━━━━━━━━━━━━━━━━━━━━━━━━━━━━━━━━━━━━━━━━┓\n",
              "┃\u001b[1;35m \u001b[0m\u001b[1;35mEmotion        \u001b[0m\u001b[1;35m \u001b[0m┃\u001b[1;35m \u001b[0m\u001b[1;35m     Score\u001b[0m\u001b[1;35m \u001b[0m┃\u001b[1;35m \u001b[0m\u001b[1;35mConfidence                                        \u001b[0m\u001b[1;35m \u001b[0m┃\n",
              "┡━━━━━━━━━━━━━━━━━╇━━━━━━━━━━━━╇━━━━━━━━━━━━━━━━━━━━━━━━━━━━━━━━━━━━━━━━━━━━━━━━━━━━┩\n",
              "│\u001b[36m \u001b[0m\u001b[36mcuriosity      \u001b[0m\u001b[36m \u001b[0m│\u001b[32m \u001b[0m\u001b[32m     0.921\u001b[0m\u001b[32m \u001b[0m│ \u001b[92m████████████████████████████████████░░░░          \u001b[0m │\n",
              "│\u001b[36m \u001b[0m\u001b[36mconfusion      \u001b[0m\u001b[36m \u001b[0m│\u001b[32m \u001b[0m\u001b[32m     0.078\u001b[0m\u001b[32m \u001b[0m│ \u001b[2m███░░░░░░░░░░░░░░░░░░░░░░░░░░░░░░░░░░░░░          \u001b[0m │\n",
              "│\u001b[36m \u001b[0m\u001b[36mneutral        \u001b[0m\u001b[36m \u001b[0m│\u001b[32m \u001b[0m\u001b[32m     0.000\u001b[0m\u001b[32m \u001b[0m│ \u001b[2m░░░░░░░░░░░░░░░░░░░░░░░░░░░░░░░░░░░░░░░░          \u001b[0m │\n",
              "└─────────────────┴────────────┴────────────────────────────────────────────────────┘\n"
            ]
          },
          "metadata": {},
          "output_type": "display_data"
        },
        {
          "data": {
            "text/html": [
              "<pre style=\"white-space:pre;overflow-x:auto;line-height:normal;font-family:Menlo,'DejaVu Sans Mono',consolas,'Courier New',monospace\"><span style=\"color: #7f7f7f; text-decoration-color: #7f7f7f\">Expected emotion: confusion</span>\n",
              "</pre>\n"
            ],
            "text/plain": [
              "\u001b[2mExpected emotion: confusion\u001b[0m\n"
            ]
          },
          "metadata": {},
          "output_type": "display_data"
        },
        {
          "data": {
            "text/html": [
              "<pre style=\"white-space:pre;overflow-x:auto;line-height:normal;font-family:Menlo,'DejaVu Sans Mono',consolas,'Courier New',monospace\">\n",
              "<span style=\"color: #008080; text-decoration-color: #008080; font-weight: bold\">[Sample </span><span style=\"color: #008080; text-decoration-color: #008080; font-weight: bold\">5</span><span style=\"color: #008080; text-decoration-color: #008080; font-weight: bold\">]</span>\n",
              "</pre>\n"
            ],
            "text/plain": [
              "\n",
              "\u001b[1;36m[\u001b[0m\u001b[1;36mSample \u001b[0m\u001b[1;36m5\u001b[0m\u001b[1;36m]\u001b[0m\n"
            ]
          },
          "metadata": {},
          "output_type": "display_data"
        },
        {
          "data": {
            "text/html": [
              "<pre style=\"white-space:pre;overflow-x:auto;line-height:normal;font-family:Menlo,'DejaVu Sans Mono',consolas,'Courier New',monospace\"><span style=\"color: #000080; text-decoration-color: #000080\">╭───────────────────────────────────────────────────── </span><span style=\"color: #000080; text-decoration-color: #000080; font-weight: bold\">Text</span><span style=\"color: #000080; text-decoration-color: #000080\"> ──────────────────────────────────────────────────────╮</span>\n",
              "<span style=\"color: #000080; text-decoration-color: #000080\">│</span>                                                                                                                 <span style=\"color: #000080; text-decoration-color: #000080\">│</span>\n",
              "<span style=\"color: #000080; text-decoration-color: #000080\">│</span>  This is absolutely disgusting. I can't believe this happened.                                                  <span style=\"color: #000080; text-decoration-color: #000080\">│</span>\n",
              "<span style=\"color: #000080; text-decoration-color: #000080\">│</span>                                                                                                                 <span style=\"color: #000080; text-decoration-color: #000080\">│</span>\n",
              "<span style=\"color: #000080; text-decoration-color: #000080\">╰─────────────────────────────────────────────────────────────────────────────────────────────────────────────────╯</span>\n",
              "</pre>\n"
            ],
            "text/plain": [
              "\u001b[34m╭─\u001b[0m\u001b[34m────────────────────────────────────────────────────\u001b[0m\u001b[34m \u001b[0m\u001b[1;34mText\u001b[0m\u001b[34m \u001b[0m\u001b[34m─────────────────────────────────────────────────────\u001b[0m\u001b[34m─╮\u001b[0m\n",
              "\u001b[34m│\u001b[0m                                                                                                                 \u001b[34m│\u001b[0m\n",
              "\u001b[34m│\u001b[0m  This is absolutely disgusting. I can't believe this happened.                                                  \u001b[34m│\u001b[0m\n",
              "\u001b[34m│\u001b[0m                                                                                                                 \u001b[34m│\u001b[0m\n",
              "\u001b[34m╰─────────────────────────────────────────────────────────────────────────────────────────────────────────────────╯\u001b[0m\n"
            ]
          },
          "metadata": {},
          "output_type": "display_data"
        },
        {
          "data": {
            "text/html": [
              "<pre style=\"white-space:pre;overflow-x:auto;line-height:normal;font-family:Menlo,'DejaVu Sans Mono',consolas,'Courier New',monospace\"><span style=\"font-weight: bold\">Sentiment:</span> <span style=\"color: #800000; text-decoration-color: #800000\">NEGATIVE</span>\n",
              "</pre>\n"
            ],
            "text/plain": [
              "\u001b[1mSentiment:\u001b[0m \u001b[31mNEGATIVE\u001b[0m\n"
            ]
          },
          "metadata": {},
          "output_type": "display_data"
        },
        {
          "data": {
            "text/html": [
              "<pre style=\"white-space:pre;overflow-x:auto;line-height:normal;font-family:Menlo,'DejaVu Sans Mono',consolas,'Courier New',monospace\"><span style=\"font-style: italic\">                                  Emotion Analysis                                   </span>\n",
              "┏━━━━━━━━━━━━━━━━━┳━━━━━━━━━━━━┳━━━━━━━━━━━━━━━━━━━━━━━━━━━━━━━━━━━━━━━━━━━━━━━━━━━━┓\n",
              "┃<span style=\"color: #800080; text-decoration-color: #800080; font-weight: bold\"> Emotion         </span>┃<span style=\"color: #800080; text-decoration-color: #800080; font-weight: bold\">      Score </span>┃<span style=\"color: #800080; text-decoration-color: #800080; font-weight: bold\"> Confidence                                         </span>┃\n",
              "┡━━━━━━━━━━━━━━━━━╇━━━━━━━━━━━━╇━━━━━━━━━━━━━━━━━━━━━━━━━━━━━━━━━━━━━━━━━━━━━━━━━━━━┩\n",
              "│<span style=\"color: #008080; text-decoration-color: #008080\"> disgust         </span>│<span style=\"color: #008000; text-decoration-color: #008000\">      0.998 </span>│ <span style=\"color: #00ff00; text-decoration-color: #00ff00\">███████████████████████████████████████░          </span> │\n",
              "│<span style=\"color: #008080; text-decoration-color: #008080\"> admiration      </span>│<span style=\"color: #008000; text-decoration-color: #008000\">      0.000 </span>│ <span style=\"color: #7f7f7f; text-decoration-color: #7f7f7f\">░░░░░░░░░░░░░░░░░░░░░░░░░░░░░░░░░░░░░░░░          </span> │\n",
              "│<span style=\"color: #008080; text-decoration-color: #008080\"> optimism        </span>│<span style=\"color: #008000; text-decoration-color: #008000\">      0.000 </span>│ <span style=\"color: #7f7f7f; text-decoration-color: #7f7f7f\">░░░░░░░░░░░░░░░░░░░░░░░░░░░░░░░░░░░░░░░░          </span> │\n",
              "└─────────────────┴────────────┴────────────────────────────────────────────────────┘\n",
              "</pre>\n"
            ],
            "text/plain": [
              "\u001b[3m                                  Emotion Analysis                                   \u001b[0m\n",
              "┏━━━━━━━━━━━━━━━━━┳━━━━━━━━━━━━┳━━━━━━━━━━━━━━━━━━━━━━━━━━━━━━━━━━━━━━━━━━━━━━━━━━━━┓\n",
              "┃\u001b[1;35m \u001b[0m\u001b[1;35mEmotion        \u001b[0m\u001b[1;35m \u001b[0m┃\u001b[1;35m \u001b[0m\u001b[1;35m     Score\u001b[0m\u001b[1;35m \u001b[0m┃\u001b[1;35m \u001b[0m\u001b[1;35mConfidence                                        \u001b[0m\u001b[1;35m \u001b[0m┃\n",
              "┡━━━━━━━━━━━━━━━━━╇━━━━━━━━━━━━╇━━━━━━━━━━━━━━━━━━━━━━━━━━━━━━━━━━━━━━━━━━━━━━━━━━━━┩\n",
              "│\u001b[36m \u001b[0m\u001b[36mdisgust        \u001b[0m\u001b[36m \u001b[0m│\u001b[32m \u001b[0m\u001b[32m     0.998\u001b[0m\u001b[32m \u001b[0m│ \u001b[92m███████████████████████████████████████░          \u001b[0m │\n",
              "│\u001b[36m \u001b[0m\u001b[36madmiration     \u001b[0m\u001b[36m \u001b[0m│\u001b[32m \u001b[0m\u001b[32m     0.000\u001b[0m\u001b[32m \u001b[0m│ \u001b[2m░░░░░░░░░░░░░░░░░░░░░░░░░░░░░░░░░░░░░░░░          \u001b[0m │\n",
              "│\u001b[36m \u001b[0m\u001b[36moptimism       \u001b[0m\u001b[36m \u001b[0m│\u001b[32m \u001b[0m\u001b[32m     0.000\u001b[0m\u001b[32m \u001b[0m│ \u001b[2m░░░░░░░░░░░░░░░░░░░░░░░░░░░░░░░░░░░░░░░░          \u001b[0m │\n",
              "└─────────────────┴────────────┴────────────────────────────────────────────────────┘\n"
            ]
          },
          "metadata": {},
          "output_type": "display_data"
        },
        {
          "data": {
            "text/html": [
              "<pre style=\"white-space:pre;overflow-x:auto;line-height:normal;font-family:Menlo,'DejaVu Sans Mono',consolas,'Courier New',monospace\"><span style=\"color: #7f7f7f; text-decoration-color: #7f7f7f\">Expected emotion: disgust</span>\n",
              "</pre>\n"
            ],
            "text/plain": [
              "\u001b[2mExpected emotion: disgust\u001b[0m\n"
            ]
          },
          "metadata": {},
          "output_type": "display_data"
        }
      ],
      "source": [
        "# Process English samples\n",
        "english_samples = get_samples_by_language(\"english\")\n",
        "\n",
        "print_header(\"ENGLISH SAMPLES\", f\"Analyzing {len(english_samples)} English texts\")\n",
        "\n",
        "for idx, sample in enumerate(english_samples, 1):\n",
        "    console.print(f\"\\n[bold cyan][Sample {idx}][/bold cyan]\")\n",
        "    result = classifier.analyze(sample[\"text\"], top_k=3)\n",
        "    format_emotion_output(result, use_rich=True)\n",
        "    console.print(f\"[dim]Expected emotion: {sample['expected_emotion']}[/dim]\")\n"
      ]
    },
    {
      "cell_type": "markdown",
      "metadata": {},
      "source": [
        "## 7. Dutch Text Examples\n",
        "\n",
        "Test the classifier with Dutch language samples.\n"
      ]
    },
    {
      "cell_type": "code",
      "execution_count": 7,
      "metadata": {},
      "outputs": [
        {
          "data": {
            "text/html": [
              "<pre style=\"white-space:pre;overflow-x:auto;line-height:normal;font-family:Menlo,'DejaVu Sans Mono',consolas,'Courier New',monospace\"><span style=\"color: #008080; text-decoration-color: #008080\">╭─────────────────────────────────────────────────────────────────────────────────────────────────────────────────╮</span>\n",
              "<span style=\"color: #008080; text-decoration-color: #008080\">│</span> <span style=\"color: #008080; text-decoration-color: #008080; font-weight: bold\">DUTCH SAMPLES</span>                                                                                                   <span style=\"color: #008080; text-decoration-color: #008080\">│</span>\n",
              "<span style=\"color: #008080; text-decoration-color: #008080\">│</span> <span style=\"color: #7f7f7f; text-decoration-color: #7f7f7f\">Analyzing 5 Dutch texts</span>                                                                                         <span style=\"color: #008080; text-decoration-color: #008080\">│</span>\n",
              "<span style=\"color: #008080; text-decoration-color: #008080\">╰─────────────────────────────────────────────────────────────────────────────────────────────────────────────────╯</span>\n",
              "</pre>\n"
            ],
            "text/plain": [
              "\u001b[36m╭─────────────────────────────────────────────────────────────────────────────────────────────────────────────────╮\u001b[0m\n",
              "\u001b[36m│\u001b[0m \u001b[1;36mDUTCH SAMPLES\u001b[0m                                                                                                   \u001b[36m│\u001b[0m\n",
              "\u001b[36m│\u001b[0m \u001b[2mAnalyzing 5 Dutch texts\u001b[0m                                                                                         \u001b[36m│\u001b[0m\n",
              "\u001b[36m╰─────────────────────────────────────────────────────────────────────────────────────────────────────────────────╯\u001b[0m\n"
            ]
          },
          "metadata": {},
          "output_type": "display_data"
        },
        {
          "data": {
            "text/html": [
              "<pre style=\"white-space:pre;overflow-x:auto;line-height:normal;font-family:Menlo,'DejaVu Sans Mono',consolas,'Courier New',monospace\">\n",
              "<span style=\"color: #008080; text-decoration-color: #008080; font-weight: bold\">[Sample </span><span style=\"color: #008080; text-decoration-color: #008080; font-weight: bold\">1</span><span style=\"color: #008080; text-decoration-color: #008080; font-weight: bold\">]</span>\n",
              "</pre>\n"
            ],
            "text/plain": [
              "\n",
              "\u001b[1;36m[\u001b[0m\u001b[1;36mSample \u001b[0m\u001b[1;36m1\u001b[0m\u001b[1;36m]\u001b[0m\n"
            ]
          },
          "metadata": {},
          "output_type": "display_data"
        },
        {
          "data": {
            "text/html": [
              "<pre style=\"white-space:pre;overflow-x:auto;line-height:normal;font-family:Menlo,'DejaVu Sans Mono',consolas,'Courier New',monospace\"><span style=\"color: #000080; text-decoration-color: #000080\">╭───────────────────────────────────────────────────── </span><span style=\"color: #000080; text-decoration-color: #000080; font-weight: bold\">Text</span><span style=\"color: #000080; text-decoration-color: #000080\"> ──────────────────────────────────────────────────────╮</span>\n",
              "<span style=\"color: #000080; text-decoration-color: #000080\">│</span>                                                                                                                 <span style=\"color: #000080; text-decoration-color: #000080\">│</span>\n",
              "<span style=\"color: #000080; text-decoration-color: #000080\">│</span>  Ik ben zo blij met dit geweldige nieuws! Dit is fantastisch!                                                   <span style=\"color: #000080; text-decoration-color: #000080\">│</span>\n",
              "<span style=\"color: #000080; text-decoration-color: #000080\">│</span>                                                                                                                 <span style=\"color: #000080; text-decoration-color: #000080\">│</span>\n",
              "<span style=\"color: #000080; text-decoration-color: #000080\">╰─────────────────────────────────────────────────────────────────────────────────────────────────────────────────╯</span>\n",
              "</pre>\n"
            ],
            "text/plain": [
              "\u001b[34m╭─\u001b[0m\u001b[34m────────────────────────────────────────────────────\u001b[0m\u001b[34m \u001b[0m\u001b[1;34mText\u001b[0m\u001b[34m \u001b[0m\u001b[34m─────────────────────────────────────────────────────\u001b[0m\u001b[34m─╮\u001b[0m\n",
              "\u001b[34m│\u001b[0m                                                                                                                 \u001b[34m│\u001b[0m\n",
              "\u001b[34m│\u001b[0m  Ik ben zo blij met dit geweldige nieuws! Dit is fantastisch!                                                   \u001b[34m│\u001b[0m\n",
              "\u001b[34m│\u001b[0m                                                                                                                 \u001b[34m│\u001b[0m\n",
              "\u001b[34m╰─────────────────────────────────────────────────────────────────────────────────────────────────────────────────╯\u001b[0m\n"
            ]
          },
          "metadata": {},
          "output_type": "display_data"
        },
        {
          "data": {
            "text/html": [
              "<pre style=\"white-space:pre;overflow-x:auto;line-height:normal;font-family:Menlo,'DejaVu Sans Mono',consolas,'Courier New',monospace\"><span style=\"font-weight: bold\">Sentiment:</span> <span style=\"color: #c0c0c0; text-decoration-color: #c0c0c0\">NEUTRAL</span>\n",
              "</pre>\n"
            ],
            "text/plain": [
              "\u001b[1mSentiment:\u001b[0m \u001b[37mNEUTRAL\u001b[0m\n"
            ]
          },
          "metadata": {},
          "output_type": "display_data"
        },
        {
          "data": {
            "text/html": [
              "<pre style=\"white-space:pre;overflow-x:auto;line-height:normal;font-family:Menlo,'DejaVu Sans Mono',consolas,'Courier New',monospace\"><span style=\"font-style: italic\">                                  Emotion Analysis                                   </span>\n",
              "┏━━━━━━━━━━━━━━━━━┳━━━━━━━━━━━━┳━━━━━━━━━━━━━━━━━━━━━━━━━━━━━━━━━━━━━━━━━━━━━━━━━━━━┓\n",
              "┃<span style=\"color: #800080; text-decoration-color: #800080; font-weight: bold\"> Emotion         </span>┃<span style=\"color: #800080; text-decoration-color: #800080; font-weight: bold\">      Score </span>┃<span style=\"color: #800080; text-decoration-color: #800080; font-weight: bold\"> Confidence                                         </span>┃\n",
              "┡━━━━━━━━━━━━━━━━━╇━━━━━━━━━━━━╇━━━━━━━━━━━━━━━━━━━━━━━━━━━━━━━━━━━━━━━━━━━━━━━━━━━━┩\n",
              "│<span style=\"color: #008080; text-decoration-color: #008080\"> neutral         </span>│<span style=\"color: #008000; text-decoration-color: #008000\">      0.996 </span>│ <span style=\"color: #00ff00; text-decoration-color: #00ff00\">███████████████████████████████████████░          </span> │\n",
              "│<span style=\"color: #008080; text-decoration-color: #008080\"> anger           </span>│<span style=\"color: #008000; text-decoration-color: #008000\">      0.002 </span>│ <span style=\"color: #7f7f7f; text-decoration-color: #7f7f7f\">░░░░░░░░░░░░░░░░░░░░░░░░░░░░░░░░░░░░░░░░          </span> │\n",
              "│<span style=\"color: #008080; text-decoration-color: #008080\"> excitement      </span>│<span style=\"color: #008000; text-decoration-color: #008000\">      0.001 </span>│ <span style=\"color: #7f7f7f; text-decoration-color: #7f7f7f\">░░░░░░░░░░░░░░░░░░░░░░░░░░░░░░░░░░░░░░░░          </span> │\n",
              "└─────────────────┴────────────┴────────────────────────────────────────────────────┘\n",
              "</pre>\n"
            ],
            "text/plain": [
              "\u001b[3m                                  Emotion Analysis                                   \u001b[0m\n",
              "┏━━━━━━━━━━━━━━━━━┳━━━━━━━━━━━━┳━━━━━━━━━━━━━━━━━━━━━━━━━━━━━━━━━━━━━━━━━━━━━━━━━━━━┓\n",
              "┃\u001b[1;35m \u001b[0m\u001b[1;35mEmotion        \u001b[0m\u001b[1;35m \u001b[0m┃\u001b[1;35m \u001b[0m\u001b[1;35m     Score\u001b[0m\u001b[1;35m \u001b[0m┃\u001b[1;35m \u001b[0m\u001b[1;35mConfidence                                        \u001b[0m\u001b[1;35m \u001b[0m┃\n",
              "┡━━━━━━━━━━━━━━━━━╇━━━━━━━━━━━━╇━━━━━━━━━━━━━━━━━━━━━━━━━━━━━━━━━━━━━━━━━━━━━━━━━━━━┩\n",
              "│\u001b[36m \u001b[0m\u001b[36mneutral        \u001b[0m\u001b[36m \u001b[0m│\u001b[32m \u001b[0m\u001b[32m     0.996\u001b[0m\u001b[32m \u001b[0m│ \u001b[92m███████████████████████████████████████░          \u001b[0m │\n",
              "│\u001b[36m \u001b[0m\u001b[36manger          \u001b[0m\u001b[36m \u001b[0m│\u001b[32m \u001b[0m\u001b[32m     0.002\u001b[0m\u001b[32m \u001b[0m│ \u001b[2m░░░░░░░░░░░░░░░░░░░░░░░░░░░░░░░░░░░░░░░░          \u001b[0m │\n",
              "│\u001b[36m \u001b[0m\u001b[36mexcitement     \u001b[0m\u001b[36m \u001b[0m│\u001b[32m \u001b[0m\u001b[32m     0.001\u001b[0m\u001b[32m \u001b[0m│ \u001b[2m░░░░░░░░░░░░░░░░░░░░░░░░░░░░░░░░░░░░░░░░          \u001b[0m │\n",
              "└─────────────────┴────────────┴────────────────────────────────────────────────────┘\n"
            ]
          },
          "metadata": {},
          "output_type": "display_data"
        },
        {
          "data": {
            "text/html": [
              "<pre style=\"white-space:pre;overflow-x:auto;line-height:normal;font-family:Menlo,'DejaVu Sans Mono',consolas,'Courier New',monospace\"><span style=\"color: #7f7f7f; text-decoration-color: #7f7f7f\">Translation: I'm so happy with this great news! This is fantastic!</span>\n",
              "</pre>\n"
            ],
            "text/plain": [
              "\u001b[2mTranslation: I'm so happy with this great news! This is fantastic!\u001b[0m\n"
            ]
          },
          "metadata": {},
          "output_type": "display_data"
        },
        {
          "data": {
            "text/html": [
              "<pre style=\"white-space:pre;overflow-x:auto;line-height:normal;font-family:Menlo,'DejaVu Sans Mono',consolas,'Courier New',monospace\"><span style=\"color: #7f7f7f; text-decoration-color: #7f7f7f\">Expected emotion: joy</span>\n",
              "</pre>\n"
            ],
            "text/plain": [
              "\u001b[2mExpected emotion: joy\u001b[0m\n"
            ]
          },
          "metadata": {},
          "output_type": "display_data"
        },
        {
          "data": {
            "text/html": [
              "<pre style=\"white-space:pre;overflow-x:auto;line-height:normal;font-family:Menlo,'DejaVu Sans Mono',consolas,'Courier New',monospace\">\n",
              "<span style=\"color: #008080; text-decoration-color: #008080; font-weight: bold\">[Sample </span><span style=\"color: #008080; text-decoration-color: #008080; font-weight: bold\">2</span><span style=\"color: #008080; text-decoration-color: #008080; font-weight: bold\">]</span>\n",
              "</pre>\n"
            ],
            "text/plain": [
              "\n",
              "\u001b[1;36m[\u001b[0m\u001b[1;36mSample \u001b[0m\u001b[1;36m2\u001b[0m\u001b[1;36m]\u001b[0m\n"
            ]
          },
          "metadata": {},
          "output_type": "display_data"
        },
        {
          "data": {
            "text/html": [
              "<pre style=\"white-space:pre;overflow-x:auto;line-height:normal;font-family:Menlo,'DejaVu Sans Mono',consolas,'Courier New',monospace\"><span style=\"color: #000080; text-decoration-color: #000080\">╭───────────────────────────────────────────────────── </span><span style=\"color: #000080; text-decoration-color: #000080; font-weight: bold\">Text</span><span style=\"color: #000080; text-decoration-color: #000080\"> ──────────────────────────────────────────────────────╮</span>\n",
              "<span style=\"color: #000080; text-decoration-color: #000080\">│</span>                                                                                                                 <span style=\"color: #000080; text-decoration-color: #000080\">│</span>\n",
              "<span style=\"color: #000080; text-decoration-color: #000080\">│</span>  Ik ben echt teleurgesteld in de resultaten. Dit had ik niet verwacht.                                          <span style=\"color: #000080; text-decoration-color: #000080\">│</span>\n",
              "<span style=\"color: #000080; text-decoration-color: #000080\">│</span>                                                                                                                 <span style=\"color: #000080; text-decoration-color: #000080\">│</span>\n",
              "<span style=\"color: #000080; text-decoration-color: #000080\">╰─────────────────────────────────────────────────────────────────────────────────────────────────────────────────╯</span>\n",
              "</pre>\n"
            ],
            "text/plain": [
              "\u001b[34m╭─\u001b[0m\u001b[34m────────────────────────────────────────────────────\u001b[0m\u001b[34m \u001b[0m\u001b[1;34mText\u001b[0m\u001b[34m \u001b[0m\u001b[34m─────────────────────────────────────────────────────\u001b[0m\u001b[34m─╮\u001b[0m\n",
              "\u001b[34m│\u001b[0m                                                                                                                 \u001b[34m│\u001b[0m\n",
              "\u001b[34m│\u001b[0m  Ik ben echt teleurgesteld in de resultaten. Dit had ik niet verwacht.                                          \u001b[34m│\u001b[0m\n",
              "\u001b[34m│\u001b[0m                                                                                                                 \u001b[34m│\u001b[0m\n",
              "\u001b[34m╰─────────────────────────────────────────────────────────────────────────────────────────────────────────────────╯\u001b[0m\n"
            ]
          },
          "metadata": {},
          "output_type": "display_data"
        },
        {
          "data": {
            "text/html": [
              "<pre style=\"white-space:pre;overflow-x:auto;line-height:normal;font-family:Menlo,'DejaVu Sans Mono',consolas,'Courier New',monospace\"><span style=\"font-weight: bold\">Sentiment:</span> <span style=\"color: #c0c0c0; text-decoration-color: #c0c0c0\">NEUTRAL</span>\n",
              "</pre>\n"
            ],
            "text/plain": [
              "\u001b[1mSentiment:\u001b[0m \u001b[37mNEUTRAL\u001b[0m\n"
            ]
          },
          "metadata": {},
          "output_type": "display_data"
        },
        {
          "data": {
            "text/html": [
              "<pre style=\"white-space:pre;overflow-x:auto;line-height:normal;font-family:Menlo,'DejaVu Sans Mono',consolas,'Courier New',monospace\"><span style=\"font-style: italic\">                                  Emotion Analysis                                   </span>\n",
              "┏━━━━━━━━━━━━━━━━━┳━━━━━━━━━━━━┳━━━━━━━━━━━━━━━━━━━━━━━━━━━━━━━━━━━━━━━━━━━━━━━━━━━━┓\n",
              "┃<span style=\"color: #800080; text-decoration-color: #800080; font-weight: bold\"> Emotion         </span>┃<span style=\"color: #800080; text-decoration-color: #800080; font-weight: bold\">      Score </span>┃<span style=\"color: #800080; text-decoration-color: #800080; font-weight: bold\"> Confidence                                         </span>┃\n",
              "┡━━━━━━━━━━━━━━━━━╇━━━━━━━━━━━━╇━━━━━━━━━━━━━━━━━━━━━━━━━━━━━━━━━━━━━━━━━━━━━━━━━━━━┩\n",
              "│<span style=\"color: #008080; text-decoration-color: #008080\"> neutral         </span>│<span style=\"color: #008000; text-decoration-color: #008000\">      0.732 </span>│ <span style=\"color: #00ff00; text-decoration-color: #00ff00\">█████████████████████████████░░░░░░░░░░░          </span> │\n",
              "│<span style=\"color: #008080; text-decoration-color: #008080\"> anger           </span>│<span style=\"color: #008000; text-decoration-color: #008000\">      0.167 </span>│ <span style=\"color: #7f7f7f; text-decoration-color: #7f7f7f\">██████░░░░░░░░░░░░░░░░░░░░░░░░░░░░░░░░░░          </span> │\n",
              "│<span style=\"color: #008080; text-decoration-color: #008080\"> annoyance       </span>│<span style=\"color: #008000; text-decoration-color: #008000\">      0.095 </span>│ <span style=\"color: #7f7f7f; text-decoration-color: #7f7f7f\">███░░░░░░░░░░░░░░░░░░░░░░░░░░░░░░░░░░░░░          </span> │\n",
              "└─────────────────┴────────────┴────────────────────────────────────────────────────┘\n",
              "</pre>\n"
            ],
            "text/plain": [
              "\u001b[3m                                  Emotion Analysis                                   \u001b[0m\n",
              "┏━━━━━━━━━━━━━━━━━┳━━━━━━━━━━━━┳━━━━━━━━━━━━━━━━━━━━━━━━━━━━━━━━━━━━━━━━━━━━━━━━━━━━┓\n",
              "┃\u001b[1;35m \u001b[0m\u001b[1;35mEmotion        \u001b[0m\u001b[1;35m \u001b[0m┃\u001b[1;35m \u001b[0m\u001b[1;35m     Score\u001b[0m\u001b[1;35m \u001b[0m┃\u001b[1;35m \u001b[0m\u001b[1;35mConfidence                                        \u001b[0m\u001b[1;35m \u001b[0m┃\n",
              "┡━━━━━━━━━━━━━━━━━╇━━━━━━━━━━━━╇━━━━━━━━━━━━━━━━━━━━━━━━━━━━━━━━━━━━━━━━━━━━━━━━━━━━┩\n",
              "│\u001b[36m \u001b[0m\u001b[36mneutral        \u001b[0m\u001b[36m \u001b[0m│\u001b[32m \u001b[0m\u001b[32m     0.732\u001b[0m\u001b[32m \u001b[0m│ \u001b[92m█████████████████████████████░░░░░░░░░░░          \u001b[0m │\n",
              "│\u001b[36m \u001b[0m\u001b[36manger          \u001b[0m\u001b[36m \u001b[0m│\u001b[32m \u001b[0m\u001b[32m     0.167\u001b[0m\u001b[32m \u001b[0m│ \u001b[2m██████░░░░░░░░░░░░░░░░░░░░░░░░░░░░░░░░░░          \u001b[0m │\n",
              "│\u001b[36m \u001b[0m\u001b[36mannoyance      \u001b[0m\u001b[36m \u001b[0m│\u001b[32m \u001b[0m\u001b[32m     0.095\u001b[0m\u001b[32m \u001b[0m│ \u001b[2m███░░░░░░░░░░░░░░░░░░░░░░░░░░░░░░░░░░░░░          \u001b[0m │\n",
              "└─────────────────┴────────────┴────────────────────────────────────────────────────┘\n"
            ]
          },
          "metadata": {},
          "output_type": "display_data"
        },
        {
          "data": {
            "text/html": [
              "<pre style=\"white-space:pre;overflow-x:auto;line-height:normal;font-family:Menlo,'DejaVu Sans Mono',consolas,'Courier New',monospace\"><span style=\"color: #7f7f7f; text-decoration-color: #7f7f7f\">Translation: I'm really disappointed in the results. I didn't expect this.</span>\n",
              "</pre>\n"
            ],
            "text/plain": [
              "\u001b[2mTranslation: I'm really disappointed in the results. I didn't expect this.\u001b[0m\n"
            ]
          },
          "metadata": {},
          "output_type": "display_data"
        },
        {
          "data": {
            "text/html": [
              "<pre style=\"white-space:pre;overflow-x:auto;line-height:normal;font-family:Menlo,'DejaVu Sans Mono',consolas,'Courier New',monospace\"><span style=\"color: #7f7f7f; text-decoration-color: #7f7f7f\">Expected emotion: disappointment</span>\n",
              "</pre>\n"
            ],
            "text/plain": [
              "\u001b[2mExpected emotion: disappointment\u001b[0m\n"
            ]
          },
          "metadata": {},
          "output_type": "display_data"
        },
        {
          "data": {
            "text/html": [
              "<pre style=\"white-space:pre;overflow-x:auto;line-height:normal;font-family:Menlo,'DejaVu Sans Mono',consolas,'Courier New',monospace\">\n",
              "<span style=\"color: #008080; text-decoration-color: #008080; font-weight: bold\">[Sample </span><span style=\"color: #008080; text-decoration-color: #008080; font-weight: bold\">3</span><span style=\"color: #008080; text-decoration-color: #008080; font-weight: bold\">]</span>\n",
              "</pre>\n"
            ],
            "text/plain": [
              "\n",
              "\u001b[1;36m[\u001b[0m\u001b[1;36mSample \u001b[0m\u001b[1;36m3\u001b[0m\u001b[1;36m]\u001b[0m\n"
            ]
          },
          "metadata": {},
          "output_type": "display_data"
        },
        {
          "data": {
            "text/html": [
              "<pre style=\"white-space:pre;overflow-x:auto;line-height:normal;font-family:Menlo,'DejaVu Sans Mono',consolas,'Courier New',monospace\"><span style=\"color: #000080; text-decoration-color: #000080\">╭───────────────────────────────────────────────────── </span><span style=\"color: #000080; text-decoration-color: #000080; font-weight: bold\">Text</span><span style=\"color: #000080; text-decoration-color: #000080\"> ──────────────────────────────────────────────────────╮</span>\n",
              "<span style=\"color: #000080; text-decoration-color: #000080\">│</span>                                                                                                                 <span style=\"color: #000080; text-decoration-color: #000080\">│</span>\n",
              "<span style=\"color: #000080; text-decoration-color: #000080\">│</span>  Heel erg bedankt voor je hulp! Ik waardeer alles wat je voor me hebt gedaan.                                   <span style=\"color: #000080; text-decoration-color: #000080\">│</span>\n",
              "<span style=\"color: #000080; text-decoration-color: #000080\">│</span>                                                                                                                 <span style=\"color: #000080; text-decoration-color: #000080\">│</span>\n",
              "<span style=\"color: #000080; text-decoration-color: #000080\">╰─────────────────────────────────────────────────────────────────────────────────────────────────────────────────╯</span>\n",
              "</pre>\n"
            ],
            "text/plain": [
              "\u001b[34m╭─\u001b[0m\u001b[34m────────────────────────────────────────────────────\u001b[0m\u001b[34m \u001b[0m\u001b[1;34mText\u001b[0m\u001b[34m \u001b[0m\u001b[34m─────────────────────────────────────────────────────\u001b[0m\u001b[34m─╮\u001b[0m\n",
              "\u001b[34m│\u001b[0m                                                                                                                 \u001b[34m│\u001b[0m\n",
              "\u001b[34m│\u001b[0m  Heel erg bedankt voor je hulp! Ik waardeer alles wat je voor me hebt gedaan.                                   \u001b[34m│\u001b[0m\n",
              "\u001b[34m│\u001b[0m                                                                                                                 \u001b[34m│\u001b[0m\n",
              "\u001b[34m╰─────────────────────────────────────────────────────────────────────────────────────────────────────────────────╯\u001b[0m\n"
            ]
          },
          "metadata": {},
          "output_type": "display_data"
        },
        {
          "data": {
            "text/html": [
              "<pre style=\"white-space:pre;overflow-x:auto;line-height:normal;font-family:Menlo,'DejaVu Sans Mono',consolas,'Courier New',monospace\"><span style=\"font-weight: bold\">Sentiment:</span> <span style=\"color: #c0c0c0; text-decoration-color: #c0c0c0\">NEUTRAL</span>\n",
              "</pre>\n"
            ],
            "text/plain": [
              "\u001b[1mSentiment:\u001b[0m \u001b[37mNEUTRAL\u001b[0m\n"
            ]
          },
          "metadata": {},
          "output_type": "display_data"
        },
        {
          "data": {
            "text/html": [
              "<pre style=\"white-space:pre;overflow-x:auto;line-height:normal;font-family:Menlo,'DejaVu Sans Mono',consolas,'Courier New',monospace\"><span style=\"font-style: italic\">                                  Emotion Analysis                                   </span>\n",
              "┏━━━━━━━━━━━━━━━━━┳━━━━━━━━━━━━┳━━━━━━━━━━━━━━━━━━━━━━━━━━━━━━━━━━━━━━━━━━━━━━━━━━━━┓\n",
              "┃<span style=\"color: #800080; text-decoration-color: #800080; font-weight: bold\"> Emotion         </span>┃<span style=\"color: #800080; text-decoration-color: #800080; font-weight: bold\">      Score </span>┃<span style=\"color: #800080; text-decoration-color: #800080; font-weight: bold\"> Confidence                                         </span>┃\n",
              "┡━━━━━━━━━━━━━━━━━╇━━━━━━━━━━━━╇━━━━━━━━━━━━━━━━━━━━━━━━━━━━━━━━━━━━━━━━━━━━━━━━━━━━┩\n",
              "│<span style=\"color: #008080; text-decoration-color: #008080\"> neutral         </span>│<span style=\"color: #008000; text-decoration-color: #008000\">      1.000 </span>│ <span style=\"color: #00ff00; text-decoration-color: #00ff00\">███████████████████████████████████████░          </span> │\n",
              "│<span style=\"color: #008080; text-decoration-color: #008080\"> annoyance       </span>│<span style=\"color: #008000; text-decoration-color: #008000\">      0.000 </span>│ <span style=\"color: #7f7f7f; text-decoration-color: #7f7f7f\">░░░░░░░░░░░░░░░░░░░░░░░░░░░░░░░░░░░░░░░░          </span> │\n",
              "│<span style=\"color: #008080; text-decoration-color: #008080\"> anger           </span>│<span style=\"color: #008000; text-decoration-color: #008000\">      0.000 </span>│ <span style=\"color: #7f7f7f; text-decoration-color: #7f7f7f\">░░░░░░░░░░░░░░░░░░░░░░░░░░░░░░░░░░░░░░░░          </span> │\n",
              "└─────────────────┴────────────┴────────────────────────────────────────────────────┘\n",
              "</pre>\n"
            ],
            "text/plain": [
              "\u001b[3m                                  Emotion Analysis                                   \u001b[0m\n",
              "┏━━━━━━━━━━━━━━━━━┳━━━━━━━━━━━━┳━━━━━━━━━━━━━━━━━━━━━━━━━━━━━━━━━━━━━━━━━━━━━━━━━━━━┓\n",
              "┃\u001b[1;35m \u001b[0m\u001b[1;35mEmotion        \u001b[0m\u001b[1;35m \u001b[0m┃\u001b[1;35m \u001b[0m\u001b[1;35m     Score\u001b[0m\u001b[1;35m \u001b[0m┃\u001b[1;35m \u001b[0m\u001b[1;35mConfidence                                        \u001b[0m\u001b[1;35m \u001b[0m┃\n",
              "┡━━━━━━━━━━━━━━━━━╇━━━━━━━━━━━━╇━━━━━━━━━━━━━━━━━━━━━━━━━━━━━━━━━━━━━━━━━━━━━━━━━━━━┩\n",
              "│\u001b[36m \u001b[0m\u001b[36mneutral        \u001b[0m\u001b[36m \u001b[0m│\u001b[32m \u001b[0m\u001b[32m     1.000\u001b[0m\u001b[32m \u001b[0m│ \u001b[92m███████████████████████████████████████░          \u001b[0m │\n",
              "│\u001b[36m \u001b[0m\u001b[36mannoyance      \u001b[0m\u001b[36m \u001b[0m│\u001b[32m \u001b[0m\u001b[32m     0.000\u001b[0m\u001b[32m \u001b[0m│ \u001b[2m░░░░░░░░░░░░░░░░░░░░░░░░░░░░░░░░░░░░░░░░          \u001b[0m │\n",
              "│\u001b[36m \u001b[0m\u001b[36manger          \u001b[0m\u001b[36m \u001b[0m│\u001b[32m \u001b[0m\u001b[32m     0.000\u001b[0m\u001b[32m \u001b[0m│ \u001b[2m░░░░░░░░░░░░░░░░░░░░░░░░░░░░░░░░░░░░░░░░          \u001b[0m │\n",
              "└─────────────────┴────────────┴────────────────────────────────────────────────────┘\n"
            ]
          },
          "metadata": {},
          "output_type": "display_data"
        },
        {
          "data": {
            "text/html": [
              "<pre style=\"white-space:pre;overflow-x:auto;line-height:normal;font-family:Menlo,'DejaVu Sans Mono',consolas,'Courier New',monospace\"><span style=\"color: #7f7f7f; text-decoration-color: #7f7f7f\">Translation: Thank you very much for your help! I appreciate everything you've done for me.</span>\n",
              "</pre>\n"
            ],
            "text/plain": [
              "\u001b[2mTranslation: Thank you very much for your help! I appreciate everything you've done for me.\u001b[0m\n"
            ]
          },
          "metadata": {},
          "output_type": "display_data"
        },
        {
          "data": {
            "text/html": [
              "<pre style=\"white-space:pre;overflow-x:auto;line-height:normal;font-family:Menlo,'DejaVu Sans Mono',consolas,'Courier New',monospace\"><span style=\"color: #7f7f7f; text-decoration-color: #7f7f7f\">Expected emotion: gratitude</span>\n",
              "</pre>\n"
            ],
            "text/plain": [
              "\u001b[2mExpected emotion: gratitude\u001b[0m\n"
            ]
          },
          "metadata": {},
          "output_type": "display_data"
        },
        {
          "data": {
            "text/html": [
              "<pre style=\"white-space:pre;overflow-x:auto;line-height:normal;font-family:Menlo,'DejaVu Sans Mono',consolas,'Courier New',monospace\">\n",
              "<span style=\"color: #008080; text-decoration-color: #008080; font-weight: bold\">[Sample </span><span style=\"color: #008080; text-decoration-color: #008080; font-weight: bold\">4</span><span style=\"color: #008080; text-decoration-color: #008080; font-weight: bold\">]</span>\n",
              "</pre>\n"
            ],
            "text/plain": [
              "\n",
              "\u001b[1;36m[\u001b[0m\u001b[1;36mSample \u001b[0m\u001b[1;36m4\u001b[0m\u001b[1;36m]\u001b[0m\n"
            ]
          },
          "metadata": {},
          "output_type": "display_data"
        },
        {
          "data": {
            "text/html": [
              "<pre style=\"white-space:pre;overflow-x:auto;line-height:normal;font-family:Menlo,'DejaVu Sans Mono',consolas,'Courier New',monospace\"><span style=\"color: #000080; text-decoration-color: #000080\">╭───────────────────────────────────────────────────── </span><span style=\"color: #000080; text-decoration-color: #000080; font-weight: bold\">Text</span><span style=\"color: #000080; text-decoration-color: #000080\"> ──────────────────────────────────────────────────────╮</span>\n",
              "<span style=\"color: #000080; text-decoration-color: #000080\">│</span>                                                                                                                 <span style=\"color: #000080; text-decoration-color: #000080\">│</span>\n",
              "<span style=\"color: #000080; text-decoration-color: #000080\">│</span>  Ik ben bang dat dit niet goed gaat aflopen. Wat moeten we nu doen?                                             <span style=\"color: #000080; text-decoration-color: #000080\">│</span>\n",
              "<span style=\"color: #000080; text-decoration-color: #000080\">│</span>                                                                                                                 <span style=\"color: #000080; text-decoration-color: #000080\">│</span>\n",
              "<span style=\"color: #000080; text-decoration-color: #000080\">╰─────────────────────────────────────────────────────────────────────────────────────────────────────────────────╯</span>\n",
              "</pre>\n"
            ],
            "text/plain": [
              "\u001b[34m╭─\u001b[0m\u001b[34m────────────────────────────────────────────────────\u001b[0m\u001b[34m \u001b[0m\u001b[1;34mText\u001b[0m\u001b[34m \u001b[0m\u001b[34m─────────────────────────────────────────────────────\u001b[0m\u001b[34m─╮\u001b[0m\n",
              "\u001b[34m│\u001b[0m                                                                                                                 \u001b[34m│\u001b[0m\n",
              "\u001b[34m│\u001b[0m  Ik ben bang dat dit niet goed gaat aflopen. Wat moeten we nu doen?                                             \u001b[34m│\u001b[0m\n",
              "\u001b[34m│\u001b[0m                                                                                                                 \u001b[34m│\u001b[0m\n",
              "\u001b[34m╰─────────────────────────────────────────────────────────────────────────────────────────────────────────────────╯\u001b[0m\n"
            ]
          },
          "metadata": {},
          "output_type": "display_data"
        },
        {
          "data": {
            "text/html": [
              "<pre style=\"white-space:pre;overflow-x:auto;line-height:normal;font-family:Menlo,'DejaVu Sans Mono',consolas,'Courier New',monospace\"><span style=\"font-weight: bold\">Sentiment:</span> <span style=\"color: #c0c0c0; text-decoration-color: #c0c0c0\">NEUTRAL</span>\n",
              "</pre>\n"
            ],
            "text/plain": [
              "\u001b[1mSentiment:\u001b[0m \u001b[37mNEUTRAL\u001b[0m\n"
            ]
          },
          "metadata": {},
          "output_type": "display_data"
        },
        {
          "data": {
            "text/html": [
              "<pre style=\"white-space:pre;overflow-x:auto;line-height:normal;font-family:Menlo,'DejaVu Sans Mono',consolas,'Courier New',monospace\"><span style=\"font-style: italic\">                                  Emotion Analysis                                   </span>\n",
              "┏━━━━━━━━━━━━━━━━━┳━━━━━━━━━━━━┳━━━━━━━━━━━━━━━━━━━━━━━━━━━━━━━━━━━━━━━━━━━━━━━━━━━━┓\n",
              "┃<span style=\"color: #800080; text-decoration-color: #800080; font-weight: bold\"> Emotion         </span>┃<span style=\"color: #800080; text-decoration-color: #800080; font-weight: bold\">      Score </span>┃<span style=\"color: #800080; text-decoration-color: #800080; font-weight: bold\"> Confidence                                         </span>┃\n",
              "┡━━━━━━━━━━━━━━━━━╇━━━━━━━━━━━━╇━━━━━━━━━━━━━━━━━━━━━━━━━━━━━━━━━━━━━━━━━━━━━━━━━━━━┩\n",
              "│<span style=\"color: #008080; text-decoration-color: #008080\"> neutral         </span>│<span style=\"color: #008000; text-decoration-color: #008000\">      0.970 </span>│ <span style=\"color: #00ff00; text-decoration-color: #00ff00\">██████████████████████████████████████░░          </span> │\n",
              "│<span style=\"color: #008080; text-decoration-color: #008080\"> anger           </span>│<span style=\"color: #008000; text-decoration-color: #008000\">      0.021 </span>│ <span style=\"color: #7f7f7f; text-decoration-color: #7f7f7f\">░░░░░░░░░░░░░░░░░░░░░░░░░░░░░░░░░░░░░░░░          </span> │\n",
              "│<span style=\"color: #008080; text-decoration-color: #008080\"> curiosity       </span>│<span style=\"color: #008000; text-decoration-color: #008000\">      0.003 </span>│ <span style=\"color: #7f7f7f; text-decoration-color: #7f7f7f\">░░░░░░░░░░░░░░░░░░░░░░░░░░░░░░░░░░░░░░░░          </span> │\n",
              "└─────────────────┴────────────┴────────────────────────────────────────────────────┘\n",
              "</pre>\n"
            ],
            "text/plain": [
              "\u001b[3m                                  Emotion Analysis                                   \u001b[0m\n",
              "┏━━━━━━━━━━━━━━━━━┳━━━━━━━━━━━━┳━━━━━━━━━━━━━━━━━━━━━━━━━━━━━━━━━━━━━━━━━━━━━━━━━━━━┓\n",
              "┃\u001b[1;35m \u001b[0m\u001b[1;35mEmotion        \u001b[0m\u001b[1;35m \u001b[0m┃\u001b[1;35m \u001b[0m\u001b[1;35m     Score\u001b[0m\u001b[1;35m \u001b[0m┃\u001b[1;35m \u001b[0m\u001b[1;35mConfidence                                        \u001b[0m\u001b[1;35m \u001b[0m┃\n",
              "┡━━━━━━━━━━━━━━━━━╇━━━━━━━━━━━━╇━━━━━━━━━━━━━━━━━━━━━━━━━━━━━━━━━━━━━━━━━━━━━━━━━━━━┩\n",
              "│\u001b[36m \u001b[0m\u001b[36mneutral        \u001b[0m\u001b[36m \u001b[0m│\u001b[32m \u001b[0m\u001b[32m     0.970\u001b[0m\u001b[32m \u001b[0m│ \u001b[92m██████████████████████████████████████░░          \u001b[0m │\n",
              "│\u001b[36m \u001b[0m\u001b[36manger          \u001b[0m\u001b[36m \u001b[0m│\u001b[32m \u001b[0m\u001b[32m     0.021\u001b[0m\u001b[32m \u001b[0m│ \u001b[2m░░░░░░░░░░░░░░░░░░░░░░░░░░░░░░░░░░░░░░░░          \u001b[0m │\n",
              "│\u001b[36m \u001b[0m\u001b[36mcuriosity      \u001b[0m\u001b[36m \u001b[0m│\u001b[32m \u001b[0m\u001b[32m     0.003\u001b[0m\u001b[32m \u001b[0m│ \u001b[2m░░░░░░░░░░░░░░░░░░░░░░░░░░░░░░░░░░░░░░░░          \u001b[0m │\n",
              "└─────────────────┴────────────┴────────────────────────────────────────────────────┘\n"
            ]
          },
          "metadata": {},
          "output_type": "display_data"
        },
        {
          "data": {
            "text/html": [
              "<pre style=\"white-space:pre;overflow-x:auto;line-height:normal;font-family:Menlo,'DejaVu Sans Mono',consolas,'Courier New',monospace\"><span style=\"color: #7f7f7f; text-decoration-color: #7f7f7f\">Translation: I'm afraid this won't end well. What should we do now?</span>\n",
              "</pre>\n"
            ],
            "text/plain": [
              "\u001b[2mTranslation: I'm afraid this won't end well. What should we do now?\u001b[0m\n"
            ]
          },
          "metadata": {},
          "output_type": "display_data"
        },
        {
          "data": {
            "text/html": [
              "<pre style=\"white-space:pre;overflow-x:auto;line-height:normal;font-family:Menlo,'DejaVu Sans Mono',consolas,'Courier New',monospace\"><span style=\"color: #7f7f7f; text-decoration-color: #7f7f7f\">Expected emotion: fear</span>\n",
              "</pre>\n"
            ],
            "text/plain": [
              "\u001b[2mExpected emotion: fear\u001b[0m\n"
            ]
          },
          "metadata": {},
          "output_type": "display_data"
        },
        {
          "data": {
            "text/html": [
              "<pre style=\"white-space:pre;overflow-x:auto;line-height:normal;font-family:Menlo,'DejaVu Sans Mono',consolas,'Courier New',monospace\">\n",
              "<span style=\"color: #008080; text-decoration-color: #008080; font-weight: bold\">[Sample </span><span style=\"color: #008080; text-decoration-color: #008080; font-weight: bold\">5</span><span style=\"color: #008080; text-decoration-color: #008080; font-weight: bold\">]</span>\n",
              "</pre>\n"
            ],
            "text/plain": [
              "\n",
              "\u001b[1;36m[\u001b[0m\u001b[1;36mSample \u001b[0m\u001b[1;36m5\u001b[0m\u001b[1;36m]\u001b[0m\n"
            ]
          },
          "metadata": {},
          "output_type": "display_data"
        },
        {
          "data": {
            "text/html": [
              "<pre style=\"white-space:pre;overflow-x:auto;line-height:normal;font-family:Menlo,'DejaVu Sans Mono',consolas,'Courier New',monospace\"><span style=\"color: #000080; text-decoration-color: #000080\">╭───────────────────────────────────────────────────── </span><span style=\"color: #000080; text-decoration-color: #000080; font-weight: bold\">Text</span><span style=\"color: #000080; text-decoration-color: #000080\"> ──────────────────────────────────────────────────────╮</span>\n",
              "<span style=\"color: #000080; text-decoration-color: #000080\">│</span>                                                                                                                 <span style=\"color: #000080; text-decoration-color: #000080\">│</span>\n",
              "<span style=\"color: #000080; text-decoration-color: #000080\">│</span>  Dit is zo grappig! Ik kan niet stoppen met lachen!                                                             <span style=\"color: #000080; text-decoration-color: #000080\">│</span>\n",
              "<span style=\"color: #000080; text-decoration-color: #000080\">│</span>                                                                                                                 <span style=\"color: #000080; text-decoration-color: #000080\">│</span>\n",
              "<span style=\"color: #000080; text-decoration-color: #000080\">╰─────────────────────────────────────────────────────────────────────────────────────────────────────────────────╯</span>\n",
              "</pre>\n"
            ],
            "text/plain": [
              "\u001b[34m╭─\u001b[0m\u001b[34m────────────────────────────────────────────────────\u001b[0m\u001b[34m \u001b[0m\u001b[1;34mText\u001b[0m\u001b[34m \u001b[0m\u001b[34m─────────────────────────────────────────────────────\u001b[0m\u001b[34m─╮\u001b[0m\n",
              "\u001b[34m│\u001b[0m                                                                                                                 \u001b[34m│\u001b[0m\n",
              "\u001b[34m│\u001b[0m  Dit is zo grappig! Ik kan niet stoppen met lachen!                                                             \u001b[34m│\u001b[0m\n",
              "\u001b[34m│\u001b[0m                                                                                                                 \u001b[34m│\u001b[0m\n",
              "\u001b[34m╰─────────────────────────────────────────────────────────────────────────────────────────────────────────────────╯\u001b[0m\n"
            ]
          },
          "metadata": {},
          "output_type": "display_data"
        },
        {
          "data": {
            "text/html": [
              "<pre style=\"white-space:pre;overflow-x:auto;line-height:normal;font-family:Menlo,'DejaVu Sans Mono',consolas,'Courier New',monospace\"><span style=\"font-weight: bold\">Sentiment:</span> <span style=\"color: #c0c0c0; text-decoration-color: #c0c0c0\">NEUTRAL</span>\n",
              "</pre>\n"
            ],
            "text/plain": [
              "\u001b[1mSentiment:\u001b[0m \u001b[37mNEUTRAL\u001b[0m\n"
            ]
          },
          "metadata": {},
          "output_type": "display_data"
        },
        {
          "data": {
            "text/html": [
              "<pre style=\"white-space:pre;overflow-x:auto;line-height:normal;font-family:Menlo,'DejaVu Sans Mono',consolas,'Courier New',monospace\"><span style=\"font-style: italic\">                                  Emotion Analysis                                   </span>\n",
              "┏━━━━━━━━━━━━━━━━━┳━━━━━━━━━━━━┳━━━━━━━━━━━━━━━━━━━━━━━━━━━━━━━━━━━━━━━━━━━━━━━━━━━━┓\n",
              "┃<span style=\"color: #800080; text-decoration-color: #800080; font-weight: bold\"> Emotion         </span>┃<span style=\"color: #800080; text-decoration-color: #800080; font-weight: bold\">      Score </span>┃<span style=\"color: #800080; text-decoration-color: #800080; font-weight: bold\"> Confidence                                         </span>┃\n",
              "┡━━━━━━━━━━━━━━━━━╇━━━━━━━━━━━━╇━━━━━━━━━━━━━━━━━━━━━━━━━━━━━━━━━━━━━━━━━━━━━━━━━━━━┩\n",
              "│<span style=\"color: #008080; text-decoration-color: #008080\"> neutral         </span>│<span style=\"color: #008000; text-decoration-color: #008000\">      1.000 </span>│ <span style=\"color: #00ff00; text-decoration-color: #00ff00\">███████████████████████████████████████░          </span> │\n",
              "│<span style=\"color: #008080; text-decoration-color: #008080\"> anger           </span>│<span style=\"color: #008000; text-decoration-color: #008000\">      0.000 </span>│ <span style=\"color: #7f7f7f; text-decoration-color: #7f7f7f\">░░░░░░░░░░░░░░░░░░░░░░░░░░░░░░░░░░░░░░░░          </span> │\n",
              "│<span style=\"color: #008080; text-decoration-color: #008080\"> excitement      </span>│<span style=\"color: #008000; text-decoration-color: #008000\">      0.000 </span>│ <span style=\"color: #7f7f7f; text-decoration-color: #7f7f7f\">░░░░░░░░░░░░░░░░░░░░░░░░░░░░░░░░░░░░░░░░          </span> │\n",
              "└─────────────────┴────────────┴────────────────────────────────────────────────────┘\n",
              "</pre>\n"
            ],
            "text/plain": [
              "\u001b[3m                                  Emotion Analysis                                   \u001b[0m\n",
              "┏━━━━━━━━━━━━━━━━━┳━━━━━━━━━━━━┳━━━━━━━━━━━━━━━━━━━━━━━━━━━━━━━━━━━━━━━━━━━━━━━━━━━━┓\n",
              "┃\u001b[1;35m \u001b[0m\u001b[1;35mEmotion        \u001b[0m\u001b[1;35m \u001b[0m┃\u001b[1;35m \u001b[0m\u001b[1;35m     Score\u001b[0m\u001b[1;35m \u001b[0m┃\u001b[1;35m \u001b[0m\u001b[1;35mConfidence                                        \u001b[0m\u001b[1;35m \u001b[0m┃\n",
              "┡━━━━━━━━━━━━━━━━━╇━━━━━━━━━━━━╇━━━━━━━━━━━━━━━━━━━━━━━━━━━━━━━━━━━━━━━━━━━━━━━━━━━━┩\n",
              "│\u001b[36m \u001b[0m\u001b[36mneutral        \u001b[0m\u001b[36m \u001b[0m│\u001b[32m \u001b[0m\u001b[32m     1.000\u001b[0m\u001b[32m \u001b[0m│ \u001b[92m███████████████████████████████████████░          \u001b[0m │\n",
              "│\u001b[36m \u001b[0m\u001b[36manger          \u001b[0m\u001b[36m \u001b[0m│\u001b[32m \u001b[0m\u001b[32m     0.000\u001b[0m\u001b[32m \u001b[0m│ \u001b[2m░░░░░░░░░░░░░░░░░░░░░░░░░░░░░░░░░░░░░░░░          \u001b[0m │\n",
              "│\u001b[36m \u001b[0m\u001b[36mexcitement     \u001b[0m\u001b[36m \u001b[0m│\u001b[32m \u001b[0m\u001b[32m     0.000\u001b[0m\u001b[32m \u001b[0m│ \u001b[2m░░░░░░░░░░░░░░░░░░░░░░░░░░░░░░░░░░░░░░░░          \u001b[0m │\n",
              "└─────────────────┴────────────┴────────────────────────────────────────────────────┘\n"
            ]
          },
          "metadata": {},
          "output_type": "display_data"
        },
        {
          "data": {
            "text/html": [
              "<pre style=\"white-space:pre;overflow-x:auto;line-height:normal;font-family:Menlo,'DejaVu Sans Mono',consolas,'Courier New',monospace\"><span style=\"color: #7f7f7f; text-decoration-color: #7f7f7f\">Translation: This is so funny! I can't stop laughing!</span>\n",
              "</pre>\n"
            ],
            "text/plain": [
              "\u001b[2mTranslation: This is so funny! I can't stop laughing!\u001b[0m\n"
            ]
          },
          "metadata": {},
          "output_type": "display_data"
        },
        {
          "data": {
            "text/html": [
              "<pre style=\"white-space:pre;overflow-x:auto;line-height:normal;font-family:Menlo,'DejaVu Sans Mono',consolas,'Courier New',monospace\"><span style=\"color: #7f7f7f; text-decoration-color: #7f7f7f\">Expected emotion: amusement</span>\n",
              "</pre>\n"
            ],
            "text/plain": [
              "\u001b[2mExpected emotion: amusement\u001b[0m\n"
            ]
          },
          "metadata": {},
          "output_type": "display_data"
        }
      ],
      "source": [
        "# Process Dutch samples\n",
        "dutch_samples = get_samples_by_language(\"dutch\")\n",
        "\n",
        "print_header(\"DUTCH SAMPLES\", f\"Analyzing {len(dutch_samples)} Dutch texts\")\n",
        "\n",
        "for idx, sample in enumerate(dutch_samples, 1):\n",
        "    console.print(f\"\\n[bold cyan][Sample {idx}][/bold cyan]\")\n",
        "    result = classifier.analyze(sample[\"text\"], top_k=3)\n",
        "    format_emotion_output(result, use_rich=True)\n",
        "    console.print(f\"[dim]Translation: {sample['translation']}[/dim]\")\n",
        "    console.print(f\"[dim]Expected emotion: {sample['expected_emotion']}[/dim]\")\n"
      ]
    },
    {
      "cell_type": "markdown",
      "metadata": {},
      "source": [
        "## 8. Persian Text Examples\n",
        "\n",
        "Test the classifier with Persian (Farsi) language samples.\n"
      ]
    },
    {
      "cell_type": "code",
      "execution_count": 8,
      "metadata": {},
      "outputs": [
        {
          "data": {
            "text/html": [
              "<pre style=\"white-space:pre;overflow-x:auto;line-height:normal;font-family:Menlo,'DejaVu Sans Mono',consolas,'Courier New',monospace\"><span style=\"color: #008080; text-decoration-color: #008080\">╭─────────────────────────────────────────────────────────────────────────────────────────────────────────────────╮</span>\n",
              "<span style=\"color: #008080; text-decoration-color: #008080\">│</span> <span style=\"color: #008080; text-decoration-color: #008080; font-weight: bold\">PERSIAN SAMPLES</span>                                                                                                 <span style=\"color: #008080; text-decoration-color: #008080\">│</span>\n",
              "<span style=\"color: #008080; text-decoration-color: #008080\">│</span> <span style=\"color: #7f7f7f; text-decoration-color: #7f7f7f\">Analyzing 6 Persian texts</span>                                                                                       <span style=\"color: #008080; text-decoration-color: #008080\">│</span>\n",
              "<span style=\"color: #008080; text-decoration-color: #008080\">╰─────────────────────────────────────────────────────────────────────────────────────────────────────────────────╯</span>\n",
              "</pre>\n"
            ],
            "text/plain": [
              "\u001b[36m╭─────────────────────────────────────────────────────────────────────────────────────────────────────────────────╮\u001b[0m\n",
              "\u001b[36m│\u001b[0m \u001b[1;36mPERSIAN SAMPLES\u001b[0m                                                                                                 \u001b[36m│\u001b[0m\n",
              "\u001b[36m│\u001b[0m \u001b[2mAnalyzing 6 Persian texts\u001b[0m                                                                                       \u001b[36m│\u001b[0m\n",
              "\u001b[36m╰─────────────────────────────────────────────────────────────────────────────────────────────────────────────────╯\u001b[0m\n"
            ]
          },
          "metadata": {},
          "output_type": "display_data"
        },
        {
          "data": {
            "text/html": [
              "<pre style=\"white-space:pre;overflow-x:auto;line-height:normal;font-family:Menlo,'DejaVu Sans Mono',consolas,'Courier New',monospace\">\n",
              "<span style=\"color: #008080; text-decoration-color: #008080; font-weight: bold\">[Sample </span><span style=\"color: #008080; text-decoration-color: #008080; font-weight: bold\">1</span><span style=\"color: #008080; text-decoration-color: #008080; font-weight: bold\">]</span>\n",
              "</pre>\n"
            ],
            "text/plain": [
              "\n",
              "\u001b[1;36m[\u001b[0m\u001b[1;36mSample \u001b[0m\u001b[1;36m1\u001b[0m\u001b[1;36m]\u001b[0m\n"
            ]
          },
          "metadata": {},
          "output_type": "display_data"
        },
        {
          "data": {
            "text/html": [
              "<pre style=\"white-space:pre;overflow-x:auto;line-height:normal;font-family:Menlo,'DejaVu Sans Mono',consolas,'Courier New',monospace\"><span style=\"color: #000080; text-decoration-color: #000080\">╭───────────────────────────────────────────────────── </span><span style=\"color: #000080; text-decoration-color: #000080; font-weight: bold\">Text</span><span style=\"color: #000080; text-decoration-color: #000080\"> ──────────────────────────────────────────────────────╮</span>\n",
              "<span style=\"color: #000080; text-decoration-color: #000080\">│</span>                                                                                                                 <span style=\"color: #000080; text-decoration-color: #000080\">│</span>\n",
              "<span style=\"color: #000080; text-decoration-color: #000080\">│</span>  من از این خبر عالی خیلی خوشحالم! این فوق‌العاده است!                                                            <span style=\"color: #000080; text-decoration-color: #000080\">│</span>\n",
              "<span style=\"color: #000080; text-decoration-color: #000080\">│</span>                                                                                                                 <span style=\"color: #000080; text-decoration-color: #000080\">│</span>\n",
              "<span style=\"color: #000080; text-decoration-color: #000080\">╰─────────────────────────────────────────────────────────────────────────────────────────────────────────────────╯</span>\n",
              "</pre>\n"
            ],
            "text/plain": [
              "\u001b[34m╭─\u001b[0m\u001b[34m────────────────────────────────────────────────────\u001b[0m\u001b[34m \u001b[0m\u001b[1;34mText\u001b[0m\u001b[34m \u001b[0m\u001b[34m─────────────────────────────────────────────────────\u001b[0m\u001b[34m─╮\u001b[0m\n",
              "\u001b[34m│\u001b[0m                                                                                                                 \u001b[34m│\u001b[0m\n",
              "\u001b[34m│\u001b[0m  من از این خبر عالی خیلی خوشحالم! این فوق‌العاده است!                                                            \u001b[34m│\u001b[0m\n",
              "\u001b[34m│\u001b[0m                                                                                                                 \u001b[34m│\u001b[0m\n",
              "\u001b[34m╰─────────────────────────────────────────────────────────────────────────────────────────────────────────────────╯\u001b[0m\n"
            ]
          },
          "metadata": {},
          "output_type": "display_data"
        },
        {
          "data": {
            "text/html": [
              "<pre style=\"white-space:pre;overflow-x:auto;line-height:normal;font-family:Menlo,'DejaVu Sans Mono',consolas,'Courier New',monospace\"><span style=\"font-weight: bold\">Sentiment:</span> <span style=\"color: #c0c0c0; text-decoration-color: #c0c0c0\">NEUTRAL</span>\n",
              "</pre>\n"
            ],
            "text/plain": [
              "\u001b[1mSentiment:\u001b[0m \u001b[37mNEUTRAL\u001b[0m\n"
            ]
          },
          "metadata": {},
          "output_type": "display_data"
        },
        {
          "data": {
            "text/html": [
              "<pre style=\"white-space:pre;overflow-x:auto;line-height:normal;font-family:Menlo,'DejaVu Sans Mono',consolas,'Courier New',monospace\"><span style=\"font-style: italic\">                                  Emotion Analysis                                   </span>\n",
              "┏━━━━━━━━━━━━━━━━━┳━━━━━━━━━━━━┳━━━━━━━━━━━━━━━━━━━━━━━━━━━━━━━━━━━━━━━━━━━━━━━━━━━━┓\n",
              "┃<span style=\"color: #800080; text-decoration-color: #800080; font-weight: bold\"> Emotion         </span>┃<span style=\"color: #800080; text-decoration-color: #800080; font-weight: bold\">      Score </span>┃<span style=\"color: #800080; text-decoration-color: #800080; font-weight: bold\"> Confidence                                         </span>┃\n",
              "┡━━━━━━━━━━━━━━━━━╇━━━━━━━━━━━━╇━━━━━━━━━━━━━━━━━━━━━━━━━━━━━━━━━━━━━━━━━━━━━━━━━━━━┩\n",
              "│<span style=\"color: #008080; text-decoration-color: #008080\"> neutral         </span>│<span style=\"color: #008000; text-decoration-color: #008000\">      1.000 </span>│ <span style=\"color: #00ff00; text-decoration-color: #00ff00\">███████████████████████████████████████░          </span> │\n",
              "│<span style=\"color: #008080; text-decoration-color: #008080\"> curiosity       </span>│<span style=\"color: #008000; text-decoration-color: #008000\">      0.000 </span>│ <span style=\"color: #7f7f7f; text-decoration-color: #7f7f7f\">░░░░░░░░░░░░░░░░░░░░░░░░░░░░░░░░░░░░░░░░          </span> │\n",
              "│<span style=\"color: #008080; text-decoration-color: #008080\"> sadness         </span>│<span style=\"color: #008000; text-decoration-color: #008000\">      0.000 </span>│ <span style=\"color: #7f7f7f; text-decoration-color: #7f7f7f\">░░░░░░░░░░░░░░░░░░░░░░░░░░░░░░░░░░░░░░░░          </span> │\n",
              "└─────────────────┴────────────┴────────────────────────────────────────────────────┘\n",
              "</pre>\n"
            ],
            "text/plain": [
              "\u001b[3m                                  Emotion Analysis                                   \u001b[0m\n",
              "┏━━━━━━━━━━━━━━━━━┳━━━━━━━━━━━━┳━━━━━━━━━━━━━━━━━━━━━━━━━━━━━━━━━━━━━━━━━━━━━━━━━━━━┓\n",
              "┃\u001b[1;35m \u001b[0m\u001b[1;35mEmotion        \u001b[0m\u001b[1;35m \u001b[0m┃\u001b[1;35m \u001b[0m\u001b[1;35m     Score\u001b[0m\u001b[1;35m \u001b[0m┃\u001b[1;35m \u001b[0m\u001b[1;35mConfidence                                        \u001b[0m\u001b[1;35m \u001b[0m┃\n",
              "┡━━━━━━━━━━━━━━━━━╇━━━━━━━━━━━━╇━━━━━━━━━━━━━━━━━━━━━━━━━━━━━━━━━━━━━━━━━━━━━━━━━━━━┩\n",
              "│\u001b[36m \u001b[0m\u001b[36mneutral        \u001b[0m\u001b[36m \u001b[0m│\u001b[32m \u001b[0m\u001b[32m     1.000\u001b[0m\u001b[32m \u001b[0m│ \u001b[92m███████████████████████████████████████░          \u001b[0m │\n",
              "│\u001b[36m \u001b[0m\u001b[36mcuriosity      \u001b[0m\u001b[36m \u001b[0m│\u001b[32m \u001b[0m\u001b[32m     0.000\u001b[0m\u001b[32m \u001b[0m│ \u001b[2m░░░░░░░░░░░░░░░░░░░░░░░░░░░░░░░░░░░░░░░░          \u001b[0m │\n",
              "│\u001b[36m \u001b[0m\u001b[36msadness        \u001b[0m\u001b[36m \u001b[0m│\u001b[32m \u001b[0m\u001b[32m     0.000\u001b[0m\u001b[32m \u001b[0m│ \u001b[2m░░░░░░░░░░░░░░░░░░░░░░░░░░░░░░░░░░░░░░░░          \u001b[0m │\n",
              "└─────────────────┴────────────┴────────────────────────────────────────────────────┘\n"
            ]
          },
          "metadata": {},
          "output_type": "display_data"
        },
        {
          "data": {
            "text/html": [
              "<pre style=\"white-space:pre;overflow-x:auto;line-height:normal;font-family:Menlo,'DejaVu Sans Mono',consolas,'Courier New',monospace\"><span style=\"color: #7f7f7f; text-decoration-color: #7f7f7f\">Translation: I'm so happy about this great news! This is wonderful!</span>\n",
              "</pre>\n"
            ],
            "text/plain": [
              "\u001b[2mTranslation: I'm so happy about this great news! This is wonderful!\u001b[0m\n"
            ]
          },
          "metadata": {},
          "output_type": "display_data"
        },
        {
          "data": {
            "text/html": [
              "<pre style=\"white-space:pre;overflow-x:auto;line-height:normal;font-family:Menlo,'DejaVu Sans Mono',consolas,'Courier New',monospace\"><span style=\"color: #7f7f7f; text-decoration-color: #7f7f7f\">Expected emotion: joy</span>\n",
              "</pre>\n"
            ],
            "text/plain": [
              "\u001b[2mExpected emotion: joy\u001b[0m\n"
            ]
          },
          "metadata": {},
          "output_type": "display_data"
        },
        {
          "data": {
            "text/html": [
              "<pre style=\"white-space:pre;overflow-x:auto;line-height:normal;font-family:Menlo,'DejaVu Sans Mono',consolas,'Courier New',monospace\">\n",
              "<span style=\"color: #008080; text-decoration-color: #008080; font-weight: bold\">[Sample </span><span style=\"color: #008080; text-decoration-color: #008080; font-weight: bold\">2</span><span style=\"color: #008080; text-decoration-color: #008080; font-weight: bold\">]</span>\n",
              "</pre>\n"
            ],
            "text/plain": [
              "\n",
              "\u001b[1;36m[\u001b[0m\u001b[1;36mSample \u001b[0m\u001b[1;36m2\u001b[0m\u001b[1;36m]\u001b[0m\n"
            ]
          },
          "metadata": {},
          "output_type": "display_data"
        },
        {
          "data": {
            "text/html": [
              "<pre style=\"white-space:pre;overflow-x:auto;line-height:normal;font-family:Menlo,'DejaVu Sans Mono',consolas,'Courier New',monospace\"><span style=\"color: #000080; text-decoration-color: #000080\">╭───────────────────────────────────────────────────── </span><span style=\"color: #000080; text-decoration-color: #000080; font-weight: bold\">Text</span><span style=\"color: #000080; text-decoration-color: #000080\"> ──────────────────────────────────────────────────────╮</span>\n",
              "<span style=\"color: #000080; text-decoration-color: #000080\">│</span>                                                                                                                 <span style=\"color: #000080; text-decoration-color: #000080\">│</span>\n",
              "<span style=\"color: #000080; text-decoration-color: #000080\">│</span>  واقعاً از نتایج ناامید شدم. این چیزی نبود که انتظار داشتم.                                                      <span style=\"color: #000080; text-decoration-color: #000080\">│</span>\n",
              "<span style=\"color: #000080; text-decoration-color: #000080\">│</span>                                                                                                                 <span style=\"color: #000080; text-decoration-color: #000080\">│</span>\n",
              "<span style=\"color: #000080; text-decoration-color: #000080\">╰─────────────────────────────────────────────────────────────────────────────────────────────────────────────────╯</span>\n",
              "</pre>\n"
            ],
            "text/plain": [
              "\u001b[34m╭─\u001b[0m\u001b[34m────────────────────────────────────────────────────\u001b[0m\u001b[34m \u001b[0m\u001b[1;34mText\u001b[0m\u001b[34m \u001b[0m\u001b[34m─────────────────────────────────────────────────────\u001b[0m\u001b[34m─╮\u001b[0m\n",
              "\u001b[34m│\u001b[0m                                                                                                                 \u001b[34m│\u001b[0m\n",
              "\u001b[34m│\u001b[0m  واقعاً از نتایج ناامید شدم. این چیزی نبود که انتظار داشتم.                                                      \u001b[34m│\u001b[0m\n",
              "\u001b[34m│\u001b[0m                                                                                                                 \u001b[34m│\u001b[0m\n",
              "\u001b[34m╰─────────────────────────────────────────────────────────────────────────────────────────────────────────────────╯\u001b[0m\n"
            ]
          },
          "metadata": {},
          "output_type": "display_data"
        },
        {
          "data": {
            "text/html": [
              "<pre style=\"white-space:pre;overflow-x:auto;line-height:normal;font-family:Menlo,'DejaVu Sans Mono',consolas,'Courier New',monospace\"><span style=\"font-weight: bold\">Sentiment:</span> <span style=\"color: #c0c0c0; text-decoration-color: #c0c0c0\">NEUTRAL</span>\n",
              "</pre>\n"
            ],
            "text/plain": [
              "\u001b[1mSentiment:\u001b[0m \u001b[37mNEUTRAL\u001b[0m\n"
            ]
          },
          "metadata": {},
          "output_type": "display_data"
        },
        {
          "data": {
            "text/html": [
              "<pre style=\"white-space:pre;overflow-x:auto;line-height:normal;font-family:Menlo,'DejaVu Sans Mono',consolas,'Courier New',monospace\"><span style=\"font-style: italic\">                                  Emotion Analysis                                   </span>\n",
              "┏━━━━━━━━━━━━━━━━━┳━━━━━━━━━━━━┳━━━━━━━━━━━━━━━━━━━━━━━━━━━━━━━━━━━━━━━━━━━━━━━━━━━━┓\n",
              "┃<span style=\"color: #800080; text-decoration-color: #800080; font-weight: bold\"> Emotion         </span>┃<span style=\"color: #800080; text-decoration-color: #800080; font-weight: bold\">      Score </span>┃<span style=\"color: #800080; text-decoration-color: #800080; font-weight: bold\"> Confidence                                         </span>┃\n",
              "┡━━━━━━━━━━━━━━━━━╇━━━━━━━━━━━━╇━━━━━━━━━━━━━━━━━━━━━━━━━━━━━━━━━━━━━━━━━━━━━━━━━━━━┩\n",
              "│<span style=\"color: #008080; text-decoration-color: #008080\"> neutral         </span>│<span style=\"color: #008000; text-decoration-color: #008000\">      1.000 </span>│ <span style=\"color: #00ff00; text-decoration-color: #00ff00\">███████████████████████████████████████░          </span> │\n",
              "│<span style=\"color: #008080; text-decoration-color: #008080\"> curiosity       </span>│<span style=\"color: #008000; text-decoration-color: #008000\">      0.000 </span>│ <span style=\"color: #7f7f7f; text-decoration-color: #7f7f7f\">░░░░░░░░░░░░░░░░░░░░░░░░░░░░░░░░░░░░░░░░          </span> │\n",
              "│<span style=\"color: #008080; text-decoration-color: #008080\"> approval        </span>│<span style=\"color: #008000; text-decoration-color: #008000\">      0.000 </span>│ <span style=\"color: #7f7f7f; text-decoration-color: #7f7f7f\">░░░░░░░░░░░░░░░░░░░░░░░░░░░░░░░░░░░░░░░░          </span> │\n",
              "└─────────────────┴────────────┴────────────────────────────────────────────────────┘\n",
              "</pre>\n"
            ],
            "text/plain": [
              "\u001b[3m                                  Emotion Analysis                                   \u001b[0m\n",
              "┏━━━━━━━━━━━━━━━━━┳━━━━━━━━━━━━┳━━━━━━━━━━━━━━━━━━━━━━━━━━━━━━━━━━━━━━━━━━━━━━━━━━━━┓\n",
              "┃\u001b[1;35m \u001b[0m\u001b[1;35mEmotion        \u001b[0m\u001b[1;35m \u001b[0m┃\u001b[1;35m \u001b[0m\u001b[1;35m     Score\u001b[0m\u001b[1;35m \u001b[0m┃\u001b[1;35m \u001b[0m\u001b[1;35mConfidence                                        \u001b[0m\u001b[1;35m \u001b[0m┃\n",
              "┡━━━━━━━━━━━━━━━━━╇━━━━━━━━━━━━╇━━━━━━━━━━━━━━━━━━━━━━━━━━━━━━━━━━━━━━━━━━━━━━━━━━━━┩\n",
              "│\u001b[36m \u001b[0m\u001b[36mneutral        \u001b[0m\u001b[36m \u001b[0m│\u001b[32m \u001b[0m\u001b[32m     1.000\u001b[0m\u001b[32m \u001b[0m│ \u001b[92m███████████████████████████████████████░          \u001b[0m │\n",
              "│\u001b[36m \u001b[0m\u001b[36mcuriosity      \u001b[0m\u001b[36m \u001b[0m│\u001b[32m \u001b[0m\u001b[32m     0.000\u001b[0m\u001b[32m \u001b[0m│ \u001b[2m░░░░░░░░░░░░░░░░░░░░░░░░░░░░░░░░░░░░░░░░          \u001b[0m │\n",
              "│\u001b[36m \u001b[0m\u001b[36mapproval       \u001b[0m\u001b[36m \u001b[0m│\u001b[32m \u001b[0m\u001b[32m     0.000\u001b[0m\u001b[32m \u001b[0m│ \u001b[2m░░░░░░░░░░░░░░░░░░░░░░░░░░░░░░░░░░░░░░░░          \u001b[0m │\n",
              "└─────────────────┴────────────┴────────────────────────────────────────────────────┘\n"
            ]
          },
          "metadata": {},
          "output_type": "display_data"
        },
        {
          "data": {
            "text/html": [
              "<pre style=\"white-space:pre;overflow-x:auto;line-height:normal;font-family:Menlo,'DejaVu Sans Mono',consolas,'Courier New',monospace\"><span style=\"color: #7f7f7f; text-decoration-color: #7f7f7f\">Translation: I'm really disappointed with the results. This wasn't what I expected.</span>\n",
              "</pre>\n"
            ],
            "text/plain": [
              "\u001b[2mTranslation: I'm really disappointed with the results. This wasn't what I expected.\u001b[0m\n"
            ]
          },
          "metadata": {},
          "output_type": "display_data"
        },
        {
          "data": {
            "text/html": [
              "<pre style=\"white-space:pre;overflow-x:auto;line-height:normal;font-family:Menlo,'DejaVu Sans Mono',consolas,'Courier New',monospace\"><span style=\"color: #7f7f7f; text-decoration-color: #7f7f7f\">Expected emotion: disappointment</span>\n",
              "</pre>\n"
            ],
            "text/plain": [
              "\u001b[2mExpected emotion: disappointment\u001b[0m\n"
            ]
          },
          "metadata": {},
          "output_type": "display_data"
        },
        {
          "data": {
            "text/html": [
              "<pre style=\"white-space:pre;overflow-x:auto;line-height:normal;font-family:Menlo,'DejaVu Sans Mono',consolas,'Courier New',monospace\">\n",
              "<span style=\"color: #008080; text-decoration-color: #008080; font-weight: bold\">[Sample </span><span style=\"color: #008080; text-decoration-color: #008080; font-weight: bold\">3</span><span style=\"color: #008080; text-decoration-color: #008080; font-weight: bold\">]</span>\n",
              "</pre>\n"
            ],
            "text/plain": [
              "\n",
              "\u001b[1;36m[\u001b[0m\u001b[1;36mSample \u001b[0m\u001b[1;36m3\u001b[0m\u001b[1;36m]\u001b[0m\n"
            ]
          },
          "metadata": {},
          "output_type": "display_data"
        },
        {
          "data": {
            "text/html": [
              "<pre style=\"white-space:pre;overflow-x:auto;line-height:normal;font-family:Menlo,'DejaVu Sans Mono',consolas,'Courier New',monospace\"><span style=\"color: #000080; text-decoration-color: #000080\">╭───────────────────────────────────────────────────── </span><span style=\"color: #000080; text-decoration-color: #000080; font-weight: bold\">Text</span><span style=\"color: #000080; text-decoration-color: #000080\"> ──────────────────────────────────────────────────────╮</span>\n",
              "<span style=\"color: #000080; text-decoration-color: #000080\">│</span>                                                                                                                 <span style=\"color: #000080; text-decoration-color: #000080\">│</span>\n",
              "<span style=\"color: #000080; text-decoration-color: #000080\">│</span>  خیلی ممنون از کمکت! واقعاً قدردان همه کارهایی هستم که برای من انجام دادی.                                       <span style=\"color: #000080; text-decoration-color: #000080\">│</span>\n",
              "<span style=\"color: #000080; text-decoration-color: #000080\">│</span>                                                                                                                 <span style=\"color: #000080; text-decoration-color: #000080\">│</span>\n",
              "<span style=\"color: #000080; text-decoration-color: #000080\">╰─────────────────────────────────────────────────────────────────────────────────────────────────────────────────╯</span>\n",
              "</pre>\n"
            ],
            "text/plain": [
              "\u001b[34m╭─\u001b[0m\u001b[34m────────────────────────────────────────────────────\u001b[0m\u001b[34m \u001b[0m\u001b[1;34mText\u001b[0m\u001b[34m \u001b[0m\u001b[34m─────────────────────────────────────────────────────\u001b[0m\u001b[34m─╮\u001b[0m\n",
              "\u001b[34m│\u001b[0m                                                                                                                 \u001b[34m│\u001b[0m\n",
              "\u001b[34m│\u001b[0m  خیلی ممنون از کمکت! واقعاً قدردان همه کارهایی هستم که برای من انجام دادی.                                       \u001b[34m│\u001b[0m\n",
              "\u001b[34m│\u001b[0m                                                                                                                 \u001b[34m│\u001b[0m\n",
              "\u001b[34m╰─────────────────────────────────────────────────────────────────────────────────────────────────────────────────╯\u001b[0m\n"
            ]
          },
          "metadata": {},
          "output_type": "display_data"
        },
        {
          "data": {
            "text/html": [
              "<pre style=\"white-space:pre;overflow-x:auto;line-height:normal;font-family:Menlo,'DejaVu Sans Mono',consolas,'Courier New',monospace\"><span style=\"font-weight: bold\">Sentiment:</span> <span style=\"color: #c0c0c0; text-decoration-color: #c0c0c0\">NEUTRAL</span>\n",
              "</pre>\n"
            ],
            "text/plain": [
              "\u001b[1mSentiment:\u001b[0m \u001b[37mNEUTRAL\u001b[0m\n"
            ]
          },
          "metadata": {},
          "output_type": "display_data"
        },
        {
          "data": {
            "text/html": [
              "<pre style=\"white-space:pre;overflow-x:auto;line-height:normal;font-family:Menlo,'DejaVu Sans Mono',consolas,'Courier New',monospace\"><span style=\"font-style: italic\">                                  Emotion Analysis                                   </span>\n",
              "┏━━━━━━━━━━━━━━━━━┳━━━━━━━━━━━━┳━━━━━━━━━━━━━━━━━━━━━━━━━━━━━━━━━━━━━━━━━━━━━━━━━━━━┓\n",
              "┃<span style=\"color: #800080; text-decoration-color: #800080; font-weight: bold\"> Emotion         </span>┃<span style=\"color: #800080; text-decoration-color: #800080; font-weight: bold\">      Score </span>┃<span style=\"color: #800080; text-decoration-color: #800080; font-weight: bold\"> Confidence                                         </span>┃\n",
              "┡━━━━━━━━━━━━━━━━━╇━━━━━━━━━━━━╇━━━━━━━━━━━━━━━━━━━━━━━━━━━━━━━━━━━━━━━━━━━━━━━━━━━━┩\n",
              "│<span style=\"color: #008080; text-decoration-color: #008080\"> neutral         </span>│<span style=\"color: #008000; text-decoration-color: #008000\">      1.000 </span>│ <span style=\"color: #00ff00; text-decoration-color: #00ff00\">███████████████████████████████████████░          </span> │\n",
              "│<span style=\"color: #008080; text-decoration-color: #008080\"> realization     </span>│<span style=\"color: #008000; text-decoration-color: #008000\">      0.000 </span>│ <span style=\"color: #7f7f7f; text-decoration-color: #7f7f7f\">░░░░░░░░░░░░░░░░░░░░░░░░░░░░░░░░░░░░░░░░          </span> │\n",
              "│<span style=\"color: #008080; text-decoration-color: #008080\"> disappointment  </span>│<span style=\"color: #008000; text-decoration-color: #008000\">      0.000 </span>│ <span style=\"color: #7f7f7f; text-decoration-color: #7f7f7f\">░░░░░░░░░░░░░░░░░░░░░░░░░░░░░░░░░░░░░░░░          </span> │\n",
              "└─────────────────┴────────────┴────────────────────────────────────────────────────┘\n",
              "</pre>\n"
            ],
            "text/plain": [
              "\u001b[3m                                  Emotion Analysis                                   \u001b[0m\n",
              "┏━━━━━━━━━━━━━━━━━┳━━━━━━━━━━━━┳━━━━━━━━━━━━━━━━━━━━━━━━━━━━━━━━━━━━━━━━━━━━━━━━━━━━┓\n",
              "┃\u001b[1;35m \u001b[0m\u001b[1;35mEmotion        \u001b[0m\u001b[1;35m \u001b[0m┃\u001b[1;35m \u001b[0m\u001b[1;35m     Score\u001b[0m\u001b[1;35m \u001b[0m┃\u001b[1;35m \u001b[0m\u001b[1;35mConfidence                                        \u001b[0m\u001b[1;35m \u001b[0m┃\n",
              "┡━━━━━━━━━━━━━━━━━╇━━━━━━━━━━━━╇━━━━━━━━━━━━━━━━━━━━━━━━━━━━━━━━━━━━━━━━━━━━━━━━━━━━┩\n",
              "│\u001b[36m \u001b[0m\u001b[36mneutral        \u001b[0m\u001b[36m \u001b[0m│\u001b[32m \u001b[0m\u001b[32m     1.000\u001b[0m\u001b[32m \u001b[0m│ \u001b[92m███████████████████████████████████████░          \u001b[0m │\n",
              "│\u001b[36m \u001b[0m\u001b[36mrealization    \u001b[0m\u001b[36m \u001b[0m│\u001b[32m \u001b[0m\u001b[32m     0.000\u001b[0m\u001b[32m \u001b[0m│ \u001b[2m░░░░░░░░░░░░░░░░░░░░░░░░░░░░░░░░░░░░░░░░          \u001b[0m │\n",
              "│\u001b[36m \u001b[0m\u001b[36mdisappointment \u001b[0m\u001b[36m \u001b[0m│\u001b[32m \u001b[0m\u001b[32m     0.000\u001b[0m\u001b[32m \u001b[0m│ \u001b[2m░░░░░░░░░░░░░░░░░░░░░░░░░░░░░░░░░░░░░░░░          \u001b[0m │\n",
              "└─────────────────┴────────────┴────────────────────────────────────────────────────┘\n"
            ]
          },
          "metadata": {},
          "output_type": "display_data"
        },
        {
          "data": {
            "text/html": [
              "<pre style=\"white-space:pre;overflow-x:auto;line-height:normal;font-family:Menlo,'DejaVu Sans Mono',consolas,'Courier New',monospace\"><span style=\"color: #7f7f7f; text-decoration-color: #7f7f7f\">Translation: Thank you so much for your help! I really appreciate everything you did for me.</span>\n",
              "</pre>\n"
            ],
            "text/plain": [
              "\u001b[2mTranslation: Thank you so much for your help! I really appreciate everything you did for me.\u001b[0m\n"
            ]
          },
          "metadata": {},
          "output_type": "display_data"
        },
        {
          "data": {
            "text/html": [
              "<pre style=\"white-space:pre;overflow-x:auto;line-height:normal;font-family:Menlo,'DejaVu Sans Mono',consolas,'Courier New',monospace\"><span style=\"color: #7f7f7f; text-decoration-color: #7f7f7f\">Expected emotion: gratitude</span>\n",
              "</pre>\n"
            ],
            "text/plain": [
              "\u001b[2mExpected emotion: gratitude\u001b[0m\n"
            ]
          },
          "metadata": {},
          "output_type": "display_data"
        },
        {
          "data": {
            "text/html": [
              "<pre style=\"white-space:pre;overflow-x:auto;line-height:normal;font-family:Menlo,'DejaVu Sans Mono',consolas,'Courier New',monospace\">\n",
              "<span style=\"color: #008080; text-decoration-color: #008080; font-weight: bold\">[Sample </span><span style=\"color: #008080; text-decoration-color: #008080; font-weight: bold\">4</span><span style=\"color: #008080; text-decoration-color: #008080; font-weight: bold\">]</span>\n",
              "</pre>\n"
            ],
            "text/plain": [
              "\n",
              "\u001b[1;36m[\u001b[0m\u001b[1;36mSample \u001b[0m\u001b[1;36m4\u001b[0m\u001b[1;36m]\u001b[0m\n"
            ]
          },
          "metadata": {},
          "output_type": "display_data"
        },
        {
          "data": {
            "text/html": [
              "<pre style=\"white-space:pre;overflow-x:auto;line-height:normal;font-family:Menlo,'DejaVu Sans Mono',consolas,'Courier New',monospace\"><span style=\"color: #000080; text-decoration-color: #000080\">╭───────────────────────────────────────────────────── </span><span style=\"color: #000080; text-decoration-color: #000080; font-weight: bold\">Text</span><span style=\"color: #000080; text-decoration-color: #000080\"> ──────────────────────────────────────────────────────╮</span>\n",
              "<span style=\"color: #000080; text-decoration-color: #000080\">│</span>                                                                                                                 <span style=\"color: #000080; text-decoration-color: #000080\">│</span>\n",
              "<span style=\"color: #000080; text-decoration-color: #000080\">│</span>  من می‌ترسم که این خوب پیش نرود. حالا باید چه کار کنیم؟                                                          <span style=\"color: #000080; text-decoration-color: #000080\">│</span>\n",
              "<span style=\"color: #000080; text-decoration-color: #000080\">│</span>                                                                                                                 <span style=\"color: #000080; text-decoration-color: #000080\">│</span>\n",
              "<span style=\"color: #000080; text-decoration-color: #000080\">╰─────────────────────────────────────────────────────────────────────────────────────────────────────────────────╯</span>\n",
              "</pre>\n"
            ],
            "text/plain": [
              "\u001b[34m╭─\u001b[0m\u001b[34m────────────────────────────────────────────────────\u001b[0m\u001b[34m \u001b[0m\u001b[1;34mText\u001b[0m\u001b[34m \u001b[0m\u001b[34m─────────────────────────────────────────────────────\u001b[0m\u001b[34m─╮\u001b[0m\n",
              "\u001b[34m│\u001b[0m                                                                                                                 \u001b[34m│\u001b[0m\n",
              "\u001b[34m│\u001b[0m  من می‌ترسم که این خوب پیش نرود. حالا باید چه کار کنیم؟                                                          \u001b[34m│\u001b[0m\n",
              "\u001b[34m│\u001b[0m                                                                                                                 \u001b[34m│\u001b[0m\n",
              "\u001b[34m╰─────────────────────────────────────────────────────────────────────────────────────────────────────────────────╯\u001b[0m\n"
            ]
          },
          "metadata": {},
          "output_type": "display_data"
        },
        {
          "data": {
            "text/html": [
              "<pre style=\"white-space:pre;overflow-x:auto;line-height:normal;font-family:Menlo,'DejaVu Sans Mono',consolas,'Courier New',monospace\"><span style=\"font-weight: bold\">Sentiment:</span> <span style=\"color: #c0c0c0; text-decoration-color: #c0c0c0\">NEUTRAL</span>\n",
              "</pre>\n"
            ],
            "text/plain": [
              "\u001b[1mSentiment:\u001b[0m \u001b[37mNEUTRAL\u001b[0m\n"
            ]
          },
          "metadata": {},
          "output_type": "display_data"
        },
        {
          "data": {
            "text/html": [
              "<pre style=\"white-space:pre;overflow-x:auto;line-height:normal;font-family:Menlo,'DejaVu Sans Mono',consolas,'Courier New',monospace\"><span style=\"font-style: italic\">                                  Emotion Analysis                                   </span>\n",
              "┏━━━━━━━━━━━━━━━━━┳━━━━━━━━━━━━┳━━━━━━━━━━━━━━━━━━━━━━━━━━━━━━━━━━━━━━━━━━━━━━━━━━━━┓\n",
              "┃<span style=\"color: #800080; text-decoration-color: #800080; font-weight: bold\"> Emotion         </span>┃<span style=\"color: #800080; text-decoration-color: #800080; font-weight: bold\">      Score </span>┃<span style=\"color: #800080; text-decoration-color: #800080; font-weight: bold\"> Confidence                                         </span>┃\n",
              "┡━━━━━━━━━━━━━━━━━╇━━━━━━━━━━━━╇━━━━━━━━━━━━━━━━━━━━━━━━━━━━━━━━━━━━━━━━━━━━━━━━━━━━┩\n",
              "│<span style=\"color: #008080; text-decoration-color: #008080\"> neutral         </span>│<span style=\"color: #008000; text-decoration-color: #008000\">      1.000 </span>│ <span style=\"color: #00ff00; text-decoration-color: #00ff00\">███████████████████████████████████████░          </span> │\n",
              "│<span style=\"color: #008080; text-decoration-color: #008080\"> curiosity       </span>│<span style=\"color: #008000; text-decoration-color: #008000\">      0.000 </span>│ <span style=\"color: #7f7f7f; text-decoration-color: #7f7f7f\">░░░░░░░░░░░░░░░░░░░░░░░░░░░░░░░░░░░░░░░░          </span> │\n",
              "│<span style=\"color: #008080; text-decoration-color: #008080\"> sadness         </span>│<span style=\"color: #008000; text-decoration-color: #008000\">      0.000 </span>│ <span style=\"color: #7f7f7f; text-decoration-color: #7f7f7f\">░░░░░░░░░░░░░░░░░░░░░░░░░░░░░░░░░░░░░░░░          </span> │\n",
              "└─────────────────┴────────────┴────────────────────────────────────────────────────┘\n",
              "</pre>\n"
            ],
            "text/plain": [
              "\u001b[3m                                  Emotion Analysis                                   \u001b[0m\n",
              "┏━━━━━━━━━━━━━━━━━┳━━━━━━━━━━━━┳━━━━━━━━━━━━━━━━━━━━━━━━━━━━━━━━━━━━━━━━━━━━━━━━━━━━┓\n",
              "┃\u001b[1;35m \u001b[0m\u001b[1;35mEmotion        \u001b[0m\u001b[1;35m \u001b[0m┃\u001b[1;35m \u001b[0m\u001b[1;35m     Score\u001b[0m\u001b[1;35m \u001b[0m┃\u001b[1;35m \u001b[0m\u001b[1;35mConfidence                                        \u001b[0m\u001b[1;35m \u001b[0m┃\n",
              "┡━━━━━━━━━━━━━━━━━╇━━━━━━━━━━━━╇━━━━━━━━━━━━━━━━━━━━━━━━━━━━━━━━━━━━━━━━━━━━━━━━━━━━┩\n",
              "│\u001b[36m \u001b[0m\u001b[36mneutral        \u001b[0m\u001b[36m \u001b[0m│\u001b[32m \u001b[0m\u001b[32m     1.000\u001b[0m\u001b[32m \u001b[0m│ \u001b[92m███████████████████████████████████████░          \u001b[0m │\n",
              "│\u001b[36m \u001b[0m\u001b[36mcuriosity      \u001b[0m\u001b[36m \u001b[0m│\u001b[32m \u001b[0m\u001b[32m     0.000\u001b[0m\u001b[32m \u001b[0m│ \u001b[2m░░░░░░░░░░░░░░░░░░░░░░░░░░░░░░░░░░░░░░░░          \u001b[0m │\n",
              "│\u001b[36m \u001b[0m\u001b[36msadness        \u001b[0m\u001b[36m \u001b[0m│\u001b[32m \u001b[0m\u001b[32m     0.000\u001b[0m\u001b[32m \u001b[0m│ \u001b[2m░░░░░░░░░░░░░░░░░░░░░░░░░░░░░░░░░░░░░░░░          \u001b[0m │\n",
              "└─────────────────┴────────────┴────────────────────────────────────────────────────┘\n"
            ]
          },
          "metadata": {},
          "output_type": "display_data"
        },
        {
          "data": {
            "text/html": [
              "<pre style=\"white-space:pre;overflow-x:auto;line-height:normal;font-family:Menlo,'DejaVu Sans Mono',consolas,'Courier New',monospace\"><span style=\"color: #7f7f7f; text-decoration-color: #7f7f7f\">Translation: I'm afraid this won't go well. What should we do now?</span>\n",
              "</pre>\n"
            ],
            "text/plain": [
              "\u001b[2mTranslation: I'm afraid this won't go well. What should we do now?\u001b[0m\n"
            ]
          },
          "metadata": {},
          "output_type": "display_data"
        },
        {
          "data": {
            "text/html": [
              "<pre style=\"white-space:pre;overflow-x:auto;line-height:normal;font-family:Menlo,'DejaVu Sans Mono',consolas,'Courier New',monospace\"><span style=\"color: #7f7f7f; text-decoration-color: #7f7f7f\">Expected emotion: fear</span>\n",
              "</pre>\n"
            ],
            "text/plain": [
              "\u001b[2mExpected emotion: fear\u001b[0m\n"
            ]
          },
          "metadata": {},
          "output_type": "display_data"
        },
        {
          "data": {
            "text/html": [
              "<pre style=\"white-space:pre;overflow-x:auto;line-height:normal;font-family:Menlo,'DejaVu Sans Mono',consolas,'Courier New',monospace\">\n",
              "<span style=\"color: #008080; text-decoration-color: #008080; font-weight: bold\">[Sample </span><span style=\"color: #008080; text-decoration-color: #008080; font-weight: bold\">5</span><span style=\"color: #008080; text-decoration-color: #008080; font-weight: bold\">]</span>\n",
              "</pre>\n"
            ],
            "text/plain": [
              "\n",
              "\u001b[1;36m[\u001b[0m\u001b[1;36mSample \u001b[0m\u001b[1;36m5\u001b[0m\u001b[1;36m]\u001b[0m\n"
            ]
          },
          "metadata": {},
          "output_type": "display_data"
        },
        {
          "data": {
            "text/html": [
              "<pre style=\"white-space:pre;overflow-x:auto;line-height:normal;font-family:Menlo,'DejaVu Sans Mono',consolas,'Courier New',monospace\"><span style=\"color: #000080; text-decoration-color: #000080\">╭───────────────────────────────────────────────────── </span><span style=\"color: #000080; text-decoration-color: #000080; font-weight: bold\">Text</span><span style=\"color: #000080; text-decoration-color: #000080\"> ──────────────────────────────────────────────────────╮</span>\n",
              "<span style=\"color: #000080; text-decoration-color: #000080\">│</span>                                                                                                                 <span style=\"color: #000080; text-decoration-color: #000080\">│</span>\n",
              "<span style=\"color: #000080; text-decoration-color: #000080\">│</span>  این خیلی خنده‌دار است! نمی‌تونم جلوی خنده‌ام رو بگیرم!                                                            <span style=\"color: #000080; text-decoration-color: #000080\">│</span>\n",
              "<span style=\"color: #000080; text-decoration-color: #000080\">│</span>                                                                                                                 <span style=\"color: #000080; text-decoration-color: #000080\">│</span>\n",
              "<span style=\"color: #000080; text-decoration-color: #000080\">╰─────────────────────────────────────────────────────────────────────────────────────────────────────────────────╯</span>\n",
              "</pre>\n"
            ],
            "text/plain": [
              "\u001b[34m╭─\u001b[0m\u001b[34m────────────────────────────────────────────────────\u001b[0m\u001b[34m \u001b[0m\u001b[1;34mText\u001b[0m\u001b[34m \u001b[0m\u001b[34m─────────────────────────────────────────────────────\u001b[0m\u001b[34m─╮\u001b[0m\n",
              "\u001b[34m│\u001b[0m                                                                                                                 \u001b[34m│\u001b[0m\n",
              "\u001b[34m│\u001b[0m  این خیلی خنده‌دار است! نمی‌تونم جلوی خنده‌ام رو بگیرم!                                                            \u001b[34m│\u001b[0m\n",
              "\u001b[34m│\u001b[0m                                                                                                                 \u001b[34m│\u001b[0m\n",
              "\u001b[34m╰─────────────────────────────────────────────────────────────────────────────────────────────────────────────────╯\u001b[0m\n"
            ]
          },
          "metadata": {},
          "output_type": "display_data"
        },
        {
          "data": {
            "text/html": [
              "<pre style=\"white-space:pre;overflow-x:auto;line-height:normal;font-family:Menlo,'DejaVu Sans Mono',consolas,'Courier New',monospace\"><span style=\"font-weight: bold\">Sentiment:</span> <span style=\"color: #c0c0c0; text-decoration-color: #c0c0c0\">NEUTRAL</span>\n",
              "</pre>\n"
            ],
            "text/plain": [
              "\u001b[1mSentiment:\u001b[0m \u001b[37mNEUTRAL\u001b[0m\n"
            ]
          },
          "metadata": {},
          "output_type": "display_data"
        },
        {
          "data": {
            "text/html": [
              "<pre style=\"white-space:pre;overflow-x:auto;line-height:normal;font-family:Menlo,'DejaVu Sans Mono',consolas,'Courier New',monospace\"><span style=\"font-style: italic\">                                  Emotion Analysis                                   </span>\n",
              "┏━━━━━━━━━━━━━━━━━┳━━━━━━━━━━━━┳━━━━━━━━━━━━━━━━━━━━━━━━━━━━━━━━━━━━━━━━━━━━━━━━━━━━┓\n",
              "┃<span style=\"color: #800080; text-decoration-color: #800080; font-weight: bold\"> Emotion         </span>┃<span style=\"color: #800080; text-decoration-color: #800080; font-weight: bold\">      Score </span>┃<span style=\"color: #800080; text-decoration-color: #800080; font-weight: bold\"> Confidence                                         </span>┃\n",
              "┡━━━━━━━━━━━━━━━━━╇━━━━━━━━━━━━╇━━━━━━━━━━━━━━━━━━━━━━━━━━━━━━━━━━━━━━━━━━━━━━━━━━━━┩\n",
              "│<span style=\"color: #008080; text-decoration-color: #008080\"> neutral         </span>│<span style=\"color: #008000; text-decoration-color: #008000\">      1.000 </span>│ <span style=\"color: #00ff00; text-decoration-color: #00ff00\">███████████████████████████████████████░          </span> │\n",
              "│<span style=\"color: #008080; text-decoration-color: #008080\"> remorse         </span>│<span style=\"color: #008000; text-decoration-color: #008000\">      0.000 </span>│ <span style=\"color: #7f7f7f; text-decoration-color: #7f7f7f\">░░░░░░░░░░░░░░░░░░░░░░░░░░░░░░░░░░░░░░░░          </span> │\n",
              "│<span style=\"color: #008080; text-decoration-color: #008080\"> realization     </span>│<span style=\"color: #008000; text-decoration-color: #008000\">      0.000 </span>│ <span style=\"color: #7f7f7f; text-decoration-color: #7f7f7f\">░░░░░░░░░░░░░░░░░░░░░░░░░░░░░░░░░░░░░░░░          </span> │\n",
              "└─────────────────┴────────────┴────────────────────────────────────────────────────┘\n",
              "</pre>\n"
            ],
            "text/plain": [
              "\u001b[3m                                  Emotion Analysis                                   \u001b[0m\n",
              "┏━━━━━━━━━━━━━━━━━┳━━━━━━━━━━━━┳━━━━━━━━━━━━━━━━━━━━━━━━━━━━━━━━━━━━━━━━━━━━━━━━━━━━┓\n",
              "┃\u001b[1;35m \u001b[0m\u001b[1;35mEmotion        \u001b[0m\u001b[1;35m \u001b[0m┃\u001b[1;35m \u001b[0m\u001b[1;35m     Score\u001b[0m\u001b[1;35m \u001b[0m┃\u001b[1;35m \u001b[0m\u001b[1;35mConfidence                                        \u001b[0m\u001b[1;35m \u001b[0m┃\n",
              "┡━━━━━━━━━━━━━━━━━╇━━━━━━━━━━━━╇━━━━━━━━━━━━━━━━━━━━━━━━━━━━━━━━━━━━━━━━━━━━━━━━━━━━┩\n",
              "│\u001b[36m \u001b[0m\u001b[36mneutral        \u001b[0m\u001b[36m \u001b[0m│\u001b[32m \u001b[0m\u001b[32m     1.000\u001b[0m\u001b[32m \u001b[0m│ \u001b[92m███████████████████████████████████████░          \u001b[0m │\n",
              "│\u001b[36m \u001b[0m\u001b[36mremorse        \u001b[0m\u001b[36m \u001b[0m│\u001b[32m \u001b[0m\u001b[32m     0.000\u001b[0m\u001b[32m \u001b[0m│ \u001b[2m░░░░░░░░░░░░░░░░░░░░░░░░░░░░░░░░░░░░░░░░          \u001b[0m │\n",
              "│\u001b[36m \u001b[0m\u001b[36mrealization    \u001b[0m\u001b[36m \u001b[0m│\u001b[32m \u001b[0m\u001b[32m     0.000\u001b[0m\u001b[32m \u001b[0m│ \u001b[2m░░░░░░░░░░░░░░░░░░░░░░░░░░░░░░░░░░░░░░░░          \u001b[0m │\n",
              "└─────────────────┴────────────┴────────────────────────────────────────────────────┘\n"
            ]
          },
          "metadata": {},
          "output_type": "display_data"
        },
        {
          "data": {
            "text/html": [
              "<pre style=\"white-space:pre;overflow-x:auto;line-height:normal;font-family:Menlo,'DejaVu Sans Mono',consolas,'Courier New',monospace\"><span style=\"color: #7f7f7f; text-decoration-color: #7f7f7f\">Translation: This is so funny! I can't stop laughing!</span>\n",
              "</pre>\n"
            ],
            "text/plain": [
              "\u001b[2mTranslation: This is so funny! I can't stop laughing!\u001b[0m\n"
            ]
          },
          "metadata": {},
          "output_type": "display_data"
        },
        {
          "data": {
            "text/html": [
              "<pre style=\"white-space:pre;overflow-x:auto;line-height:normal;font-family:Menlo,'DejaVu Sans Mono',consolas,'Courier New',monospace\"><span style=\"color: #7f7f7f; text-decoration-color: #7f7f7f\">Expected emotion: amusement</span>\n",
              "</pre>\n"
            ],
            "text/plain": [
              "\u001b[2mExpected emotion: amusement\u001b[0m\n"
            ]
          },
          "metadata": {},
          "output_type": "display_data"
        },
        {
          "data": {
            "text/html": [
              "<pre style=\"white-space:pre;overflow-x:auto;line-height:normal;font-family:Menlo,'DejaVu Sans Mono',consolas,'Courier New',monospace\">\n",
              "<span style=\"color: #008080; text-decoration-color: #008080; font-weight: bold\">[Sample </span><span style=\"color: #008080; text-decoration-color: #008080; font-weight: bold\">6</span><span style=\"color: #008080; text-decoration-color: #008080; font-weight: bold\">]</span>\n",
              "</pre>\n"
            ],
            "text/plain": [
              "\n",
              "\u001b[1;36m[\u001b[0m\u001b[1;36mSample \u001b[0m\u001b[1;36m6\u001b[0m\u001b[1;36m]\u001b[0m\n"
            ]
          },
          "metadata": {},
          "output_type": "display_data"
        },
        {
          "data": {
            "text/html": [
              "<pre style=\"white-space:pre;overflow-x:auto;line-height:normal;font-family:Menlo,'DejaVu Sans Mono',consolas,'Courier New',monospace\"><span style=\"color: #000080; text-decoration-color: #000080\">╭───────────────────────────────────────────────────── </span><span style=\"color: #000080; text-decoration-color: #000080; font-weight: bold\">Text</span><span style=\"color: #000080; text-decoration-color: #000080\"> ──────────────────────────────────────────────────────╮</span>\n",
              "<span style=\"color: #000080; text-decoration-color: #000080\">│</span>                                                                                                                 <span style=\"color: #000080; text-decoration-color: #000080\">│</span>\n",
              "<span style=\"color: #000080; text-decoration-color: #000080\">│</span>  متأسفم بابت اتفاقی که افتاد. این تقصیر من بود.                                                                 <span style=\"color: #000080; text-decoration-color: #000080\">│</span>\n",
              "<span style=\"color: #000080; text-decoration-color: #000080\">│</span>                                                                                                                 <span style=\"color: #000080; text-decoration-color: #000080\">│</span>\n",
              "<span style=\"color: #000080; text-decoration-color: #000080\">╰─────────────────────────────────────────────────────────────────────────────────────────────────────────────────╯</span>\n",
              "</pre>\n"
            ],
            "text/plain": [
              "\u001b[34m╭─\u001b[0m\u001b[34m────────────────────────────────────────────────────\u001b[0m\u001b[34m \u001b[0m\u001b[1;34mText\u001b[0m\u001b[34m \u001b[0m\u001b[34m─────────────────────────────────────────────────────\u001b[0m\u001b[34m─╮\u001b[0m\n",
              "\u001b[34m│\u001b[0m                                                                                                                 \u001b[34m│\u001b[0m\n",
              "\u001b[34m│\u001b[0m  متأسفم بابت اتفاقی که افتاد. این تقصیر من بود.                                                                 \u001b[34m│\u001b[0m\n",
              "\u001b[34m│\u001b[0m                                                                                                                 \u001b[34m│\u001b[0m\n",
              "\u001b[34m╰─────────────────────────────────────────────────────────────────────────────────────────────────────────────────╯\u001b[0m\n"
            ]
          },
          "metadata": {},
          "output_type": "display_data"
        },
        {
          "data": {
            "text/html": [
              "<pre style=\"white-space:pre;overflow-x:auto;line-height:normal;font-family:Menlo,'DejaVu Sans Mono',consolas,'Courier New',monospace\"><span style=\"font-weight: bold\">Sentiment:</span> <span style=\"color: #c0c0c0; text-decoration-color: #c0c0c0\">NEUTRAL</span>\n",
              "</pre>\n"
            ],
            "text/plain": [
              "\u001b[1mSentiment:\u001b[0m \u001b[37mNEUTRAL\u001b[0m\n"
            ]
          },
          "metadata": {},
          "output_type": "display_data"
        },
        {
          "data": {
            "text/html": [
              "<pre style=\"white-space:pre;overflow-x:auto;line-height:normal;font-family:Menlo,'DejaVu Sans Mono',consolas,'Courier New',monospace\"><span style=\"font-style: italic\">                                  Emotion Analysis                                   </span>\n",
              "┏━━━━━━━━━━━━━━━━━┳━━━━━━━━━━━━┳━━━━━━━━━━━━━━━━━━━━━━━━━━━━━━━━━━━━━━━━━━━━━━━━━━━━┓\n",
              "┃<span style=\"color: #800080; text-decoration-color: #800080; font-weight: bold\"> Emotion         </span>┃<span style=\"color: #800080; text-decoration-color: #800080; font-weight: bold\">      Score </span>┃<span style=\"color: #800080; text-decoration-color: #800080; font-weight: bold\"> Confidence                                         </span>┃\n",
              "┡━━━━━━━━━━━━━━━━━╇━━━━━━━━━━━━╇━━━━━━━━━━━━━━━━━━━━━━━━━━━━━━━━━━━━━━━━━━━━━━━━━━━━┩\n",
              "│<span style=\"color: #008080; text-decoration-color: #008080\"> neutral         </span>│<span style=\"color: #008000; text-decoration-color: #008000\">      1.000 </span>│ <span style=\"color: #00ff00; text-decoration-color: #00ff00\">███████████████████████████████████████░          </span> │\n",
              "│<span style=\"color: #008080; text-decoration-color: #008080\"> curiosity       </span>│<span style=\"color: #008000; text-decoration-color: #008000\">      0.000 </span>│ <span style=\"color: #7f7f7f; text-decoration-color: #7f7f7f\">░░░░░░░░░░░░░░░░░░░░░░░░░░░░░░░░░░░░░░░░          </span> │\n",
              "│<span style=\"color: #008080; text-decoration-color: #008080\"> realization     </span>│<span style=\"color: #008000; text-decoration-color: #008000\">      0.000 </span>│ <span style=\"color: #7f7f7f; text-decoration-color: #7f7f7f\">░░░░░░░░░░░░░░░░░░░░░░░░░░░░░░░░░░░░░░░░          </span> │\n",
              "└─────────────────┴────────────┴────────────────────────────────────────────────────┘\n",
              "</pre>\n"
            ],
            "text/plain": [
              "\u001b[3m                                  Emotion Analysis                                   \u001b[0m\n",
              "┏━━━━━━━━━━━━━━━━━┳━━━━━━━━━━━━┳━━━━━━━━━━━━━━━━━━━━━━━━━━━━━━━━━━━━━━━━━━━━━━━━━━━━┓\n",
              "┃\u001b[1;35m \u001b[0m\u001b[1;35mEmotion        \u001b[0m\u001b[1;35m \u001b[0m┃\u001b[1;35m \u001b[0m\u001b[1;35m     Score\u001b[0m\u001b[1;35m \u001b[0m┃\u001b[1;35m \u001b[0m\u001b[1;35mConfidence                                        \u001b[0m\u001b[1;35m \u001b[0m┃\n",
              "┡━━━━━━━━━━━━━━━━━╇━━━━━━━━━━━━╇━━━━━━━━━━━━━━━━━━━━━━━━━━━━━━━━━━━━━━━━━━━━━━━━━━━━┩\n",
              "│\u001b[36m \u001b[0m\u001b[36mneutral        \u001b[0m\u001b[36m \u001b[0m│\u001b[32m \u001b[0m\u001b[32m     1.000\u001b[0m\u001b[32m \u001b[0m│ \u001b[92m███████████████████████████████████████░          \u001b[0m │\n",
              "│\u001b[36m \u001b[0m\u001b[36mcuriosity      \u001b[0m\u001b[36m \u001b[0m│\u001b[32m \u001b[0m\u001b[32m     0.000\u001b[0m\u001b[32m \u001b[0m│ \u001b[2m░░░░░░░░░░░░░░░░░░░░░░░░░░░░░░░░░░░░░░░░          \u001b[0m │\n",
              "│\u001b[36m \u001b[0m\u001b[36mrealization    \u001b[0m\u001b[36m \u001b[0m│\u001b[32m \u001b[0m\u001b[32m     0.000\u001b[0m\u001b[32m \u001b[0m│ \u001b[2m░░░░░░░░░░░░░░░░░░░░░░░░░░░░░░░░░░░░░░░░          \u001b[0m │\n",
              "└─────────────────┴────────────┴────────────────────────────────────────────────────┘\n"
            ]
          },
          "metadata": {},
          "output_type": "display_data"
        },
        {
          "data": {
            "text/html": [
              "<pre style=\"white-space:pre;overflow-x:auto;line-height:normal;font-family:Menlo,'DejaVu Sans Mono',consolas,'Courier New',monospace\"><span style=\"color: #7f7f7f; text-decoration-color: #7f7f7f\">Translation: I'm sorry about what happened. It was my fault.</span>\n",
              "</pre>\n"
            ],
            "text/plain": [
              "\u001b[2mTranslation: I'm sorry about what happened. It was my fault.\u001b[0m\n"
            ]
          },
          "metadata": {},
          "output_type": "display_data"
        },
        {
          "data": {
            "text/html": [
              "<pre style=\"white-space:pre;overflow-x:auto;line-height:normal;font-family:Menlo,'DejaVu Sans Mono',consolas,'Courier New',monospace\"><span style=\"color: #7f7f7f; text-decoration-color: #7f7f7f\">Expected emotion: remorse</span>\n",
              "</pre>\n"
            ],
            "text/plain": [
              "\u001b[2mExpected emotion: remorse\u001b[0m\n"
            ]
          },
          "metadata": {},
          "output_type": "display_data"
        }
      ],
      "source": [
        "# Process Persian samples\n",
        "persian_samples = get_samples_by_language(\"persian\")\n",
        "\n",
        "print_header(\"PERSIAN SAMPLES\", f\"Analyzing {len(persian_samples)} Persian texts\")\n",
        "\n",
        "for idx, sample in enumerate(persian_samples, 1):\n",
        "    console.print(f\"\\n[bold cyan][Sample {idx}][/bold cyan]\")\n",
        "    result = classifier.analyze(sample[\"text\"], top_k=3)\n",
        "    format_emotion_output(result, use_rich=True)\n",
        "    console.print(f\"[dim]Translation: {sample['translation']}[/dim]\")\n",
        "    console.print(f\"[dim]Expected emotion: {sample['expected_emotion']}[/dim]\")\n"
      ]
    },
    {
      "cell_type": "markdown",
      "metadata": {},
      "source": [
        "## 9. Interactive: Classify Your Own Text\n",
        "\n",
        "Try classifying your own text in any language!\n"
      ]
    },
    {
      "cell_type": "code",
      "execution_count": 9,
      "metadata": {},
      "outputs": [
        {
          "data": {
            "text/html": [
              "<pre style=\"white-space:pre;overflow-x:auto;line-height:normal;font-family:Menlo,'DejaVu Sans Mono',consolas,'Courier New',monospace\"><span style=\"color: #000080; text-decoration-color: #000080\">╭───────────────────────────────────────────────────── </span><span style=\"color: #000080; text-decoration-color: #000080; font-weight: bold\">Text</span><span style=\"color: #000080; text-decoration-color: #000080\"> ──────────────────────────────────────────────────────╮</span>\n",
              "<span style=\"color: #000080; text-decoration-color: #000080\">│</span>                                                                                                                 <span style=\"color: #000080; text-decoration-color: #000080\">│</span>\n",
              "<span style=\"color: #000080; text-decoration-color: #000080\">│</span>  I can't believe this happened! What a surprise!                                                                <span style=\"color: #000080; text-decoration-color: #000080\">│</span>\n",
              "<span style=\"color: #000080; text-decoration-color: #000080\">│</span>                                                                                                                 <span style=\"color: #000080; text-decoration-color: #000080\">│</span>\n",
              "<span style=\"color: #000080; text-decoration-color: #000080\">╰─────────────────────────────────────────────────────────────────────────────────────────────────────────────────╯</span>\n",
              "</pre>\n"
            ],
            "text/plain": [
              "\u001b[34m╭─\u001b[0m\u001b[34m────────────────────────────────────────────────────\u001b[0m\u001b[34m \u001b[0m\u001b[1;34mText\u001b[0m\u001b[34m \u001b[0m\u001b[34m─────────────────────────────────────────────────────\u001b[0m\u001b[34m─╮\u001b[0m\n",
              "\u001b[34m│\u001b[0m                                                                                                                 \u001b[34m│\u001b[0m\n",
              "\u001b[34m│\u001b[0m  I can't believe this happened! What a surprise!                                                                \u001b[34m│\u001b[0m\n",
              "\u001b[34m│\u001b[0m                                                                                                                 \u001b[34m│\u001b[0m\n",
              "\u001b[34m╰─────────────────────────────────────────────────────────────────────────────────────────────────────────────────╯\u001b[0m\n"
            ]
          },
          "metadata": {},
          "output_type": "display_data"
        },
        {
          "data": {
            "text/html": [
              "<pre style=\"white-space:pre;overflow-x:auto;line-height:normal;font-family:Menlo,'DejaVu Sans Mono',consolas,'Courier New',monospace\"><span style=\"font-weight: bold\">Sentiment:</span> <span style=\"color: #808000; text-decoration-color: #808000\">AMBIGUOUS</span>\n",
              "</pre>\n"
            ],
            "text/plain": [
              "\u001b[1mSentiment:\u001b[0m \u001b[33mAMBIGUOUS\u001b[0m\n"
            ]
          },
          "metadata": {},
          "output_type": "display_data"
        },
        {
          "data": {
            "text/html": [
              "<pre style=\"white-space:pre;overflow-x:auto;line-height:normal;font-family:Menlo,'DejaVu Sans Mono',consolas,'Courier New',monospace\"><span style=\"font-style: italic\">                                  Emotion Analysis                                   </span>\n",
              "┏━━━━━━━━━━━━━━━━━┳━━━━━━━━━━━━┳━━━━━━━━━━━━━━━━━━━━━━━━━━━━━━━━━━━━━━━━━━━━━━━━━━━━┓\n",
              "┃<span style=\"color: #800080; text-decoration-color: #800080; font-weight: bold\"> Emotion         </span>┃<span style=\"color: #800080; text-decoration-color: #800080; font-weight: bold\">      Score </span>┃<span style=\"color: #800080; text-decoration-color: #800080; font-weight: bold\"> Confidence                                         </span>┃\n",
              "┡━━━━━━━━━━━━━━━━━╇━━━━━━━━━━━━╇━━━━━━━━━━━━━━━━━━━━━━━━━━━━━━━━━━━━━━━━━━━━━━━━━━━━┩\n",
              "│<span style=\"color: #008080; text-decoration-color: #008080\"> surprise        </span>│<span style=\"color: #008000; text-decoration-color: #008000\">      1.000 </span>│ <span style=\"color: #00ff00; text-decoration-color: #00ff00\">███████████████████████████████████████░          </span> │\n",
              "│<span style=\"color: #008080; text-decoration-color: #008080\"> excitement      </span>│<span style=\"color: #008000; text-decoration-color: #008000\">      0.000 </span>│ <span style=\"color: #7f7f7f; text-decoration-color: #7f7f7f\">░░░░░░░░░░░░░░░░░░░░░░░░░░░░░░░░░░░░░░░░          </span> │\n",
              "│<span style=\"color: #008080; text-decoration-color: #008080\"> neutral         </span>│<span style=\"color: #008000; text-decoration-color: #008000\">      0.000 </span>│ <span style=\"color: #7f7f7f; text-decoration-color: #7f7f7f\">░░░░░░░░░░░░░░░░░░░░░░░░░░░░░░░░░░░░░░░░          </span> │\n",
              "│<span style=\"color: #008080; text-decoration-color: #008080\"> anger           </span>│<span style=\"color: #008000; text-decoration-color: #008000\">      0.000 </span>│ <span style=\"color: #7f7f7f; text-decoration-color: #7f7f7f\">░░░░░░░░░░░░░░░░░░░░░░░░░░░░░░░░░░░░░░░░          </span> │\n",
              "│<span style=\"color: #008080; text-decoration-color: #008080\"> realization     </span>│<span style=\"color: #008000; text-decoration-color: #008000\">      0.000 </span>│ <span style=\"color: #7f7f7f; text-decoration-color: #7f7f7f\">░░░░░░░░░░░░░░░░░░░░░░░░░░░░░░░░░░░░░░░░          </span> │\n",
              "└─────────────────┴────────────┴────────────────────────────────────────────────────┘\n",
              "</pre>\n"
            ],
            "text/plain": [
              "\u001b[3m                                  Emotion Analysis                                   \u001b[0m\n",
              "┏━━━━━━━━━━━━━━━━━┳━━━━━━━━━━━━┳━━━━━━━━━━━━━━━━━━━━━━━━━━━━━━━━━━━━━━━━━━━━━━━━━━━━┓\n",
              "┃\u001b[1;35m \u001b[0m\u001b[1;35mEmotion        \u001b[0m\u001b[1;35m \u001b[0m┃\u001b[1;35m \u001b[0m\u001b[1;35m     Score\u001b[0m\u001b[1;35m \u001b[0m┃\u001b[1;35m \u001b[0m\u001b[1;35mConfidence                                        \u001b[0m\u001b[1;35m \u001b[0m┃\n",
              "┡━━━━━━━━━━━━━━━━━╇━━━━━━━━━━━━╇━━━━━━━━━━━━━━━━━━━━━━━━━━━━━━━━━━━━━━━━━━━━━━━━━━━━┩\n",
              "│\u001b[36m \u001b[0m\u001b[36msurprise       \u001b[0m\u001b[36m \u001b[0m│\u001b[32m \u001b[0m\u001b[32m     1.000\u001b[0m\u001b[32m \u001b[0m│ \u001b[92m███████████████████████████████████████░          \u001b[0m │\n",
              "│\u001b[36m \u001b[0m\u001b[36mexcitement     \u001b[0m\u001b[36m \u001b[0m│\u001b[32m \u001b[0m\u001b[32m     0.000\u001b[0m\u001b[32m \u001b[0m│ \u001b[2m░░░░░░░░░░░░░░░░░░░░░░░░░░░░░░░░░░░░░░░░          \u001b[0m │\n",
              "│\u001b[36m \u001b[0m\u001b[36mneutral        \u001b[0m\u001b[36m \u001b[0m│\u001b[32m \u001b[0m\u001b[32m     0.000\u001b[0m\u001b[32m \u001b[0m│ \u001b[2m░░░░░░░░░░░░░░░░░░░░░░░░░░░░░░░░░░░░░░░░          \u001b[0m │\n",
              "│\u001b[36m \u001b[0m\u001b[36manger          \u001b[0m\u001b[36m \u001b[0m│\u001b[32m \u001b[0m\u001b[32m     0.000\u001b[0m\u001b[32m \u001b[0m│ \u001b[2m░░░░░░░░░░░░░░░░░░░░░░░░░░░░░░░░░░░░░░░░          \u001b[0m │\n",
              "│\u001b[36m \u001b[0m\u001b[36mrealization    \u001b[0m\u001b[36m \u001b[0m│\u001b[32m \u001b[0m\u001b[32m     0.000\u001b[0m\u001b[32m \u001b[0m│ \u001b[2m░░░░░░░░░░░░░░░░░░░░░░░░░░░░░░░░░░░░░░░░          \u001b[0m │\n",
              "└─────────────────┴────────────┴────────────────────────────────────────────────────┘\n"
            ]
          },
          "metadata": {},
          "output_type": "display_data"
        },
        {
          "data": {
            "text/plain": [
              "''"
            ]
          },
          "execution_count": 9,
          "metadata": {},
          "output_type": "execute_result"
        }
      ],
      "source": [
        "# Enter your own text here\n",
        "custom_text = \"I can't believe this happened! What a surprise!\"\n",
        "\n",
        "# Classify with top 5 emotions\n",
        "result = classifier.analyze(custom_text, top_k=5)\n",
        "format_emotion_output(result, use_rich=True)\n"
      ]
    },
    {
      "cell_type": "markdown",
      "metadata": {},
      "source": [
        "## 10. Batch Classification\n",
        "\n",
        "Classify multiple texts at once.\n"
      ]
    },
    {
      "cell_type": "code",
      "execution_count": 10,
      "metadata": {},
      "outputs": [
        {
          "data": {
            "text/html": [
              "<pre style=\"white-space:pre;overflow-x:auto;line-height:normal;font-family:Menlo,'DejaVu Sans Mono',consolas,'Courier New',monospace\"><span style=\"color: #008080; text-decoration-color: #008080\">╭─────────────────────────────────────────────────────────────────────────────────────────────────────────────────╮</span>\n",
              "<span style=\"color: #008080; text-decoration-color: #008080\">│</span> <span style=\"color: #008080; text-decoration-color: #008080; font-weight: bold\">Batch Classification Results</span>                                                                                    <span style=\"color: #008080; text-decoration-color: #008080\">│</span>\n",
              "<span style=\"color: #008080; text-decoration-color: #008080\">│</span> <span style=\"color: #7f7f7f; text-decoration-color: #7f7f7f\">Analyzing 4 texts</span>                                                                                               <span style=\"color: #008080; text-decoration-color: #008080\">│</span>\n",
              "<span style=\"color: #008080; text-decoration-color: #008080\">╰─────────────────────────────────────────────────────────────────────────────────────────────────────────────────╯</span>\n",
              "</pre>\n"
            ],
            "text/plain": [
              "\u001b[36m╭─────────────────────────────────────────────────────────────────────────────────────────────────────────────────╮\u001b[0m\n",
              "\u001b[36m│\u001b[0m \u001b[1;36mBatch Classification Results\u001b[0m                                                                                    \u001b[36m│\u001b[0m\n",
              "\u001b[36m│\u001b[0m \u001b[2mAnalyzing 4 texts\u001b[0m                                                                                               \u001b[36m│\u001b[0m\n",
              "\u001b[36m╰─────────────────────────────────────────────────────────────────────────────────────────────────────────────────╯\u001b[0m\n"
            ]
          },
          "metadata": {},
          "output_type": "display_data"
        },
        {
          "data": {
            "text/html": [
              "<pre style=\"white-space:pre;overflow-x:auto;line-height:normal;font-family:Menlo,'DejaVu Sans Mono',consolas,'Courier New',monospace\">\n",
              "<span style=\"color: #008080; text-decoration-color: #008080; font-weight: bold\">[Text </span><span style=\"color: #008080; text-decoration-color: #008080; font-weight: bold\">1</span><span style=\"color: #008080; text-decoration-color: #008080; font-weight: bold\">]</span>\n",
              "</pre>\n"
            ],
            "text/plain": [
              "\n",
              "\u001b[1;36m[\u001b[0m\u001b[1;36mText \u001b[0m\u001b[1;36m1\u001b[0m\u001b[1;36m]\u001b[0m\n"
            ]
          },
          "metadata": {},
          "output_type": "display_data"
        },
        {
          "data": {
            "text/html": [
              "<pre style=\"white-space:pre;overflow-x:auto;line-height:normal;font-family:Menlo,'DejaVu Sans Mono',consolas,'Courier New',monospace\"><span style=\"color: #000080; text-decoration-color: #000080\">╭───────────────────────────────────────────────────── </span><span style=\"color: #000080; text-decoration-color: #000080; font-weight: bold\">Text</span><span style=\"color: #000080; text-decoration-color: #000080\"> ──────────────────────────────────────────────────────╮</span>\n",
              "<span style=\"color: #000080; text-decoration-color: #000080\">│</span>                                                                                                                 <span style=\"color: #000080; text-decoration-color: #000080\">│</span>\n",
              "<span style=\"color: #000080; text-decoration-color: #000080\">│</span>  Thank you so much for your help!                                                                               <span style=\"color: #000080; text-decoration-color: #000080\">│</span>\n",
              "<span style=\"color: #000080; text-decoration-color: #000080\">│</span>                                                                                                                 <span style=\"color: #000080; text-decoration-color: #000080\">│</span>\n",
              "<span style=\"color: #000080; text-decoration-color: #000080\">╰─────────────────────────────────────────────────────────────────────────────────────────────────────────────────╯</span>\n",
              "</pre>\n"
            ],
            "text/plain": [
              "\u001b[34m╭─\u001b[0m\u001b[34m────────────────────────────────────────────────────\u001b[0m\u001b[34m \u001b[0m\u001b[1;34mText\u001b[0m\u001b[34m \u001b[0m\u001b[34m─────────────────────────────────────────────────────\u001b[0m\u001b[34m─╮\u001b[0m\n",
              "\u001b[34m│\u001b[0m                                                                                                                 \u001b[34m│\u001b[0m\n",
              "\u001b[34m│\u001b[0m  Thank you so much for your help!                                                                               \u001b[34m│\u001b[0m\n",
              "\u001b[34m│\u001b[0m                                                                                                                 \u001b[34m│\u001b[0m\n",
              "\u001b[34m╰─────────────────────────────────────────────────────────────────────────────────────────────────────────────────╯\u001b[0m\n"
            ]
          },
          "metadata": {},
          "output_type": "display_data"
        },
        {
          "data": {
            "text/html": [
              "<pre style=\"white-space:pre;overflow-x:auto;line-height:normal;font-family:Menlo,'DejaVu Sans Mono',consolas,'Courier New',monospace\"><span style=\"font-weight: bold\">Sentiment:</span> <span style=\"color: #008000; text-decoration-color: #008000\">POSITIVE</span>\n",
              "</pre>\n"
            ],
            "text/plain": [
              "\u001b[1mSentiment:\u001b[0m \u001b[32mPOSITIVE\u001b[0m\n"
            ]
          },
          "metadata": {},
          "output_type": "display_data"
        },
        {
          "data": {
            "text/html": [
              "<pre style=\"white-space:pre;overflow-x:auto;line-height:normal;font-family:Menlo,'DejaVu Sans Mono',consolas,'Courier New',monospace\"><span style=\"font-style: italic\">                                  Emotion Analysis                                   </span>\n",
              "┏━━━━━━━━━━━━━━━━━┳━━━━━━━━━━━━┳━━━━━━━━━━━━━━━━━━━━━━━━━━━━━━━━━━━━━━━━━━━━━━━━━━━━┓\n",
              "┃<span style=\"color: #800080; text-decoration-color: #800080; font-weight: bold\"> Emotion         </span>┃<span style=\"color: #800080; text-decoration-color: #800080; font-weight: bold\">      Score </span>┃<span style=\"color: #800080; text-decoration-color: #800080; font-weight: bold\"> Confidence                                         </span>┃\n",
              "┡━━━━━━━━━━━━━━━━━╇━━━━━━━━━━━━╇━━━━━━━━━━━━━━━━━━━━━━━━━━━━━━━━━━━━━━━━━━━━━━━━━━━━┩\n",
              "│<span style=\"color: #008080; text-decoration-color: #008080\"> gratitude       </span>│<span style=\"color: #008000; text-decoration-color: #008000\">      1.000 </span>│ <span style=\"color: #00ff00; text-decoration-color: #00ff00\">███████████████████████████████████████░          </span> │\n",
              "│<span style=\"color: #008080; text-decoration-color: #008080\"> admiration      </span>│<span style=\"color: #008000; text-decoration-color: #008000\">      0.000 </span>│ <span style=\"color: #7f7f7f; text-decoration-color: #7f7f7f\">░░░░░░░░░░░░░░░░░░░░░░░░░░░░░░░░░░░░░░░░          </span> │\n",
              "│<span style=\"color: #008080; text-decoration-color: #008080\"> approval        </span>│<span style=\"color: #008000; text-decoration-color: #008000\">      0.000 </span>│ <span style=\"color: #7f7f7f; text-decoration-color: #7f7f7f\">░░░░░░░░░░░░░░░░░░░░░░░░░░░░░░░░░░░░░░░░          </span> │\n",
              "└─────────────────┴────────────┴────────────────────────────────────────────────────┘\n",
              "</pre>\n"
            ],
            "text/plain": [
              "\u001b[3m                                  Emotion Analysis                                   \u001b[0m\n",
              "┏━━━━━━━━━━━━━━━━━┳━━━━━━━━━━━━┳━━━━━━━━━━━━━━━━━━━━━━━━━━━━━━━━━━━━━━━━━━━━━━━━━━━━┓\n",
              "┃\u001b[1;35m \u001b[0m\u001b[1;35mEmotion        \u001b[0m\u001b[1;35m \u001b[0m┃\u001b[1;35m \u001b[0m\u001b[1;35m     Score\u001b[0m\u001b[1;35m \u001b[0m┃\u001b[1;35m \u001b[0m\u001b[1;35mConfidence                                        \u001b[0m\u001b[1;35m \u001b[0m┃\n",
              "┡━━━━━━━━━━━━━━━━━╇━━━━━━━━━━━━╇━━━━━━━━━━━━━━━━━━━━━━━━━━━━━━━━━━━━━━━━━━━━━━━━━━━━┩\n",
              "│\u001b[36m \u001b[0m\u001b[36mgratitude      \u001b[0m\u001b[36m \u001b[0m│\u001b[32m \u001b[0m\u001b[32m     1.000\u001b[0m\u001b[32m \u001b[0m│ \u001b[92m███████████████████████████████████████░          \u001b[0m │\n",
              "│\u001b[36m \u001b[0m\u001b[36madmiration     \u001b[0m\u001b[36m \u001b[0m│\u001b[32m \u001b[0m\u001b[32m     0.000\u001b[0m\u001b[32m \u001b[0m│ \u001b[2m░░░░░░░░░░░░░░░░░░░░░░░░░░░░░░░░░░░░░░░░          \u001b[0m │\n",
              "│\u001b[36m \u001b[0m\u001b[36mapproval       \u001b[0m\u001b[36m \u001b[0m│\u001b[32m \u001b[0m\u001b[32m     0.000\u001b[0m\u001b[32m \u001b[0m│ \u001b[2m░░░░░░░░░░░░░░░░░░░░░░░░░░░░░░░░░░░░░░░░          \u001b[0m │\n",
              "└─────────────────┴────────────┴────────────────────────────────────────────────────┘\n"
            ]
          },
          "metadata": {},
          "output_type": "display_data"
        },
        {
          "data": {
            "text/html": [
              "<pre style=\"white-space:pre;overflow-x:auto;line-height:normal;font-family:Menlo,'DejaVu Sans Mono',consolas,'Courier New',monospace\">\n",
              "<span style=\"color: #008080; text-decoration-color: #008080; font-weight: bold\">[Text </span><span style=\"color: #008080; text-decoration-color: #008080; font-weight: bold\">2</span><span style=\"color: #008080; text-decoration-color: #008080; font-weight: bold\">]</span>\n",
              "</pre>\n"
            ],
            "text/plain": [
              "\n",
              "\u001b[1;36m[\u001b[0m\u001b[1;36mText \u001b[0m\u001b[1;36m2\u001b[0m\u001b[1;36m]\u001b[0m\n"
            ]
          },
          "metadata": {},
          "output_type": "display_data"
        },
        {
          "data": {
            "text/html": [
              "<pre style=\"white-space:pre;overflow-x:auto;line-height:normal;font-family:Menlo,'DejaVu Sans Mono',consolas,'Courier New',monospace\"><span style=\"color: #000080; text-decoration-color: #000080\">╭───────────────────────────────────────────────────── </span><span style=\"color: #000080; text-decoration-color: #000080; font-weight: bold\">Text</span><span style=\"color: #000080; text-decoration-color: #000080\"> ──────────────────────────────────────────────────────╮</span>\n",
              "<span style=\"color: #000080; text-decoration-color: #000080\">│</span>                                                                                                                 <span style=\"color: #000080; text-decoration-color: #000080\">│</span>\n",
              "<span style=\"color: #000080; text-decoration-color: #000080\">│</span>  This is absolutely disgusting.                                                                                 <span style=\"color: #000080; text-decoration-color: #000080\">│</span>\n",
              "<span style=\"color: #000080; text-decoration-color: #000080\">│</span>                                                                                                                 <span style=\"color: #000080; text-decoration-color: #000080\">│</span>\n",
              "<span style=\"color: #000080; text-decoration-color: #000080\">╰─────────────────────────────────────────────────────────────────────────────────────────────────────────────────╯</span>\n",
              "</pre>\n"
            ],
            "text/plain": [
              "\u001b[34m╭─\u001b[0m\u001b[34m────────────────────────────────────────────────────\u001b[0m\u001b[34m \u001b[0m\u001b[1;34mText\u001b[0m\u001b[34m \u001b[0m\u001b[34m─────────────────────────────────────────────────────\u001b[0m\u001b[34m─╮\u001b[0m\n",
              "\u001b[34m│\u001b[0m                                                                                                                 \u001b[34m│\u001b[0m\n",
              "\u001b[34m│\u001b[0m  This is absolutely disgusting.                                                                                 \u001b[34m│\u001b[0m\n",
              "\u001b[34m│\u001b[0m                                                                                                                 \u001b[34m│\u001b[0m\n",
              "\u001b[34m╰─────────────────────────────────────────────────────────────────────────────────────────────────────────────────╯\u001b[0m\n"
            ]
          },
          "metadata": {},
          "output_type": "display_data"
        },
        {
          "data": {
            "text/html": [
              "<pre style=\"white-space:pre;overflow-x:auto;line-height:normal;font-family:Menlo,'DejaVu Sans Mono',consolas,'Courier New',monospace\"><span style=\"font-weight: bold\">Sentiment:</span> <span style=\"color: #800000; text-decoration-color: #800000\">NEGATIVE</span>\n",
              "</pre>\n"
            ],
            "text/plain": [
              "\u001b[1mSentiment:\u001b[0m \u001b[31mNEGATIVE\u001b[0m\n"
            ]
          },
          "metadata": {},
          "output_type": "display_data"
        },
        {
          "data": {
            "text/html": [
              "<pre style=\"white-space:pre;overflow-x:auto;line-height:normal;font-family:Menlo,'DejaVu Sans Mono',consolas,'Courier New',monospace\"><span style=\"font-style: italic\">                                  Emotion Analysis                                   </span>\n",
              "┏━━━━━━━━━━━━━━━━━┳━━━━━━━━━━━━┳━━━━━━━━━━━━━━━━━━━━━━━━━━━━━━━━━━━━━━━━━━━━━━━━━━━━┓\n",
              "┃<span style=\"color: #800080; text-decoration-color: #800080; font-weight: bold\"> Emotion         </span>┃<span style=\"color: #800080; text-decoration-color: #800080; font-weight: bold\">      Score </span>┃<span style=\"color: #800080; text-decoration-color: #800080; font-weight: bold\"> Confidence                                         </span>┃\n",
              "┡━━━━━━━━━━━━━━━━━╇━━━━━━━━━━━━╇━━━━━━━━━━━━━━━━━━━━━━━━━━━━━━━━━━━━━━━━━━━━━━━━━━━━┩\n",
              "│<span style=\"color: #008080; text-decoration-color: #008080\"> disgust         </span>│<span style=\"color: #008000; text-decoration-color: #008000\">      0.998 </span>│ <span style=\"color: #00ff00; text-decoration-color: #00ff00\">███████████████████████████████████████░          </span> │\n",
              "│<span style=\"color: #008080; text-decoration-color: #008080\"> admiration      </span>│<span style=\"color: #008000; text-decoration-color: #008000\">      0.000 </span>│ <span style=\"color: #7f7f7f; text-decoration-color: #7f7f7f\">░░░░░░░░░░░░░░░░░░░░░░░░░░░░░░░░░░░░░░░░          </span> │\n",
              "│<span style=\"color: #008080; text-decoration-color: #008080\"> neutral         </span>│<span style=\"color: #008000; text-decoration-color: #008000\">      0.000 </span>│ <span style=\"color: #7f7f7f; text-decoration-color: #7f7f7f\">░░░░░░░░░░░░░░░░░░░░░░░░░░░░░░░░░░░░░░░░          </span> │\n",
              "└─────────────────┴────────────┴────────────────────────────────────────────────────┘\n",
              "</pre>\n"
            ],
            "text/plain": [
              "\u001b[3m                                  Emotion Analysis                                   \u001b[0m\n",
              "┏━━━━━━━━━━━━━━━━━┳━━━━━━━━━━━━┳━━━━━━━━━━━━━━━━━━━━━━━━━━━━━━━━━━━━━━━━━━━━━━━━━━━━┓\n",
              "┃\u001b[1;35m \u001b[0m\u001b[1;35mEmotion        \u001b[0m\u001b[1;35m \u001b[0m┃\u001b[1;35m \u001b[0m\u001b[1;35m     Score\u001b[0m\u001b[1;35m \u001b[0m┃\u001b[1;35m \u001b[0m\u001b[1;35mConfidence                                        \u001b[0m\u001b[1;35m \u001b[0m┃\n",
              "┡━━━━━━━━━━━━━━━━━╇━━━━━━━━━━━━╇━━━━━━━━━━━━━━━━━━━━━━━━━━━━━━━━━━━━━━━━━━━━━━━━━━━━┩\n",
              "│\u001b[36m \u001b[0m\u001b[36mdisgust        \u001b[0m\u001b[36m \u001b[0m│\u001b[32m \u001b[0m\u001b[32m     0.998\u001b[0m\u001b[32m \u001b[0m│ \u001b[92m███████████████████████████████████████░          \u001b[0m │\n",
              "│\u001b[36m \u001b[0m\u001b[36madmiration     \u001b[0m\u001b[36m \u001b[0m│\u001b[32m \u001b[0m\u001b[32m     0.000\u001b[0m\u001b[32m \u001b[0m│ \u001b[2m░░░░░░░░░░░░░░░░░░░░░░░░░░░░░░░░░░░░░░░░          \u001b[0m │\n",
              "│\u001b[36m \u001b[0m\u001b[36mneutral        \u001b[0m\u001b[36m \u001b[0m│\u001b[32m \u001b[0m\u001b[32m     0.000\u001b[0m\u001b[32m \u001b[0m│ \u001b[2m░░░░░░░░░░░░░░░░░░░░░░░░░░░░░░░░░░░░░░░░          \u001b[0m │\n",
              "└─────────────────┴────────────┴────────────────────────────────────────────────────┘\n"
            ]
          },
          "metadata": {},
          "output_type": "display_data"
        },
        {
          "data": {
            "text/html": [
              "<pre style=\"white-space:pre;overflow-x:auto;line-height:normal;font-family:Menlo,'DejaVu Sans Mono',consolas,'Courier New',monospace\">\n",
              "<span style=\"color: #008080; text-decoration-color: #008080; font-weight: bold\">[Text </span><span style=\"color: #008080; text-decoration-color: #008080; font-weight: bold\">3</span><span style=\"color: #008080; text-decoration-color: #008080; font-weight: bold\">]</span>\n",
              "</pre>\n"
            ],
            "text/plain": [
              "\n",
              "\u001b[1;36m[\u001b[0m\u001b[1;36mText \u001b[0m\u001b[1;36m3\u001b[0m\u001b[1;36m]\u001b[0m\n"
            ]
          },
          "metadata": {},
          "output_type": "display_data"
        },
        {
          "data": {
            "text/html": [
              "<pre style=\"white-space:pre;overflow-x:auto;line-height:normal;font-family:Menlo,'DejaVu Sans Mono',consolas,'Courier New',monospace\"><span style=\"color: #000080; text-decoration-color: #000080\">╭───────────────────────────────────────────────────── </span><span style=\"color: #000080; text-decoration-color: #000080; font-weight: bold\">Text</span><span style=\"color: #000080; text-decoration-color: #000080\"> ──────────────────────────────────────────────────────╮</span>\n",
              "<span style=\"color: #000080; text-decoration-color: #000080\">│</span>                                                                                                                 <span style=\"color: #000080; text-decoration-color: #000080\">│</span>\n",
              "<span style=\"color: #000080; text-decoration-color: #000080\">│</span>  I'm confused about what happened.                                                                              <span style=\"color: #000080; text-decoration-color: #000080\">│</span>\n",
              "<span style=\"color: #000080; text-decoration-color: #000080\">│</span>                                                                                                                 <span style=\"color: #000080; text-decoration-color: #000080\">│</span>\n",
              "<span style=\"color: #000080; text-decoration-color: #000080\">╰─────────────────────────────────────────────────────────────────────────────────────────────────────────────────╯</span>\n",
              "</pre>\n"
            ],
            "text/plain": [
              "\u001b[34m╭─\u001b[0m\u001b[34m────────────────────────────────────────────────────\u001b[0m\u001b[34m \u001b[0m\u001b[1;34mText\u001b[0m\u001b[34m \u001b[0m\u001b[34m─────────────────────────────────────────────────────\u001b[0m\u001b[34m─╮\u001b[0m\n",
              "\u001b[34m│\u001b[0m                                                                                                                 \u001b[34m│\u001b[0m\n",
              "\u001b[34m│\u001b[0m  I'm confused about what happened.                                                                              \u001b[34m│\u001b[0m\n",
              "\u001b[34m│\u001b[0m                                                                                                                 \u001b[34m│\u001b[0m\n",
              "\u001b[34m╰─────────────────────────────────────────────────────────────────────────────────────────────────────────────────╯\u001b[0m\n"
            ]
          },
          "metadata": {},
          "output_type": "display_data"
        },
        {
          "data": {
            "text/html": [
              "<pre style=\"white-space:pre;overflow-x:auto;line-height:normal;font-family:Menlo,'DejaVu Sans Mono',consolas,'Courier New',monospace\"><span style=\"font-weight: bold\">Sentiment:</span> <span style=\"color: #808000; text-decoration-color: #808000\">AMBIGUOUS</span>\n",
              "</pre>\n"
            ],
            "text/plain": [
              "\u001b[1mSentiment:\u001b[0m \u001b[33mAMBIGUOUS\u001b[0m\n"
            ]
          },
          "metadata": {},
          "output_type": "display_data"
        },
        {
          "data": {
            "text/html": [
              "<pre style=\"white-space:pre;overflow-x:auto;line-height:normal;font-family:Menlo,'DejaVu Sans Mono',consolas,'Courier New',monospace\"><span style=\"font-style: italic\">                                  Emotion Analysis                                   </span>\n",
              "┏━━━━━━━━━━━━━━━━━┳━━━━━━━━━━━━┳━━━━━━━━━━━━━━━━━━━━━━━━━━━━━━━━━━━━━━━━━━━━━━━━━━━━┓\n",
              "┃<span style=\"color: #800080; text-decoration-color: #800080; font-weight: bold\"> Emotion         </span>┃<span style=\"color: #800080; text-decoration-color: #800080; font-weight: bold\">      Score </span>┃<span style=\"color: #800080; text-decoration-color: #800080; font-weight: bold\"> Confidence                                         </span>┃\n",
              "┡━━━━━━━━━━━━━━━━━╇━━━━━━━━━━━━╇━━━━━━━━━━━━━━━━━━━━━━━━━━━━━━━━━━━━━━━━━━━━━━━━━━━━┩\n",
              "│<span style=\"color: #008080; text-decoration-color: #008080\"> confusion       </span>│<span style=\"color: #008000; text-decoration-color: #008000\">      0.999 </span>│ <span style=\"color: #00ff00; text-decoration-color: #00ff00\">███████████████████████████████████████░          </span> │\n",
              "│<span style=\"color: #008080; text-decoration-color: #008080\"> curiosity       </span>│<span style=\"color: #008000; text-decoration-color: #008000\">      0.000 </span>│ <span style=\"color: #7f7f7f; text-decoration-color: #7f7f7f\">░░░░░░░░░░░░░░░░░░░░░░░░░░░░░░░░░░░░░░░░          </span> │\n",
              "│<span style=\"color: #008080; text-decoration-color: #008080\"> neutral         </span>│<span style=\"color: #008000; text-decoration-color: #008000\">      0.000 </span>│ <span style=\"color: #7f7f7f; text-decoration-color: #7f7f7f\">░░░░░░░░░░░░░░░░░░░░░░░░░░░░░░░░░░░░░░░░          </span> │\n",
              "└─────────────────┴────────────┴────────────────────────────────────────────────────┘\n",
              "</pre>\n"
            ],
            "text/plain": [
              "\u001b[3m                                  Emotion Analysis                                   \u001b[0m\n",
              "┏━━━━━━━━━━━━━━━━━┳━━━━━━━━━━━━┳━━━━━━━━━━━━━━━━━━━━━━━━━━━━━━━━━━━━━━━━━━━━━━━━━━━━┓\n",
              "┃\u001b[1;35m \u001b[0m\u001b[1;35mEmotion        \u001b[0m\u001b[1;35m \u001b[0m┃\u001b[1;35m \u001b[0m\u001b[1;35m     Score\u001b[0m\u001b[1;35m \u001b[0m┃\u001b[1;35m \u001b[0m\u001b[1;35mConfidence                                        \u001b[0m\u001b[1;35m \u001b[0m┃\n",
              "┡━━━━━━━━━━━━━━━━━╇━━━━━━━━━━━━╇━━━━━━━━━━━━━━━━━━━━━━━━━━━━━━━━━━━━━━━━━━━━━━━━━━━━┩\n",
              "│\u001b[36m \u001b[0m\u001b[36mconfusion      \u001b[0m\u001b[36m \u001b[0m│\u001b[32m \u001b[0m\u001b[32m     0.999\u001b[0m\u001b[32m \u001b[0m│ \u001b[92m███████████████████████████████████████░          \u001b[0m │\n",
              "│\u001b[36m \u001b[0m\u001b[36mcuriosity      \u001b[0m\u001b[36m \u001b[0m│\u001b[32m \u001b[0m\u001b[32m     0.000\u001b[0m\u001b[32m \u001b[0m│ \u001b[2m░░░░░░░░░░░░░░░░░░░░░░░░░░░░░░░░░░░░░░░░          \u001b[0m │\n",
              "│\u001b[36m \u001b[0m\u001b[36mneutral        \u001b[0m\u001b[36m \u001b[0m│\u001b[32m \u001b[0m\u001b[32m     0.000\u001b[0m\u001b[32m \u001b[0m│ \u001b[2m░░░░░░░░░░░░░░░░░░░░░░░░░░░░░░░░░░░░░░░░          \u001b[0m │\n",
              "└─────────────────┴────────────┴────────────────────────────────────────────────────┘\n"
            ]
          },
          "metadata": {},
          "output_type": "display_data"
        },
        {
          "data": {
            "text/html": [
              "<pre style=\"white-space:pre;overflow-x:auto;line-height:normal;font-family:Menlo,'DejaVu Sans Mono',consolas,'Courier New',monospace\">\n",
              "<span style=\"color: #008080; text-decoration-color: #008080; font-weight: bold\">[Text </span><span style=\"color: #008080; text-decoration-color: #008080; font-weight: bold\">4</span><span style=\"color: #008080; text-decoration-color: #008080; font-weight: bold\">]</span>\n",
              "</pre>\n"
            ],
            "text/plain": [
              "\n",
              "\u001b[1;36m[\u001b[0m\u001b[1;36mText \u001b[0m\u001b[1;36m4\u001b[0m\u001b[1;36m]\u001b[0m\n"
            ]
          },
          "metadata": {},
          "output_type": "display_data"
        },
        {
          "data": {
            "text/html": [
              "<pre style=\"white-space:pre;overflow-x:auto;line-height:normal;font-family:Menlo,'DejaVu Sans Mono',consolas,'Courier New',monospace\"><span style=\"color: #000080; text-decoration-color: #000080\">╭───────────────────────────────────────────────────── </span><span style=\"color: #000080; text-decoration-color: #000080; font-weight: bold\">Text</span><span style=\"color: #000080; text-decoration-color: #000080\"> ──────────────────────────────────────────────────────╮</span>\n",
              "<span style=\"color: #000080; text-decoration-color: #000080\">│</span>                                                                                                                 <span style=\"color: #000080; text-decoration-color: #000080\">│</span>\n",
              "<span style=\"color: #000080; text-decoration-color: #000080\">│</span>  Wow, I didn't expect that!                                                                                     <span style=\"color: #000080; text-decoration-color: #000080\">│</span>\n",
              "<span style=\"color: #000080; text-decoration-color: #000080\">│</span>                                                                                                                 <span style=\"color: #000080; text-decoration-color: #000080\">│</span>\n",
              "<span style=\"color: #000080; text-decoration-color: #000080\">╰─────────────────────────────────────────────────────────────────────────────────────────────────────────────────╯</span>\n",
              "</pre>\n"
            ],
            "text/plain": [
              "\u001b[34m╭─\u001b[0m\u001b[34m────────────────────────────────────────────────────\u001b[0m\u001b[34m \u001b[0m\u001b[1;34mText\u001b[0m\u001b[34m \u001b[0m\u001b[34m─────────────────────────────────────────────────────\u001b[0m\u001b[34m─╮\u001b[0m\n",
              "\u001b[34m│\u001b[0m                                                                                                                 \u001b[34m│\u001b[0m\n",
              "\u001b[34m│\u001b[0m  Wow, I didn't expect that!                                                                                     \u001b[34m│\u001b[0m\n",
              "\u001b[34m│\u001b[0m                                                                                                                 \u001b[34m│\u001b[0m\n",
              "\u001b[34m╰─────────────────────────────────────────────────────────────────────────────────────────────────────────────────╯\u001b[0m\n"
            ]
          },
          "metadata": {},
          "output_type": "display_data"
        },
        {
          "data": {
            "text/html": [
              "<pre style=\"white-space:pre;overflow-x:auto;line-height:normal;font-family:Menlo,'DejaVu Sans Mono',consolas,'Courier New',monospace\"><span style=\"font-weight: bold\">Sentiment:</span> <span style=\"color: #808000; text-decoration-color: #808000\">AMBIGUOUS</span>\n",
              "</pre>\n"
            ],
            "text/plain": [
              "\u001b[1mSentiment:\u001b[0m \u001b[33mAMBIGUOUS\u001b[0m\n"
            ]
          },
          "metadata": {},
          "output_type": "display_data"
        },
        {
          "data": {
            "text/html": [
              "<pre style=\"white-space:pre;overflow-x:auto;line-height:normal;font-family:Menlo,'DejaVu Sans Mono',consolas,'Courier New',monospace\"><span style=\"font-style: italic\">                                  Emotion Analysis                                   </span>\n",
              "┏━━━━━━━━━━━━━━━━━┳━━━━━━━━━━━━┳━━━━━━━━━━━━━━━━━━━━━━━━━━━━━━━━━━━━━━━━━━━━━━━━━━━━┓\n",
              "┃<span style=\"color: #800080; text-decoration-color: #800080; font-weight: bold\"> Emotion         </span>┃<span style=\"color: #800080; text-decoration-color: #800080; font-weight: bold\">      Score </span>┃<span style=\"color: #800080; text-decoration-color: #800080; font-weight: bold\"> Confidence                                         </span>┃\n",
              "┡━━━━━━━━━━━━━━━━━╇━━━━━━━━━━━━╇━━━━━━━━━━━━━━━━━━━━━━━━━━━━━━━━━━━━━━━━━━━━━━━━━━━━┩\n",
              "│<span style=\"color: #008080; text-decoration-color: #008080\"> surprise        </span>│<span style=\"color: #008000; text-decoration-color: #008000\">      0.999 </span>│ <span style=\"color: #00ff00; text-decoration-color: #00ff00\">███████████████████████████████████████░          </span> │\n",
              "│<span style=\"color: #008080; text-decoration-color: #008080\"> realization     </span>│<span style=\"color: #008000; text-decoration-color: #008000\">      0.000 </span>│ <span style=\"color: #7f7f7f; text-decoration-color: #7f7f7f\">░░░░░░░░░░░░░░░░░░░░░░░░░░░░░░░░░░░░░░░░          </span> │\n",
              "│<span style=\"color: #008080; text-decoration-color: #008080\"> excitement      </span>│<span style=\"color: #008000; text-decoration-color: #008000\">      0.000 </span>│ <span style=\"color: #7f7f7f; text-decoration-color: #7f7f7f\">░░░░░░░░░░░░░░░░░░░░░░░░░░░░░░░░░░░░░░░░          </span> │\n",
              "└─────────────────┴────────────┴────────────────────────────────────────────────────┘\n",
              "</pre>\n"
            ],
            "text/plain": [
              "\u001b[3m                                  Emotion Analysis                                   \u001b[0m\n",
              "┏━━━━━━━━━━━━━━━━━┳━━━━━━━━━━━━┳━━━━━━━━━━━━━━━━━━━━━━━━━━━━━━━━━━━━━━━━━━━━━━━━━━━━┓\n",
              "┃\u001b[1;35m \u001b[0m\u001b[1;35mEmotion        \u001b[0m\u001b[1;35m \u001b[0m┃\u001b[1;35m \u001b[0m\u001b[1;35m     Score\u001b[0m\u001b[1;35m \u001b[0m┃\u001b[1;35m \u001b[0m\u001b[1;35mConfidence                                        \u001b[0m\u001b[1;35m \u001b[0m┃\n",
              "┡━━━━━━━━━━━━━━━━━╇━━━━━━━━━━━━╇━━━━━━━━━━━━━━━━━━━━━━━━━━━━━━━━━━━━━━━━━━━━━━━━━━━━┩\n",
              "│\u001b[36m \u001b[0m\u001b[36msurprise       \u001b[0m\u001b[36m \u001b[0m│\u001b[32m \u001b[0m\u001b[32m     0.999\u001b[0m\u001b[32m \u001b[0m│ \u001b[92m███████████████████████████████████████░          \u001b[0m │\n",
              "│\u001b[36m \u001b[0m\u001b[36mrealization    \u001b[0m\u001b[36m \u001b[0m│\u001b[32m \u001b[0m\u001b[32m     0.000\u001b[0m\u001b[32m \u001b[0m│ \u001b[2m░░░░░░░░░░░░░░░░░░░░░░░░░░░░░░░░░░░░░░░░          \u001b[0m │\n",
              "│\u001b[36m \u001b[0m\u001b[36mexcitement     \u001b[0m\u001b[36m \u001b[0m│\u001b[32m \u001b[0m\u001b[32m     0.000\u001b[0m\u001b[32m \u001b[0m│ \u001b[2m░░░░░░░░░░░░░░░░░░░░░░░░░░░░░░░░░░░░░░░░          \u001b[0m │\n",
              "└─────────────────┴────────────┴────────────────────────────────────────────────────┘\n"
            ]
          },
          "metadata": {},
          "output_type": "display_data"
        }
      ],
      "source": [
        "# Batch classification example\n",
        "texts = [\n",
        "    \"Thank you so much for your help!\",\n",
        "    \"This is absolutely disgusting.\",\n",
        "    \"I'm confused about what happened.\",\n",
        "    \"Wow, I didn't expect that!\",\n",
        "]\n",
        "\n",
        "results = classifier.analyze_batch(texts, top_k=3)\n",
        "\n",
        "print_header(\"Batch Classification Results\", f\"Analyzing {len(texts)} texts\")\n",
        "\n",
        "for idx, result in enumerate(results, 1):\n",
        "    console.print(f\"\\n[bold cyan][Text {idx}][/bold cyan]\")\n",
        "    format_emotion_output(result, use_rich=True)\n"
      ]
    },
    {
      "cell_type": "markdown",
      "metadata": {},
      "source": [
        "## 11. Visualize Emotion Distribution\n",
        "\n",
        "Create a simple visualization of emotion scores.\n"
      ]
    },
    {
      "cell_type": "code",
      "execution_count": 11,
      "metadata": {},
      "outputs": [
        {
          "data": {
            "text/html": [
              "<pre style=\"white-space:pre;overflow-x:auto;line-height:normal;font-family:Menlo,'DejaVu Sans Mono',consolas,'Courier New',monospace\"><span style=\"color: #008080; text-decoration-color: #008080\">╭───────────────────────────────────────────────────── Text ──────────────────────────────────────────────────────╮</span>\n",
              "<span style=\"color: #008080; text-decoration-color: #008080\">│</span> I'm so proud of what we accomplished together!                                                                  <span style=\"color: #008080; text-decoration-color: #008080\">│</span>\n",
              "<span style=\"color: #008080; text-decoration-color: #008080\">╰─────────────────────────────────────────────────────────────────────────────────────────────────────────────────╯</span>\n",
              "</pre>\n"
            ],
            "text/plain": [
              "\u001b[36m╭─\u001b[0m\u001b[36m────────────────────────────────────────────────────\u001b[0m\u001b[36m Text \u001b[0m\u001b[36m─────────────────────────────────────────────────────\u001b[0m\u001b[36m─╮\u001b[0m\n",
              "\u001b[36m│\u001b[0m I'm so proud of what we accomplished together!                                                                  \u001b[36m│\u001b[0m\n",
              "\u001b[36m╰─────────────────────────────────────────────────────────────────────────────────────────────────────────────────╯\u001b[0m\n"
            ]
          },
          "metadata": {},
          "output_type": "display_data"
        },
        {
          "data": {
            "text/html": [
              "<pre style=\"white-space:pre;overflow-x:auto;line-height:normal;font-family:Menlo,'DejaVu Sans Mono',consolas,'Courier New',monospace\"><span style=\"font-style: italic\">                                   Top 10 Emotion Scores                                   </span>\n",
              "┏━━━━━━━━━━━━━━━━━┳━━━━━━━━━━━━━━━━━━━━━━━━━━━━━━━━━━━━━━━━━━━━━━━━━━━━━━━━━━━━━━┳━━━━━━━━┓\n",
              "┃<span style=\"color: #008000; text-decoration-color: #008000; font-weight: bold\"> Emotion         </span>┃<span style=\"color: #008000; text-decoration-color: #008000; font-weight: bold\"> Confidence Bar                                               </span>┃<span style=\"color: #008000; text-decoration-color: #008000; font-weight: bold\">  Score </span>┃\n",
              "┡━━━━━━━━━━━━━━━━━╇━━━━━━━━━━━━━━━━━━━━━━━━━━━━━━━━━━━━━━━━━━━━━━━━━━━━━━━━━━━━━━╇━━━━━━━━┩\n",
              "│<span style=\"color: #008080; text-decoration-color: #008080\"> pride           </span>│<span style=\"color: #008000; text-decoration-color: #008000\"> ███████████████████████████████████████████████████████░░░░░ </span>│<span style=\"color: #800080; text-decoration-color: #800080\"> 91.76% </span>│\n",
              "│<span style=\"color: #008080; text-decoration-color: #008080\"> admiration      </span>│<span style=\"color: #008000; text-decoration-color: #008000\"> ███░░░░░░░░░░░░░░░░░░░░░░░░░░░░░░░░░░░░░░░░░░░░░░░░░░░░░░░░░ </span>│<span style=\"color: #800080; text-decoration-color: #800080\">  6.20% </span>│\n",
              "│<span style=\"color: #008080; text-decoration-color: #008080\"> relief          </span>│<span style=\"color: #008000; text-decoration-color: #008000\"> ░░░░░░░░░░░░░░░░░░░░░░░░░░░░░░░░░░░░░░░░░░░░░░░░░░░░░░░░░░░░ </span>│<span style=\"color: #800080; text-decoration-color: #800080\">  0.39% </span>│\n",
              "│<span style=\"color: #008080; text-decoration-color: #008080\"> realization     </span>│<span style=\"color: #008000; text-decoration-color: #008000\"> ░░░░░░░░░░░░░░░░░░░░░░░░░░░░░░░░░░░░░░░░░░░░░░░░░░░░░░░░░░░░ </span>│<span style=\"color: #800080; text-decoration-color: #800080\">  0.28% </span>│\n",
              "│<span style=\"color: #008080; text-decoration-color: #008080\"> excitement      </span>│<span style=\"color: #008000; text-decoration-color: #008000\"> ░░░░░░░░░░░░░░░░░░░░░░░░░░░░░░░░░░░░░░░░░░░░░░░░░░░░░░░░░░░░ </span>│<span style=\"color: #800080; text-decoration-color: #800080\">  0.23% </span>│\n",
              "│<span style=\"color: #008080; text-decoration-color: #008080\"> neutral         </span>│<span style=\"color: #008000; text-decoration-color: #008000\"> ░░░░░░░░░░░░░░░░░░░░░░░░░░░░░░░░░░░░░░░░░░░░░░░░░░░░░░░░░░░░ </span>│<span style=\"color: #800080; text-decoration-color: #800080\">  0.23% </span>│\n",
              "│<span style=\"color: #008080; text-decoration-color: #008080\"> gratitude       </span>│<span style=\"color: #008000; text-decoration-color: #008000\"> ░░░░░░░░░░░░░░░░░░░░░░░░░░░░░░░░░░░░░░░░░░░░░░░░░░░░░░░░░░░░ </span>│<span style=\"color: #800080; text-decoration-color: #800080\">  0.16% </span>│\n",
              "│<span style=\"color: #008080; text-decoration-color: #008080\"> joy             </span>│<span style=\"color: #008000; text-decoration-color: #008000\"> ░░░░░░░░░░░░░░░░░░░░░░░░░░░░░░░░░░░░░░░░░░░░░░░░░░░░░░░░░░░░ </span>│<span style=\"color: #800080; text-decoration-color: #800080\">  0.10% </span>│\n",
              "│<span style=\"color: #008080; text-decoration-color: #008080\"> grief           </span>│<span style=\"color: #008000; text-decoration-color: #008000\"> ░░░░░░░░░░░░░░░░░░░░░░░░░░░░░░░░░░░░░░░░░░░░░░░░░░░░░░░░░░░░ </span>│<span style=\"color: #800080; text-decoration-color: #800080\">  0.08% </span>│\n",
              "│<span style=\"color: #008080; text-decoration-color: #008080\"> anger           </span>│<span style=\"color: #008000; text-decoration-color: #008000\"> ░░░░░░░░░░░░░░░░░░░░░░░░░░░░░░░░░░░░░░░░░░░░░░░░░░░░░░░░░░░░ </span>│<span style=\"color: #800080; text-decoration-color: #800080\">  0.07% </span>│\n",
              "└─────────────────┴──────────────────────────────────────────────────────────────┴────────┘\n",
              "</pre>\n"
            ],
            "text/plain": [
              "\u001b[3m                                   Top 10 Emotion Scores                                   \u001b[0m\n",
              "┏━━━━━━━━━━━━━━━━━┳━━━━━━━━━━━━━━━━━━━━━━━━━━━━━━━━━━━━━━━━━━━━━━━━━━━━━━━━━━━━━━┳━━━━━━━━┓\n",
              "┃\u001b[1;32m \u001b[0m\u001b[1;32mEmotion        \u001b[0m\u001b[1;32m \u001b[0m┃\u001b[1;32m \u001b[0m\u001b[1;32mConfidence Bar                                              \u001b[0m\u001b[1;32m \u001b[0m┃\u001b[1;32m \u001b[0m\u001b[1;32m Score\u001b[0m\u001b[1;32m \u001b[0m┃\n",
              "┡━━━━━━━━━━━━━━━━━╇━━━━━━━━━━━━━━━━━━━━━━━━━━━━━━━━━━━━━━━━━━━━━━━━━━━━━━━━━━━━━━╇━━━━━━━━┩\n",
              "│\u001b[36m \u001b[0m\u001b[36mpride          \u001b[0m\u001b[36m \u001b[0m│\u001b[32m \u001b[0m\u001b[32m███████████████████████████████████████████████████████░░░░░\u001b[0m\u001b[32m \u001b[0m│\u001b[35m \u001b[0m\u001b[35m91.76%\u001b[0m\u001b[35m \u001b[0m│\n",
              "│\u001b[36m \u001b[0m\u001b[36madmiration     \u001b[0m\u001b[36m \u001b[0m│\u001b[32m \u001b[0m\u001b[32m███░░░░░░░░░░░░░░░░░░░░░░░░░░░░░░░░░░░░░░░░░░░░░░░░░░░░░░░░░\u001b[0m\u001b[32m \u001b[0m│\u001b[35m \u001b[0m\u001b[35m 6.20%\u001b[0m\u001b[35m \u001b[0m│\n",
              "│\u001b[36m \u001b[0m\u001b[36mrelief         \u001b[0m\u001b[36m \u001b[0m│\u001b[32m \u001b[0m\u001b[32m░░░░░░░░░░░░░░░░░░░░░░░░░░░░░░░░░░░░░░░░░░░░░░░░░░░░░░░░░░░░\u001b[0m\u001b[32m \u001b[0m│\u001b[35m \u001b[0m\u001b[35m 0.39%\u001b[0m\u001b[35m \u001b[0m│\n",
              "│\u001b[36m \u001b[0m\u001b[36mrealization    \u001b[0m\u001b[36m \u001b[0m│\u001b[32m \u001b[0m\u001b[32m░░░░░░░░░░░░░░░░░░░░░░░░░░░░░░░░░░░░░░░░░░░░░░░░░░░░░░░░░░░░\u001b[0m\u001b[32m \u001b[0m│\u001b[35m \u001b[0m\u001b[35m 0.28%\u001b[0m\u001b[35m \u001b[0m│\n",
              "│\u001b[36m \u001b[0m\u001b[36mexcitement     \u001b[0m\u001b[36m \u001b[0m│\u001b[32m \u001b[0m\u001b[32m░░░░░░░░░░░░░░░░░░░░░░░░░░░░░░░░░░░░░░░░░░░░░░░░░░░░░░░░░░░░\u001b[0m\u001b[32m \u001b[0m│\u001b[35m \u001b[0m\u001b[35m 0.23%\u001b[0m\u001b[35m \u001b[0m│\n",
              "│\u001b[36m \u001b[0m\u001b[36mneutral        \u001b[0m\u001b[36m \u001b[0m│\u001b[32m \u001b[0m\u001b[32m░░░░░░░░░░░░░░░░░░░░░░░░░░░░░░░░░░░░░░░░░░░░░░░░░░░░░░░░░░░░\u001b[0m\u001b[32m \u001b[0m│\u001b[35m \u001b[0m\u001b[35m 0.23%\u001b[0m\u001b[35m \u001b[0m│\n",
              "│\u001b[36m \u001b[0m\u001b[36mgratitude      \u001b[0m\u001b[36m \u001b[0m│\u001b[32m \u001b[0m\u001b[32m░░░░░░░░░░░░░░░░░░░░░░░░░░░░░░░░░░░░░░░░░░░░░░░░░░░░░░░░░░░░\u001b[0m\u001b[32m \u001b[0m│\u001b[35m \u001b[0m\u001b[35m 0.16%\u001b[0m\u001b[35m \u001b[0m│\n",
              "│\u001b[36m \u001b[0m\u001b[36mjoy            \u001b[0m\u001b[36m \u001b[0m│\u001b[32m \u001b[0m\u001b[32m░░░░░░░░░░░░░░░░░░░░░░░░░░░░░░░░░░░░░░░░░░░░░░░░░░░░░░░░░░░░\u001b[0m\u001b[32m \u001b[0m│\u001b[35m \u001b[0m\u001b[35m 0.10%\u001b[0m\u001b[35m \u001b[0m│\n",
              "│\u001b[36m \u001b[0m\u001b[36mgrief          \u001b[0m\u001b[36m \u001b[0m│\u001b[32m \u001b[0m\u001b[32m░░░░░░░░░░░░░░░░░░░░░░░░░░░░░░░░░░░░░░░░░░░░░░░░░░░░░░░░░░░░\u001b[0m\u001b[32m \u001b[0m│\u001b[35m \u001b[0m\u001b[35m 0.08%\u001b[0m\u001b[35m \u001b[0m│\n",
              "│\u001b[36m \u001b[0m\u001b[36manger          \u001b[0m\u001b[36m \u001b[0m│\u001b[32m \u001b[0m\u001b[32m░░░░░░░░░░░░░░░░░░░░░░░░░░░░░░░░░░░░░░░░░░░░░░░░░░░░░░░░░░░░\u001b[0m\u001b[32m \u001b[0m│\u001b[35m \u001b[0m\u001b[35m 0.07%\u001b[0m\u001b[35m \u001b[0m│\n",
              "└─────────────────┴──────────────────────────────────────────────────────────────┴────────┘\n"
            ]
          },
          "metadata": {},
          "output_type": "display_data"
        }
      ],
      "source": [
        "# Visualize emotion distribution for a text\n",
        "text = \"I'm so proud of what we accomplished together!\"\n",
        "result = classifier.analyze(text, top_k=10)\n",
        "\n",
        "# Display with Rich\n",
        "console.print(Panel(text, title=\"Text\", border_style=\"cyan\"))\n",
        "\n",
        "# Create Rich table for top 10 emotions\n",
        "table = Table(title=\"Top 10 Emotion Scores\", show_header=True, header_style=\"bold green\")\n",
        "table.add_column(\"Emotion\", style=\"cyan\", width=15)\n",
        "table.add_column(\"Confidence Bar\", style=\"green\", width=60)\n",
        "table.add_column(\"Score\", style=\"magenta\", justify=\"right\")\n",
        "\n",
        "for emotion, score in result.get_top_emotions()[:10]:\n",
        "    # Create a visual bar chart\n",
        "    bar_length = int(score * 60)\n",
        "    bar = \"█\" * bar_length + \"░\" * (60 - bar_length)\n",
        "    percentage = score * 100\n",
        "    table.add_row(emotion, bar, f\"{percentage:5.2f}%\")\n",
        "\n",
        "console.print(table)\n"
      ]
    },
    {
      "cell_type": "markdown",
      "metadata": {},
      "source": [
        "## 12. Compare Emotions Across Languages\n",
        "\n",
        "Compare how similar texts in different languages are classified.\n"
      ]
    },
    {
      "cell_type": "code",
      "execution_count": 12,
      "metadata": {},
      "outputs": [
        {
          "data": {
            "text/html": [
              "<pre style=\"white-space:pre;overflow-x:auto;line-height:normal;font-family:Menlo,'DejaVu Sans Mono',consolas,'Courier New',monospace\"><span style=\"color: #008080; text-decoration-color: #008080\">╭─────────────────────────────────────────────────────────────────────────────────────────────────────────────────╮</span>\n",
              "<span style=\"color: #008080; text-decoration-color: #008080\">│</span> <span style=\"color: #008080; text-decoration-color: #008080; font-weight: bold\">Comparing Similar Texts Across Languages</span>                                                                        <span style=\"color: #008080; text-decoration-color: #008080\">│</span>\n",
              "<span style=\"color: #008080; text-decoration-color: #008080\">│</span> <span style=\"color: #7f7f7f; text-decoration-color: #7f7f7f\">Same meaning, different languages</span>                                                                               <span style=\"color: #008080; text-decoration-color: #008080\">│</span>\n",
              "<span style=\"color: #008080; text-decoration-color: #008080\">╰─────────────────────────────────────────────────────────────────────────────────────────────────────────────────╯</span>\n",
              "</pre>\n"
            ],
            "text/plain": [
              "\u001b[36m╭─────────────────────────────────────────────────────────────────────────────────────────────────────────────────╮\u001b[0m\n",
              "\u001b[36m│\u001b[0m \u001b[1;36mComparing Similar Texts Across Languages\u001b[0m                                                                        \u001b[36m│\u001b[0m\n",
              "\u001b[36m│\u001b[0m \u001b[2mSame meaning, different languages\u001b[0m                                                                               \u001b[36m│\u001b[0m\n",
              "\u001b[36m╰─────────────────────────────────────────────────────────────────────────────────────────────────────────────────╯\u001b[0m\n"
            ]
          },
          "metadata": {},
          "output_type": "display_data"
        },
        {
          "data": {
            "text/html": [
              "<pre style=\"white-space:pre;overflow-x:auto;line-height:normal;font-family:Menlo,'DejaVu Sans Mono',consolas,'Courier New',monospace\"><span style=\"font-style: italic\">                               Multilingual Emotion Analysis Comparison                                </span>\n",
              "<span style=\"color: #000080; text-decoration-color: #000080\">┏━━━━━━━━━━━━━━┳━━━━━━━━━━━━━━━━━━━━━━━━━━━━━━━━━━━━━━━━━━┳━━━━━━━━━━━━━━┳━━━━━━━━━━━━━━━━━┳━━━━━━━━━━┓</span>\n",
              "<span style=\"color: #000080; text-decoration-color: #000080\">┃</span><span style=\"color: #008080; text-decoration-color: #008080; font-weight: bold\"> Language     </span><span style=\"color: #000080; text-decoration-color: #000080\">┃</span><span style=\"color: #008080; text-decoration-color: #008080; font-weight: bold\"> Text                                     </span><span style=\"color: #000080; text-decoration-color: #000080\">┃</span><span style=\"color: #008080; text-decoration-color: #008080; font-weight: bold\">  Sentiment   </span><span style=\"color: #000080; text-decoration-color: #000080\">┃</span><span style=\"color: #008080; text-decoration-color: #008080; font-weight: bold\"> Top Emotion     </span><span style=\"color: #000080; text-decoration-color: #000080\">┃</span><span style=\"color: #008080; text-decoration-color: #008080; font-weight: bold\">    Score </span><span style=\"color: #000080; text-decoration-color: #000080\">┃</span>\n",
              "<span style=\"color: #000080; text-decoration-color: #000080\">┡━━━━━━━━━━━━━━╇━━━━━━━━━━━━━━━━━━━━━━━━━━━━━━━━━━━━━━━━━━╇━━━━━━━━━━━━━━╇━━━━━━━━━━━━━━━━━╇━━━━━━━━━━┩</span>\n",
              "<span style=\"color: #000080; text-decoration-color: #000080\">│</span><span style=\"color: #808000; text-decoration-color: #808000\"> English      </span><span style=\"color: #000080; text-decoration-color: #000080\">│</span><span style=\"color: #c0c0c0; text-decoration-color: #c0c0c0\"> I'm so happy about this great news!      </span><span style=\"color: #000080; text-decoration-color: #000080\">│</span><span style=\"color: #800080; text-decoration-color: #800080\">   </span><span style=\"color: #008000; text-decoration-color: #008000\">POSITIVE</span><span style=\"color: #800080; text-decoration-color: #800080\">   </span><span style=\"color: #000080; text-decoration-color: #000080\">│</span><span style=\"color: #008000; text-decoration-color: #008000\"> joy             </span><span style=\"color: #000080; text-decoration-color: #000080\">│</span><span style=\"color: #008080; text-decoration-color: #008080\">    0.995 </span><span style=\"color: #000080; text-decoration-color: #000080\">│</span>\n",
              "<span style=\"color: #000080; text-decoration-color: #000080\">│</span><span style=\"color: #808000; text-decoration-color: #808000\"> Dutch        </span><span style=\"color: #000080; text-decoration-color: #000080\">│</span><span style=\"color: #c0c0c0; text-decoration-color: #c0c0c0\"> Ik ben zo blij met dit geweldige nieuws! </span><span style=\"color: #000080; text-decoration-color: #000080\">│</span><span style=\"color: #800080; text-decoration-color: #800080\">   </span><span style=\"color: #c0c0c0; text-decoration-color: #c0c0c0\">NEUTRAL</span><span style=\"color: #800080; text-decoration-color: #800080\">    </span><span style=\"color: #000080; text-decoration-color: #000080\">│</span><span style=\"color: #008000; text-decoration-color: #008000\"> neutral         </span><span style=\"color: #000080; text-decoration-color: #000080\">│</span><span style=\"color: #008080; text-decoration-color: #008080\">    1.000 </span><span style=\"color: #000080; text-decoration-color: #000080\">│</span>\n",
              "<span style=\"color: #000080; text-decoration-color: #000080\">│</span><span style=\"color: #808000; text-decoration-color: #808000\"> Persian      </span><span style=\"color: #000080; text-decoration-color: #000080\">│</span><span style=\"color: #c0c0c0; text-decoration-color: #c0c0c0\"> من از این خبر عالی خیلی خوشحالم!         </span><span style=\"color: #000080; text-decoration-color: #000080\">│</span><span style=\"color: #800080; text-decoration-color: #800080\">   </span><span style=\"color: #c0c0c0; text-decoration-color: #c0c0c0\">NEUTRAL</span><span style=\"color: #800080; text-decoration-color: #800080\">    </span><span style=\"color: #000080; text-decoration-color: #000080\">│</span><span style=\"color: #008000; text-decoration-color: #008000\"> neutral         </span><span style=\"color: #000080; text-decoration-color: #000080\">│</span><span style=\"color: #008080; text-decoration-color: #008080\">    1.000 </span><span style=\"color: #000080; text-decoration-color: #000080\">│</span>\n",
              "<span style=\"color: #000080; text-decoration-color: #000080\">└──────────────┴──────────────────────────────────────────┴──────────────┴─────────────────┴──────────┘</span>\n",
              "</pre>\n"
            ],
            "text/plain": [
              "\u001b[3m                               Multilingual Emotion Analysis Comparison                                \u001b[0m\n",
              "\u001b[34m┏━━━━━━━━━━━━━━┳━━━━━━━━━━━━━━━━━━━━━━━━━━━━━━━━━━━━━━━━━━┳━━━━━━━━━━━━━━┳━━━━━━━━━━━━━━━━━┳━━━━━━━━━━┓\u001b[0m\n",
              "\u001b[34m┃\u001b[0m\u001b[1;36m \u001b[0m\u001b[1;36mLanguage    \u001b[0m\u001b[1;36m \u001b[0m\u001b[34m┃\u001b[0m\u001b[1;36m \u001b[0m\u001b[1;36mText                                    \u001b[0m\u001b[1;36m \u001b[0m\u001b[34m┃\u001b[0m\u001b[1;36m \u001b[0m\u001b[1;36m Sentiment  \u001b[0m\u001b[1;36m \u001b[0m\u001b[34m┃\u001b[0m\u001b[1;36m \u001b[0m\u001b[1;36mTop Emotion    \u001b[0m\u001b[1;36m \u001b[0m\u001b[34m┃\u001b[0m\u001b[1;36m \u001b[0m\u001b[1;36m   Score\u001b[0m\u001b[1;36m \u001b[0m\u001b[34m┃\u001b[0m\n",
              "\u001b[34m┡━━━━━━━━━━━━━━╇━━━━━━━━━━━━━━━━━━━━━━━━━━━━━━━━━━━━━━━━━━╇━━━━━━━━━━━━━━╇━━━━━━━━━━━━━━━━━╇━━━━━━━━━━┩\u001b[0m\n",
              "\u001b[34m│\u001b[0m\u001b[33m \u001b[0m\u001b[33mEnglish     \u001b[0m\u001b[33m \u001b[0m\u001b[34m│\u001b[0m\u001b[37m \u001b[0m\u001b[37mI'm so happy about this great news!     \u001b[0m\u001b[37m \u001b[0m\u001b[34m│\u001b[0m\u001b[35m \u001b[0m\u001b[35m  \u001b[0m\u001b[32mPOSITIVE\u001b[0m\u001b[35m  \u001b[0m\u001b[35m \u001b[0m\u001b[34m│\u001b[0m\u001b[32m \u001b[0m\u001b[32mjoy            \u001b[0m\u001b[32m \u001b[0m\u001b[34m│\u001b[0m\u001b[36m \u001b[0m\u001b[36m   0.995\u001b[0m\u001b[36m \u001b[0m\u001b[34m│\u001b[0m\n",
              "\u001b[34m│\u001b[0m\u001b[33m \u001b[0m\u001b[33mDutch       \u001b[0m\u001b[33m \u001b[0m\u001b[34m│\u001b[0m\u001b[37m \u001b[0m\u001b[37mIk ben zo blij met dit geweldige nieuws!\u001b[0m\u001b[37m \u001b[0m\u001b[34m│\u001b[0m\u001b[35m \u001b[0m\u001b[35m  \u001b[0m\u001b[37mNEUTRAL\u001b[0m\u001b[35m   \u001b[0m\u001b[35m \u001b[0m\u001b[34m│\u001b[0m\u001b[32m \u001b[0m\u001b[32mneutral        \u001b[0m\u001b[32m \u001b[0m\u001b[34m│\u001b[0m\u001b[36m \u001b[0m\u001b[36m   1.000\u001b[0m\u001b[36m \u001b[0m\u001b[34m│\u001b[0m\n",
              "\u001b[34m│\u001b[0m\u001b[33m \u001b[0m\u001b[33mPersian     \u001b[0m\u001b[33m \u001b[0m\u001b[34m│\u001b[0m\u001b[37m \u001b[0m\u001b[37mمن از این خبر عالی خیلی خوشحالم!        \u001b[0m\u001b[37m \u001b[0m\u001b[34m│\u001b[0m\u001b[35m \u001b[0m\u001b[35m  \u001b[0m\u001b[37mNEUTRAL\u001b[0m\u001b[35m   \u001b[0m\u001b[35m \u001b[0m\u001b[34m│\u001b[0m\u001b[32m \u001b[0m\u001b[32mneutral        \u001b[0m\u001b[32m \u001b[0m\u001b[34m│\u001b[0m\u001b[36m \u001b[0m\u001b[36m   1.000\u001b[0m\u001b[36m \u001b[0m\u001b[34m│\u001b[0m\n",
              "\u001b[34m└──────────────┴──────────────────────────────────────────┴──────────────┴─────────────────┴──────────┘\u001b[0m\n"
            ]
          },
          "metadata": {},
          "output_type": "display_data"
        },
        {
          "data": {
            "text/html": [
              "<pre style=\"white-space:pre;overflow-x:auto;line-height:normal;font-family:Menlo,'DejaVu Sans Mono',consolas,'Courier New',monospace\">\n",
              "</pre>\n"
            ],
            "text/plain": [
              "\n"
            ]
          },
          "metadata": {},
          "output_type": "display_data"
        },
        {
          "data": {
            "text/html": [
              "<pre style=\"white-space:pre;overflow-x:auto;line-height:normal;font-family:Menlo,'DejaVu Sans Mono',consolas,'Courier New',monospace\"><span style=\"color: #008000; text-decoration-color: #008000\">╭─────────────────────── </span><span style=\"color: #008080; text-decoration-color: #008080; font-weight: bold\">English</span><span style=\"color: #008000; text-decoration-color: #008000\"> ────────────────────────╮</span>\n",
              "<span style=\"color: #008000; text-decoration-color: #008000\">│</span> <span style=\"font-weight: bold\">Text: </span><span style=\"font-style: italic\">I'm so happy about this great news!</span>              <span style=\"color: #008000; text-decoration-color: #008000\">│</span>\n",
              "<span style=\"color: #008000; text-decoration-color: #008000\">│</span>                                                        <span style=\"color: #008000; text-decoration-color: #008000\">│</span>\n",
              "<span style=\"color: #008000; text-decoration-color: #008000\">│</span> <span style=\"font-weight: bold\">Sentiment: </span><span style=\"color: #008000; text-decoration-color: #008000\">POSITIVE</span>                                    <span style=\"color: #008000; text-decoration-color: #008000\">│</span>\n",
              "<span style=\"color: #008000; text-decoration-color: #008000\">│</span>                                                        <span style=\"color: #008000; text-decoration-color: #008000\">│</span>\n",
              "<span style=\"color: #008000; text-decoration-color: #008000\">│</span>                                                        <span style=\"color: #008000; text-decoration-color: #008000\">│</span>\n",
              "<span style=\"color: #008000; text-decoration-color: #008000\">│</span> <span style=\"color: #008080; text-decoration-color: #008080\"> joy             </span><span style=\"color: #008000; text-decoration-color: #008000\"> ████████████████████████░ </span><span style=\"color: #800080; text-decoration-color: #800080\">    0.995 </span> <span style=\"color: #008000; text-decoration-color: #008000\">│</span>\n",
              "<span style=\"color: #008000; text-decoration-color: #008000\">│</span> <span style=\"color: #008080; text-decoration-color: #008080\"> excitement      </span><span style=\"color: #008000; text-decoration-color: #008000\"> ░░░░░░░░░░░░░░░░░░░░░░░░░ </span><span style=\"color: #800080; text-decoration-color: #800080\">    0.004 </span> <span style=\"color: #008000; text-decoration-color: #008000\">│</span>\n",
              "<span style=\"color: #008000; text-decoration-color: #008000\">│</span> <span style=\"color: #008080; text-decoration-color: #008080\"> admiration      </span><span style=\"color: #008000; text-decoration-color: #008000\"> ░░░░░░░░░░░░░░░░░░░░░░░░░ </span><span style=\"color: #800080; text-decoration-color: #800080\">    0.000 </span> <span style=\"color: #008000; text-decoration-color: #008000\">│</span>\n",
              "<span style=\"color: #008000; text-decoration-color: #008000\">╰────────────────────────────────────────────────────────╯</span>\n",
              "</pre>\n"
            ],
            "text/plain": [
              "\u001b[32m╭─\u001b[0m\u001b[32m──────────────────────\u001b[0m\u001b[32m \u001b[0m\u001b[1;36mEnglish\u001b[0m\u001b[32m \u001b[0m\u001b[32m───────────────────────\u001b[0m\u001b[32m─╮\u001b[0m\n",
              "\u001b[32m│\u001b[0m \u001b[1mText: \u001b[0m\u001b[3mI'm so happy about this great news!\u001b[0m              \u001b[32m│\u001b[0m\n",
              "\u001b[32m│\u001b[0m                                                        \u001b[32m│\u001b[0m\n",
              "\u001b[32m│\u001b[0m \u001b[1mSentiment: \u001b[0m\u001b[32mPOSITIVE\u001b[0m                                    \u001b[32m│\u001b[0m\n",
              "\u001b[32m│\u001b[0m                                                        \u001b[32m│\u001b[0m\n",
              "\u001b[32m│\u001b[0m                                                        \u001b[32m│\u001b[0m\n",
              "\u001b[32m│\u001b[0m \u001b[36m \u001b[0m\u001b[36mjoy            \u001b[0m\u001b[36m \u001b[0m\u001b[32m \u001b[0m\u001b[32m████████████████████████░\u001b[0m\u001b[32m \u001b[0m\u001b[35m \u001b[0m\u001b[35m   0.995\u001b[0m\u001b[35m \u001b[0m \u001b[32m│\u001b[0m\n",
              "\u001b[32m│\u001b[0m \u001b[36m \u001b[0m\u001b[36mexcitement     \u001b[0m\u001b[36m \u001b[0m\u001b[32m \u001b[0m\u001b[32m░░░░░░░░░░░░░░░░░░░░░░░░░\u001b[0m\u001b[32m \u001b[0m\u001b[35m \u001b[0m\u001b[35m   0.004\u001b[0m\u001b[35m \u001b[0m \u001b[32m│\u001b[0m\n",
              "\u001b[32m│\u001b[0m \u001b[36m \u001b[0m\u001b[36madmiration     \u001b[0m\u001b[36m \u001b[0m\u001b[32m \u001b[0m\u001b[32m░░░░░░░░░░░░░░░░░░░░░░░░░\u001b[0m\u001b[32m \u001b[0m\u001b[35m \u001b[0m\u001b[35m   0.000\u001b[0m\u001b[35m \u001b[0m \u001b[32m│\u001b[0m\n",
              "\u001b[32m╰────────────────────────────────────────────────────────╯\u001b[0m\n"
            ]
          },
          "metadata": {},
          "output_type": "display_data"
        },
        {
          "data": {
            "text/html": [
              "<pre style=\"white-space:pre;overflow-x:auto;line-height:normal;font-family:Menlo,'DejaVu Sans Mono',consolas,'Courier New',monospace\"><span style=\"color: #c0c0c0; text-decoration-color: #c0c0c0\">╭──────────────────────── </span><span style=\"color: #008080; text-decoration-color: #008080; font-weight: bold\">Dutch</span><span style=\"color: #c0c0c0; text-decoration-color: #c0c0c0\"> ─────────────────────────╮</span>\n",
              "<span style=\"color: #c0c0c0; text-decoration-color: #c0c0c0\">│</span> <span style=\"font-weight: bold\">Text: </span><span style=\"font-style: italic\">Ik ben zo blij met dit geweldige nieuws!</span>         <span style=\"color: #c0c0c0; text-decoration-color: #c0c0c0\">│</span>\n",
              "<span style=\"color: #c0c0c0; text-decoration-color: #c0c0c0\">│</span>                                                        <span style=\"color: #c0c0c0; text-decoration-color: #c0c0c0\">│</span>\n",
              "<span style=\"color: #c0c0c0; text-decoration-color: #c0c0c0\">│</span> <span style=\"font-weight: bold\">Sentiment: </span><span style=\"color: #c0c0c0; text-decoration-color: #c0c0c0\">NEUTRAL</span>                                     <span style=\"color: #c0c0c0; text-decoration-color: #c0c0c0\">│</span>\n",
              "<span style=\"color: #c0c0c0; text-decoration-color: #c0c0c0\">│</span>                                                        <span style=\"color: #c0c0c0; text-decoration-color: #c0c0c0\">│</span>\n",
              "<span style=\"color: #c0c0c0; text-decoration-color: #c0c0c0\">│</span>                                                        <span style=\"color: #c0c0c0; text-decoration-color: #c0c0c0\">│</span>\n",
              "<span style=\"color: #c0c0c0; text-decoration-color: #c0c0c0\">│</span> <span style=\"color: #008080; text-decoration-color: #008080\"> neutral         </span><span style=\"color: #008000; text-decoration-color: #008000\"> ████████████████████████░ </span><span style=\"color: #800080; text-decoration-color: #800080\">    1.000 </span> <span style=\"color: #c0c0c0; text-decoration-color: #c0c0c0\">│</span>\n",
              "<span style=\"color: #c0c0c0; text-decoration-color: #c0c0c0\">│</span> <span style=\"color: #008080; text-decoration-color: #008080\"> anger           </span><span style=\"color: #008000; text-decoration-color: #008000\"> ░░░░░░░░░░░░░░░░░░░░░░░░░ </span><span style=\"color: #800080; text-decoration-color: #800080\">    0.000 </span> <span style=\"color: #c0c0c0; text-decoration-color: #c0c0c0\">│</span>\n",
              "<span style=\"color: #c0c0c0; text-decoration-color: #c0c0c0\">│</span> <span style=\"color: #008080; text-decoration-color: #008080\"> annoyance       </span><span style=\"color: #008000; text-decoration-color: #008000\"> ░░░░░░░░░░░░░░░░░░░░░░░░░ </span><span style=\"color: #800080; text-decoration-color: #800080\">    0.000 </span> <span style=\"color: #c0c0c0; text-decoration-color: #c0c0c0\">│</span>\n",
              "<span style=\"color: #c0c0c0; text-decoration-color: #c0c0c0\">╰────────────────────────────────────────────────────────╯</span>\n",
              "</pre>\n"
            ],
            "text/plain": [
              "\u001b[37m╭─\u001b[0m\u001b[37m───────────────────────\u001b[0m\u001b[37m \u001b[0m\u001b[1;36mDutch\u001b[0m\u001b[37m \u001b[0m\u001b[37m────────────────────────\u001b[0m\u001b[37m─╮\u001b[0m\n",
              "\u001b[37m│\u001b[0m \u001b[1mText: \u001b[0m\u001b[3mIk ben zo blij met dit geweldige nieuws!\u001b[0m         \u001b[37m│\u001b[0m\n",
              "\u001b[37m│\u001b[0m                                                        \u001b[37m│\u001b[0m\n",
              "\u001b[37m│\u001b[0m \u001b[1mSentiment: \u001b[0m\u001b[37mNEUTRAL\u001b[0m                                     \u001b[37m│\u001b[0m\n",
              "\u001b[37m│\u001b[0m                                                        \u001b[37m│\u001b[0m\n",
              "\u001b[37m│\u001b[0m                                                        \u001b[37m│\u001b[0m\n",
              "\u001b[37m│\u001b[0m \u001b[36m \u001b[0m\u001b[36mneutral        \u001b[0m\u001b[36m \u001b[0m\u001b[32m \u001b[0m\u001b[32m████████████████████████░\u001b[0m\u001b[32m \u001b[0m\u001b[35m \u001b[0m\u001b[35m   1.000\u001b[0m\u001b[35m \u001b[0m \u001b[37m│\u001b[0m\n",
              "\u001b[37m│\u001b[0m \u001b[36m \u001b[0m\u001b[36manger          \u001b[0m\u001b[36m \u001b[0m\u001b[32m \u001b[0m\u001b[32m░░░░░░░░░░░░░░░░░░░░░░░░░\u001b[0m\u001b[32m \u001b[0m\u001b[35m \u001b[0m\u001b[35m   0.000\u001b[0m\u001b[35m \u001b[0m \u001b[37m│\u001b[0m\n",
              "\u001b[37m│\u001b[0m \u001b[36m \u001b[0m\u001b[36mannoyance      \u001b[0m\u001b[36m \u001b[0m\u001b[32m \u001b[0m\u001b[32m░░░░░░░░░░░░░░░░░░░░░░░░░\u001b[0m\u001b[32m \u001b[0m\u001b[35m \u001b[0m\u001b[35m   0.000\u001b[0m\u001b[35m \u001b[0m \u001b[37m│\u001b[0m\n",
              "\u001b[37m╰────────────────────────────────────────────────────────╯\u001b[0m\n"
            ]
          },
          "metadata": {},
          "output_type": "display_data"
        },
        {
          "data": {
            "text/html": [
              "<pre style=\"white-space:pre;overflow-x:auto;line-height:normal;font-family:Menlo,'DejaVu Sans Mono',consolas,'Courier New',monospace\"><span style=\"color: #c0c0c0; text-decoration-color: #c0c0c0\">╭─────────────────────── </span><span style=\"color: #008080; text-decoration-color: #008080; font-weight: bold\">Persian</span><span style=\"color: #c0c0c0; text-decoration-color: #c0c0c0\"> ────────────────────────╮</span>\n",
              "<span style=\"color: #c0c0c0; text-decoration-color: #c0c0c0\">│</span> <span style=\"font-weight: bold\">Text: </span><span style=\"font-style: italic\">من از این خبر عالی خیلی خوشحالم!</span>                 <span style=\"color: #c0c0c0; text-decoration-color: #c0c0c0\">│</span>\n",
              "<span style=\"color: #c0c0c0; text-decoration-color: #c0c0c0\">│</span>                                                        <span style=\"color: #c0c0c0; text-decoration-color: #c0c0c0\">│</span>\n",
              "<span style=\"color: #c0c0c0; text-decoration-color: #c0c0c0\">│</span> <span style=\"font-weight: bold\">Sentiment: </span><span style=\"color: #c0c0c0; text-decoration-color: #c0c0c0\">NEUTRAL</span>                                     <span style=\"color: #c0c0c0; text-decoration-color: #c0c0c0\">│</span>\n",
              "<span style=\"color: #c0c0c0; text-decoration-color: #c0c0c0\">│</span>                                                        <span style=\"color: #c0c0c0; text-decoration-color: #c0c0c0\">│</span>\n",
              "<span style=\"color: #c0c0c0; text-decoration-color: #c0c0c0\">│</span>                                                        <span style=\"color: #c0c0c0; text-decoration-color: #c0c0c0\">│</span>\n",
              "<span style=\"color: #c0c0c0; text-decoration-color: #c0c0c0\">│</span> <span style=\"color: #008080; text-decoration-color: #008080\"> neutral         </span><span style=\"color: #008000; text-decoration-color: #008000\"> ████████████████████████░ </span><span style=\"color: #800080; text-decoration-color: #800080\">    1.000 </span> <span style=\"color: #c0c0c0; text-decoration-color: #c0c0c0\">│</span>\n",
              "<span style=\"color: #c0c0c0; text-decoration-color: #c0c0c0\">│</span> <span style=\"color: #008080; text-decoration-color: #008080\"> curiosity       </span><span style=\"color: #008000; text-decoration-color: #008000\"> ░░░░░░░░░░░░░░░░░░░░░░░░░ </span><span style=\"color: #800080; text-decoration-color: #800080\">    0.000 </span> <span style=\"color: #c0c0c0; text-decoration-color: #c0c0c0\">│</span>\n",
              "<span style=\"color: #c0c0c0; text-decoration-color: #c0c0c0\">│</span> <span style=\"color: #008080; text-decoration-color: #008080\"> sadness         </span><span style=\"color: #008000; text-decoration-color: #008000\"> ░░░░░░░░░░░░░░░░░░░░░░░░░ </span><span style=\"color: #800080; text-decoration-color: #800080\">    0.000 </span> <span style=\"color: #c0c0c0; text-decoration-color: #c0c0c0\">│</span>\n",
              "<span style=\"color: #c0c0c0; text-decoration-color: #c0c0c0\">╰────────────────────────────────────────────────────────╯</span>\n",
              "</pre>\n"
            ],
            "text/plain": [
              "\u001b[37m╭─\u001b[0m\u001b[37m──────────────────────\u001b[0m\u001b[37m \u001b[0m\u001b[1;36mPersian\u001b[0m\u001b[37m \u001b[0m\u001b[37m───────────────────────\u001b[0m\u001b[37m─╮\u001b[0m\n",
              "\u001b[37m│\u001b[0m \u001b[1mText: \u001b[0m\u001b[3mمن از این خبر عالی خیلی خوشحالم!\u001b[0m                 \u001b[37m│\u001b[0m\n",
              "\u001b[37m│\u001b[0m                                                        \u001b[37m│\u001b[0m\n",
              "\u001b[37m│\u001b[0m \u001b[1mSentiment: \u001b[0m\u001b[37mNEUTRAL\u001b[0m                                     \u001b[37m│\u001b[0m\n",
              "\u001b[37m│\u001b[0m                                                        \u001b[37m│\u001b[0m\n",
              "\u001b[37m│\u001b[0m                                                        \u001b[37m│\u001b[0m\n",
              "\u001b[37m│\u001b[0m \u001b[36m \u001b[0m\u001b[36mneutral        \u001b[0m\u001b[36m \u001b[0m\u001b[32m \u001b[0m\u001b[32m████████████████████████░\u001b[0m\u001b[32m \u001b[0m\u001b[35m \u001b[0m\u001b[35m   1.000\u001b[0m\u001b[35m \u001b[0m \u001b[37m│\u001b[0m\n",
              "\u001b[37m│\u001b[0m \u001b[36m \u001b[0m\u001b[36mcuriosity      \u001b[0m\u001b[36m \u001b[0m\u001b[32m \u001b[0m\u001b[32m░░░░░░░░░░░░░░░░░░░░░░░░░\u001b[0m\u001b[32m \u001b[0m\u001b[35m \u001b[0m\u001b[35m   0.000\u001b[0m\u001b[35m \u001b[0m \u001b[37m│\u001b[0m\n",
              "\u001b[37m│\u001b[0m \u001b[36m \u001b[0m\u001b[36msadness        \u001b[0m\u001b[36m \u001b[0m\u001b[32m \u001b[0m\u001b[32m░░░░░░░░░░░░░░░░░░░░░░░░░\u001b[0m\u001b[32m \u001b[0m\u001b[35m \u001b[0m\u001b[35m   0.000\u001b[0m\u001b[35m \u001b[0m \u001b[37m│\u001b[0m\n",
              "\u001b[37m╰────────────────────────────────────────────────────────╯\u001b[0m\n"
            ]
          },
          "metadata": {},
          "output_type": "display_data"
        }
      ],
      "source": [
        "# Similar texts in different languages\n",
        "multilingual_texts = [\n",
        "    {\"lang\": \"English\", \"text\": \"I'm so happy about this great news!\"},\n",
        "    {\"lang\": \"Dutch\", \"text\": \"Ik ben zo blij met dit geweldige nieuws!\"},\n",
        "    {\"lang\": \"Persian\", \"text\": \"من از این خبر عالی خیلی خوشحالم!\"},\n",
        "]\n",
        "\n",
        "print_header(\"Comparing Similar Texts Across Languages\", \"Same meaning, different languages\")\n",
        "\n",
        "# Analyze all texts first\n",
        "results = []\n",
        "for item in multilingual_texts:\n",
        "    result = classifier.analyze(item[\"text\"], top_k=3)\n",
        "    results.append((item, result))\n",
        "\n",
        "# Create comparison table\n",
        "comparison_table = Table(\n",
        "    title=\"Multilingual Emotion Analysis Comparison\",\n",
        "    show_header=True,\n",
        "    header_style=\"bold cyan\",\n",
        "    border_style=\"blue\"\n",
        ")\n",
        "comparison_table.add_column(\"Language\", style=\"yellow\", width=12)\n",
        "comparison_table.add_column(\"Text\", style=\"white\", width=40)\n",
        "comparison_table.add_column(\"Sentiment\", style=\"magenta\", width=12, justify=\"center\")\n",
        "comparison_table.add_column(\"Top Emotion\", style=\"green\", width=15)\n",
        "comparison_table.add_column(\"Score\", style=\"cyan\", justify=\"right\", width=8)\n",
        "\n",
        "for item, result in results:\n",
        "    sentiment = result.get_sentiment_group()\n",
        "    top_emotion, top_score = result.get_top_emotions()[0]\n",
        "\n",
        "    # Color-coded sentiment\n",
        "    sentiment_colors = {\"positive\": \"green\", \"negative\": \"red\", \"ambiguous\": \"yellow\", \"neutral\": \"white\"}\n",
        "    color = sentiment_colors.get(sentiment, \"white\")\n",
        "    sentiment_display = f\"[{color}]{sentiment.upper()}[/{color}]\"\n",
        "\n",
        "    comparison_table.add_row(\n",
        "        item[\"lang\"],\n",
        "        item[\"text\"],\n",
        "        sentiment_display,\n",
        "        top_emotion,\n",
        "        f\"{top_score:.3f}\"\n",
        "    )\n",
        "\n",
        "console.print(comparison_table)\n",
        "\n",
        "# Detailed breakdown for each language\n",
        "console.print()\n",
        "for item, result in results:\n",
        "    # Create panel for each language\n",
        "    sentiment = result.get_sentiment_group()\n",
        "    sentiment_colors = {\"positive\": \"green\", \"negative\": \"red\", \"ambiguous\": \"yellow\", \"neutral\": \"white\"}\n",
        "    color = sentiment_colors.get(sentiment, \"white\")\n",
        "\n",
        "    # Create emotion breakdown table\n",
        "    emotion_table = Table(show_header=False, box=None, padding=(0, 1))\n",
        "    emotion_table.add_column(\"Emotion\", style=\"cyan\", width=15)\n",
        "    emotion_table.add_column(\"Bar\", style=\"green\", width=25)\n",
        "    emotion_table.add_column(\"Score\", style=\"magenta\", justify=\"right\", width=8)\n",
        "\n",
        "    for emotion, score in result.get_top_emotions():\n",
        "        bar_length = int(score * 25)\n",
        "        bar = \"█\" * bar_length + \"░\" * (25 - bar_length)\n",
        "        emotion_table.add_row(emotion, bar, f\"{score:.3f}\")\n",
        "\n",
        "    # Create panel with all info\n",
        "    panel_content = Text()\n",
        "    panel_content.append(f\"Text: \", style=\"bold\")\n",
        "    panel_content.append(f\"{item['text']}\\n\\n\", style=\"italic\")\n",
        "    panel_content.append(f\"Sentiment: \", style=\"bold\")\n",
        "    panel_content.append(f\"{sentiment.upper()}\\n\\n\", style=color)\n",
        "\n",
        "    panel_group = Group(panel_content, emotion_table)\n",
        "\n",
        "    panel = Panel(\n",
        "        panel_group,\n",
        "        title=f\"[bold cyan]{item['lang']}[/bold cyan]\",\n",
        "        border_style=color,\n",
        "        expand=False\n",
        "    )\n",
        "    console.print(panel)\n"
      ]
    },
    {
      "cell_type": "markdown",
      "metadata": {},
      "source": [
        "## 13. Emotion Statistics\n",
        "\n",
        "Analyze emotion distribution across multiple texts.\n"
      ]
    },
    {
      "cell_type": "code",
      "execution_count": 13,
      "metadata": {},
      "outputs": [
        {
          "data": {
            "text/html": [
              "<pre style=\"white-space:pre;overflow-x:auto;line-height:normal;font-family:Menlo,'DejaVu Sans Mono',consolas,'Courier New',monospace\"><span style=\"color: #008080; text-decoration-color: #008080\">╭─────────────────────────────────────────────────────────────────────────────────────────────────────────────────╮</span>\n",
              "<span style=\"color: #008080; text-decoration-color: #008080\">│</span> <span style=\"color: #008080; text-decoration-color: #008080; font-weight: bold\">Emotion Statistics Across All Sample Texts</span>                                                                      <span style=\"color: #008080; text-decoration-color: #008080\">│</span>\n",
              "<span style=\"color: #008080; text-decoration-color: #008080\">│</span> <span style=\"color: #7f7f7f; text-decoration-color: #7f7f7f\">Analyzed 16 texts</span>                                                                                               <span style=\"color: #008080; text-decoration-color: #008080\">│</span>\n",
              "<span style=\"color: #008080; text-decoration-color: #008080\">╰─────────────────────────────────────────────────────────────────────────────────────────────────────────────────╯</span>\n",
              "</pre>\n"
            ],
            "text/plain": [
              "\u001b[36m╭─────────────────────────────────────────────────────────────────────────────────────────────────────────────────╮\u001b[0m\n",
              "\u001b[36m│\u001b[0m \u001b[1;36mEmotion Statistics Across All Sample Texts\u001b[0m                                                                      \u001b[36m│\u001b[0m\n",
              "\u001b[36m│\u001b[0m \u001b[2mAnalyzed 16 texts\u001b[0m                                                                                               \u001b[36m│\u001b[0m\n",
              "\u001b[36m╰─────────────────────────────────────────────────────────────────────────────────────────────────────────────────╯\u001b[0m\n"
            ]
          },
          "metadata": {},
          "output_type": "display_data"
        },
        {
          "data": {
            "text/html": [
              "<pre style=\"white-space:pre;overflow-x:auto;line-height:normal;font-family:Menlo,'DejaVu Sans Mono',consolas,'Courier New',monospace\"><span style=\"color: #000080; text-decoration-color: #000080; font-weight: bold\">ℹ</span> Total texts analyzed: <span style=\"color: #008080; text-decoration-color: #008080; font-weight: bold\">16</span>\n",
              "</pre>\n"
            ],
            "text/plain": [
              "\u001b[1;34mℹ\u001b[0m Total texts analyzed: \u001b[1;36m16\u001b[0m\n"
            ]
          },
          "metadata": {},
          "output_type": "display_data"
        },
        {
          "data": {
            "text/html": [
              "<pre style=\"white-space:pre;overflow-x:auto;line-height:normal;font-family:Menlo,'DejaVu Sans Mono',consolas,'Courier New',monospace\"><span style=\"font-style: italic\">                         Top Emotions Detected                          </span>\n",
              "┏━━━━━━━━━━━━━━━━┳━━━━━━━┳━━━━━━━━━━━━┳━━━━━━━━━━━━━━━━━━━━━━━━━━━━━━━━┓\n",
              "┃<span style=\"color: #008080; text-decoration-color: #008080; font-weight: bold\"> Emotion        </span>┃<span style=\"color: #008080; text-decoration-color: #008080; font-weight: bold\"> Count </span>┃<span style=\"color: #008080; text-decoration-color: #008080; font-weight: bold\"> Percentage </span>┃<span style=\"color: #008080; text-decoration-color: #008080; font-weight: bold\"> Bar                            </span>┃\n",
              "┡━━━━━━━━━━━━━━━━╇━━━━━━━╇━━━━━━━━━━━━╇━━━━━━━━━━━━━━━━━━━━━━━━━━━━━━━━┩\n",
              "│<span style=\"color: #808000; text-decoration-color: #808000\"> neutral        </span>│<span style=\"color: #800080; text-decoration-color: #800080\">    11 </span>│<span style=\"color: #008000; text-decoration-color: #008000\">      68.8% </span>│<span style=\"color: #008080; text-decoration-color: #008080\"> ████████████████████░░░░░░░░░░ </span>│\n",
              "│<span style=\"color: #808000; text-decoration-color: #808000\"> excitement     </span>│<span style=\"color: #800080; text-decoration-color: #800080\">     1 </span>│<span style=\"color: #008000; text-decoration-color: #008000\">       6.2% </span>│<span style=\"color: #008080; text-decoration-color: #008080\"> █░░░░░░░░░░░░░░░░░░░░░░░░░░░░░ </span>│\n",
              "│<span style=\"color: #808000; text-decoration-color: #808000\"> disappointment </span>│<span style=\"color: #800080; text-decoration-color: #800080\">     1 </span>│<span style=\"color: #008000; text-decoration-color: #008000\">       6.2% </span>│<span style=\"color: #008080; text-decoration-color: #008080\"> █░░░░░░░░░░░░░░░░░░░░░░░░░░░░░ </span>│\n",
              "│<span style=\"color: #808000; text-decoration-color: #808000\"> gratitude      </span>│<span style=\"color: #800080; text-decoration-color: #800080\">     1 </span>│<span style=\"color: #008000; text-decoration-color: #008000\">       6.2% </span>│<span style=\"color: #008080; text-decoration-color: #008080\"> █░░░░░░░░░░░░░░░░░░░░░░░░░░░░░ </span>│\n",
              "│<span style=\"color: #808000; text-decoration-color: #808000\"> curiosity      </span>│<span style=\"color: #800080; text-decoration-color: #800080\">     1 </span>│<span style=\"color: #008000; text-decoration-color: #008000\">       6.2% </span>│<span style=\"color: #008080; text-decoration-color: #008080\"> █░░░░░░░░░░░░░░░░░░░░░░░░░░░░░ </span>│\n",
              "│<span style=\"color: #808000; text-decoration-color: #808000\"> disgust        </span>│<span style=\"color: #800080; text-decoration-color: #800080\">     1 </span>│<span style=\"color: #008000; text-decoration-color: #008000\">       6.2% </span>│<span style=\"color: #008080; text-decoration-color: #008080\"> █░░░░░░░░░░░░░░░░░░░░░░░░░░░░░ </span>│\n",
              "└────────────────┴───────┴────────────┴────────────────────────────────┘\n",
              "</pre>\n"
            ],
            "text/plain": [
              "\u001b[3m                         Top Emotions Detected                          \u001b[0m\n",
              "┏━━━━━━━━━━━━━━━━┳━━━━━━━┳━━━━━━━━━━━━┳━━━━━━━━━━━━━━━━━━━━━━━━━━━━━━━━┓\n",
              "┃\u001b[1;36m \u001b[0m\u001b[1;36mEmotion       \u001b[0m\u001b[1;36m \u001b[0m┃\u001b[1;36m \u001b[0m\u001b[1;36mCount\u001b[0m\u001b[1;36m \u001b[0m┃\u001b[1;36m \u001b[0m\u001b[1;36mPercentage\u001b[0m\u001b[1;36m \u001b[0m┃\u001b[1;36m \u001b[0m\u001b[1;36mBar                           \u001b[0m\u001b[1;36m \u001b[0m┃\n",
              "┡━━━━━━━━━━━━━━━━╇━━━━━━━╇━━━━━━━━━━━━╇━━━━━━━━━━━━━━━━━━━━━━━━━━━━━━━━┩\n",
              "│\u001b[33m \u001b[0m\u001b[33mneutral       \u001b[0m\u001b[33m \u001b[0m│\u001b[35m \u001b[0m\u001b[35m   11\u001b[0m\u001b[35m \u001b[0m│\u001b[32m \u001b[0m\u001b[32m     68.8%\u001b[0m\u001b[32m \u001b[0m│\u001b[36m \u001b[0m\u001b[36m████████████████████░░░░░░░░░░\u001b[0m\u001b[36m \u001b[0m│\n",
              "│\u001b[33m \u001b[0m\u001b[33mexcitement    \u001b[0m\u001b[33m \u001b[0m│\u001b[35m \u001b[0m\u001b[35m    1\u001b[0m\u001b[35m \u001b[0m│\u001b[32m \u001b[0m\u001b[32m      6.2%\u001b[0m\u001b[32m \u001b[0m│\u001b[36m \u001b[0m\u001b[36m█░░░░░░░░░░░░░░░░░░░░░░░░░░░░░\u001b[0m\u001b[36m \u001b[0m│\n",
              "│\u001b[33m \u001b[0m\u001b[33mdisappointment\u001b[0m\u001b[33m \u001b[0m│\u001b[35m \u001b[0m\u001b[35m    1\u001b[0m\u001b[35m \u001b[0m│\u001b[32m \u001b[0m\u001b[32m      6.2%\u001b[0m\u001b[32m \u001b[0m│\u001b[36m \u001b[0m\u001b[36m█░░░░░░░░░░░░░░░░░░░░░░░░░░░░░\u001b[0m\u001b[36m \u001b[0m│\n",
              "│\u001b[33m \u001b[0m\u001b[33mgratitude     \u001b[0m\u001b[33m \u001b[0m│\u001b[35m \u001b[0m\u001b[35m    1\u001b[0m\u001b[35m \u001b[0m│\u001b[32m \u001b[0m\u001b[32m      6.2%\u001b[0m\u001b[32m \u001b[0m│\u001b[36m \u001b[0m\u001b[36m█░░░░░░░░░░░░░░░░░░░░░░░░░░░░░\u001b[0m\u001b[36m \u001b[0m│\n",
              "│\u001b[33m \u001b[0m\u001b[33mcuriosity     \u001b[0m\u001b[33m \u001b[0m│\u001b[35m \u001b[0m\u001b[35m    1\u001b[0m\u001b[35m \u001b[0m│\u001b[32m \u001b[0m\u001b[32m      6.2%\u001b[0m\u001b[32m \u001b[0m│\u001b[36m \u001b[0m\u001b[36m█░░░░░░░░░░░░░░░░░░░░░░░░░░░░░\u001b[0m\u001b[36m \u001b[0m│\n",
              "│\u001b[33m \u001b[0m\u001b[33mdisgust       \u001b[0m\u001b[33m \u001b[0m│\u001b[35m \u001b[0m\u001b[35m    1\u001b[0m\u001b[35m \u001b[0m│\u001b[32m \u001b[0m\u001b[32m      6.2%\u001b[0m\u001b[32m \u001b[0m│\u001b[36m \u001b[0m\u001b[36m█░░░░░░░░░░░░░░░░░░░░░░░░░░░░░\u001b[0m\u001b[36m \u001b[0m│\n",
              "└────────────────┴───────┴────────────┴────────────────────────────────┘\n"
            ]
          },
          "metadata": {},
          "output_type": "display_data"
        },
        {
          "data": {
            "text/html": [
              "<pre style=\"white-space:pre;overflow-x:auto;line-height:normal;font-family:Menlo,'DejaVu Sans Mono',consolas,'Courier New',monospace\"><span style=\"font-style: italic\">                      Sentiment Distribution                       </span>\n",
              "┏━━━━━━━━━━━┳━━━━━━━┳━━━━━━━━━━━━┳━━━━━━━━━━━━━━━━━━━━━━━━━━━━━━━━┓\n",
              "┃<span style=\"color: #008080; text-decoration-color: #008080; font-weight: bold\"> Sentiment </span>┃<span style=\"color: #008080; text-decoration-color: #008080; font-weight: bold\"> Count </span>┃<span style=\"color: #008080; text-decoration-color: #008080; font-weight: bold\"> Percentage </span>┃<span style=\"color: #008080; text-decoration-color: #008080; font-weight: bold\"> Bar                            </span>┃\n",
              "┡━━━━━━━━━━━╇━━━━━━━╇━━━━━━━━━━━━╇━━━━━━━━━━━━━━━━━━━━━━━━━━━━━━━━┩\n",
              "│<span style=\"color: #808000; text-decoration-color: #808000\"> NEUTRAL   </span>│<span style=\"color: #800080; text-decoration-color: #800080\">    11 </span>│<span style=\"color: #008000; text-decoration-color: #008000\">      68.8% </span>│<span style=\"color: #008080; text-decoration-color: #008080\"> ████████████████████░░░░░░░░░░ </span>│\n",
              "│<span style=\"color: #808000; text-decoration-color: #808000\"> </span><span style=\"color: #008000; text-decoration-color: #008000\">POSITIVE</span><span style=\"color: #808000; text-decoration-color: #808000\">  </span>│<span style=\"color: #800080; text-decoration-color: #800080\">     2 </span>│<span style=\"color: #008000; text-decoration-color: #008000\">      12.5% </span>│<span style=\"color: #008080; text-decoration-color: #008080\"> ███░░░░░░░░░░░░░░░░░░░░░░░░░░░ </span>│\n",
              "│<span style=\"color: #808000; text-decoration-color: #808000\"> </span><span style=\"color: #800000; text-decoration-color: #800000\">NEGATIVE</span><span style=\"color: #808000; text-decoration-color: #808000\">  </span>│<span style=\"color: #800080; text-decoration-color: #800080\">     2 </span>│<span style=\"color: #008000; text-decoration-color: #008000\">      12.5% </span>│<span style=\"color: #008080; text-decoration-color: #008080\"> ███░░░░░░░░░░░░░░░░░░░░░░░░░░░ </span>│\n",
              "│<span style=\"color: #808000; text-decoration-color: #808000\"> AMBIGUOUS </span>│<span style=\"color: #800080; text-decoration-color: #800080\">     1 </span>│<span style=\"color: #008000; text-decoration-color: #008000\">       6.2% </span>│<span style=\"color: #008080; text-decoration-color: #008080\"> █░░░░░░░░░░░░░░░░░░░░░░░░░░░░░ </span>│\n",
              "└───────────┴───────┴────────────┴────────────────────────────────┘\n",
              "</pre>\n"
            ],
            "text/plain": [
              "\u001b[3m                      Sentiment Distribution                       \u001b[0m\n",
              "┏━━━━━━━━━━━┳━━━━━━━┳━━━━━━━━━━━━┳━━━━━━━━━━━━━━━━━━━━━━━━━━━━━━━━┓\n",
              "┃\u001b[1;36m \u001b[0m\u001b[1;36mSentiment\u001b[0m\u001b[1;36m \u001b[0m┃\u001b[1;36m \u001b[0m\u001b[1;36mCount\u001b[0m\u001b[1;36m \u001b[0m┃\u001b[1;36m \u001b[0m\u001b[1;36mPercentage\u001b[0m\u001b[1;36m \u001b[0m┃\u001b[1;36m \u001b[0m\u001b[1;36mBar                           \u001b[0m\u001b[1;36m \u001b[0m┃\n",
              "┡━━━━━━━━━━━╇━━━━━━━╇━━━━━━━━━━━━╇━━━━━━━━━━━━━━━━━━━━━━━━━━━━━━━━┩\n",
              "│\u001b[33m \u001b[0m\u001b[33mNEUTRAL  \u001b[0m\u001b[33m \u001b[0m│\u001b[35m \u001b[0m\u001b[35m   11\u001b[0m\u001b[35m \u001b[0m│\u001b[32m \u001b[0m\u001b[32m     68.8%\u001b[0m\u001b[32m \u001b[0m│\u001b[36m \u001b[0m\u001b[36m████████████████████░░░░░░░░░░\u001b[0m\u001b[36m \u001b[0m│\n",
              "│\u001b[33m \u001b[0m\u001b[32mPOSITIVE\u001b[0m\u001b[33m \u001b[0m\u001b[33m \u001b[0m│\u001b[35m \u001b[0m\u001b[35m    2\u001b[0m\u001b[35m \u001b[0m│\u001b[32m \u001b[0m\u001b[32m     12.5%\u001b[0m\u001b[32m \u001b[0m│\u001b[36m \u001b[0m\u001b[36m███░░░░░░░░░░░░░░░░░░░░░░░░░░░\u001b[0m\u001b[36m \u001b[0m│\n",
              "│\u001b[33m \u001b[0m\u001b[31mNEGATIVE\u001b[0m\u001b[33m \u001b[0m\u001b[33m \u001b[0m│\u001b[35m \u001b[0m\u001b[35m    2\u001b[0m\u001b[35m \u001b[0m│\u001b[32m \u001b[0m\u001b[32m     12.5%\u001b[0m\u001b[32m \u001b[0m│\u001b[36m \u001b[0m\u001b[36m███░░░░░░░░░░░░░░░░░░░░░░░░░░░\u001b[0m\u001b[36m \u001b[0m│\n",
              "│\u001b[33m \u001b[0m\u001b[33mAMBIGUOUS\u001b[0m\u001b[33m \u001b[0m│\u001b[35m \u001b[0m\u001b[35m    1\u001b[0m\u001b[35m \u001b[0m│\u001b[32m \u001b[0m\u001b[32m      6.2%\u001b[0m\u001b[32m \u001b[0m│\u001b[36m \u001b[0m\u001b[36m█░░░░░░░░░░░░░░░░░░░░░░░░░░░░░\u001b[0m\u001b[36m \u001b[0m│\n",
              "└───────────┴───────┴────────────┴────────────────────────────────┘\n"
            ]
          },
          "metadata": {},
          "output_type": "display_data"
        }
      ],
      "source": [
        "# Collect all sample texts\n",
        "all_texts = []\n",
        "for lang in [\"english\", \"dutch\", \"persian\"]:\n",
        "    samples = get_samples_by_language(lang)\n",
        "    all_texts.extend([s[\"text\"] for s in samples])\n",
        "\n",
        "# Classify all texts and count top emotions\n",
        "top_emotion_counts = Counter()\n",
        "sentiment_counts = Counter()\n",
        "\n",
        "for text in all_texts:\n",
        "    result = classifier.analyze(text, top_k=1)\n",
        "    top_emotion = result.get_top_emotions()[0][0]\n",
        "    sentiment = result.get_sentiment_group()\n",
        "\n",
        "    top_emotion_counts[top_emotion] += 1\n",
        "    sentiment_counts[sentiment] += 1\n",
        "\n",
        "print_header(\"Emotion Statistics Across All Sample Texts\", f\"Analyzed {len(all_texts)} texts\")\n",
        "\n",
        "print_info(f\"Total texts analyzed: {len(all_texts)}\")\n",
        "\n",
        "# Top Emotions table\n",
        "table1 = Table(title=\"Top Emotions Detected\", show_header=True, header_style=\"bold cyan\")\n",
        "table1.add_column(\"Emotion\", style=\"yellow\")\n",
        "table1.add_column(\"Count\", style=\"magenta\", justify=\"right\")\n",
        "table1.add_column(\"Percentage\", style=\"green\", justify=\"right\")\n",
        "table1.add_column(\"Bar\", style=\"cyan\")\n",
        "\n",
        "for emotion, count in top_emotion_counts.most_common():\n",
        "    percentage = (count / len(all_texts)) * 100\n",
        "    bar_length = int(percentage / 100 * 30)\n",
        "    bar = \"█\" * bar_length + \"░\" * (30 - bar_length)\n",
        "    table1.add_row(emotion, str(count), f\"{percentage:5.1f}%\", bar)\n",
        "\n",
        "console.print(table1)\n",
        "\n",
        "# Sentiment Distribution table\n",
        "table2 = Table(title=\"Sentiment Distribution\", show_header=True, header_style=\"bold cyan\")\n",
        "table2.add_column(\"Sentiment\", style=\"yellow\")\n",
        "table2.add_column(\"Count\", style=\"magenta\", justify=\"right\")\n",
        "table2.add_column(\"Percentage\", style=\"green\", justify=\"right\")\n",
        "table2.add_column(\"Bar\", style=\"cyan\")\n",
        "\n",
        "for sentiment, count in sentiment_counts.most_common():\n",
        "    percentage = (count / len(all_texts)) * 100\n",
        "    bar_length = int(percentage / 100 * 30)\n",
        "    bar = \"█\" * bar_length + \"░\" * (30 - bar_length)\n",
        "    # Color code by sentiment\n",
        "    if sentiment == \"positive\":\n",
        "        sentiment_display = f\"[green]{sentiment.upper()}[/green]\"\n",
        "    elif sentiment == \"negative\":\n",
        "        sentiment_display = f\"[red]{sentiment.upper()}[/red]\"\n",
        "    elif sentiment == \"ambiguous\":\n",
        "        sentiment_display = f\"[yellow]{sentiment.upper()}[/yellow]\"\n",
        "    else:\n",
        "        sentiment_display = sentiment.upper()\n",
        "    table2.add_row(sentiment_display, str(count), f\"{percentage:5.1f}%\", bar)\n",
        "\n",
        "console.print(table2)\n"
      ]
    },
    {
      "cell_type": "markdown",
      "metadata": {},
      "source": [
        "## 14. Custom Examples - Try Your Own!\n",
        "\n",
        "Use this cell to experiment with your own texts.\n"
      ]
    },
    {
      "cell_type": "code",
      "execution_count": 14,
      "metadata": {},
      "outputs": [],
      "source": [
        "# Add your own texts here\n",
        "my_texts = [\n",
        "    \"Your text here\",\n",
        "    # Add more texts...\n",
        "]\n",
        "\n",
        "for text in my_texts:\n",
        "    if text != \"Your text here\":  # Skip placeholder\n",
        "        result = classifier.analyze(text, top_k=3)\n",
        "        format_emotion_output(result, use_rich=True)\n",
        "        console.print()\n"
      ]
    },
    {
      "cell_type": "markdown",
      "metadata": {},
      "source": [
        "## 15. Enhanced Analysis: Emotion + Linguistics\n",
        "\n",
        "Now let's explore the enhanced classifier that combines emotion detection with linguistic analysis for academic research.\n"
      ]
    },
    {
      "cell_type": "code",
      "execution_count": 15,
      "metadata": {},
      "outputs": [
        {
          "data": {
            "text/html": [
              "<pre style=\"white-space:pre;overflow-x:auto;line-height:normal;font-family:Menlo,'DejaVu Sans Mono',consolas,'Courier New',monospace\"><span style=\"color: #008000; text-decoration-color: #008000; font-weight: bold\">✓</span> Enhanced analyzer loaded!\n",
              "</pre>\n"
            ],
            "text/plain": [
              "\u001b[1;32m✓\u001b[0m Enhanced analyzer loaded!\n"
            ]
          },
          "metadata": {},
          "output_type": "display_data"
        }
      ],
      "source": [
        "# Initialize enhanced analyzer\n",
        "# Using English with GoEmotions model (default)\n",
        "enhanced_classifier = EnhancedAnalyzer(language=\"english\", model_key=\"goemotions\")\n",
        "enhanced_classifier.load_model()\n",
        "\n",
        "print_success(\"Enhanced analyzer loaded!\")\n"
      ]
    },
    {
      "cell_type": "markdown",
      "metadata": {},
      "source": [
        "## 16. Linguistic Dimensions\n",
        "\n",
        "The enhanced classifier analyzes four key linguistic dimensions:\n",
        "\n",
        "1. **Formality**: formal, colloquial, neutral\n",
        "2. **Tone**: friendly, rough, serious, kind, neutral\n",
        "3. **Intensity**: high, medium, low emotional intensity\n",
        "4. **Communication Style**: direct, indirect, assertive, passive\n"
      ]
    },
    {
      "cell_type": "code",
      "execution_count": 16,
      "metadata": {},
      "outputs": [
        {
          "data": {
            "text/html": [
              "<pre style=\"white-space:pre;overflow-x:auto;line-height:normal;font-family:Menlo,'DejaVu Sans Mono',consolas,'Courier New',monospace\"><span style=\"color: #008080; text-decoration-color: #008080\">╭─────────────────────────────────────────────────────────────────────────────────────────────────────────────────╮</span>\n",
              "<span style=\"color: #008080; text-decoration-color: #008080\">│</span> <span style=\"color: #008080; text-decoration-color: #008080; font-weight: bold\">COMPREHENSIVE TEXT ANALYSIS</span>                                                                                     <span style=\"color: #008080; text-decoration-color: #008080\">│</span>\n",
              "<span style=\"color: #008080; text-decoration-color: #008080\">│</span> <span style=\"color: #7f7f7f; text-decoration-color: #7f7f7f\">Emotion Classification + Linguistic Analysis</span>                                                                    <span style=\"color: #008080; text-decoration-color: #008080\">│</span>\n",
              "<span style=\"color: #008080; text-decoration-color: #008080\">╰─────────────────────────────────────────────────────────────────────────────────────────────────────────────────╯</span>\n",
              "</pre>\n"
            ],
            "text/plain": [
              "\u001b[36m╭─────────────────────────────────────────────────────────────────────────────────────────────────────────────────╮\u001b[0m\n",
              "\u001b[36m│\u001b[0m \u001b[1;36mCOMPREHENSIVE TEXT ANALYSIS\u001b[0m                                                                                     \u001b[36m│\u001b[0m\n",
              "\u001b[36m│\u001b[0m \u001b[2mEmotion Classification + Linguistic Analysis\u001b[0m                                                                    \u001b[36m│\u001b[0m\n",
              "\u001b[36m╰─────────────────────────────────────────────────────────────────────────────────────────────────────────────────╯\u001b[0m\n"
            ]
          },
          "metadata": {},
          "output_type": "display_data"
        },
        {
          "data": {
            "text/html": [
              "<pre style=\"white-space:pre;overflow-x:auto;line-height:normal;font-family:Menlo,'DejaVu Sans Mono',consolas,'Courier New',monospace\"><span style=\"color: #000080; text-decoration-color: #000080\">╭───────────────────────────────────────────────────── </span><span style=\"color: #000080; text-decoration-color: #000080; font-weight: bold\">Text</span><span style=\"color: #000080; text-decoration-color: #000080\"> ──────────────────────────────────────────────────────╮</span>\n",
              "<span style=\"color: #000080; text-decoration-color: #000080\">│</span>                                                                                                                 <span style=\"color: #000080; text-decoration-color: #000080\">│</span>\n",
              "<span style=\"color: #000080; text-decoration-color: #000080\">│</span>  I hereby formally request your assistance with this matter. Your prompt attention would be greatly a...        <span style=\"color: #000080; text-decoration-color: #000080\">│</span>\n",
              "<span style=\"color: #000080; text-decoration-color: #000080\">│</span>                                                                                                                 <span style=\"color: #000080; text-decoration-color: #000080\">│</span>\n",
              "<span style=\"color: #000080; text-decoration-color: #000080\">╰─────────────────────────────────────────────────────────────────────────────────────────────────────────────────╯</span>\n",
              "</pre>\n"
            ],
            "text/plain": [
              "\u001b[34m╭─\u001b[0m\u001b[34m────────────────────────────────────────────────────\u001b[0m\u001b[34m \u001b[0m\u001b[1;34mText\u001b[0m\u001b[34m \u001b[0m\u001b[34m─────────────────────────────────────────────────────\u001b[0m\u001b[34m─╮\u001b[0m\n",
              "\u001b[34m│\u001b[0m                                                                                                                 \u001b[34m│\u001b[0m\n",
              "\u001b[34m│\u001b[0m  I hereby formally request your assistance with this matter. Your prompt attention would be greatly a...        \u001b[34m│\u001b[0m\n",
              "\u001b[34m│\u001b[0m                                                                                                                 \u001b[34m│\u001b[0m\n",
              "\u001b[34m╰─────────────────────────────────────────────────────────────────────────────────────────────────────────────────╯\u001b[0m\n"
            ]
          },
          "metadata": {},
          "output_type": "display_data"
        },
        {
          "data": {
            "text/html": [
              "<pre style=\"white-space:pre;overflow-x:auto;line-height:normal;font-family:Menlo,'DejaVu Sans Mono',consolas,'Courier New',monospace\">\n",
              "<span style=\"color: #808000; text-decoration-color: #808000; font-weight: bold\">EMOTION ANALYSIS (GoEmotions)</span>\n",
              "</pre>\n"
            ],
            "text/plain": [
              "\n",
              "\u001b[1;33mEMOTION ANALYSIS \u001b[0m\u001b[1;33m(\u001b[0m\u001b[1;33mGoEmotions\u001b[0m\u001b[1;33m)\u001b[0m\n"
            ]
          },
          "metadata": {},
          "output_type": "display_data"
        },
        {
          "data": {
            "text/html": [
              "<pre style=\"white-space:pre;overflow-x:auto;line-height:normal;font-family:Menlo,'DejaVu Sans Mono',consolas,'Courier New',monospace\"><span style=\"color: #7f7f7f; text-decoration-color: #7f7f7f\">────────────────────────────────────────────────────────────────────────────────</span>\n",
              "</pre>\n"
            ],
            "text/plain": [
              "\u001b[2m────────────────────────────────────────────────────────────────────────────────\u001b[0m\n"
            ]
          },
          "metadata": {},
          "output_type": "display_data"
        },
        {
          "data": {
            "text/html": [
              "<pre style=\"white-space:pre;overflow-x:auto;line-height:normal;font-family:Menlo,'DejaVu Sans Mono',consolas,'Courier New',monospace\"><span style=\"font-weight: bold\">Sentiment:</span> <span style=\"color: #008000; text-decoration-color: #008000\">POSITIVE</span>\n",
              "</pre>\n"
            ],
            "text/plain": [
              "\u001b[1mSentiment:\u001b[0m \u001b[32mPOSITIVE\u001b[0m\n"
            ]
          },
          "metadata": {},
          "output_type": "display_data"
        },
        {
          "data": {
            "text/html": [
              "<pre style=\"white-space:pre;overflow-x:auto;line-height:normal;font-family:Menlo,'DejaVu Sans Mono',consolas,'Courier New',monospace\"><span style=\"font-style: italic\">                                  Emotion Analysis                                   </span>\n",
              "┏━━━━━━━━━━━━━━━━━┳━━━━━━━━━━━━┳━━━━━━━━━━━━━━━━━━━━━━━━━━━━━━━━━━━━━━━━━━━━━━━━━━━━┓\n",
              "┃<span style=\"color: #800080; text-decoration-color: #800080; font-weight: bold\"> Emotion         </span>┃<span style=\"color: #800080; text-decoration-color: #800080; font-weight: bold\">      Score </span>┃<span style=\"color: #800080; text-decoration-color: #800080; font-weight: bold\"> Confidence                                         </span>┃\n",
              "┡━━━━━━━━━━━━━━━━━╇━━━━━━━━━━━━╇━━━━━━━━━━━━━━━━━━━━━━━━━━━━━━━━━━━━━━━━━━━━━━━━━━━━┩\n",
              "│<span style=\"color: #008080; text-decoration-color: #008080\"> admiration      </span>│<span style=\"color: #008000; text-decoration-color: #008000\">      0.990 </span>│ <span style=\"color: #00ff00; text-decoration-color: #00ff00\">███████████████████████████████████████░          </span> │\n",
              "│<span style=\"color: #008080; text-decoration-color: #008080\"> gratitude       </span>│<span style=\"color: #008000; text-decoration-color: #008000\">      0.005 </span>│ <span style=\"color: #7f7f7f; text-decoration-color: #7f7f7f\">░░░░░░░░░░░░░░░░░░░░░░░░░░░░░░░░░░░░░░░░          </span> │\n",
              "│<span style=\"color: #008080; text-decoration-color: #008080\"> approval        </span>│<span style=\"color: #008000; text-decoration-color: #008000\">      0.004 </span>│ <span style=\"color: #7f7f7f; text-decoration-color: #7f7f7f\">░░░░░░░░░░░░░░░░░░░░░░░░░░░░░░░░░░░░░░░░          </span> │\n",
              "└─────────────────┴────────────┴────────────────────────────────────────────────────┘\n",
              "</pre>\n"
            ],
            "text/plain": [
              "\u001b[3m                                  Emotion Analysis                                   \u001b[0m\n",
              "┏━━━━━━━━━━━━━━━━━┳━━━━━━━━━━━━┳━━━━━━━━━━━━━━━━━━━━━━━━━━━━━━━━━━━━━━━━━━━━━━━━━━━━┓\n",
              "┃\u001b[1;35m \u001b[0m\u001b[1;35mEmotion        \u001b[0m\u001b[1;35m \u001b[0m┃\u001b[1;35m \u001b[0m\u001b[1;35m     Score\u001b[0m\u001b[1;35m \u001b[0m┃\u001b[1;35m \u001b[0m\u001b[1;35mConfidence                                        \u001b[0m\u001b[1;35m \u001b[0m┃\n",
              "┡━━━━━━━━━━━━━━━━━╇━━━━━━━━━━━━╇━━━━━━━━━━━━━━━━━━━━━━━━━━━━━━━━━━━━━━━━━━━━━━━━━━━━┩\n",
              "│\u001b[36m \u001b[0m\u001b[36madmiration     \u001b[0m\u001b[36m \u001b[0m│\u001b[32m \u001b[0m\u001b[32m     0.990\u001b[0m\u001b[32m \u001b[0m│ \u001b[92m███████████████████████████████████████░          \u001b[0m │\n",
              "│\u001b[36m \u001b[0m\u001b[36mgratitude      \u001b[0m\u001b[36m \u001b[0m│\u001b[32m \u001b[0m\u001b[32m     0.005\u001b[0m\u001b[32m \u001b[0m│ \u001b[2m░░░░░░░░░░░░░░░░░░░░░░░░░░░░░░░░░░░░░░░░          \u001b[0m │\n",
              "│\u001b[36m \u001b[0m\u001b[36mapproval       \u001b[0m\u001b[36m \u001b[0m│\u001b[32m \u001b[0m\u001b[32m     0.004\u001b[0m\u001b[32m \u001b[0m│ \u001b[2m░░░░░░░░░░░░░░░░░░░░░░░░░░░░░░░░░░░░░░░░          \u001b[0m │\n",
              "└─────────────────┴────────────┴────────────────────────────────────────────────────┘\n"
            ]
          },
          "metadata": {},
          "output_type": "display_data"
        },
        {
          "data": {
            "text/html": [
              "<pre style=\"white-space:pre;overflow-x:auto;line-height:normal;font-family:Menlo,'DejaVu Sans Mono',consolas,'Courier New',monospace\">\n",
              "<span style=\"color: #808000; text-decoration-color: #808000; font-weight: bold\">LINGUISTIC ANALYSIS (Academic Dimensions)</span>\n",
              "</pre>\n"
            ],
            "text/plain": [
              "\n",
              "\u001b[1;33mLINGUISTIC ANALYSIS \u001b[0m\u001b[1;33m(\u001b[0m\u001b[1;33mAcademic Dimensions\u001b[0m\u001b[1;33m)\u001b[0m\n"
            ]
          },
          "metadata": {},
          "output_type": "display_data"
        },
        {
          "data": {
            "text/html": [
              "<pre style=\"white-space:pre;overflow-x:auto;line-height:normal;font-family:Menlo,'DejaVu Sans Mono',consolas,'Courier New',monospace\"><span style=\"color: #7f7f7f; text-decoration-color: #7f7f7f\">────────────────────────────────────────────────────────────────────────────────</span>\n",
              "</pre>\n"
            ],
            "text/plain": [
              "\u001b[2m────────────────────────────────────────────────────────────────────────────────\u001b[0m\n"
            ]
          },
          "metadata": {},
          "output_type": "display_data"
        },
        {
          "data": {
            "text/html": [
              "<pre style=\"white-space:pre;overflow-x:auto;line-height:normal;font-family:Menlo,'DejaVu Sans Mono',consolas,'Courier New',monospace\"><span style=\"font-style: italic\">                                   Linguistic Analysis                                    </span>\n",
              "┏━━━━━━━━━━━━━━━━━━━━━━┳━━━━━━━━━━━━━━━━━┳━━━━━━━━━━━━━━━━━━━━━━━━━━━━━━━━━━━━━━━━━━━━━━━┓\n",
              "┃<span style=\"color: #008080; text-decoration-color: #008080; font-weight: bold\"> Dimension            </span>┃<span style=\"color: #008080; text-decoration-color: #008080; font-weight: bold\"> Value           </span>┃<span style=\"color: #008080; text-decoration-color: #008080; font-weight: bold\"> Confidence                                    </span>┃\n",
              "┡━━━━━━━━━━━━━━━━━━━━━━╇━━━━━━━━━━━━━━━━━╇━━━━━━━━━━━━━━━━━━━━━━━━━━━━━━━━━━━━━━━━━━━━━━━┩\n",
              "│<span style=\"color: #008080; text-decoration-color: #008080\"> Formality            </span>│<span style=\"color: #808000; text-decoration-color: #808000\"> formal          </span>│ <span style=\"color: #00ffff; text-decoration-color: #00ffff\">███████████████████████████████████          </span> │\n",
              "│<span style=\"color: #008080; text-decoration-color: #008080\"> Tone                 </span>│<span style=\"color: #808000; text-decoration-color: #808000\"> friendly        </span>│ <span style=\"color: #00ffff; text-decoration-color: #00ffff\">███████████████████████████████████          </span> │\n",
              "│<span style=\"color: #008080; text-decoration-color: #008080\"> Intensity            </span>│<span style=\"color: #808000; text-decoration-color: #808000\"> medium          </span>│ <span style=\"color: #7f7f7f; text-decoration-color: #7f7f7f\">█████████████████░░░░░░░░░░░░░░░░░░          </span> │\n",
              "│<span style=\"color: #008080; text-decoration-color: #008080\"> Style                </span>│<span style=\"color: #808000; text-decoration-color: #808000\"> neutral         </span>│ <span style=\"color: #7f7f7f; text-decoration-color: #7f7f7f\">█████████████████░░░░░░░░░░░░░░░░░░          </span> │\n",
              "└──────────────────────┴─────────────────┴───────────────────────────────────────────────┘\n",
              "</pre>\n"
            ],
            "text/plain": [
              "\u001b[3m                                   Linguistic Analysis                                    \u001b[0m\n",
              "┏━━━━━━━━━━━━━━━━━━━━━━┳━━━━━━━━━━━━━━━━━┳━━━━━━━━━━━━━━━━━━━━━━━━━━━━━━━━━━━━━━━━━━━━━━━┓\n",
              "┃\u001b[1;36m \u001b[0m\u001b[1;36mDimension           \u001b[0m\u001b[1;36m \u001b[0m┃\u001b[1;36m \u001b[0m\u001b[1;36mValue          \u001b[0m\u001b[1;36m \u001b[0m┃\u001b[1;36m \u001b[0m\u001b[1;36mConfidence                                   \u001b[0m\u001b[1;36m \u001b[0m┃\n",
              "┡━━━━━━━━━━━━━━━━━━━━━━╇━━━━━━━━━━━━━━━━━╇━━━━━━━━━━━━━━━━━━━━━━━━━━━━━━━━━━━━━━━━━━━━━━━┩\n",
              "│\u001b[36m \u001b[0m\u001b[36mFormality           \u001b[0m\u001b[36m \u001b[0m│\u001b[33m \u001b[0m\u001b[33mformal         \u001b[0m\u001b[33m \u001b[0m│ \u001b[96m███████████████████████████████████          \u001b[0m │\n",
              "│\u001b[36m \u001b[0m\u001b[36mTone                \u001b[0m\u001b[36m \u001b[0m│\u001b[33m \u001b[0m\u001b[33mfriendly       \u001b[0m\u001b[33m \u001b[0m│ \u001b[96m███████████████████████████████████          \u001b[0m │\n",
              "│\u001b[36m \u001b[0m\u001b[36mIntensity           \u001b[0m\u001b[36m \u001b[0m│\u001b[33m \u001b[0m\u001b[33mmedium         \u001b[0m\u001b[33m \u001b[0m│ \u001b[2m█████████████████░░░░░░░░░░░░░░░░░░          \u001b[0m │\n",
              "│\u001b[36m \u001b[0m\u001b[36mStyle               \u001b[0m\u001b[36m \u001b[0m│\u001b[33m \u001b[0m\u001b[33mneutral        \u001b[0m\u001b[33m \u001b[0m│ \u001b[2m█████████████████░░░░░░░░░░░░░░░░░░          \u001b[0m │\n",
              "└──────────────────────┴─────────────────┴───────────────────────────────────────────────┘\n"
            ]
          },
          "metadata": {},
          "output_type": "display_data"
        },
        {
          "data": {
            "text/html": [
              "<pre style=\"white-space:pre;overflow-x:auto;line-height:normal;font-family:Menlo,'DejaVu Sans Mono',consolas,'Courier New',monospace\">\n",
              "</pre>\n"
            ],
            "text/plain": [
              "\n"
            ]
          },
          "metadata": {},
          "output_type": "display_data"
        },
        {
          "data": {
            "text/html": [
              "<pre style=\"white-space:pre;overflow-x:auto;line-height:normal;font-family:Menlo,'DejaVu Sans Mono',consolas,'Courier New',monospace\"><span style=\"color: #008000; text-decoration-color: #008000\">╭──────────────────────────────────────────────────── </span><span style=\"color: #008000; text-decoration-color: #008000; font-weight: bold\">Summary</span><span style=\"color: #008000; text-decoration-color: #008000\"> ────────────────────────────────────────────────────╮</span>\n",
              "<span style=\"color: #008000; text-decoration-color: #008000\">│</span> <span style=\"font-weight: bold\">Primary Emotion: </span><span style=\"color: #00ff00; text-decoration-color: #00ff00\">admiration</span>                                                                                     <span style=\"color: #008000; text-decoration-color: #008000\">│</span>\n",
              "<span style=\"color: #008000; text-decoration-color: #008000\">│</span> <span style=\"font-weight: bold\">Sentiment: </span><span style=\"color: #008000; text-decoration-color: #008000\">positive</span>                                                                                             <span style=\"color: #008000; text-decoration-color: #008000\">│</span>\n",
              "<span style=\"color: #008000; text-decoration-color: #008000\">│</span> <span style=\"font-weight: bold\">Formality: </span><span style=\"color: #008080; text-decoration-color: #008080\">formal</span><span style=\"color: #7f7f7f; text-decoration-color: #7f7f7f\"> | </span><span style=\"font-weight: bold\">Tone: </span><span style=\"color: #008080; text-decoration-color: #008080\">friendly</span>                                                                              <span style=\"color: #008000; text-decoration-color: #008000\">│</span>\n",
              "<span style=\"color: #008000; text-decoration-color: #008000\">│</span> <span style=\"font-weight: bold\">Intensity: </span><span style=\"color: #800080; text-decoration-color: #800080\">medium</span><span style=\"color: #7f7f7f; text-decoration-color: #7f7f7f\"> | </span><span style=\"font-weight: bold\">Style: </span><span style=\"color: #800080; text-decoration-color: #800080\">neutral</span>                                                                              <span style=\"color: #008000; text-decoration-color: #008000\">│</span>\n",
              "<span style=\"color: #008000; text-decoration-color: #008000\">╰─────────────────────────────────────────────────────────────────────────────────────────────────────────────────╯</span>\n",
              "</pre>\n"
            ],
            "text/plain": [
              "\u001b[32m╭─\u001b[0m\u001b[32m───────────────────────────────────────────────────\u001b[0m\u001b[32m \u001b[0m\u001b[1;32mSummary\u001b[0m\u001b[32m \u001b[0m\u001b[32m───────────────────────────────────────────────────\u001b[0m\u001b[32m─╮\u001b[0m\n",
              "\u001b[32m│\u001b[0m \u001b[1mPrimary Emotion: \u001b[0m\u001b[92madmiration\u001b[0m                                                                                     \u001b[32m│\u001b[0m\n",
              "\u001b[32m│\u001b[0m \u001b[1mSentiment: \u001b[0m\u001b[32mpositive\u001b[0m                                                                                             \u001b[32m│\u001b[0m\n",
              "\u001b[32m│\u001b[0m \u001b[1mFormality: \u001b[0m\u001b[36mformal\u001b[0m\u001b[2m | \u001b[0m\u001b[1mTone: \u001b[0m\u001b[36mfriendly\u001b[0m                                                                              \u001b[32m│\u001b[0m\n",
              "\u001b[32m│\u001b[0m \u001b[1mIntensity: \u001b[0m\u001b[35mmedium\u001b[0m\u001b[2m | \u001b[0m\u001b[1mStyle: \u001b[0m\u001b[35mneutral\u001b[0m                                                                              \u001b[32m│\u001b[0m\n",
              "\u001b[32m╰─────────────────────────────────────────────────────────────────────────────────────────────────────────────────╯\u001b[0m\n"
            ]
          },
          "metadata": {},
          "output_type": "display_data"
        },
        {
          "data": {
            "text/plain": [
              "''"
            ]
          },
          "execution_count": 16,
          "metadata": {},
          "output_type": "execute_result"
        }
      ],
      "source": [
        "# Example 1: Formal, serious text\n",
        "text1 = \"I hereby formally request your assistance with this matter. Your prompt attention would be greatly appreciated.\"\n",
        "\n",
        "result1 = enhanced_classifier.analyze(text1, top_k=3)\n",
        "format_enhanced_output(result1, use_rich=True)\n"
      ]
    },
    {
      "cell_type": "code",
      "execution_count": 17,
      "metadata": {},
      "outputs": [
        {
          "data": {
            "text/html": [
              "<pre style=\"white-space:pre;overflow-x:auto;line-height:normal;font-family:Menlo,'DejaVu Sans Mono',consolas,'Courier New',monospace\"><span style=\"color: #008080; text-decoration-color: #008080\">╭─────────────────────────────────────────────────────────────────────────────────────────────────────────────────╮</span>\n",
              "<span style=\"color: #008080; text-decoration-color: #008080\">│</span> <span style=\"color: #008080; text-decoration-color: #008080; font-weight: bold\">COMPREHENSIVE TEXT ANALYSIS</span>                                                                                     <span style=\"color: #008080; text-decoration-color: #008080\">│</span>\n",
              "<span style=\"color: #008080; text-decoration-color: #008080\">│</span> <span style=\"color: #7f7f7f; text-decoration-color: #7f7f7f\">Emotion Classification + Linguistic Analysis</span>                                                                    <span style=\"color: #008080; text-decoration-color: #008080\">│</span>\n",
              "<span style=\"color: #008080; text-decoration-color: #008080\">╰─────────────────────────────────────────────────────────────────────────────────────────────────────────────────╯</span>\n",
              "</pre>\n"
            ],
            "text/plain": [
              "\u001b[36m╭─────────────────────────────────────────────────────────────────────────────────────────────────────────────────╮\u001b[0m\n",
              "\u001b[36m│\u001b[0m \u001b[1;36mCOMPREHENSIVE TEXT ANALYSIS\u001b[0m                                                                                     \u001b[36m│\u001b[0m\n",
              "\u001b[36m│\u001b[0m \u001b[2mEmotion Classification + Linguistic Analysis\u001b[0m                                                                    \u001b[36m│\u001b[0m\n",
              "\u001b[36m╰─────────────────────────────────────────────────────────────────────────────────────────────────────────────────╯\u001b[0m\n"
            ]
          },
          "metadata": {},
          "output_type": "display_data"
        },
        {
          "data": {
            "text/html": [
              "<pre style=\"white-space:pre;overflow-x:auto;line-height:normal;font-family:Menlo,'DejaVu Sans Mono',consolas,'Courier New',monospace\"><span style=\"color: #000080; text-decoration-color: #000080\">╭───────────────────────────────────────────────────── </span><span style=\"color: #000080; text-decoration-color: #000080; font-weight: bold\">Text</span><span style=\"color: #000080; text-decoration-color: #000080\"> ──────────────────────────────────────────────────────╮</span>\n",
              "<span style=\"color: #000080; text-decoration-color: #000080\">│</span>                                                                                                                 <span style=\"color: #000080; text-decoration-color: #000080\">│</span>\n",
              "<span style=\"color: #000080; text-decoration-color: #000080\">│</span>  Hey! Thanks so much for helping me out, you're awesome! Really appreciate it!                                  <span style=\"color: #000080; text-decoration-color: #000080\">│</span>\n",
              "<span style=\"color: #000080; text-decoration-color: #000080\">│</span>                                                                                                                 <span style=\"color: #000080; text-decoration-color: #000080\">│</span>\n",
              "<span style=\"color: #000080; text-decoration-color: #000080\">╰─────────────────────────────────────────────────────────────────────────────────────────────────────────────────╯</span>\n",
              "</pre>\n"
            ],
            "text/plain": [
              "\u001b[34m╭─\u001b[0m\u001b[34m────────────────────────────────────────────────────\u001b[0m\u001b[34m \u001b[0m\u001b[1;34mText\u001b[0m\u001b[34m \u001b[0m\u001b[34m─────────────────────────────────────────────────────\u001b[0m\u001b[34m─╮\u001b[0m\n",
              "\u001b[34m│\u001b[0m                                                                                                                 \u001b[34m│\u001b[0m\n",
              "\u001b[34m│\u001b[0m  Hey! Thanks so much for helping me out, you're awesome! Really appreciate it!                                  \u001b[34m│\u001b[0m\n",
              "\u001b[34m│\u001b[0m                                                                                                                 \u001b[34m│\u001b[0m\n",
              "\u001b[34m╰─────────────────────────────────────────────────────────────────────────────────────────────────────────────────╯\u001b[0m\n"
            ]
          },
          "metadata": {},
          "output_type": "display_data"
        },
        {
          "data": {
            "text/html": [
              "<pre style=\"white-space:pre;overflow-x:auto;line-height:normal;font-family:Menlo,'DejaVu Sans Mono',consolas,'Courier New',monospace\">\n",
              "<span style=\"color: #808000; text-decoration-color: #808000; font-weight: bold\">EMOTION ANALYSIS (GoEmotions)</span>\n",
              "</pre>\n"
            ],
            "text/plain": [
              "\n",
              "\u001b[1;33mEMOTION ANALYSIS \u001b[0m\u001b[1;33m(\u001b[0m\u001b[1;33mGoEmotions\u001b[0m\u001b[1;33m)\u001b[0m\n"
            ]
          },
          "metadata": {},
          "output_type": "display_data"
        },
        {
          "data": {
            "text/html": [
              "<pre style=\"white-space:pre;overflow-x:auto;line-height:normal;font-family:Menlo,'DejaVu Sans Mono',consolas,'Courier New',monospace\"><span style=\"color: #7f7f7f; text-decoration-color: #7f7f7f\">────────────────────────────────────────────────────────────────────────────────</span>\n",
              "</pre>\n"
            ],
            "text/plain": [
              "\u001b[2m────────────────────────────────────────────────────────────────────────────────\u001b[0m\n"
            ]
          },
          "metadata": {},
          "output_type": "display_data"
        },
        {
          "data": {
            "text/html": [
              "<pre style=\"white-space:pre;overflow-x:auto;line-height:normal;font-family:Menlo,'DejaVu Sans Mono',consolas,'Courier New',monospace\"><span style=\"font-weight: bold\">Sentiment:</span> <span style=\"color: #008000; text-decoration-color: #008000\">POSITIVE</span>\n",
              "</pre>\n"
            ],
            "text/plain": [
              "\u001b[1mSentiment:\u001b[0m \u001b[32mPOSITIVE\u001b[0m\n"
            ]
          },
          "metadata": {},
          "output_type": "display_data"
        },
        {
          "data": {
            "text/html": [
              "<pre style=\"white-space:pre;overflow-x:auto;line-height:normal;font-family:Menlo,'DejaVu Sans Mono',consolas,'Courier New',monospace\"><span style=\"font-style: italic\">                                  Emotion Analysis                                   </span>\n",
              "┏━━━━━━━━━━━━━━━━━┳━━━━━━━━━━━━┳━━━━━━━━━━━━━━━━━━━━━━━━━━━━━━━━━━━━━━━━━━━━━━━━━━━━┓\n",
              "┃<span style=\"color: #800080; text-decoration-color: #800080; font-weight: bold\"> Emotion         </span>┃<span style=\"color: #800080; text-decoration-color: #800080; font-weight: bold\">      Score </span>┃<span style=\"color: #800080; text-decoration-color: #800080; font-weight: bold\"> Confidence                                         </span>┃\n",
              "┡━━━━━━━━━━━━━━━━━╇━━━━━━━━━━━━╇━━━━━━━━━━━━━━━━━━━━━━━━━━━━━━━━━━━━━━━━━━━━━━━━━━━━┩\n",
              "│<span style=\"color: #008080; text-decoration-color: #008080\"> gratitude       </span>│<span style=\"color: #008000; text-decoration-color: #008000\">      0.880 </span>│ <span style=\"color: #00ff00; text-decoration-color: #00ff00\">███████████████████████████████████░░░░░          </span> │\n",
              "│<span style=\"color: #008080; text-decoration-color: #008080\"> admiration      </span>│<span style=\"color: #008000; text-decoration-color: #008000\">      0.119 </span>│ <span style=\"color: #7f7f7f; text-decoration-color: #7f7f7f\">████░░░░░░░░░░░░░░░░░░░░░░░░░░░░░░░░░░░░          </span> │\n",
              "│<span style=\"color: #008080; text-decoration-color: #008080\"> excitement      </span>│<span style=\"color: #008000; text-decoration-color: #008000\">      0.000 </span>│ <span style=\"color: #7f7f7f; text-decoration-color: #7f7f7f\">░░░░░░░░░░░░░░░░░░░░░░░░░░░░░░░░░░░░░░░░          </span> │\n",
              "└─────────────────┴────────────┴────────────────────────────────────────────────────┘\n",
              "</pre>\n"
            ],
            "text/plain": [
              "\u001b[3m                                  Emotion Analysis                                   \u001b[0m\n",
              "┏━━━━━━━━━━━━━━━━━┳━━━━━━━━━━━━┳━━━━━━━━━━━━━━━━━━━━━━━━━━━━━━━━━━━━━━━━━━━━━━━━━━━━┓\n",
              "┃\u001b[1;35m \u001b[0m\u001b[1;35mEmotion        \u001b[0m\u001b[1;35m \u001b[0m┃\u001b[1;35m \u001b[0m\u001b[1;35m     Score\u001b[0m\u001b[1;35m \u001b[0m┃\u001b[1;35m \u001b[0m\u001b[1;35mConfidence                                        \u001b[0m\u001b[1;35m \u001b[0m┃\n",
              "┡━━━━━━━━━━━━━━━━━╇━━━━━━━━━━━━╇━━━━━━━━━━━━━━━━━━━━━━━━━━━━━━━━━━━━━━━━━━━━━━━━━━━━┩\n",
              "│\u001b[36m \u001b[0m\u001b[36mgratitude      \u001b[0m\u001b[36m \u001b[0m│\u001b[32m \u001b[0m\u001b[32m     0.880\u001b[0m\u001b[32m \u001b[0m│ \u001b[92m███████████████████████████████████░░░░░          \u001b[0m │\n",
              "│\u001b[36m \u001b[0m\u001b[36madmiration     \u001b[0m\u001b[36m \u001b[0m│\u001b[32m \u001b[0m\u001b[32m     0.119\u001b[0m\u001b[32m \u001b[0m│ \u001b[2m████░░░░░░░░░░░░░░░░░░░░░░░░░░░░░░░░░░░░          \u001b[0m │\n",
              "│\u001b[36m \u001b[0m\u001b[36mexcitement     \u001b[0m\u001b[36m \u001b[0m│\u001b[32m \u001b[0m\u001b[32m     0.000\u001b[0m\u001b[32m \u001b[0m│ \u001b[2m░░░░░░░░░░░░░░░░░░░░░░░░░░░░░░░░░░░░░░░░          \u001b[0m │\n",
              "└─────────────────┴────────────┴────────────────────────────────────────────────────┘\n"
            ]
          },
          "metadata": {},
          "output_type": "display_data"
        },
        {
          "data": {
            "text/html": [
              "<pre style=\"white-space:pre;overflow-x:auto;line-height:normal;font-family:Menlo,'DejaVu Sans Mono',consolas,'Courier New',monospace\">\n",
              "<span style=\"color: #808000; text-decoration-color: #808000; font-weight: bold\">LINGUISTIC ANALYSIS (Academic Dimensions)</span>\n",
              "</pre>\n"
            ],
            "text/plain": [
              "\n",
              "\u001b[1;33mLINGUISTIC ANALYSIS \u001b[0m\u001b[1;33m(\u001b[0m\u001b[1;33mAcademic Dimensions\u001b[0m\u001b[1;33m)\u001b[0m\n"
            ]
          },
          "metadata": {},
          "output_type": "display_data"
        },
        {
          "data": {
            "text/html": [
              "<pre style=\"white-space:pre;overflow-x:auto;line-height:normal;font-family:Menlo,'DejaVu Sans Mono',consolas,'Courier New',monospace\"><span style=\"color: #7f7f7f; text-decoration-color: #7f7f7f\">────────────────────────────────────────────────────────────────────────────────</span>\n",
              "</pre>\n"
            ],
            "text/plain": [
              "\u001b[2m────────────────────────────────────────────────────────────────────────────────\u001b[0m\n"
            ]
          },
          "metadata": {},
          "output_type": "display_data"
        },
        {
          "data": {
            "text/html": [
              "<pre style=\"white-space:pre;overflow-x:auto;line-height:normal;font-family:Menlo,'DejaVu Sans Mono',consolas,'Courier New',monospace\"><span style=\"font-style: italic\">                                   Linguistic Analysis                                    </span>\n",
              "┏━━━━━━━━━━━━━━━━━━━━━━┳━━━━━━━━━━━━━━━━━┳━━━━━━━━━━━━━━━━━━━━━━━━━━━━━━━━━━━━━━━━━━━━━━━┓\n",
              "┃<span style=\"color: #008080; text-decoration-color: #008080; font-weight: bold\"> Dimension            </span>┃<span style=\"color: #008080; text-decoration-color: #008080; font-weight: bold\"> Value           </span>┃<span style=\"color: #008080; text-decoration-color: #008080; font-weight: bold\"> Confidence                                    </span>┃\n",
              "┡━━━━━━━━━━━━━━━━━━━━━━╇━━━━━━━━━━━━━━━━━╇━━━━━━━━━━━━━━━━━━━━━━━━━━━━━━━━━━━━━━━━━━━━━━━┩\n",
              "│<span style=\"color: #008080; text-decoration-color: #008080\"> Formality            </span>│<span style=\"color: #808000; text-decoration-color: #808000\"> colloquial      </span>│ <span style=\"color: #00ffff; text-decoration-color: #00ffff\">███████████████████████████████████          </span> │\n",
              "│<span style=\"color: #008080; text-decoration-color: #008080\"> Tone                 </span>│<span style=\"color: #808000; text-decoration-color: #808000\"> friendly        </span>│ <span style=\"color: #00ffff; text-decoration-color: #00ffff\">████████████████████████████░░░░░░░          </span> │\n",
              "│<span style=\"color: #008080; text-decoration-color: #008080\"> Intensity            </span>│<span style=\"color: #808000; text-decoration-color: #808000\"> medium          </span>│ <span style=\"color: #7f7f7f; text-decoration-color: #7f7f7f\">█████████████████░░░░░░░░░░░░░░░░░░          </span> │\n",
              "│<span style=\"color: #008080; text-decoration-color: #008080\"> Style                </span>│<span style=\"color: #808000; text-decoration-color: #808000\"> neutral         </span>│ <span style=\"color: #7f7f7f; text-decoration-color: #7f7f7f\">█████████████████░░░░░░░░░░░░░░░░░░          </span> │\n",
              "└──────────────────────┴─────────────────┴───────────────────────────────────────────────┘\n",
              "</pre>\n"
            ],
            "text/plain": [
              "\u001b[3m                                   Linguistic Analysis                                    \u001b[0m\n",
              "┏━━━━━━━━━━━━━━━━━━━━━━┳━━━━━━━━━━━━━━━━━┳━━━━━━━━━━━━━━━━━━━━━━━━━━━━━━━━━━━━━━━━━━━━━━━┓\n",
              "┃\u001b[1;36m \u001b[0m\u001b[1;36mDimension           \u001b[0m\u001b[1;36m \u001b[0m┃\u001b[1;36m \u001b[0m\u001b[1;36mValue          \u001b[0m\u001b[1;36m \u001b[0m┃\u001b[1;36m \u001b[0m\u001b[1;36mConfidence                                   \u001b[0m\u001b[1;36m \u001b[0m┃\n",
              "┡━━━━━━━━━━━━━━━━━━━━━━╇━━━━━━━━━━━━━━━━━╇━━━━━━━━━━━━━━━━━━━━━━━━━━━━━━━━━━━━━━━━━━━━━━━┩\n",
              "│\u001b[36m \u001b[0m\u001b[36mFormality           \u001b[0m\u001b[36m \u001b[0m│\u001b[33m \u001b[0m\u001b[33mcolloquial     \u001b[0m\u001b[33m \u001b[0m│ \u001b[96m███████████████████████████████████          \u001b[0m │\n",
              "│\u001b[36m \u001b[0m\u001b[36mTone                \u001b[0m\u001b[36m \u001b[0m│\u001b[33m \u001b[0m\u001b[33mfriendly       \u001b[0m\u001b[33m \u001b[0m│ \u001b[96m████████████████████████████░░░░░░░          \u001b[0m │\n",
              "│\u001b[36m \u001b[0m\u001b[36mIntensity           \u001b[0m\u001b[36m \u001b[0m│\u001b[33m \u001b[0m\u001b[33mmedium         \u001b[0m\u001b[33m \u001b[0m│ \u001b[2m█████████████████░░░░░░░░░░░░░░░░░░          \u001b[0m │\n",
              "│\u001b[36m \u001b[0m\u001b[36mStyle               \u001b[0m\u001b[36m \u001b[0m│\u001b[33m \u001b[0m\u001b[33mneutral        \u001b[0m\u001b[33m \u001b[0m│ \u001b[2m█████████████████░░░░░░░░░░░░░░░░░░          \u001b[0m │\n",
              "└──────────────────────┴─────────────────┴───────────────────────────────────────────────┘\n"
            ]
          },
          "metadata": {},
          "output_type": "display_data"
        },
        {
          "data": {
            "text/html": [
              "<pre style=\"white-space:pre;overflow-x:auto;line-height:normal;font-family:Menlo,'DejaVu Sans Mono',consolas,'Courier New',monospace\">\n",
              "</pre>\n"
            ],
            "text/plain": [
              "\n"
            ]
          },
          "metadata": {},
          "output_type": "display_data"
        },
        {
          "data": {
            "text/html": [
              "<pre style=\"white-space:pre;overflow-x:auto;line-height:normal;font-family:Menlo,'DejaVu Sans Mono',consolas,'Courier New',monospace\"><span style=\"color: #008000; text-decoration-color: #008000\">╭──────────────────────────────────────────────────── </span><span style=\"color: #008000; text-decoration-color: #008000; font-weight: bold\">Summary</span><span style=\"color: #008000; text-decoration-color: #008000\"> ────────────────────────────────────────────────────╮</span>\n",
              "<span style=\"color: #008000; text-decoration-color: #008000\">│</span> <span style=\"font-weight: bold\">Primary Emotion: </span><span style=\"color: #00ff00; text-decoration-color: #00ff00\">gratitude</span>                                                                                      <span style=\"color: #008000; text-decoration-color: #008000\">│</span>\n",
              "<span style=\"color: #008000; text-decoration-color: #008000\">│</span> <span style=\"font-weight: bold\">Sentiment: </span><span style=\"color: #008000; text-decoration-color: #008000\">positive</span>                                                                                             <span style=\"color: #008000; text-decoration-color: #008000\">│</span>\n",
              "<span style=\"color: #008000; text-decoration-color: #008000\">│</span> <span style=\"font-weight: bold\">Formality: </span><span style=\"color: #008080; text-decoration-color: #008080\">colloquial</span><span style=\"color: #7f7f7f; text-decoration-color: #7f7f7f\"> | </span><span style=\"font-weight: bold\">Tone: </span><span style=\"color: #008080; text-decoration-color: #008080\">friendly</span>                                                                          <span style=\"color: #008000; text-decoration-color: #008000\">│</span>\n",
              "<span style=\"color: #008000; text-decoration-color: #008000\">│</span> <span style=\"font-weight: bold\">Intensity: </span><span style=\"color: #800080; text-decoration-color: #800080\">medium</span><span style=\"color: #7f7f7f; text-decoration-color: #7f7f7f\"> | </span><span style=\"font-weight: bold\">Style: </span><span style=\"color: #800080; text-decoration-color: #800080\">neutral</span>                                                                              <span style=\"color: #008000; text-decoration-color: #008000\">│</span>\n",
              "<span style=\"color: #008000; text-decoration-color: #008000\">╰─────────────────────────────────────────────────────────────────────────────────────────────────────────────────╯</span>\n",
              "</pre>\n"
            ],
            "text/plain": [
              "\u001b[32m╭─\u001b[0m\u001b[32m───────────────────────────────────────────────────\u001b[0m\u001b[32m \u001b[0m\u001b[1;32mSummary\u001b[0m\u001b[32m \u001b[0m\u001b[32m───────────────────────────────────────────────────\u001b[0m\u001b[32m─╮\u001b[0m\n",
              "\u001b[32m│\u001b[0m \u001b[1mPrimary Emotion: \u001b[0m\u001b[92mgratitude\u001b[0m                                                                                      \u001b[32m│\u001b[0m\n",
              "\u001b[32m│\u001b[0m \u001b[1mSentiment: \u001b[0m\u001b[32mpositive\u001b[0m                                                                                             \u001b[32m│\u001b[0m\n",
              "\u001b[32m│\u001b[0m \u001b[1mFormality: \u001b[0m\u001b[36mcolloquial\u001b[0m\u001b[2m | \u001b[0m\u001b[1mTone: \u001b[0m\u001b[36mfriendly\u001b[0m                                                                          \u001b[32m│\u001b[0m\n",
              "\u001b[32m│\u001b[0m \u001b[1mIntensity: \u001b[0m\u001b[35mmedium\u001b[0m\u001b[2m | \u001b[0m\u001b[1mStyle: \u001b[0m\u001b[35mneutral\u001b[0m                                                                              \u001b[32m│\u001b[0m\n",
              "\u001b[32m╰─────────────────────────────────────────────────────────────────────────────────────────────────────────────────╯\u001b[0m\n"
            ]
          },
          "metadata": {},
          "output_type": "display_data"
        },
        {
          "data": {
            "text/plain": [
              "''"
            ]
          },
          "execution_count": 17,
          "metadata": {},
          "output_type": "execute_result"
        }
      ],
      "source": [
        "# Example 2: Colloquial, friendly text\n",
        "text2 = \"Hey! Thanks so much for helping me out, you're awesome! Really appreciate it!\"\n",
        "\n",
        "result2 = enhanced_classifier.analyze(text2, top_k=3)\n",
        "format_enhanced_output(result2, use_rich=True)\n"
      ]
    },
    {
      "cell_type": "code",
      "execution_count": 18,
      "metadata": {},
      "outputs": [
        {
          "data": {
            "text/html": [
              "<pre style=\"white-space:pre;overflow-x:auto;line-height:normal;font-family:Menlo,'DejaVu Sans Mono',consolas,'Courier New',monospace\"><span style=\"color: #008080; text-decoration-color: #008080\">╭─────────────────────────────────────────────────────────────────────────────────────────────────────────────────╮</span>\n",
              "<span style=\"color: #008080; text-decoration-color: #008080\">│</span> <span style=\"color: #008080; text-decoration-color: #008080; font-weight: bold\">COMPREHENSIVE TEXT ANALYSIS</span>                                                                                     <span style=\"color: #008080; text-decoration-color: #008080\">│</span>\n",
              "<span style=\"color: #008080; text-decoration-color: #008080\">│</span> <span style=\"color: #7f7f7f; text-decoration-color: #7f7f7f\">Emotion Classification + Linguistic Analysis</span>                                                                    <span style=\"color: #008080; text-decoration-color: #008080\">│</span>\n",
              "<span style=\"color: #008080; text-decoration-color: #008080\">╰─────────────────────────────────────────────────────────────────────────────────────────────────────────────────╯</span>\n",
              "</pre>\n"
            ],
            "text/plain": [
              "\u001b[36m╭─────────────────────────────────────────────────────────────────────────────────────────────────────────────────╮\u001b[0m\n",
              "\u001b[36m│\u001b[0m \u001b[1;36mCOMPREHENSIVE TEXT ANALYSIS\u001b[0m                                                                                     \u001b[36m│\u001b[0m\n",
              "\u001b[36m│\u001b[0m \u001b[2mEmotion Classification + Linguistic Analysis\u001b[0m                                                                    \u001b[36m│\u001b[0m\n",
              "\u001b[36m╰─────────────────────────────────────────────────────────────────────────────────────────────────────────────────╯\u001b[0m\n"
            ]
          },
          "metadata": {},
          "output_type": "display_data"
        },
        {
          "data": {
            "text/html": [
              "<pre style=\"white-space:pre;overflow-x:auto;line-height:normal;font-family:Menlo,'DejaVu Sans Mono',consolas,'Courier New',monospace\"><span style=\"color: #000080; text-decoration-color: #000080\">╭───────────────────────────────────────────────────── </span><span style=\"color: #000080; text-decoration-color: #000080; font-weight: bold\">Text</span><span style=\"color: #000080; text-decoration-color: #000080\"> ──────────────────────────────────────────────────────╮</span>\n",
              "<span style=\"color: #000080; text-decoration-color: #000080\">│</span>                                                                                                                 <span style=\"color: #000080; text-decoration-color: #000080\">│</span>\n",
              "<span style=\"color: #000080; text-decoration-color: #000080\">│</span>  This is absolutely unacceptable! I demand an explanation immediately!                                          <span style=\"color: #000080; text-decoration-color: #000080\">│</span>\n",
              "<span style=\"color: #000080; text-decoration-color: #000080\">│</span>                                                                                                                 <span style=\"color: #000080; text-decoration-color: #000080\">│</span>\n",
              "<span style=\"color: #000080; text-decoration-color: #000080\">╰─────────────────────────────────────────────────────────────────────────────────────────────────────────────────╯</span>\n",
              "</pre>\n"
            ],
            "text/plain": [
              "\u001b[34m╭─\u001b[0m\u001b[34m────────────────────────────────────────────────────\u001b[0m\u001b[34m \u001b[0m\u001b[1;34mText\u001b[0m\u001b[34m \u001b[0m\u001b[34m─────────────────────────────────────────────────────\u001b[0m\u001b[34m─╮\u001b[0m\n",
              "\u001b[34m│\u001b[0m                                                                                                                 \u001b[34m│\u001b[0m\n",
              "\u001b[34m│\u001b[0m  This is absolutely unacceptable! I demand an explanation immediately!                                          \u001b[34m│\u001b[0m\n",
              "\u001b[34m│\u001b[0m                                                                                                                 \u001b[34m│\u001b[0m\n",
              "\u001b[34m╰─────────────────────────────────────────────────────────────────────────────────────────────────────────────────╯\u001b[0m\n"
            ]
          },
          "metadata": {},
          "output_type": "display_data"
        },
        {
          "data": {
            "text/html": [
              "<pre style=\"white-space:pre;overflow-x:auto;line-height:normal;font-family:Menlo,'DejaVu Sans Mono',consolas,'Courier New',monospace\">\n",
              "<span style=\"color: #808000; text-decoration-color: #808000; font-weight: bold\">EMOTION ANALYSIS (GoEmotions)</span>\n",
              "</pre>\n"
            ],
            "text/plain": [
              "\n",
              "\u001b[1;33mEMOTION ANALYSIS \u001b[0m\u001b[1;33m(\u001b[0m\u001b[1;33mGoEmotions\u001b[0m\u001b[1;33m)\u001b[0m\n"
            ]
          },
          "metadata": {},
          "output_type": "display_data"
        },
        {
          "data": {
            "text/html": [
              "<pre style=\"white-space:pre;overflow-x:auto;line-height:normal;font-family:Menlo,'DejaVu Sans Mono',consolas,'Courier New',monospace\"><span style=\"color: #7f7f7f; text-decoration-color: #7f7f7f\">────────────────────────────────────────────────────────────────────────────────</span>\n",
              "</pre>\n"
            ],
            "text/plain": [
              "\u001b[2m────────────────────────────────────────────────────────────────────────────────\u001b[0m\n"
            ]
          },
          "metadata": {},
          "output_type": "display_data"
        },
        {
          "data": {
            "text/html": [
              "<pre style=\"white-space:pre;overflow-x:auto;line-height:normal;font-family:Menlo,'DejaVu Sans Mono',consolas,'Courier New',monospace\"><span style=\"font-weight: bold\">Sentiment:</span> <span style=\"color: #800000; text-decoration-color: #800000\">NEGATIVE</span>\n",
              "</pre>\n"
            ],
            "text/plain": [
              "\u001b[1mSentiment:\u001b[0m \u001b[31mNEGATIVE\u001b[0m\n"
            ]
          },
          "metadata": {},
          "output_type": "display_data"
        },
        {
          "data": {
            "text/html": [
              "<pre style=\"white-space:pre;overflow-x:auto;line-height:normal;font-family:Menlo,'DejaVu Sans Mono',consolas,'Courier New',monospace\"><span style=\"font-style: italic\">                                  Emotion Analysis                                   </span>\n",
              "┏━━━━━━━━━━━━━━━━━┳━━━━━━━━━━━━┳━━━━━━━━━━━━━━━━━━━━━━━━━━━━━━━━━━━━━━━━━━━━━━━━━━━━┓\n",
              "┃<span style=\"color: #800080; text-decoration-color: #800080; font-weight: bold\"> Emotion         </span>┃<span style=\"color: #800080; text-decoration-color: #800080; font-weight: bold\">      Score </span>┃<span style=\"color: #800080; text-decoration-color: #800080; font-weight: bold\"> Confidence                                         </span>┃\n",
              "┡━━━━━━━━━━━━━━━━━╇━━━━━━━━━━━━╇━━━━━━━━━━━━━━━━━━━━━━━━━━━━━━━━━━━━━━━━━━━━━━━━━━━━┩\n",
              "│<span style=\"color: #008080; text-decoration-color: #008080\"> disapproval     </span>│<span style=\"color: #008000; text-decoration-color: #008000\">      0.999 </span>│ <span style=\"color: #00ff00; text-decoration-color: #00ff00\">███████████████████████████████████████░          </span> │\n",
              "│<span style=\"color: #008080; text-decoration-color: #008080\"> annoyance       </span>│<span style=\"color: #008000; text-decoration-color: #008000\">      0.001 </span>│ <span style=\"color: #7f7f7f; text-decoration-color: #7f7f7f\">░░░░░░░░░░░░░░░░░░░░░░░░░░░░░░░░░░░░░░░░          </span> │\n",
              "│<span style=\"color: #008080; text-decoration-color: #008080\"> approval        </span>│<span style=\"color: #008000; text-decoration-color: #008000\">      0.000 </span>│ <span style=\"color: #7f7f7f; text-decoration-color: #7f7f7f\">░░░░░░░░░░░░░░░░░░░░░░░░░░░░░░░░░░░░░░░░          </span> │\n",
              "└─────────────────┴────────────┴────────────────────────────────────────────────────┘\n",
              "</pre>\n"
            ],
            "text/plain": [
              "\u001b[3m                                  Emotion Analysis                                   \u001b[0m\n",
              "┏━━━━━━━━━━━━━━━━━┳━━━━━━━━━━━━┳━━━━━━━━━━━━━━━━━━━━━━━━━━━━━━━━━━━━━━━━━━━━━━━━━━━━┓\n",
              "┃\u001b[1;35m \u001b[0m\u001b[1;35mEmotion        \u001b[0m\u001b[1;35m \u001b[0m┃\u001b[1;35m \u001b[0m\u001b[1;35m     Score\u001b[0m\u001b[1;35m \u001b[0m┃\u001b[1;35m \u001b[0m\u001b[1;35mConfidence                                        \u001b[0m\u001b[1;35m \u001b[0m┃\n",
              "┡━━━━━━━━━━━━━━━━━╇━━━━━━━━━━━━╇━━━━━━━━━━━━━━━━━━━━━━━━━━━━━━━━━━━━━━━━━━━━━━━━━━━━┩\n",
              "│\u001b[36m \u001b[0m\u001b[36mdisapproval    \u001b[0m\u001b[36m \u001b[0m│\u001b[32m \u001b[0m\u001b[32m     0.999\u001b[0m\u001b[32m \u001b[0m│ \u001b[92m███████████████████████████████████████░          \u001b[0m │\n",
              "│\u001b[36m \u001b[0m\u001b[36mannoyance      \u001b[0m\u001b[36m \u001b[0m│\u001b[32m \u001b[0m\u001b[32m     0.001\u001b[0m\u001b[32m \u001b[0m│ \u001b[2m░░░░░░░░░░░░░░░░░░░░░░░░░░░░░░░░░░░░░░░░          \u001b[0m │\n",
              "│\u001b[36m \u001b[0m\u001b[36mapproval       \u001b[0m\u001b[36m \u001b[0m│\u001b[32m \u001b[0m\u001b[32m     0.000\u001b[0m\u001b[32m \u001b[0m│ \u001b[2m░░░░░░░░░░░░░░░░░░░░░░░░░░░░░░░░░░░░░░░░          \u001b[0m │\n",
              "└─────────────────┴────────────┴────────────────────────────────────────────────────┘\n"
            ]
          },
          "metadata": {},
          "output_type": "display_data"
        },
        {
          "data": {
            "text/html": [
              "<pre style=\"white-space:pre;overflow-x:auto;line-height:normal;font-family:Menlo,'DejaVu Sans Mono',consolas,'Courier New',monospace\">\n",
              "<span style=\"color: #808000; text-decoration-color: #808000; font-weight: bold\">LINGUISTIC ANALYSIS (Academic Dimensions)</span>\n",
              "</pre>\n"
            ],
            "text/plain": [
              "\n",
              "\u001b[1;33mLINGUISTIC ANALYSIS \u001b[0m\u001b[1;33m(\u001b[0m\u001b[1;33mAcademic Dimensions\u001b[0m\u001b[1;33m)\u001b[0m\n"
            ]
          },
          "metadata": {},
          "output_type": "display_data"
        },
        {
          "data": {
            "text/html": [
              "<pre style=\"white-space:pre;overflow-x:auto;line-height:normal;font-family:Menlo,'DejaVu Sans Mono',consolas,'Courier New',monospace\"><span style=\"color: #7f7f7f; text-decoration-color: #7f7f7f\">────────────────────────────────────────────────────────────────────────────────</span>\n",
              "</pre>\n"
            ],
            "text/plain": [
              "\u001b[2m────────────────────────────────────────────────────────────────────────────────\u001b[0m\n"
            ]
          },
          "metadata": {},
          "output_type": "display_data"
        },
        {
          "data": {
            "text/html": [
              "<pre style=\"white-space:pre;overflow-x:auto;line-height:normal;font-family:Menlo,'DejaVu Sans Mono',consolas,'Courier New',monospace\"><span style=\"font-style: italic\">                                   Linguistic Analysis                                    </span>\n",
              "┏━━━━━━━━━━━━━━━━━━━━━━┳━━━━━━━━━━━━━━━━━┳━━━━━━━━━━━━━━━━━━━━━━━━━━━━━━━━━━━━━━━━━━━━━━━┓\n",
              "┃<span style=\"color: #008080; text-decoration-color: #008080; font-weight: bold\"> Dimension            </span>┃<span style=\"color: #008080; text-decoration-color: #008080; font-weight: bold\"> Value           </span>┃<span style=\"color: #008080; text-decoration-color: #008080; font-weight: bold\"> Confidence                                    </span>┃\n",
              "┡━━━━━━━━━━━━━━━━━━━━━━╇━━━━━━━━━━━━━━━━━╇━━━━━━━━━━━━━━━━━━━━━━━━━━━━━━━━━━━━━━━━━━━━━━━┩\n",
              "│<span style=\"color: #008080; text-decoration-color: #008080\"> Formality            </span>│<span style=\"color: #808000; text-decoration-color: #808000\"> formal          </span>│ <span style=\"color: #00ffff; text-decoration-color: #00ffff\">███████████████████████████████████          </span> │\n",
              "│<span style=\"color: #008080; text-decoration-color: #008080\"> Tone                 </span>│<span style=\"color: #808000; text-decoration-color: #808000\"> friendly        </span>│ <span style=\"color: #00ffff; text-decoration-color: #00ffff\">███████████████████████████████████          </span> │\n",
              "│<span style=\"color: #008080; text-decoration-color: #008080\"> Intensity            </span>│<span style=\"color: #808000; text-decoration-color: #808000\"> high            </span>│ <span style=\"color: #00ffff; text-decoration-color: #00ffff\">███████████████████████████████████          </span> │\n",
              "│<span style=\"color: #008080; text-decoration-color: #008080\"> Style                </span>│<span style=\"color: #808000; text-decoration-color: #808000\"> neutral         </span>│ <span style=\"color: #7f7f7f; text-decoration-color: #7f7f7f\">█████████████████░░░░░░░░░░░░░░░░░░          </span> │\n",
              "└──────────────────────┴─────────────────┴───────────────────────────────────────────────┘\n",
              "</pre>\n"
            ],
            "text/plain": [
              "\u001b[3m                                   Linguistic Analysis                                    \u001b[0m\n",
              "┏━━━━━━━━━━━━━━━━━━━━━━┳━━━━━━━━━━━━━━━━━┳━━━━━━━━━━━━━━━━━━━━━━━━━━━━━━━━━━━━━━━━━━━━━━━┓\n",
              "┃\u001b[1;36m \u001b[0m\u001b[1;36mDimension           \u001b[0m\u001b[1;36m \u001b[0m┃\u001b[1;36m \u001b[0m\u001b[1;36mValue          \u001b[0m\u001b[1;36m \u001b[0m┃\u001b[1;36m \u001b[0m\u001b[1;36mConfidence                                   \u001b[0m\u001b[1;36m \u001b[0m┃\n",
              "┡━━━━━━━━━━━━━━━━━━━━━━╇━━━━━━━━━━━━━━━━━╇━━━━━━━━━━━━━━━━━━━━━━━━━━━━━━━━━━━━━━━━━━━━━━━┩\n",
              "│\u001b[36m \u001b[0m\u001b[36mFormality           \u001b[0m\u001b[36m \u001b[0m│\u001b[33m \u001b[0m\u001b[33mformal         \u001b[0m\u001b[33m \u001b[0m│ \u001b[96m███████████████████████████████████          \u001b[0m │\n",
              "│\u001b[36m \u001b[0m\u001b[36mTone                \u001b[0m\u001b[36m \u001b[0m│\u001b[33m \u001b[0m\u001b[33mfriendly       \u001b[0m\u001b[33m \u001b[0m│ \u001b[96m███████████████████████████████████          \u001b[0m │\n",
              "│\u001b[36m \u001b[0m\u001b[36mIntensity           \u001b[0m\u001b[36m \u001b[0m│\u001b[33m \u001b[0m\u001b[33mhigh           \u001b[0m\u001b[33m \u001b[0m│ \u001b[96m███████████████████████████████████          \u001b[0m │\n",
              "│\u001b[36m \u001b[0m\u001b[36mStyle               \u001b[0m\u001b[36m \u001b[0m│\u001b[33m \u001b[0m\u001b[33mneutral        \u001b[0m\u001b[33m \u001b[0m│ \u001b[2m█████████████████░░░░░░░░░░░░░░░░░░          \u001b[0m │\n",
              "└──────────────────────┴─────────────────┴───────────────────────────────────────────────┘\n"
            ]
          },
          "metadata": {},
          "output_type": "display_data"
        },
        {
          "data": {
            "text/html": [
              "<pre style=\"white-space:pre;overflow-x:auto;line-height:normal;font-family:Menlo,'DejaVu Sans Mono',consolas,'Courier New',monospace\">\n",
              "</pre>\n"
            ],
            "text/plain": [
              "\n"
            ]
          },
          "metadata": {},
          "output_type": "display_data"
        },
        {
          "data": {
            "text/html": [
              "<pre style=\"white-space:pre;overflow-x:auto;line-height:normal;font-family:Menlo,'DejaVu Sans Mono',consolas,'Courier New',monospace\"><span style=\"color: #008000; text-decoration-color: #008000\">╭──────────────────────────────────────────────────── </span><span style=\"color: #008000; text-decoration-color: #008000; font-weight: bold\">Summary</span><span style=\"color: #008000; text-decoration-color: #008000\"> ────────────────────────────────────────────────────╮</span>\n",
              "<span style=\"color: #008000; text-decoration-color: #008000\">│</span> <span style=\"font-weight: bold\">Primary Emotion: </span><span style=\"color: #00ff00; text-decoration-color: #00ff00\">disapproval</span>                                                                                    <span style=\"color: #008000; text-decoration-color: #008000\">│</span>\n",
              "<span style=\"color: #008000; text-decoration-color: #008000\">│</span> <span style=\"font-weight: bold\">Sentiment: </span><span style=\"color: #800000; text-decoration-color: #800000\">negative</span>                                                                                             <span style=\"color: #008000; text-decoration-color: #008000\">│</span>\n",
              "<span style=\"color: #008000; text-decoration-color: #008000\">│</span> <span style=\"font-weight: bold\">Formality: </span><span style=\"color: #008080; text-decoration-color: #008080\">formal</span><span style=\"color: #7f7f7f; text-decoration-color: #7f7f7f\"> | </span><span style=\"font-weight: bold\">Tone: </span><span style=\"color: #008080; text-decoration-color: #008080\">friendly</span>                                                                              <span style=\"color: #008000; text-decoration-color: #008000\">│</span>\n",
              "<span style=\"color: #008000; text-decoration-color: #008000\">│</span> <span style=\"font-weight: bold\">Intensity: </span><span style=\"color: #800080; text-decoration-color: #800080\">high</span><span style=\"color: #7f7f7f; text-decoration-color: #7f7f7f\"> | </span><span style=\"font-weight: bold\">Style: </span><span style=\"color: #800080; text-decoration-color: #800080\">neutral</span>                                                                                <span style=\"color: #008000; text-decoration-color: #008000\">│</span>\n",
              "<span style=\"color: #008000; text-decoration-color: #008000\">╰─────────────────────────────────────────────────────────────────────────────────────────────────────────────────╯</span>\n",
              "</pre>\n"
            ],
            "text/plain": [
              "\u001b[32m╭─\u001b[0m\u001b[32m───────────────────────────────────────────────────\u001b[0m\u001b[32m \u001b[0m\u001b[1;32mSummary\u001b[0m\u001b[32m \u001b[0m\u001b[32m───────────────────────────────────────────────────\u001b[0m\u001b[32m─╮\u001b[0m\n",
              "\u001b[32m│\u001b[0m \u001b[1mPrimary Emotion: \u001b[0m\u001b[92mdisapproval\u001b[0m                                                                                    \u001b[32m│\u001b[0m\n",
              "\u001b[32m│\u001b[0m \u001b[1mSentiment: \u001b[0m\u001b[31mnegative\u001b[0m                                                                                             \u001b[32m│\u001b[0m\n",
              "\u001b[32m│\u001b[0m \u001b[1mFormality: \u001b[0m\u001b[36mformal\u001b[0m\u001b[2m | \u001b[0m\u001b[1mTone: \u001b[0m\u001b[36mfriendly\u001b[0m                                                                              \u001b[32m│\u001b[0m\n",
              "\u001b[32m│\u001b[0m \u001b[1mIntensity: \u001b[0m\u001b[35mhigh\u001b[0m\u001b[2m | \u001b[0m\u001b[1mStyle: \u001b[0m\u001b[35mneutral\u001b[0m                                                                                \u001b[32m│\u001b[0m\n",
              "\u001b[32m╰─────────────────────────────────────────────────────────────────────────────────────────────────────────────────╯\u001b[0m\n"
            ]
          },
          "metadata": {},
          "output_type": "display_data"
        },
        {
          "data": {
            "text/plain": [
              "''"
            ]
          },
          "execution_count": 18,
          "metadata": {},
          "output_type": "execute_result"
        }
      ],
      "source": [
        "# Example 3: High intensity, rough tone\n",
        "text3 = \"This is absolutely unacceptable! I demand an explanation immediately!\"\n",
        "\n",
        "result3 = enhanced_classifier.analyze(text3, top_k=3)\n",
        "format_enhanced_output(result3, use_rich=True)\n"
      ]
    },
    {
      "cell_type": "code",
      "execution_count": 19,
      "metadata": {},
      "outputs": [
        {
          "data": {
            "text/html": [
              "<pre style=\"white-space:pre;overflow-x:auto;line-height:normal;font-family:Menlo,'DejaVu Sans Mono',consolas,'Courier New',monospace\"><span style=\"color: #008080; text-decoration-color: #008080\">╭─────────────────────────────────────────────────────────────────────────────────────────────────────────────────╮</span>\n",
              "<span style=\"color: #008080; text-decoration-color: #008080\">│</span> <span style=\"color: #008080; text-decoration-color: #008080; font-weight: bold\">COMPREHENSIVE TEXT ANALYSIS</span>                                                                                     <span style=\"color: #008080; text-decoration-color: #008080\">│</span>\n",
              "<span style=\"color: #008080; text-decoration-color: #008080\">│</span> <span style=\"color: #7f7f7f; text-decoration-color: #7f7f7f\">Emotion Classification + Linguistic Analysis</span>                                                                    <span style=\"color: #008080; text-decoration-color: #008080\">│</span>\n",
              "<span style=\"color: #008080; text-decoration-color: #008080\">╰─────────────────────────────────────────────────────────────────────────────────────────────────────────────────╯</span>\n",
              "</pre>\n"
            ],
            "text/plain": [
              "\u001b[36m╭─────────────────────────────────────────────────────────────────────────────────────────────────────────────────╮\u001b[0m\n",
              "\u001b[36m│\u001b[0m \u001b[1;36mCOMPREHENSIVE TEXT ANALYSIS\u001b[0m                                                                                     \u001b[36m│\u001b[0m\n",
              "\u001b[36m│\u001b[0m \u001b[2mEmotion Classification + Linguistic Analysis\u001b[0m                                                                    \u001b[36m│\u001b[0m\n",
              "\u001b[36m╰─────────────────────────────────────────────────────────────────────────────────────────────────────────────────╯\u001b[0m\n"
            ]
          },
          "metadata": {},
          "output_type": "display_data"
        },
        {
          "data": {
            "text/html": [
              "<pre style=\"white-space:pre;overflow-x:auto;line-height:normal;font-family:Menlo,'DejaVu Sans Mono',consolas,'Courier New',monospace\"><span style=\"color: #000080; text-decoration-color: #000080\">╭───────────────────────────────────────────────────── </span><span style=\"color: #000080; text-decoration-color: #000080; font-weight: bold\">Text</span><span style=\"color: #000080; text-decoration-color: #000080\"> ──────────────────────────────────────────────────────╮</span>\n",
              "<span style=\"color: #000080; text-decoration-color: #000080\">│</span>                                                                                                                 <span style=\"color: #000080; text-decoration-color: #000080\">│</span>\n",
              "<span style=\"color: #000080; text-decoration-color: #000080\">│</span>  I'm terribly sorry to bother you, but if possible, could you perhaps help me?                                  <span style=\"color: #000080; text-decoration-color: #000080\">│</span>\n",
              "<span style=\"color: #000080; text-decoration-color: #000080\">│</span>                                                                                                                 <span style=\"color: #000080; text-decoration-color: #000080\">│</span>\n",
              "<span style=\"color: #000080; text-decoration-color: #000080\">╰─────────────────────────────────────────────────────────────────────────────────────────────────────────────────╯</span>\n",
              "</pre>\n"
            ],
            "text/plain": [
              "\u001b[34m╭─\u001b[0m\u001b[34m────────────────────────────────────────────────────\u001b[0m\u001b[34m \u001b[0m\u001b[1;34mText\u001b[0m\u001b[34m \u001b[0m\u001b[34m─────────────────────────────────────────────────────\u001b[0m\u001b[34m─╮\u001b[0m\n",
              "\u001b[34m│\u001b[0m                                                                                                                 \u001b[34m│\u001b[0m\n",
              "\u001b[34m│\u001b[0m  I'm terribly sorry to bother you, but if possible, could you perhaps help me?                                  \u001b[34m│\u001b[0m\n",
              "\u001b[34m│\u001b[0m                                                                                                                 \u001b[34m│\u001b[0m\n",
              "\u001b[34m╰─────────────────────────────────────────────────────────────────────────────────────────────────────────────────╯\u001b[0m\n"
            ]
          },
          "metadata": {},
          "output_type": "display_data"
        },
        {
          "data": {
            "text/html": [
              "<pre style=\"white-space:pre;overflow-x:auto;line-height:normal;font-family:Menlo,'DejaVu Sans Mono',consolas,'Courier New',monospace\">\n",
              "<span style=\"color: #808000; text-decoration-color: #808000; font-weight: bold\">EMOTION ANALYSIS (GoEmotions)</span>\n",
              "</pre>\n"
            ],
            "text/plain": [
              "\n",
              "\u001b[1;33mEMOTION ANALYSIS \u001b[0m\u001b[1;33m(\u001b[0m\u001b[1;33mGoEmotions\u001b[0m\u001b[1;33m)\u001b[0m\n"
            ]
          },
          "metadata": {},
          "output_type": "display_data"
        },
        {
          "data": {
            "text/html": [
              "<pre style=\"white-space:pre;overflow-x:auto;line-height:normal;font-family:Menlo,'DejaVu Sans Mono',consolas,'Courier New',monospace\"><span style=\"color: #7f7f7f; text-decoration-color: #7f7f7f\">────────────────────────────────────────────────────────────────────────────────</span>\n",
              "</pre>\n"
            ],
            "text/plain": [
              "\u001b[2m────────────────────────────────────────────────────────────────────────────────\u001b[0m\n"
            ]
          },
          "metadata": {},
          "output_type": "display_data"
        },
        {
          "data": {
            "text/html": [
              "<pre style=\"white-space:pre;overflow-x:auto;line-height:normal;font-family:Menlo,'DejaVu Sans Mono',consolas,'Courier New',monospace\"><span style=\"font-weight: bold\">Sentiment:</span> <span style=\"color: #800000; text-decoration-color: #800000\">NEGATIVE</span>\n",
              "</pre>\n"
            ],
            "text/plain": [
              "\u001b[1mSentiment:\u001b[0m \u001b[31mNEGATIVE\u001b[0m\n"
            ]
          },
          "metadata": {},
          "output_type": "display_data"
        },
        {
          "data": {
            "text/html": [
              "<pre style=\"white-space:pre;overflow-x:auto;line-height:normal;font-family:Menlo,'DejaVu Sans Mono',consolas,'Courier New',monospace\"><span style=\"font-style: italic\">                                  Emotion Analysis                                   </span>\n",
              "┏━━━━━━━━━━━━━━━━━┳━━━━━━━━━━━━┳━━━━━━━━━━━━━━━━━━━━━━━━━━━━━━━━━━━━━━━━━━━━━━━━━━━━┓\n",
              "┃<span style=\"color: #800080; text-decoration-color: #800080; font-weight: bold\"> Emotion         </span>┃<span style=\"color: #800080; text-decoration-color: #800080; font-weight: bold\">      Score </span>┃<span style=\"color: #800080; text-decoration-color: #800080; font-weight: bold\"> Confidence                                         </span>┃\n",
              "┡━━━━━━━━━━━━━━━━━╇━━━━━━━━━━━━╇━━━━━━━━━━━━━━━━━━━━━━━━━━━━━━━━━━━━━━━━━━━━━━━━━━━━┩\n",
              "│<span style=\"color: #008080; text-decoration-color: #008080\"> sadness         </span>│<span style=\"color: #008000; text-decoration-color: #008000\">      0.430 </span>│ <span style=\"color: #808000; text-decoration-color: #808000\">█████████████████░░░░░░░░░░░░░░░░░░░░░░░          </span> │\n",
              "│<span style=\"color: #008080; text-decoration-color: #008080\"> curiosity       </span>│<span style=\"color: #008000; text-decoration-color: #008000\">      0.351 </span>│ <span style=\"color: #7f7f7f; text-decoration-color: #7f7f7f\">██████████████░░░░░░░░░░░░░░░░░░░░░░░░░░          </span> │\n",
              "│<span style=\"color: #008080; text-decoration-color: #008080\"> remorse         </span>│<span style=\"color: #008000; text-decoration-color: #008000\">      0.164 </span>│ <span style=\"color: #7f7f7f; text-decoration-color: #7f7f7f\">██████░░░░░░░░░░░░░░░░░░░░░░░░░░░░░░░░░░          </span> │\n",
              "└─────────────────┴────────────┴────────────────────────────────────────────────────┘\n",
              "</pre>\n"
            ],
            "text/plain": [
              "\u001b[3m                                  Emotion Analysis                                   \u001b[0m\n",
              "┏━━━━━━━━━━━━━━━━━┳━━━━━━━━━━━━┳━━━━━━━━━━━━━━━━━━━━━━━━━━━━━━━━━━━━━━━━━━━━━━━━━━━━┓\n",
              "┃\u001b[1;35m \u001b[0m\u001b[1;35mEmotion        \u001b[0m\u001b[1;35m \u001b[0m┃\u001b[1;35m \u001b[0m\u001b[1;35m     Score\u001b[0m\u001b[1;35m \u001b[0m┃\u001b[1;35m \u001b[0m\u001b[1;35mConfidence                                        \u001b[0m\u001b[1;35m \u001b[0m┃\n",
              "┡━━━━━━━━━━━━━━━━━╇━━━━━━━━━━━━╇━━━━━━━━━━━━━━━━━━━━━━━━━━━━━━━━━━━━━━━━━━━━━━━━━━━━┩\n",
              "│\u001b[36m \u001b[0m\u001b[36msadness        \u001b[0m\u001b[36m \u001b[0m│\u001b[32m \u001b[0m\u001b[32m     0.430\u001b[0m\u001b[32m \u001b[0m│ \u001b[33m█████████████████░░░░░░░░░░░░░░░░░░░░░░░          \u001b[0m │\n",
              "│\u001b[36m \u001b[0m\u001b[36mcuriosity      \u001b[0m\u001b[36m \u001b[0m│\u001b[32m \u001b[0m\u001b[32m     0.351\u001b[0m\u001b[32m \u001b[0m│ \u001b[2m██████████████░░░░░░░░░░░░░░░░░░░░░░░░░░          \u001b[0m │\n",
              "│\u001b[36m \u001b[0m\u001b[36mremorse        \u001b[0m\u001b[36m \u001b[0m│\u001b[32m \u001b[0m\u001b[32m     0.164\u001b[0m\u001b[32m \u001b[0m│ \u001b[2m██████░░░░░░░░░░░░░░░░░░░░░░░░░░░░░░░░░░          \u001b[0m │\n",
              "└─────────────────┴────────────┴────────────────────────────────────────────────────┘\n"
            ]
          },
          "metadata": {},
          "output_type": "display_data"
        },
        {
          "data": {
            "text/html": [
              "<pre style=\"white-space:pre;overflow-x:auto;line-height:normal;font-family:Menlo,'DejaVu Sans Mono',consolas,'Courier New',monospace\">\n",
              "<span style=\"color: #808000; text-decoration-color: #808000; font-weight: bold\">LINGUISTIC ANALYSIS (Academic Dimensions)</span>\n",
              "</pre>\n"
            ],
            "text/plain": [
              "\n",
              "\u001b[1;33mLINGUISTIC ANALYSIS \u001b[0m\u001b[1;33m(\u001b[0m\u001b[1;33mAcademic Dimensions\u001b[0m\u001b[1;33m)\u001b[0m\n"
            ]
          },
          "metadata": {},
          "output_type": "display_data"
        },
        {
          "data": {
            "text/html": [
              "<pre style=\"white-space:pre;overflow-x:auto;line-height:normal;font-family:Menlo,'DejaVu Sans Mono',consolas,'Courier New',monospace\"><span style=\"color: #7f7f7f; text-decoration-color: #7f7f7f\">────────────────────────────────────────────────────────────────────────────────</span>\n",
              "</pre>\n"
            ],
            "text/plain": [
              "\u001b[2m────────────────────────────────────────────────────────────────────────────────\u001b[0m\n"
            ]
          },
          "metadata": {},
          "output_type": "display_data"
        },
        {
          "data": {
            "text/html": [
              "<pre style=\"white-space:pre;overflow-x:auto;line-height:normal;font-family:Menlo,'DejaVu Sans Mono',consolas,'Courier New',monospace\"><span style=\"font-style: italic\">                                   Linguistic Analysis                                    </span>\n",
              "┏━━━━━━━━━━━━━━━━━━━━━━┳━━━━━━━━━━━━━━━━━┳━━━━━━━━━━━━━━━━━━━━━━━━━━━━━━━━━━━━━━━━━━━━━━━┓\n",
              "┃<span style=\"color: #008080; text-decoration-color: #008080; font-weight: bold\"> Dimension            </span>┃<span style=\"color: #008080; text-decoration-color: #008080; font-weight: bold\"> Value           </span>┃<span style=\"color: #008080; text-decoration-color: #008080; font-weight: bold\"> Confidence                                    </span>┃\n",
              "┡━━━━━━━━━━━━━━━━━━━━━━╇━━━━━━━━━━━━━━━━━╇━━━━━━━━━━━━━━━━━━━━━━━━━━━━━━━━━━━━━━━━━━━━━━━┩\n",
              "│<span style=\"color: #008080; text-decoration-color: #008080\"> Formality            </span>│<span style=\"color: #808000; text-decoration-color: #808000\"> colloquial      </span>│ <span style=\"color: #00ffff; text-decoration-color: #00ffff\">███████████████████████████████████          </span> │\n",
              "│<span style=\"color: #008080; text-decoration-color: #008080\"> Tone                 </span>│<span style=\"color: #808000; text-decoration-color: #808000\"> kind            </span>│ <span style=\"color: #00ffff; text-decoration-color: #00ffff\">███████████████████████████████████          </span> │\n",
              "│<span style=\"color: #008080; text-decoration-color: #008080\"> Intensity            </span>│<span style=\"color: #808000; text-decoration-color: #808000\"> high            </span>│ <span style=\"color: #00ffff; text-decoration-color: #00ffff\">███████████████████████████████████          </span> │\n",
              "│<span style=\"color: #008080; text-decoration-color: #008080\"> Style                </span>│<span style=\"color: #808000; text-decoration-color: #808000\"> indirect        </span>│ <span style=\"color: #7f7f7f; text-decoration-color: #7f7f7f\">█████████████████░░░░░░░░░░░░░░░░░░          </span> │\n",
              "└──────────────────────┴─────────────────┴───────────────────────────────────────────────┘\n",
              "</pre>\n"
            ],
            "text/plain": [
              "\u001b[3m                                   Linguistic Analysis                                    \u001b[0m\n",
              "┏━━━━━━━━━━━━━━━━━━━━━━┳━━━━━━━━━━━━━━━━━┳━━━━━━━━━━━━━━━━━━━━━━━━━━━━━━━━━━━━━━━━━━━━━━━┓\n",
              "┃\u001b[1;36m \u001b[0m\u001b[1;36mDimension           \u001b[0m\u001b[1;36m \u001b[0m┃\u001b[1;36m \u001b[0m\u001b[1;36mValue          \u001b[0m\u001b[1;36m \u001b[0m┃\u001b[1;36m \u001b[0m\u001b[1;36mConfidence                                   \u001b[0m\u001b[1;36m \u001b[0m┃\n",
              "┡━━━━━━━━━━━━━━━━━━━━━━╇━━━━━━━━━━━━━━━━━╇━━━━━━━━━━━━━━━━━━━━━━━━━━━━━━━━━━━━━━━━━━━━━━━┩\n",
              "│\u001b[36m \u001b[0m\u001b[36mFormality           \u001b[0m\u001b[36m \u001b[0m│\u001b[33m \u001b[0m\u001b[33mcolloquial     \u001b[0m\u001b[33m \u001b[0m│ \u001b[96m███████████████████████████████████          \u001b[0m │\n",
              "│\u001b[36m \u001b[0m\u001b[36mTone                \u001b[0m\u001b[36m \u001b[0m│\u001b[33m \u001b[0m\u001b[33mkind           \u001b[0m\u001b[33m \u001b[0m│ \u001b[96m███████████████████████████████████          \u001b[0m │\n",
              "│\u001b[36m \u001b[0m\u001b[36mIntensity           \u001b[0m\u001b[36m \u001b[0m│\u001b[33m \u001b[0m\u001b[33mhigh           \u001b[0m\u001b[33m \u001b[0m│ \u001b[96m███████████████████████████████████          \u001b[0m │\n",
              "│\u001b[36m \u001b[0m\u001b[36mStyle               \u001b[0m\u001b[36m \u001b[0m│\u001b[33m \u001b[0m\u001b[33mindirect       \u001b[0m\u001b[33m \u001b[0m│ \u001b[2m█████████████████░░░░░░░░░░░░░░░░░░          \u001b[0m │\n",
              "└──────────────────────┴─────────────────┴───────────────────────────────────────────────┘\n"
            ]
          },
          "metadata": {},
          "output_type": "display_data"
        },
        {
          "data": {
            "text/html": [
              "<pre style=\"white-space:pre;overflow-x:auto;line-height:normal;font-family:Menlo,'DejaVu Sans Mono',consolas,'Courier New',monospace\">\n",
              "</pre>\n"
            ],
            "text/plain": [
              "\n"
            ]
          },
          "metadata": {},
          "output_type": "display_data"
        },
        {
          "data": {
            "text/html": [
              "<pre style=\"white-space:pre;overflow-x:auto;line-height:normal;font-family:Menlo,'DejaVu Sans Mono',consolas,'Courier New',monospace\"><span style=\"color: #008000; text-decoration-color: #008000\">╭──────────────────────────────────────────────────── </span><span style=\"color: #008000; text-decoration-color: #008000; font-weight: bold\">Summary</span><span style=\"color: #008000; text-decoration-color: #008000\"> ────────────────────────────────────────────────────╮</span>\n",
              "<span style=\"color: #008000; text-decoration-color: #008000\">│</span> <span style=\"font-weight: bold\">Primary Emotion: </span><span style=\"color: #00ff00; text-decoration-color: #00ff00\">sadness</span>                                                                                        <span style=\"color: #008000; text-decoration-color: #008000\">│</span>\n",
              "<span style=\"color: #008000; text-decoration-color: #008000\">│</span> <span style=\"font-weight: bold\">Sentiment: </span><span style=\"color: #800000; text-decoration-color: #800000\">negative</span>                                                                                             <span style=\"color: #008000; text-decoration-color: #008000\">│</span>\n",
              "<span style=\"color: #008000; text-decoration-color: #008000\">│</span> <span style=\"font-weight: bold\">Formality: </span><span style=\"color: #008080; text-decoration-color: #008080\">colloquial</span><span style=\"color: #7f7f7f; text-decoration-color: #7f7f7f\"> | </span><span style=\"font-weight: bold\">Tone: </span><span style=\"color: #008080; text-decoration-color: #008080\">kind</span>                                                                              <span style=\"color: #008000; text-decoration-color: #008000\">│</span>\n",
              "<span style=\"color: #008000; text-decoration-color: #008000\">│</span> <span style=\"font-weight: bold\">Intensity: </span><span style=\"color: #800080; text-decoration-color: #800080\">high</span><span style=\"color: #7f7f7f; text-decoration-color: #7f7f7f\"> | </span><span style=\"font-weight: bold\">Style: </span><span style=\"color: #800080; text-decoration-color: #800080\">indirect</span>                                                                               <span style=\"color: #008000; text-decoration-color: #008000\">│</span>\n",
              "<span style=\"color: #008000; text-decoration-color: #008000\">╰─────────────────────────────────────────────────────────────────────────────────────────────────────────────────╯</span>\n",
              "</pre>\n"
            ],
            "text/plain": [
              "\u001b[32m╭─\u001b[0m\u001b[32m───────────────────────────────────────────────────\u001b[0m\u001b[32m \u001b[0m\u001b[1;32mSummary\u001b[0m\u001b[32m \u001b[0m\u001b[32m───────────────────────────────────────────────────\u001b[0m\u001b[32m─╮\u001b[0m\n",
              "\u001b[32m│\u001b[0m \u001b[1mPrimary Emotion: \u001b[0m\u001b[92msadness\u001b[0m                                                                                        \u001b[32m│\u001b[0m\n",
              "\u001b[32m│\u001b[0m \u001b[1mSentiment: \u001b[0m\u001b[31mnegative\u001b[0m                                                                                             \u001b[32m│\u001b[0m\n",
              "\u001b[32m│\u001b[0m \u001b[1mFormality: \u001b[0m\u001b[36mcolloquial\u001b[0m\u001b[2m | \u001b[0m\u001b[1mTone: \u001b[0m\u001b[36mkind\u001b[0m                                                                              \u001b[32m│\u001b[0m\n",
              "\u001b[32m│\u001b[0m \u001b[1mIntensity: \u001b[0m\u001b[35mhigh\u001b[0m\u001b[2m | \u001b[0m\u001b[1mStyle: \u001b[0m\u001b[35mindirect\u001b[0m                                                                               \u001b[32m│\u001b[0m\n",
              "\u001b[32m╰─────────────────────────────────────────────────────────────────────────────────────────────────────────────────╯\u001b[0m\n"
            ]
          },
          "metadata": {},
          "output_type": "display_data"
        },
        {
          "data": {
            "text/plain": [
              "''"
            ]
          },
          "execution_count": 19,
          "metadata": {},
          "output_type": "execute_result"
        }
      ],
      "source": [
        "# Example 4: Passive, kind tone\n",
        "text4 = \"I'm terribly sorry to bother you, but if possible, could you perhaps help me?\"\n",
        "\n",
        "result4 = enhanced_classifier.analyze(text4, top_k=3)\n",
        "format_enhanced_output(result4, use_rich=True)\n"
      ]
    },
    {
      "cell_type": "markdown",
      "metadata": {},
      "source": [
        "## 17. Academic Export Format\n",
        "\n",
        "Export analysis results in a structured format suitable for research and data analysis.\n"
      ]
    },
    {
      "cell_type": "code",
      "execution_count": 20,
      "metadata": {},
      "outputs": [
        {
          "data": {
            "text/html": [
              "<pre style=\"white-space:pre;overflow-x:auto;line-height:normal;font-family:Menlo,'DejaVu Sans Mono',consolas,'Courier New',monospace\"><span style=\"color: #008080; text-decoration-color: #008080\">╭─────────────────────────────────────────────────────────────────────────────────────────────────────────────────╮</span>\n",
              "<span style=\"color: #008080; text-decoration-color: #008080\">│</span> <span style=\"color: #008080; text-decoration-color: #008080; font-weight: bold\">Academic Export Format</span>                                                                                          <span style=\"color: #008080; text-decoration-color: #008080\">│</span>\n",
              "<span style=\"color: #008080; text-decoration-color: #008080\">│</span> <span style=\"color: #7f7f7f; text-decoration-color: #7f7f7f\">Structured data for research</span>                                                                                    <span style=\"color: #008080; text-decoration-color: #008080\">│</span>\n",
              "<span style=\"color: #008080; text-decoration-color: #008080\">╰─────────────────────────────────────────────────────────────────────────────────────────────────────────────────╯</span>\n",
              "</pre>\n"
            ],
            "text/plain": [
              "\u001b[36m╭─────────────────────────────────────────────────────────────────────────────────────────────────────────────────╮\u001b[0m\n",
              "\u001b[36m│\u001b[0m \u001b[1;36mAcademic Export Format\u001b[0m                                                                                          \u001b[36m│\u001b[0m\n",
              "\u001b[36m│\u001b[0m \u001b[2mStructured data for research\u001b[0m                                                                                    \u001b[36m│\u001b[0m\n",
              "\u001b[36m╰─────────────────────────────────────────────────────────────────────────────────────────────────────────────────╯\u001b[0m\n"
            ]
          },
          "metadata": {},
          "output_type": "display_data"
        },
        {
          "data": {
            "text/html": [
              "<pre style=\"white-space:pre;overflow-x:auto;line-height:normal;font-family:Menlo,'DejaVu Sans Mono',consolas,'Courier New',monospace\">┏━━━━━━━━━━━━━━━━━━━━━━━━━━━━━━━━┳━━━━━━━━━━━━━━━━━━━━━━━━━━━━━━━━━━━━━━━━━━━━━━━━━━━━━━━━━━━━━━━━━━━━━━━━━━━━━━━━┓\n",
              "┃<span style=\"color: #008080; text-decoration-color: #008080; font-weight: bold\"> Field                          </span>┃<span style=\"color: #008080; text-decoration-color: #008080; font-weight: bold\"> Value                                                                          </span>┃\n",
              "┡━━━━━━━━━━━━━━━━━━━━━━━━━━━━━━━━╇━━━━━━━━━━━━━━━━━━━━━━━━━━━━━━━━━━━━━━━━━━━━━━━━━━━━━━━━━━━━━━━━━━━━━━━━━━━━━━━━┩\n",
              "│<span style=\"color: #808000; text-decoration-color: #808000\"> text                           </span>│<span style=\"color: #c0c0c0; text-decoration-color: #c0c0c0\"> I hereby formally request your assistance with this matter. Your prompt        </span>│\n",
              "│<span style=\"color: #808000; text-decoration-color: #808000\">                                </span>│<span style=\"color: #c0c0c0; text-decoration-color: #c0c0c0\"> attention would be greatly appreciated.                                        </span>│\n",
              "│<span style=\"color: #808000; text-decoration-color: #808000\"> text_length                    </span>│<span style=\"color: #c0c0c0; text-decoration-color: #c0c0c0\"> 111                                                                            </span>│\n",
              "│<span style=\"color: #808000; text-decoration-color: #808000\"> word_count                     </span>│<span style=\"color: #c0c0c0; text-decoration-color: #c0c0c0\"> 16                                                                             </span>│\n",
              "│<span style=\"color: #808000; text-decoration-color: #808000\"> sentiment_group                </span>│<span style=\"color: #c0c0c0; text-decoration-color: #c0c0c0\"> positive                                                                       </span>│\n",
              "│<span style=\"color: #808000; text-decoration-color: #808000\"> primary_emotion                </span>│<span style=\"color: #c0c0c0; text-decoration-color: #c0c0c0\"> admiration                                                                     </span>│\n",
              "│<span style=\"color: #808000; text-decoration-color: #808000\"> primary_emotion_score          </span>│<span style=\"color: #c0c0c0; text-decoration-color: #c0c0c0\"> 0.9901                                                                         </span>│\n",
              "│<span style=\"color: #808000; text-decoration-color: #808000\"> secondary_emotion              </span>│<span style=\"color: #c0c0c0; text-decoration-color: #c0c0c0\"> gratitude                                                                      </span>│\n",
              "│<span style=\"color: #808000; text-decoration-color: #808000\"> secondary_emotion_score        </span>│<span style=\"color: #c0c0c0; text-decoration-color: #c0c0c0\"> 0.0049                                                                         </span>│\n",
              "│<span style=\"color: #808000; text-decoration-color: #808000\"> tertiary_emotion               </span>│<span style=\"color: #c0c0c0; text-decoration-color: #c0c0c0\"> approval                                                                       </span>│\n",
              "│<span style=\"color: #808000; text-decoration-color: #808000\"> tertiary_emotion_score         </span>│<span style=\"color: #c0c0c0; text-decoration-color: #c0c0c0\"> 0.0039                                                                         </span>│\n",
              "│<span style=\"color: #808000; text-decoration-color: #808000\"> formality                      </span>│<span style=\"color: #c0c0c0; text-decoration-color: #c0c0c0\"> formal                                                                         </span>│\n",
              "│<span style=\"color: #808000; text-decoration-color: #808000\"> formality_score                </span>│<span style=\"color: #c0c0c0; text-decoration-color: #c0c0c0\"> 1.0000                                                                         </span>│\n",
              "│<span style=\"color: #808000; text-decoration-color: #808000\"> tone                           </span>│<span style=\"color: #c0c0c0; text-decoration-color: #c0c0c0\"> friendly                                                                       </span>│\n",
              "│<span style=\"color: #808000; text-decoration-color: #808000\"> tone_score                     </span>│<span style=\"color: #c0c0c0; text-decoration-color: #c0c0c0\"> 1.0000                                                                         </span>│\n",
              "│<span style=\"color: #808000; text-decoration-color: #808000\"> intensity                      </span>│<span style=\"color: #c0c0c0; text-decoration-color: #c0c0c0\"> medium                                                                         </span>│\n",
              "│<span style=\"color: #808000; text-decoration-color: #808000\"> intensity_score                </span>│<span style=\"color: #c0c0c0; text-decoration-color: #c0c0c0\"> 0.5000                                                                         </span>│\n",
              "│<span style=\"color: #808000; text-decoration-color: #808000\"> communication_style            </span>│<span style=\"color: #c0c0c0; text-decoration-color: #c0c0c0\"> neutral                                                                        </span>│\n",
              "│<span style=\"color: #808000; text-decoration-color: #808000\"> communication_style_score      </span>│<span style=\"color: #c0c0c0; text-decoration-color: #c0c0c0\"> 0.5000                                                                         </span>│\n",
              "└────────────────────────────────┴────────────────────────────────────────────────────────────────────────────────┘\n",
              "</pre>\n"
            ],
            "text/plain": [
              "┏━━━━━━━━━━━━━━━━━━━━━━━━━━━━━━━━┳━━━━━━━━━━━━━━━━━━━━━━━━━━━━━━━━━━━━━━━━━━━━━━━━━━━━━━━━━━━━━━━━━━━━━━━━━━━━━━━━┓\n",
              "┃\u001b[1;36m \u001b[0m\u001b[1;36mField                         \u001b[0m\u001b[1;36m \u001b[0m┃\u001b[1;36m \u001b[0m\u001b[1;36mValue                                                                         \u001b[0m\u001b[1;36m \u001b[0m┃\n",
              "┡━━━━━━━━━━━━━━━━━━━━━━━━━━━━━━━━╇━━━━━━━━━━━━━━━━━━━━━━━━━━━━━━━━━━━━━━━━━━━━━━━━━━━━━━━━━━━━━━━━━━━━━━━━━━━━━━━━┩\n",
              "│\u001b[33m \u001b[0m\u001b[33mtext                          \u001b[0m\u001b[33m \u001b[0m│\u001b[37m \u001b[0m\u001b[37mI hereby formally request your assistance with this matter. Your prompt       \u001b[0m\u001b[37m \u001b[0m│\n",
              "│\u001b[33m                                \u001b[0m│\u001b[37m \u001b[0m\u001b[37mattention would be greatly appreciated.                                       \u001b[0m\u001b[37m \u001b[0m│\n",
              "│\u001b[33m \u001b[0m\u001b[33mtext_length                   \u001b[0m\u001b[33m \u001b[0m│\u001b[37m \u001b[0m\u001b[37m111                                                                           \u001b[0m\u001b[37m \u001b[0m│\n",
              "│\u001b[33m \u001b[0m\u001b[33mword_count                    \u001b[0m\u001b[33m \u001b[0m│\u001b[37m \u001b[0m\u001b[37m16                                                                            \u001b[0m\u001b[37m \u001b[0m│\n",
              "│\u001b[33m \u001b[0m\u001b[33msentiment_group               \u001b[0m\u001b[33m \u001b[0m│\u001b[37m \u001b[0m\u001b[37mpositive                                                                      \u001b[0m\u001b[37m \u001b[0m│\n",
              "│\u001b[33m \u001b[0m\u001b[33mprimary_emotion               \u001b[0m\u001b[33m \u001b[0m│\u001b[37m \u001b[0m\u001b[37madmiration                                                                    \u001b[0m\u001b[37m \u001b[0m│\n",
              "│\u001b[33m \u001b[0m\u001b[33mprimary_emotion_score         \u001b[0m\u001b[33m \u001b[0m│\u001b[37m \u001b[0m\u001b[37m0.9901                                                                        \u001b[0m\u001b[37m \u001b[0m│\n",
              "│\u001b[33m \u001b[0m\u001b[33msecondary_emotion             \u001b[0m\u001b[33m \u001b[0m│\u001b[37m \u001b[0m\u001b[37mgratitude                                                                     \u001b[0m\u001b[37m \u001b[0m│\n",
              "│\u001b[33m \u001b[0m\u001b[33msecondary_emotion_score       \u001b[0m\u001b[33m \u001b[0m│\u001b[37m \u001b[0m\u001b[37m0.0049                                                                        \u001b[0m\u001b[37m \u001b[0m│\n",
              "│\u001b[33m \u001b[0m\u001b[33mtertiary_emotion              \u001b[0m\u001b[33m \u001b[0m│\u001b[37m \u001b[0m\u001b[37mapproval                                                                      \u001b[0m\u001b[37m \u001b[0m│\n",
              "│\u001b[33m \u001b[0m\u001b[33mtertiary_emotion_score        \u001b[0m\u001b[33m \u001b[0m│\u001b[37m \u001b[0m\u001b[37m0.0039                                                                        \u001b[0m\u001b[37m \u001b[0m│\n",
              "│\u001b[33m \u001b[0m\u001b[33mformality                     \u001b[0m\u001b[33m \u001b[0m│\u001b[37m \u001b[0m\u001b[37mformal                                                                        \u001b[0m\u001b[37m \u001b[0m│\n",
              "│\u001b[33m \u001b[0m\u001b[33mformality_score               \u001b[0m\u001b[33m \u001b[0m│\u001b[37m \u001b[0m\u001b[37m1.0000                                                                        \u001b[0m\u001b[37m \u001b[0m│\n",
              "│\u001b[33m \u001b[0m\u001b[33mtone                          \u001b[0m\u001b[33m \u001b[0m│\u001b[37m \u001b[0m\u001b[37mfriendly                                                                      \u001b[0m\u001b[37m \u001b[0m│\n",
              "│\u001b[33m \u001b[0m\u001b[33mtone_score                    \u001b[0m\u001b[33m \u001b[0m│\u001b[37m \u001b[0m\u001b[37m1.0000                                                                        \u001b[0m\u001b[37m \u001b[0m│\n",
              "│\u001b[33m \u001b[0m\u001b[33mintensity                     \u001b[0m\u001b[33m \u001b[0m│\u001b[37m \u001b[0m\u001b[37mmedium                                                                        \u001b[0m\u001b[37m \u001b[0m│\n",
              "│\u001b[33m \u001b[0m\u001b[33mintensity_score               \u001b[0m\u001b[33m \u001b[0m│\u001b[37m \u001b[0m\u001b[37m0.5000                                                                        \u001b[0m\u001b[37m \u001b[0m│\n",
              "│\u001b[33m \u001b[0m\u001b[33mcommunication_style           \u001b[0m\u001b[33m \u001b[0m│\u001b[37m \u001b[0m\u001b[37mneutral                                                                       \u001b[0m\u001b[37m \u001b[0m│\n",
              "│\u001b[33m \u001b[0m\u001b[33mcommunication_style_score     \u001b[0m\u001b[33m \u001b[0m│\u001b[37m \u001b[0m\u001b[37m0.5000                                                                        \u001b[0m\u001b[37m \u001b[0m│\n",
              "└────────────────────────────────┴────────────────────────────────────────────────────────────────────────────────┘\n"
            ]
          },
          "metadata": {},
          "output_type": "display_data"
        }
      ],
      "source": [
        "# Export analysis to academic format\n",
        "academic_data = export_to_academic_format(result1)\n",
        "\n",
        "print_header(\"Academic Export Format\", \"Structured data for research\")\n",
        "\n",
        "# Display as Rich table\n",
        "table = Table(show_header=True, header_style=\"bold cyan\")\n",
        "table.add_column(\"Field\", style=\"yellow\", width=30)\n",
        "table.add_column(\"Value\", style=\"white\")\n",
        "\n",
        "for key, value in academic_data.items():\n",
        "    if isinstance(value, float):\n",
        "        table.add_row(key, f\"{value:.4f}\")\n",
        "    else:\n",
        "        table.add_row(key, str(value))\n",
        "\n",
        "console.print(table)\n"
      ]
    },
    {
      "cell_type": "markdown",
      "metadata": {},
      "source": [
        "## 18. Comparative Analysis: Formal vs. Colloquial\n",
        "\n",
        "Compare how formality affects emotion detection.\n"
      ]
    },
    {
      "cell_type": "code",
      "execution_count": 21,
      "metadata": {},
      "outputs": [
        {
          "data": {
            "text/html": [
              "<pre style=\"white-space:pre;overflow-x:auto;line-height:normal;font-family:Menlo,'DejaVu Sans Mono',consolas,'Courier New',monospace\">\n",
              "<span style=\"color: #808000; text-decoration-color: #808000; font-weight: bold\">FORMAL VERSION</span>\n",
              "</pre>\n"
            ],
            "text/plain": [
              "\n",
              "\u001b[1;33mFORMAL VERSION\u001b[0m\n"
            ]
          },
          "metadata": {},
          "output_type": "display_data"
        },
        {
          "data": {
            "text/html": [
              "<pre style=\"white-space:pre;overflow-x:auto;line-height:normal;font-family:Menlo,'DejaVu Sans Mono',consolas,'Courier New',monospace\"><span style=\"color: #7f7f7f; text-decoration-color: #7f7f7f\">────────────────────────────────────────────────────────────────────────────────</span>\n",
              "</pre>\n"
            ],
            "text/plain": [
              "\u001b[2m────────────────────────────────────────────────────────────────────────────────\u001b[0m\n"
            ]
          },
          "metadata": {},
          "output_type": "display_data"
        },
        {
          "data": {
            "text/html": [
              "<pre style=\"white-space:pre;overflow-x:auto;line-height:normal;font-family:Menlo,'DejaVu Sans Mono',consolas,'Courier New',monospace\"><span style=\"color: #008080; text-decoration-color: #008080\">╭─────────────────────────────────────────────────────────────────────────────────────────────────────────────────╮</span>\n",
              "<span style=\"color: #008080; text-decoration-color: #008080\">│</span> <span style=\"color: #008080; text-decoration-color: #008080; font-weight: bold\">COMPREHENSIVE TEXT ANALYSIS</span>                                                                                     <span style=\"color: #008080; text-decoration-color: #008080\">│</span>\n",
              "<span style=\"color: #008080; text-decoration-color: #008080\">│</span> <span style=\"color: #7f7f7f; text-decoration-color: #7f7f7f\">Emotion Classification + Linguistic Analysis</span>                                                                    <span style=\"color: #008080; text-decoration-color: #008080\">│</span>\n",
              "<span style=\"color: #008080; text-decoration-color: #008080\">╰─────────────────────────────────────────────────────────────────────────────────────────────────────────────────╯</span>\n",
              "</pre>\n"
            ],
            "text/plain": [
              "\u001b[36m╭─────────────────────────────────────────────────────────────────────────────────────────────────────────────────╮\u001b[0m\n",
              "\u001b[36m│\u001b[0m \u001b[1;36mCOMPREHENSIVE TEXT ANALYSIS\u001b[0m                                                                                     \u001b[36m│\u001b[0m\n",
              "\u001b[36m│\u001b[0m \u001b[2mEmotion Classification + Linguistic Analysis\u001b[0m                                                                    \u001b[36m│\u001b[0m\n",
              "\u001b[36m╰─────────────────────────────────────────────────────────────────────────────────────────────────────────────────╯\u001b[0m\n"
            ]
          },
          "metadata": {},
          "output_type": "display_data"
        },
        {
          "data": {
            "text/html": [
              "<pre style=\"white-space:pre;overflow-x:auto;line-height:normal;font-family:Menlo,'DejaVu Sans Mono',consolas,'Courier New',monospace\"><span style=\"color: #000080; text-decoration-color: #000080\">╭───────────────────────────────────────────────────── </span><span style=\"color: #000080; text-decoration-color: #000080; font-weight: bold\">Text</span><span style=\"color: #000080; text-decoration-color: #000080\"> ──────────────────────────────────────────────────────╮</span>\n",
              "<span style=\"color: #000080; text-decoration-color: #000080\">│</span>                                                                                                                 <span style=\"color: #000080; text-decoration-color: #000080\">│</span>\n",
              "<span style=\"color: #000080; text-decoration-color: #000080\">│</span>  I am extremely grateful for your assistance in this matter.                                                    <span style=\"color: #000080; text-decoration-color: #000080\">│</span>\n",
              "<span style=\"color: #000080; text-decoration-color: #000080\">│</span>                                                                                                                 <span style=\"color: #000080; text-decoration-color: #000080\">│</span>\n",
              "<span style=\"color: #000080; text-decoration-color: #000080\">╰─────────────────────────────────────────────────────────────────────────────────────────────────────────────────╯</span>\n",
              "</pre>\n"
            ],
            "text/plain": [
              "\u001b[34m╭─\u001b[0m\u001b[34m────────────────────────────────────────────────────\u001b[0m\u001b[34m \u001b[0m\u001b[1;34mText\u001b[0m\u001b[34m \u001b[0m\u001b[34m─────────────────────────────────────────────────────\u001b[0m\u001b[34m─╮\u001b[0m\n",
              "\u001b[34m│\u001b[0m                                                                                                                 \u001b[34m│\u001b[0m\n",
              "\u001b[34m│\u001b[0m  I am extremely grateful for your assistance in this matter.                                                    \u001b[34m│\u001b[0m\n",
              "\u001b[34m│\u001b[0m                                                                                                                 \u001b[34m│\u001b[0m\n",
              "\u001b[34m╰─────────────────────────────────────────────────────────────────────────────────────────────────────────────────╯\u001b[0m\n"
            ]
          },
          "metadata": {},
          "output_type": "display_data"
        },
        {
          "data": {
            "text/html": [
              "<pre style=\"white-space:pre;overflow-x:auto;line-height:normal;font-family:Menlo,'DejaVu Sans Mono',consolas,'Courier New',monospace\">\n",
              "<span style=\"color: #808000; text-decoration-color: #808000; font-weight: bold\">EMOTION ANALYSIS (GoEmotions)</span>\n",
              "</pre>\n"
            ],
            "text/plain": [
              "\n",
              "\u001b[1;33mEMOTION ANALYSIS \u001b[0m\u001b[1;33m(\u001b[0m\u001b[1;33mGoEmotions\u001b[0m\u001b[1;33m)\u001b[0m\n"
            ]
          },
          "metadata": {},
          "output_type": "display_data"
        },
        {
          "data": {
            "text/html": [
              "<pre style=\"white-space:pre;overflow-x:auto;line-height:normal;font-family:Menlo,'DejaVu Sans Mono',consolas,'Courier New',monospace\"><span style=\"color: #7f7f7f; text-decoration-color: #7f7f7f\">────────────────────────────────────────────────────────────────────────────────</span>\n",
              "</pre>\n"
            ],
            "text/plain": [
              "\u001b[2m────────────────────────────────────────────────────────────────────────────────\u001b[0m\n"
            ]
          },
          "metadata": {},
          "output_type": "display_data"
        },
        {
          "data": {
            "text/html": [
              "<pre style=\"white-space:pre;overflow-x:auto;line-height:normal;font-family:Menlo,'DejaVu Sans Mono',consolas,'Courier New',monospace\"><span style=\"font-weight: bold\">Sentiment:</span> <span style=\"color: #008000; text-decoration-color: #008000\">POSITIVE</span>\n",
              "</pre>\n"
            ],
            "text/plain": [
              "\u001b[1mSentiment:\u001b[0m \u001b[32mPOSITIVE\u001b[0m\n"
            ]
          },
          "metadata": {},
          "output_type": "display_data"
        },
        {
          "data": {
            "text/html": [
              "<pre style=\"white-space:pre;overflow-x:auto;line-height:normal;font-family:Menlo,'DejaVu Sans Mono',consolas,'Courier New',monospace\"><span style=\"font-style: italic\">                                  Emotion Analysis                                   </span>\n",
              "┏━━━━━━━━━━━━━━━━━┳━━━━━━━━━━━━┳━━━━━━━━━━━━━━━━━━━━━━━━━━━━━━━━━━━━━━━━━━━━━━━━━━━━┓\n",
              "┃<span style=\"color: #800080; text-decoration-color: #800080; font-weight: bold\"> Emotion         </span>┃<span style=\"color: #800080; text-decoration-color: #800080; font-weight: bold\">      Score </span>┃<span style=\"color: #800080; text-decoration-color: #800080; font-weight: bold\"> Confidence                                         </span>┃\n",
              "┡━━━━━━━━━━━━━━━━━╇━━━━━━━━━━━━╇━━━━━━━━━━━━━━━━━━━━━━━━━━━━━━━━━━━━━━━━━━━━━━━━━━━━┩\n",
              "│<span style=\"color: #008080; text-decoration-color: #008080\"> gratitude       </span>│<span style=\"color: #008000; text-decoration-color: #008000\">      0.994 </span>│ <span style=\"color: #00ff00; text-decoration-color: #00ff00\">███████████████████████████████████████░          </span> │\n",
              "│<span style=\"color: #008080; text-decoration-color: #008080\"> admiration      </span>│<span style=\"color: #008000; text-decoration-color: #008000\">      0.005 </span>│ <span style=\"color: #7f7f7f; text-decoration-color: #7f7f7f\">░░░░░░░░░░░░░░░░░░░░░░░░░░░░░░░░░░░░░░░░          </span> │\n",
              "│<span style=\"color: #008080; text-decoration-color: #008080\"> caring          </span>│<span style=\"color: #008000; text-decoration-color: #008000\">      0.001 </span>│ <span style=\"color: #7f7f7f; text-decoration-color: #7f7f7f\">░░░░░░░░░░░░░░░░░░░░░░░░░░░░░░░░░░░░░░░░          </span> │\n",
              "└─────────────────┴────────────┴────────────────────────────────────────────────────┘\n",
              "</pre>\n"
            ],
            "text/plain": [
              "\u001b[3m                                  Emotion Analysis                                   \u001b[0m\n",
              "┏━━━━━━━━━━━━━━━━━┳━━━━━━━━━━━━┳━━━━━━━━━━━━━━━━━━━━━━━━━━━━━━━━━━━━━━━━━━━━━━━━━━━━┓\n",
              "┃\u001b[1;35m \u001b[0m\u001b[1;35mEmotion        \u001b[0m\u001b[1;35m \u001b[0m┃\u001b[1;35m \u001b[0m\u001b[1;35m     Score\u001b[0m\u001b[1;35m \u001b[0m┃\u001b[1;35m \u001b[0m\u001b[1;35mConfidence                                        \u001b[0m\u001b[1;35m \u001b[0m┃\n",
              "┡━━━━━━━━━━━━━━━━━╇━━━━━━━━━━━━╇━━━━━━━━━━━━━━━━━━━━━━━━━━━━━━━━━━━━━━━━━━━━━━━━━━━━┩\n",
              "│\u001b[36m \u001b[0m\u001b[36mgratitude      \u001b[0m\u001b[36m \u001b[0m│\u001b[32m \u001b[0m\u001b[32m     0.994\u001b[0m\u001b[32m \u001b[0m│ \u001b[92m███████████████████████████████████████░          \u001b[0m │\n",
              "│\u001b[36m \u001b[0m\u001b[36madmiration     \u001b[0m\u001b[36m \u001b[0m│\u001b[32m \u001b[0m\u001b[32m     0.005\u001b[0m\u001b[32m \u001b[0m│ \u001b[2m░░░░░░░░░░░░░░░░░░░░░░░░░░░░░░░░░░░░░░░░          \u001b[0m │\n",
              "│\u001b[36m \u001b[0m\u001b[36mcaring         \u001b[0m\u001b[36m \u001b[0m│\u001b[32m \u001b[0m\u001b[32m     0.001\u001b[0m\u001b[32m \u001b[0m│ \u001b[2m░░░░░░░░░░░░░░░░░░░░░░░░░░░░░░░░░░░░░░░░          \u001b[0m │\n",
              "└─────────────────┴────────────┴────────────────────────────────────────────────────┘\n"
            ]
          },
          "metadata": {},
          "output_type": "display_data"
        },
        {
          "data": {
            "text/html": [
              "<pre style=\"white-space:pre;overflow-x:auto;line-height:normal;font-family:Menlo,'DejaVu Sans Mono',consolas,'Courier New',monospace\">\n",
              "<span style=\"color: #808000; text-decoration-color: #808000; font-weight: bold\">LINGUISTIC ANALYSIS (Academic Dimensions)</span>\n",
              "</pre>\n"
            ],
            "text/plain": [
              "\n",
              "\u001b[1;33mLINGUISTIC ANALYSIS \u001b[0m\u001b[1;33m(\u001b[0m\u001b[1;33mAcademic Dimensions\u001b[0m\u001b[1;33m)\u001b[0m\n"
            ]
          },
          "metadata": {},
          "output_type": "display_data"
        },
        {
          "data": {
            "text/html": [
              "<pre style=\"white-space:pre;overflow-x:auto;line-height:normal;font-family:Menlo,'DejaVu Sans Mono',consolas,'Courier New',monospace\"><span style=\"color: #7f7f7f; text-decoration-color: #7f7f7f\">────────────────────────────────────────────────────────────────────────────────</span>\n",
              "</pre>\n"
            ],
            "text/plain": [
              "\u001b[2m────────────────────────────────────────────────────────────────────────────────\u001b[0m\n"
            ]
          },
          "metadata": {},
          "output_type": "display_data"
        },
        {
          "data": {
            "text/html": [
              "<pre style=\"white-space:pre;overflow-x:auto;line-height:normal;font-family:Menlo,'DejaVu Sans Mono',consolas,'Courier New',monospace\"><span style=\"font-style: italic\">                                   Linguistic Analysis                                    </span>\n",
              "┏━━━━━━━━━━━━━━━━━━━━━━┳━━━━━━━━━━━━━━━━━┳━━━━━━━━━━━━━━━━━━━━━━━━━━━━━━━━━━━━━━━━━━━━━━━┓\n",
              "┃<span style=\"color: #008080; text-decoration-color: #008080; font-weight: bold\"> Dimension            </span>┃<span style=\"color: #008080; text-decoration-color: #008080; font-weight: bold\"> Value           </span>┃<span style=\"color: #008080; text-decoration-color: #008080; font-weight: bold\"> Confidence                                    </span>┃\n",
              "┡━━━━━━━━━━━━━━━━━━━━━━╇━━━━━━━━━━━━━━━━━╇━━━━━━━━━━━━━━━━━━━━━━━━━━━━━━━━━━━━━━━━━━━━━━━┩\n",
              "│<span style=\"color: #008080; text-decoration-color: #008080\"> Formality            </span>│<span style=\"color: #808000; text-decoration-color: #808000\"> neutral         </span>│ <span style=\"color: #7f7f7f; text-decoration-color: #7f7f7f\">█████████████████░░░░░░░░░░░░░░░░░░          </span> │\n",
              "│<span style=\"color: #008080; text-decoration-color: #008080\"> Tone                 </span>│<span style=\"color: #808000; text-decoration-color: #808000\"> neutral         </span>│ <span style=\"color: #7f7f7f; text-decoration-color: #7f7f7f\">█████████████████░░░░░░░░░░░░░░░░░░          </span> │\n",
              "│<span style=\"color: #008080; text-decoration-color: #008080\"> Intensity            </span>│<span style=\"color: #808000; text-decoration-color: #808000\"> high            </span>│ <span style=\"color: #00ffff; text-decoration-color: #00ffff\">███████████████████████████████████          </span> │\n",
              "│<span style=\"color: #008080; text-decoration-color: #008080\"> Style                </span>│<span style=\"color: #808000; text-decoration-color: #808000\"> neutral         </span>│ <span style=\"color: #7f7f7f; text-decoration-color: #7f7f7f\">█████████████████░░░░░░░░░░░░░░░░░░          </span> │\n",
              "└──────────────────────┴─────────────────┴───────────────────────────────────────────────┘\n",
              "</pre>\n"
            ],
            "text/plain": [
              "\u001b[3m                                   Linguistic Analysis                                    \u001b[0m\n",
              "┏━━━━━━━━━━━━━━━━━━━━━━┳━━━━━━━━━━━━━━━━━┳━━━━━━━━━━━━━━━━━━━━━━━━━━━━━━━━━━━━━━━━━━━━━━━┓\n",
              "┃\u001b[1;36m \u001b[0m\u001b[1;36mDimension           \u001b[0m\u001b[1;36m \u001b[0m┃\u001b[1;36m \u001b[0m\u001b[1;36mValue          \u001b[0m\u001b[1;36m \u001b[0m┃\u001b[1;36m \u001b[0m\u001b[1;36mConfidence                                   \u001b[0m\u001b[1;36m \u001b[0m┃\n",
              "┡━━━━━━━━━━━━━━━━━━━━━━╇━━━━━━━━━━━━━━━━━╇━━━━━━━━━━━━━━━━━━━━━━━━━━━━━━━━━━━━━━━━━━━━━━━┩\n",
              "│\u001b[36m \u001b[0m\u001b[36mFormality           \u001b[0m\u001b[36m \u001b[0m│\u001b[33m \u001b[0m\u001b[33mneutral        \u001b[0m\u001b[33m \u001b[0m│ \u001b[2m█████████████████░░░░░░░░░░░░░░░░░░          \u001b[0m │\n",
              "│\u001b[36m \u001b[0m\u001b[36mTone                \u001b[0m\u001b[36m \u001b[0m│\u001b[33m \u001b[0m\u001b[33mneutral        \u001b[0m\u001b[33m \u001b[0m│ \u001b[2m█████████████████░░░░░░░░░░░░░░░░░░          \u001b[0m │\n",
              "│\u001b[36m \u001b[0m\u001b[36mIntensity           \u001b[0m\u001b[36m \u001b[0m│\u001b[33m \u001b[0m\u001b[33mhigh           \u001b[0m\u001b[33m \u001b[0m│ \u001b[96m███████████████████████████████████          \u001b[0m │\n",
              "│\u001b[36m \u001b[0m\u001b[36mStyle               \u001b[0m\u001b[36m \u001b[0m│\u001b[33m \u001b[0m\u001b[33mneutral        \u001b[0m\u001b[33m \u001b[0m│ \u001b[2m█████████████████░░░░░░░░░░░░░░░░░░          \u001b[0m │\n",
              "└──────────────────────┴─────────────────┴───────────────────────────────────────────────┘\n"
            ]
          },
          "metadata": {},
          "output_type": "display_data"
        },
        {
          "data": {
            "text/html": [
              "<pre style=\"white-space:pre;overflow-x:auto;line-height:normal;font-family:Menlo,'DejaVu Sans Mono',consolas,'Courier New',monospace\">\n",
              "</pre>\n"
            ],
            "text/plain": [
              "\n"
            ]
          },
          "metadata": {},
          "output_type": "display_data"
        },
        {
          "data": {
            "text/html": [
              "<pre style=\"white-space:pre;overflow-x:auto;line-height:normal;font-family:Menlo,'DejaVu Sans Mono',consolas,'Courier New',monospace\"><span style=\"color: #008000; text-decoration-color: #008000\">╭──────────────────────────────────────────────────── </span><span style=\"color: #008000; text-decoration-color: #008000; font-weight: bold\">Summary</span><span style=\"color: #008000; text-decoration-color: #008000\"> ────────────────────────────────────────────────────╮</span>\n",
              "<span style=\"color: #008000; text-decoration-color: #008000\">│</span> <span style=\"font-weight: bold\">Primary Emotion: </span><span style=\"color: #00ff00; text-decoration-color: #00ff00\">gratitude</span>                                                                                      <span style=\"color: #008000; text-decoration-color: #008000\">│</span>\n",
              "<span style=\"color: #008000; text-decoration-color: #008000\">│</span> <span style=\"font-weight: bold\">Sentiment: </span><span style=\"color: #008000; text-decoration-color: #008000\">positive</span>                                                                                             <span style=\"color: #008000; text-decoration-color: #008000\">│</span>\n",
              "<span style=\"color: #008000; text-decoration-color: #008000\">│</span> <span style=\"font-weight: bold\">Formality: </span><span style=\"color: #008080; text-decoration-color: #008080\">neutral</span><span style=\"color: #7f7f7f; text-decoration-color: #7f7f7f\"> | </span><span style=\"font-weight: bold\">Tone: </span><span style=\"color: #008080; text-decoration-color: #008080\">neutral</span>                                                                              <span style=\"color: #008000; text-decoration-color: #008000\">│</span>\n",
              "<span style=\"color: #008000; text-decoration-color: #008000\">│</span> <span style=\"font-weight: bold\">Intensity: </span><span style=\"color: #800080; text-decoration-color: #800080\">high</span><span style=\"color: #7f7f7f; text-decoration-color: #7f7f7f\"> | </span><span style=\"font-weight: bold\">Style: </span><span style=\"color: #800080; text-decoration-color: #800080\">neutral</span>                                                                                <span style=\"color: #008000; text-decoration-color: #008000\">│</span>\n",
              "<span style=\"color: #008000; text-decoration-color: #008000\">╰─────────────────────────────────────────────────────────────────────────────────────────────────────────────────╯</span>\n",
              "</pre>\n"
            ],
            "text/plain": [
              "\u001b[32m╭─\u001b[0m\u001b[32m───────────────────────────────────────────────────\u001b[0m\u001b[32m \u001b[0m\u001b[1;32mSummary\u001b[0m\u001b[32m \u001b[0m\u001b[32m───────────────────────────────────────────────────\u001b[0m\u001b[32m─╮\u001b[0m\n",
              "\u001b[32m│\u001b[0m \u001b[1mPrimary Emotion: \u001b[0m\u001b[92mgratitude\u001b[0m                                                                                      \u001b[32m│\u001b[0m\n",
              "\u001b[32m│\u001b[0m \u001b[1mSentiment: \u001b[0m\u001b[32mpositive\u001b[0m                                                                                             \u001b[32m│\u001b[0m\n",
              "\u001b[32m│\u001b[0m \u001b[1mFormality: \u001b[0m\u001b[36mneutral\u001b[0m\u001b[2m | \u001b[0m\u001b[1mTone: \u001b[0m\u001b[36mneutral\u001b[0m                                                                              \u001b[32m│\u001b[0m\n",
              "\u001b[32m│\u001b[0m \u001b[1mIntensity: \u001b[0m\u001b[35mhigh\u001b[0m\u001b[2m | \u001b[0m\u001b[1mStyle: \u001b[0m\u001b[35mneutral\u001b[0m                                                                                \u001b[32m│\u001b[0m\n",
              "\u001b[32m╰─────────────────────────────────────────────────────────────────────────────────────────────────────────────────╯\u001b[0m\n"
            ]
          },
          "metadata": {},
          "output_type": "display_data"
        },
        {
          "data": {
            "text/html": [
              "<pre style=\"white-space:pre;overflow-x:auto;line-height:normal;font-family:Menlo,'DejaVu Sans Mono',consolas,'Courier New',monospace\">\n",
              "</pre>\n"
            ],
            "text/plain": [
              "\n"
            ]
          },
          "metadata": {},
          "output_type": "display_data"
        },
        {
          "data": {
            "text/html": [
              "<pre style=\"white-space:pre;overflow-x:auto;line-height:normal;font-family:Menlo,'DejaVu Sans Mono',consolas,'Courier New',monospace\">\n",
              "<span style=\"color: #808000; text-decoration-color: #808000; font-weight: bold\">COLLOQUIAL VERSION</span>\n",
              "</pre>\n"
            ],
            "text/plain": [
              "\n",
              "\u001b[1;33mCOLLOQUIAL VERSION\u001b[0m\n"
            ]
          },
          "metadata": {},
          "output_type": "display_data"
        },
        {
          "data": {
            "text/html": [
              "<pre style=\"white-space:pre;overflow-x:auto;line-height:normal;font-family:Menlo,'DejaVu Sans Mono',consolas,'Courier New',monospace\"><span style=\"color: #7f7f7f; text-decoration-color: #7f7f7f\">────────────────────────────────────────────────────────────────────────────────</span>\n",
              "</pre>\n"
            ],
            "text/plain": [
              "\u001b[2m────────────────────────────────────────────────────────────────────────────────\u001b[0m\n"
            ]
          },
          "metadata": {},
          "output_type": "display_data"
        },
        {
          "data": {
            "text/html": [
              "<pre style=\"white-space:pre;overflow-x:auto;line-height:normal;font-family:Menlo,'DejaVu Sans Mono',consolas,'Courier New',monospace\"><span style=\"color: #008080; text-decoration-color: #008080\">╭─────────────────────────────────────────────────────────────────────────────────────────────────────────────────╮</span>\n",
              "<span style=\"color: #008080; text-decoration-color: #008080\">│</span> <span style=\"color: #008080; text-decoration-color: #008080; font-weight: bold\">COMPREHENSIVE TEXT ANALYSIS</span>                                                                                     <span style=\"color: #008080; text-decoration-color: #008080\">│</span>\n",
              "<span style=\"color: #008080; text-decoration-color: #008080\">│</span> <span style=\"color: #7f7f7f; text-decoration-color: #7f7f7f\">Emotion Classification + Linguistic Analysis</span>                                                                    <span style=\"color: #008080; text-decoration-color: #008080\">│</span>\n",
              "<span style=\"color: #008080; text-decoration-color: #008080\">╰─────────────────────────────────────────────────────────────────────────────────────────────────────────────────╯</span>\n",
              "</pre>\n"
            ],
            "text/plain": [
              "\u001b[36m╭─────────────────────────────────────────────────────────────────────────────────────────────────────────────────╮\u001b[0m\n",
              "\u001b[36m│\u001b[0m \u001b[1;36mCOMPREHENSIVE TEXT ANALYSIS\u001b[0m                                                                                     \u001b[36m│\u001b[0m\n",
              "\u001b[36m│\u001b[0m \u001b[2mEmotion Classification + Linguistic Analysis\u001b[0m                                                                    \u001b[36m│\u001b[0m\n",
              "\u001b[36m╰─────────────────────────────────────────────────────────────────────────────────────────────────────────────────╯\u001b[0m\n"
            ]
          },
          "metadata": {},
          "output_type": "display_data"
        },
        {
          "data": {
            "text/html": [
              "<pre style=\"white-space:pre;overflow-x:auto;line-height:normal;font-family:Menlo,'DejaVu Sans Mono',consolas,'Courier New',monospace\"><span style=\"color: #000080; text-decoration-color: #000080\">╭───────────────────────────────────────────────────── </span><span style=\"color: #000080; text-decoration-color: #000080; font-weight: bold\">Text</span><span style=\"color: #000080; text-decoration-color: #000080\"> ──────────────────────────────────────────────────────╮</span>\n",
              "<span style=\"color: #000080; text-decoration-color: #000080\">│</span>                                                                                                                 <span style=\"color: #000080; text-decoration-color: #000080\">│</span>\n",
              "<span style=\"color: #000080; text-decoration-color: #000080\">│</span>  Thanks so much! You're awesome, really appreciate it!                                                          <span style=\"color: #000080; text-decoration-color: #000080\">│</span>\n",
              "<span style=\"color: #000080; text-decoration-color: #000080\">│</span>                                                                                                                 <span style=\"color: #000080; text-decoration-color: #000080\">│</span>\n",
              "<span style=\"color: #000080; text-decoration-color: #000080\">╰─────────────────────────────────────────────────────────────────────────────────────────────────────────────────╯</span>\n",
              "</pre>\n"
            ],
            "text/plain": [
              "\u001b[34m╭─\u001b[0m\u001b[34m────────────────────────────────────────────────────\u001b[0m\u001b[34m \u001b[0m\u001b[1;34mText\u001b[0m\u001b[34m \u001b[0m\u001b[34m─────────────────────────────────────────────────────\u001b[0m\u001b[34m─╮\u001b[0m\n",
              "\u001b[34m│\u001b[0m                                                                                                                 \u001b[34m│\u001b[0m\n",
              "\u001b[34m│\u001b[0m  Thanks so much! You're awesome, really appreciate it!                                                          \u001b[34m│\u001b[0m\n",
              "\u001b[34m│\u001b[0m                                                                                                                 \u001b[34m│\u001b[0m\n",
              "\u001b[34m╰─────────────────────────────────────────────────────────────────────────────────────────────────────────────────╯\u001b[0m\n"
            ]
          },
          "metadata": {},
          "output_type": "display_data"
        },
        {
          "data": {
            "text/html": [
              "<pre style=\"white-space:pre;overflow-x:auto;line-height:normal;font-family:Menlo,'DejaVu Sans Mono',consolas,'Courier New',monospace\">\n",
              "<span style=\"color: #808000; text-decoration-color: #808000; font-weight: bold\">EMOTION ANALYSIS (GoEmotions)</span>\n",
              "</pre>\n"
            ],
            "text/plain": [
              "\n",
              "\u001b[1;33mEMOTION ANALYSIS \u001b[0m\u001b[1;33m(\u001b[0m\u001b[1;33mGoEmotions\u001b[0m\u001b[1;33m)\u001b[0m\n"
            ]
          },
          "metadata": {},
          "output_type": "display_data"
        },
        {
          "data": {
            "text/html": [
              "<pre style=\"white-space:pre;overflow-x:auto;line-height:normal;font-family:Menlo,'DejaVu Sans Mono',consolas,'Courier New',monospace\"><span style=\"color: #7f7f7f; text-decoration-color: #7f7f7f\">────────────────────────────────────────────────────────────────────────────────</span>\n",
              "</pre>\n"
            ],
            "text/plain": [
              "\u001b[2m────────────────────────────────────────────────────────────────────────────────\u001b[0m\n"
            ]
          },
          "metadata": {},
          "output_type": "display_data"
        },
        {
          "data": {
            "text/html": [
              "<pre style=\"white-space:pre;overflow-x:auto;line-height:normal;font-family:Menlo,'DejaVu Sans Mono',consolas,'Courier New',monospace\"><span style=\"font-weight: bold\">Sentiment:</span> <span style=\"color: #008000; text-decoration-color: #008000\">POSITIVE</span>\n",
              "</pre>\n"
            ],
            "text/plain": [
              "\u001b[1mSentiment:\u001b[0m \u001b[32mPOSITIVE\u001b[0m\n"
            ]
          },
          "metadata": {},
          "output_type": "display_data"
        },
        {
          "data": {
            "text/html": [
              "<pre style=\"white-space:pre;overflow-x:auto;line-height:normal;font-family:Menlo,'DejaVu Sans Mono',consolas,'Courier New',monospace\"><span style=\"font-style: italic\">                                  Emotion Analysis                                   </span>\n",
              "┏━━━━━━━━━━━━━━━━━┳━━━━━━━━━━━━┳━━━━━━━━━━━━━━━━━━━━━━━━━━━━━━━━━━━━━━━━━━━━━━━━━━━━┓\n",
              "┃<span style=\"color: #800080; text-decoration-color: #800080; font-weight: bold\"> Emotion         </span>┃<span style=\"color: #800080; text-decoration-color: #800080; font-weight: bold\">      Score </span>┃<span style=\"color: #800080; text-decoration-color: #800080; font-weight: bold\"> Confidence                                         </span>┃\n",
              "┡━━━━━━━━━━━━━━━━━╇━━━━━━━━━━━━╇━━━━━━━━━━━━━━━━━━━━━━━━━━━━━━━━━━━━━━━━━━━━━━━━━━━━┩\n",
              "│<span style=\"color: #008080; text-decoration-color: #008080\"> gratitude       </span>│<span style=\"color: #008000; text-decoration-color: #008000\">      0.764 </span>│ <span style=\"color: #00ff00; text-decoration-color: #00ff00\">██████████████████████████████░░░░░░░░░░          </span> │\n",
              "│<span style=\"color: #008080; text-decoration-color: #008080\"> admiration      </span>│<span style=\"color: #008000; text-decoration-color: #008000\">      0.235 </span>│ <span style=\"color: #7f7f7f; text-decoration-color: #7f7f7f\">█████████░░░░░░░░░░░░░░░░░░░░░░░░░░░░░░░          </span> │\n",
              "│<span style=\"color: #008080; text-decoration-color: #008080\"> excitement      </span>│<span style=\"color: #008000; text-decoration-color: #008000\">      0.000 </span>│ <span style=\"color: #7f7f7f; text-decoration-color: #7f7f7f\">░░░░░░░░░░░░░░░░░░░░░░░░░░░░░░░░░░░░░░░░          </span> │\n",
              "└─────────────────┴────────────┴────────────────────────────────────────────────────┘\n",
              "</pre>\n"
            ],
            "text/plain": [
              "\u001b[3m                                  Emotion Analysis                                   \u001b[0m\n",
              "┏━━━━━━━━━━━━━━━━━┳━━━━━━━━━━━━┳━━━━━━━━━━━━━━━━━━━━━━━━━━━━━━━━━━━━━━━━━━━━━━━━━━━━┓\n",
              "┃\u001b[1;35m \u001b[0m\u001b[1;35mEmotion        \u001b[0m\u001b[1;35m \u001b[0m┃\u001b[1;35m \u001b[0m\u001b[1;35m     Score\u001b[0m\u001b[1;35m \u001b[0m┃\u001b[1;35m \u001b[0m\u001b[1;35mConfidence                                        \u001b[0m\u001b[1;35m \u001b[0m┃\n",
              "┡━━━━━━━━━━━━━━━━━╇━━━━━━━━━━━━╇━━━━━━━━━━━━━━━━━━━━━━━━━━━━━━━━━━━━━━━━━━━━━━━━━━━━┩\n",
              "│\u001b[36m \u001b[0m\u001b[36mgratitude      \u001b[0m\u001b[36m \u001b[0m│\u001b[32m \u001b[0m\u001b[32m     0.764\u001b[0m\u001b[32m \u001b[0m│ \u001b[92m██████████████████████████████░░░░░░░░░░          \u001b[0m │\n",
              "│\u001b[36m \u001b[0m\u001b[36madmiration     \u001b[0m\u001b[36m \u001b[0m│\u001b[32m \u001b[0m\u001b[32m     0.235\u001b[0m\u001b[32m \u001b[0m│ \u001b[2m█████████░░░░░░░░░░░░░░░░░░░░░░░░░░░░░░░          \u001b[0m │\n",
              "│\u001b[36m \u001b[0m\u001b[36mexcitement     \u001b[0m\u001b[36m \u001b[0m│\u001b[32m \u001b[0m\u001b[32m     0.000\u001b[0m\u001b[32m \u001b[0m│ \u001b[2m░░░░░░░░░░░░░░░░░░░░░░░░░░░░░░░░░░░░░░░░          \u001b[0m │\n",
              "└─────────────────┴────────────┴────────────────────────────────────────────────────┘\n"
            ]
          },
          "metadata": {},
          "output_type": "display_data"
        },
        {
          "data": {
            "text/html": [
              "<pre style=\"white-space:pre;overflow-x:auto;line-height:normal;font-family:Menlo,'DejaVu Sans Mono',consolas,'Courier New',monospace\">\n",
              "<span style=\"color: #808000; text-decoration-color: #808000; font-weight: bold\">LINGUISTIC ANALYSIS (Academic Dimensions)</span>\n",
              "</pre>\n"
            ],
            "text/plain": [
              "\n",
              "\u001b[1;33mLINGUISTIC ANALYSIS \u001b[0m\u001b[1;33m(\u001b[0m\u001b[1;33mAcademic Dimensions\u001b[0m\u001b[1;33m)\u001b[0m\n"
            ]
          },
          "metadata": {},
          "output_type": "display_data"
        },
        {
          "data": {
            "text/html": [
              "<pre style=\"white-space:pre;overflow-x:auto;line-height:normal;font-family:Menlo,'DejaVu Sans Mono',consolas,'Courier New',monospace\"><span style=\"color: #7f7f7f; text-decoration-color: #7f7f7f\">────────────────────────────────────────────────────────────────────────────────</span>\n",
              "</pre>\n"
            ],
            "text/plain": [
              "\u001b[2m────────────────────────────────────────────────────────────────────────────────\u001b[0m\n"
            ]
          },
          "metadata": {},
          "output_type": "display_data"
        },
        {
          "data": {
            "text/html": [
              "<pre style=\"white-space:pre;overflow-x:auto;line-height:normal;font-family:Menlo,'DejaVu Sans Mono',consolas,'Courier New',monospace\"><span style=\"font-style: italic\">                                   Linguistic Analysis                                    </span>\n",
              "┏━━━━━━━━━━━━━━━━━━━━━━┳━━━━━━━━━━━━━━━━━┳━━━━━━━━━━━━━━━━━━━━━━━━━━━━━━━━━━━━━━━━━━━━━━━┓\n",
              "┃<span style=\"color: #008080; text-decoration-color: #008080; font-weight: bold\"> Dimension            </span>┃<span style=\"color: #008080; text-decoration-color: #008080; font-weight: bold\"> Value           </span>┃<span style=\"color: #008080; text-decoration-color: #008080; font-weight: bold\"> Confidence                                    </span>┃\n",
              "┡━━━━━━━━━━━━━━━━━━━━━━╇━━━━━━━━━━━━━━━━━╇━━━━━━━━━━━━━━━━━━━━━━━━━━━━━━━━━━━━━━━━━━━━━━━┩\n",
              "│<span style=\"color: #008080; text-decoration-color: #008080\"> Formality            </span>│<span style=\"color: #808000; text-decoration-color: #808000\"> colloquial      </span>│ <span style=\"color: #00ffff; text-decoration-color: #00ffff\">███████████████████████████████████          </span> │\n",
              "│<span style=\"color: #008080; text-decoration-color: #008080\"> Tone                 </span>│<span style=\"color: #808000; text-decoration-color: #808000\"> friendly        </span>│ <span style=\"color: #00ffff; text-decoration-color: #00ffff\">███████████████████████████████████          </span> │\n",
              "│<span style=\"color: #008080; text-decoration-color: #008080\"> Intensity            </span>│<span style=\"color: #808000; text-decoration-color: #808000\"> medium          </span>│ <span style=\"color: #7f7f7f; text-decoration-color: #7f7f7f\">█████████████████░░░░░░░░░░░░░░░░░░          </span> │\n",
              "│<span style=\"color: #008080; text-decoration-color: #008080\"> Style                </span>│<span style=\"color: #808000; text-decoration-color: #808000\"> neutral         </span>│ <span style=\"color: #7f7f7f; text-decoration-color: #7f7f7f\">█████████████████░░░░░░░░░░░░░░░░░░          </span> │\n",
              "└──────────────────────┴─────────────────┴───────────────────────────────────────────────┘\n",
              "</pre>\n"
            ],
            "text/plain": [
              "\u001b[3m                                   Linguistic Analysis                                    \u001b[0m\n",
              "┏━━━━━━━━━━━━━━━━━━━━━━┳━━━━━━━━━━━━━━━━━┳━━━━━━━━━━━━━━━━━━━━━━━━━━━━━━━━━━━━━━━━━━━━━━━┓\n",
              "┃\u001b[1;36m \u001b[0m\u001b[1;36mDimension           \u001b[0m\u001b[1;36m \u001b[0m┃\u001b[1;36m \u001b[0m\u001b[1;36mValue          \u001b[0m\u001b[1;36m \u001b[0m┃\u001b[1;36m \u001b[0m\u001b[1;36mConfidence                                   \u001b[0m\u001b[1;36m \u001b[0m┃\n",
              "┡━━━━━━━━━━━━━━━━━━━━━━╇━━━━━━━━━━━━━━━━━╇━━━━━━━━━━━━━━━━━━━━━━━━━━━━━━━━━━━━━━━━━━━━━━━┩\n",
              "│\u001b[36m \u001b[0m\u001b[36mFormality           \u001b[0m\u001b[36m \u001b[0m│\u001b[33m \u001b[0m\u001b[33mcolloquial     \u001b[0m\u001b[33m \u001b[0m│ \u001b[96m███████████████████████████████████          \u001b[0m │\n",
              "│\u001b[36m \u001b[0m\u001b[36mTone                \u001b[0m\u001b[36m \u001b[0m│\u001b[33m \u001b[0m\u001b[33mfriendly       \u001b[0m\u001b[33m \u001b[0m│ \u001b[96m███████████████████████████████████          \u001b[0m │\n",
              "│\u001b[36m \u001b[0m\u001b[36mIntensity           \u001b[0m\u001b[36m \u001b[0m│\u001b[33m \u001b[0m\u001b[33mmedium         \u001b[0m\u001b[33m \u001b[0m│ \u001b[2m█████████████████░░░░░░░░░░░░░░░░░░          \u001b[0m │\n",
              "│\u001b[36m \u001b[0m\u001b[36mStyle               \u001b[0m\u001b[36m \u001b[0m│\u001b[33m \u001b[0m\u001b[33mneutral        \u001b[0m\u001b[33m \u001b[0m│ \u001b[2m█████████████████░░░░░░░░░░░░░░░░░░          \u001b[0m │\n",
              "└──────────────────────┴─────────────────┴───────────────────────────────────────────────┘\n"
            ]
          },
          "metadata": {},
          "output_type": "display_data"
        },
        {
          "data": {
            "text/html": [
              "<pre style=\"white-space:pre;overflow-x:auto;line-height:normal;font-family:Menlo,'DejaVu Sans Mono',consolas,'Courier New',monospace\">\n",
              "</pre>\n"
            ],
            "text/plain": [
              "\n"
            ]
          },
          "metadata": {},
          "output_type": "display_data"
        },
        {
          "data": {
            "text/html": [
              "<pre style=\"white-space:pre;overflow-x:auto;line-height:normal;font-family:Menlo,'DejaVu Sans Mono',consolas,'Courier New',monospace\"><span style=\"color: #008000; text-decoration-color: #008000\">╭──────────────────────────────────────────────────── </span><span style=\"color: #008000; text-decoration-color: #008000; font-weight: bold\">Summary</span><span style=\"color: #008000; text-decoration-color: #008000\"> ────────────────────────────────────────────────────╮</span>\n",
              "<span style=\"color: #008000; text-decoration-color: #008000\">│</span> <span style=\"font-weight: bold\">Primary Emotion: </span><span style=\"color: #00ff00; text-decoration-color: #00ff00\">gratitude</span>                                                                                      <span style=\"color: #008000; text-decoration-color: #008000\">│</span>\n",
              "<span style=\"color: #008000; text-decoration-color: #008000\">│</span> <span style=\"font-weight: bold\">Sentiment: </span><span style=\"color: #008000; text-decoration-color: #008000\">positive</span>                                                                                             <span style=\"color: #008000; text-decoration-color: #008000\">│</span>\n",
              "<span style=\"color: #008000; text-decoration-color: #008000\">│</span> <span style=\"font-weight: bold\">Formality: </span><span style=\"color: #008080; text-decoration-color: #008080\">colloquial</span><span style=\"color: #7f7f7f; text-decoration-color: #7f7f7f\"> | </span><span style=\"font-weight: bold\">Tone: </span><span style=\"color: #008080; text-decoration-color: #008080\">friendly</span>                                                                          <span style=\"color: #008000; text-decoration-color: #008000\">│</span>\n",
              "<span style=\"color: #008000; text-decoration-color: #008000\">│</span> <span style=\"font-weight: bold\">Intensity: </span><span style=\"color: #800080; text-decoration-color: #800080\">medium</span><span style=\"color: #7f7f7f; text-decoration-color: #7f7f7f\"> | </span><span style=\"font-weight: bold\">Style: </span><span style=\"color: #800080; text-decoration-color: #800080\">neutral</span>                                                                              <span style=\"color: #008000; text-decoration-color: #008000\">│</span>\n",
              "<span style=\"color: #008000; text-decoration-color: #008000\">╰─────────────────────────────────────────────────────────────────────────────────────────────────────────────────╯</span>\n",
              "</pre>\n"
            ],
            "text/plain": [
              "\u001b[32m╭─\u001b[0m\u001b[32m───────────────────────────────────────────────────\u001b[0m\u001b[32m \u001b[0m\u001b[1;32mSummary\u001b[0m\u001b[32m \u001b[0m\u001b[32m───────────────────────────────────────────────────\u001b[0m\u001b[32m─╮\u001b[0m\n",
              "\u001b[32m│\u001b[0m \u001b[1mPrimary Emotion: \u001b[0m\u001b[92mgratitude\u001b[0m                                                                                      \u001b[32m│\u001b[0m\n",
              "\u001b[32m│\u001b[0m \u001b[1mSentiment: \u001b[0m\u001b[32mpositive\u001b[0m                                                                                             \u001b[32m│\u001b[0m\n",
              "\u001b[32m│\u001b[0m \u001b[1mFormality: \u001b[0m\u001b[36mcolloquial\u001b[0m\u001b[2m | \u001b[0m\u001b[1mTone: \u001b[0m\u001b[36mfriendly\u001b[0m                                                                          \u001b[32m│\u001b[0m\n",
              "\u001b[32m│\u001b[0m \u001b[1mIntensity: \u001b[0m\u001b[35mmedium\u001b[0m\u001b[2m | \u001b[0m\u001b[1mStyle: \u001b[0m\u001b[35mneutral\u001b[0m                                                                              \u001b[32m│\u001b[0m\n",
              "\u001b[32m╰─────────────────────────────────────────────────────────────────────────────────────────────────────────────────╯\u001b[0m\n"
            ]
          },
          "metadata": {},
          "output_type": "display_data"
        },
        {
          "data": {
            "text/plain": [
              "''"
            ]
          },
          "execution_count": 21,
          "metadata": {},
          "output_type": "execute_result"
        }
      ],
      "source": [
        "# Same sentiment, different formality\n",
        "formal_text = \"I am extremely grateful for your assistance in this matter.\"\n",
        "colloquial_text = \"Thanks so much! You're awesome, really appreciate it!\"\n",
        "\n",
        "formal_result = enhanced_classifier.analyze(formal_text, top_k=3)\n",
        "colloquial_result = enhanced_classifier.analyze(colloquial_text, top_k=3)\n",
        "\n",
        "print_section(\"FORMAL VERSION\")\n",
        "format_enhanced_output(formal_result, use_rich=True)\n",
        "\n",
        "console.print()\n",
        "print_section(\"COLLOQUIAL VERSION\")\n",
        "format_enhanced_output(colloquial_result, use_rich=True)\n"
      ]
    },
    {
      "cell_type": "markdown",
      "metadata": {},
      "source": [
        "## 19. Summary and Next Steps\n",
        "\n",
        "### What We've Learned:\n",
        "\n",
        "1. **GoEmotions Taxonomy**: 28 fine-grained emotion categories\n",
        "2. **Multilingual Support**: Works with English, Dutch, Persian, and more\n",
        "3. **Linguistic Dimensions**: Formality, tone, intensity, communication style\n",
        "4. **Academic Applications**: Export-ready format for research\n",
        "5. **Comprehensive Analysis**: Emotion + linguistics in one tool\n",
        "\n",
        "### Academic Research Applications:\n",
        "\n",
        "- Sentiment analysis with linguistic context\n",
        "- Formality detection in multilingual corpora\n",
        "- Tone and style analysis for discourse studies\n",
        "- Emotion intensity measurement\n",
        "- Communication pattern identification\n",
        "\n",
        "### Next Steps:\n",
        "\n",
        "- Fine-tune on multilingual models for better non-English performance\n",
        "- Integrate with your own applications\n",
        "- Analyze emotion patterns in your text data\n",
        "- Build emotion-aware chatbots or content moderation systems\n",
        "- Conduct linguistic research with structured data export\n",
        "\n",
        "### Resources:\n",
        "\n",
        "- [GoEmotions Research Blog](https://research.google/blog/goemotions-a-dataset-for-fine-grained-emotion-classification/)\n",
        "- [GoEmotions GitHub](https://github.com/google-research/google-research/tree/master/goemotions)\n",
        "- [HuggingFace Model](https://huggingface.co/monologg/bert-base-cased-goemotions-original)\n",
        "\n",
        "### Project Files:\n",
        "\n",
        "- `emotion_classifier.py` - Core emotion implementation\n",
        "- `linguistic_analyzer.py` - Linguistic dimension analyzer\n",
        "- `enhanced_classifier.py` - Combined emotion + linguistics\n",
        "- `sample_texts.py` - Sample texts in 3 languages\n",
        "- `main.py` - Basic demo\n",
        "- `demo_enhanced.py` - Enhanced demo\n",
        "- `classify_text.py` - Basic CLI utility\n",
        "- `classify_enhanced.py` - Enhanced CLI utility\n",
        "- `README.md` - Full documentation\n"
      ]
    }
  ],
  "metadata": {
    "kernelspec": {
      "display_name": ".venv",
      "language": "python",
      "name": "python3"
    },
    "language_info": {
      "codemirror_mode": {
        "name": "ipython",
        "version": 3
      },
      "file_extension": ".py",
      "mimetype": "text/x-python",
      "name": "python",
      "nbconvert_exporter": "python",
      "pygments_lexer": "ipython3",
      "version": "3.12.0"
    }
  },
  "nbformat": 4,
  "nbformat_minor": 2
}
