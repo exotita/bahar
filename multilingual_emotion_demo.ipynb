{
  "cells": [
    {
      "cell_type": "markdown",
      "metadata": {},
      "source": [
        "# 🌸 Bahar - Advanced Multilingual Emotion & Linguistic Analysis\n",
        "\n",
        "**Version:** 0.2.0  \n",
        "**Features:**\n",
        "- 🌍 Multilingual support (English, Dutch, Persian)\n",
        "- 🎭 28 fine-grained emotions (GoEmotions)\n",
        "- 📊 Linguistic analysis (formality, tone, intensity, style)\n",
        "- 🤖 9 language-specific models (3 per language)\n",
        "- 🎨 Beautiful Rich output formatting\n",
        "\n",
        "This notebook demonstrates the advanced multilingual emotion detection capabilities with language-specific models.\n"
      ]
    },
    {
      "cell_type": "markdown",
      "metadata": {},
      "source": [
        "## 📦 Setup and Imports\n"
      ]
    },
    {
      "cell_type": "code",
      "execution_count": 1,
      "metadata": {},
      "outputs": [
        {
          "data": {
            "text/html": [
              "<pre style=\"white-space:pre;overflow-x:auto;line-height:normal;font-family:Menlo,'DejaVu Sans Mono',consolas,'Courier New',monospace\"><span style=\"color: #008000; text-decoration-color: #008000; font-weight: bold\">✓</span> All imports successful!\n",
              "</pre>\n"
            ],
            "text/plain": [
              "\u001b[1;32m✓\u001b[0m All imports successful!\n"
            ]
          },
          "metadata": {},
          "output_type": "display_data"
        }
      ],
      "source": [
        "# Standard library imports\n",
        "from __future__ import annotations\n",
        "\n",
        "import warnings\n",
        "warnings.filterwarnings('ignore')\n",
        "\n",
        "# Bahar imports\n",
        "from bahar import EmotionAnalyzer, EnhancedAnalyzer\n",
        "from bahar.datasets.goemotions import GOEMOTIONS_EMOTIONS, EMOTION_GROUPS\n",
        "from bahar.utils.language_models import (\n",
        "    get_available_models,\n",
        "    get_supported_languages,\n",
        "    detect_language,\n",
        ")\n",
        "\n",
        "# Rich imports for beautiful output\n",
        "from rich.console import Console, Group\n",
        "from rich.panel import Panel\n",
        "from rich.table import Table\n",
        "from rich.text import Text\n",
        "from rich.progress import track\n",
        "\n",
        "# Initialize Rich console\n",
        "console = Console()\n",
        "\n",
        "console.print(\"[bold green]✓[/bold green] All imports successful!\")\n"
      ]
    },
    {
      "cell_type": "markdown",
      "metadata": {},
      "source": [
        "## 🌍 Available Languages and Models\n",
        "\n",
        "Let's see what languages and models are available in Bahar.\n"
      ]
    },
    {
      "cell_type": "code",
      "execution_count": 14,
      "metadata": {},
      "outputs": [
        {
          "data": {
            "text/html": [
              "<pre style=\"white-space:pre;overflow-x:auto;line-height:normal;font-family:Menlo,'DejaVu Sans Mono',consolas,'Courier New',monospace\">\n",
              "</pre>\n"
            ],
            "text/plain": [
              "\n"
            ]
          },
          "metadata": {},
          "output_type": "display_data"
        },
        {
          "data": {
            "text/html": [
              "<pre style=\"white-space:pre;overflow-x:auto;line-height:normal;font-family:Menlo,'DejaVu Sans Mono',consolas,'Courier New',monospace\"><span style=\"color: #008080; text-decoration-color: #008080\">──────────────────────────────────────── </span><span style=\"color: #008080; text-decoration-color: #008080; font-weight: bold\">🌍 Supported Languages and Models</span><span style=\"color: #008080; text-decoration-color: #008080\"> ────────────────────────────────────────</span>\n",
              "</pre>\n"
            ],
            "text/plain": [
              "\u001b[36m──────────────────────────────────────── \u001b[0m\u001b[1;36m🌍 Supported Languages and Models\u001b[0m\u001b[36m ────────────────────────────────────────\u001b[0m\n"
            ]
          },
          "metadata": {},
          "output_type": "display_data"
        },
        {
          "data": {
            "text/html": [
              "<pre style=\"white-space:pre;overflow-x:auto;line-height:normal;font-family:Menlo,'DejaVu Sans Mono',consolas,'Courier New',monospace\">\n",
              "</pre>\n"
            ],
            "text/plain": [
              "\n"
            ]
          },
          "metadata": {},
          "output_type": "display_data"
        },
        {
          "data": {
            "text/html": [
              "<pre style=\"white-space:pre;overflow-x:auto;line-height:normal;font-family:Menlo,'DejaVu Sans Mono',consolas,'Courier New',monospace\"><span style=\"color: #008000; text-decoration-color: #008000; font-weight: bold\">                                              🇬🇧 ENGLISH Models                                               </span>\n",
              "<span style=\"color: #008000; text-decoration-color: #008000\">┏━━━━━━━━━━━━━━━━━━━━━━━━━━━━━━━━┳━━━━━━━━━━━━━━━━━━━━━━━━━━━━━━━━━━━━━━━━━━━━━━━━━━━━━━━━━┳━━━━━━━━━━━━━━━━━┓</span>\n",
              "<span style=\"color: #008000; text-decoration-color: #008000\">┃</span><span style=\"color: #800080; text-decoration-color: #800080; font-weight: bold\"> Model Key                      </span><span style=\"color: #008000; text-decoration-color: #008000\">┃</span><span style=\"color: #800080; text-decoration-color: #800080; font-weight: bold\"> HuggingFace Model / Display Name                        </span><span style=\"color: #008000; text-decoration-color: #008000\">┃</span><span style=\"color: #800080; text-decoration-color: #800080; font-weight: bold\">      Type       </span><span style=\"color: #008000; text-decoration-color: #008000\">┃</span>\n",
              "<span style=\"color: #008000; text-decoration-color: #008000\">┡━━━━━━━━━━━━━━━━━━━━━━━━━━━━━━━━╇━━━━━━━━━━━━━━━━━━━━━━━━━━━━━━━━━━━━━━━━━━━━━━━━━━━━━━━━━╇━━━━━━━━━━━━━━━━━┩</span>\n",
              "<span style=\"color: #008000; text-decoration-color: #008000\">│</span><span style=\"color: #008080; text-decoration-color: #008080\"> goemotions                     </span><span style=\"color: #008000; text-decoration-color: #008000\">│</span><span style=\"color: #c0c0c0; text-decoration-color: #c0c0c0\"> monologg/bert-base-cased-goemotions-original            </span><span style=\"color: #008000; text-decoration-color: #008000\">│</span><span style=\"color: #808000; text-decoration-color: #808000\">   Built-in ⚙️    </span><span style=\"color: #008000; text-decoration-color: #008000\">│</span>\n",
              "<span style=\"color: #008000; text-decoration-color: #008000\">│</span><span style=\"color: #008080; text-decoration-color: #008080\"> goemotions-roberta             </span><span style=\"color: #008000; text-decoration-color: #008000\">│</span><span style=\"color: #c0c0c0; text-decoration-color: #c0c0c0\"> SamLowe/roberta-base-go_emotions                        </span><span style=\"color: #008000; text-decoration-color: #008000\">│</span><span style=\"color: #808000; text-decoration-color: #808000\">   Built-in ⚙️    </span><span style=\"color: #008000; text-decoration-color: #008000\">│</span>\n",
              "<span style=\"color: #008000; text-decoration-color: #008000\">│</span><span style=\"color: #008080; text-decoration-color: #008080\"> goemotions-ekman               </span><span style=\"color: #008000; text-decoration-color: #008000\">│</span><span style=\"color: #c0c0c0; text-decoration-color: #c0c0c0\"> j-hartmann/emotion-english-distilroberta-base           </span><span style=\"color: #008000; text-decoration-color: #008000\">│</span><span style=\"color: #808000; text-decoration-color: #808000\">   Built-in ⚙️    </span><span style=\"color: #008000; text-decoration-color: #008000\">│</span>\n",
              "<span style=\"color: #008000; text-decoration-color: #008000\">│</span><span style=\"color: #008080; text-decoration-color: #008080\"> registry:j-hartmann/emotion-e… </span><span style=\"color: #008000; text-decoration-color: #008000\">│</span><span style=\"color: #c0c0c0; text-decoration-color: #c0c0c0\"> Emotion English DistilRoBERTa-base                      </span><span style=\"color: #008000; text-decoration-color: #008000\">│</span><span style=\"color: #808000; text-decoration-color: #808000\">   Registry 🔗   </span><span style=\"color: #008000; text-decoration-color: #008000\">│</span>\n",
              "<span style=\"color: #008000; text-decoration-color: #008000\">│</span><span style=\"color: #008080; text-decoration-color: #008080\"> registry:nlptown/bert-base-mu… </span><span style=\"color: #008000; text-decoration-color: #008000\">│</span><span style=\"color: #c0c0c0; text-decoration-color: #c0c0c0\"> bert-base-multilingual-uncased-sentiment                </span><span style=\"color: #008000; text-decoration-color: #008000\">│</span><span style=\"color: #808000; text-decoration-color: #808000\">   Registry 🔗   </span><span style=\"color: #008000; text-decoration-color: #008000\">│</span>\n",
              "<span style=\"color: #008000; text-decoration-color: #008000\">│</span><span style=\"color: #008080; text-decoration-color: #008080\"> registry:boltuix/bert-emotion  </span><span style=\"color: #008000; text-decoration-color: #008000\">│</span><span style=\"color: #c0c0c0; text-decoration-color: #c0c0c0\"> BERT-Emotion — Lightweight BERT for Real-Time Emotion   </span><span style=\"color: #008000; text-decoration-color: #008000\">│</span><span style=\"color: #808000; text-decoration-color: #808000\">   Registry 🔗   </span><span style=\"color: #008000; text-decoration-color: #008000\">│</span>\n",
              "<span style=\"color: #008000; text-decoration-color: #008000\">│</span><span style=\"color: #008080; text-decoration-color: #008080\">                                </span><span style=\"color: #008000; text-decoration-color: #008000\">│</span><span style=\"color: #c0c0c0; text-decoration-color: #c0c0c0\"> Detection                                               </span><span style=\"color: #008000; text-decoration-color: #008000\">│</span><span style=\"color: #808000; text-decoration-color: #808000\">                 </span><span style=\"color: #008000; text-decoration-color: #008000\">│</span>\n",
              "<span style=\"color: #008000; text-decoration-color: #008000\">│</span><span style=\"color: #008080; text-decoration-color: #008080\"> registry:papluca/xlm-roberta-… </span><span style=\"color: #008000; text-decoration-color: #008000\">│</span><span style=\"color: #c0c0c0; text-decoration-color: #c0c0c0\"> xlm-roberta-base-language-detection                     </span><span style=\"color: #008000; text-decoration-color: #008000\">│</span><span style=\"color: #808000; text-decoration-color: #808000\">   Registry 🔗   </span><span style=\"color: #008000; text-decoration-color: #008000\">│</span>\n",
              "<span style=\"color: #008000; text-decoration-color: #008000\">│</span><span style=\"color: #008080; text-decoration-color: #008080\"> registry:tabularisai/multilin… </span><span style=\"color: #008000; text-decoration-color: #008000\">│</span><span style=\"color: #c0c0c0; text-decoration-color: #c0c0c0\"> multilingual-sentiment-analysis                         </span><span style=\"color: #008000; text-decoration-color: #008000\">│</span><span style=\"color: #808000; text-decoration-color: #808000\">   Registry 🔗   </span><span style=\"color: #008000; text-decoration-color: #008000\">│</span>\n",
              "<span style=\"color: #008000; text-decoration-color: #008000\">│</span><span style=\"color: #008080; text-decoration-color: #008080\"> registry:citizenlab/twitter-x… </span><span style=\"color: #008000; text-decoration-color: #008000\">│</span><span style=\"color: #c0c0c0; text-decoration-color: #c0c0c0\"> twitter-xlm-roberta-base-sentiment-finetunned           </span><span style=\"color: #008000; text-decoration-color: #008000\">│</span><span style=\"color: #808000; text-decoration-color: #808000\">   Registry 🔗   </span><span style=\"color: #008000; text-decoration-color: #008000\">│</span>\n",
              "<span style=\"color: #008000; text-decoration-color: #008000\">└────────────────────────────────┴─────────────────────────────────────────────────────────┴─────────────────┘</span>\n",
              "</pre>\n"
            ],
            "text/plain": [
              "\u001b[1;32m                                              \u001b[0m\u001b[1;32m🇬🇧 ENGLISH Models\u001b[0m\u001b[1;32m                                               \u001b[0m\n",
              "\u001b[32m┏━━━━━━━━━━━━━━━━━━━━━━━━━━━━━━━━┳━━━━━━━━━━━━━━━━━━━━━━━━━━━━━━━━━━━━━━━━━━━━━━━━━━━━━━━━━┳━━━━━━━━━━━━━━━━━┓\u001b[0m\n",
              "\u001b[32m┃\u001b[0m\u001b[1;35m \u001b[0m\u001b[1;35mModel Key                     \u001b[0m\u001b[1;35m \u001b[0m\u001b[32m┃\u001b[0m\u001b[1;35m \u001b[0m\u001b[1;35mHuggingFace Model / Display Name                       \u001b[0m\u001b[1;35m \u001b[0m\u001b[32m┃\u001b[0m\u001b[1;35m \u001b[0m\u001b[1;35m     Type      \u001b[0m\u001b[1;35m \u001b[0m\u001b[32m┃\u001b[0m\n",
              "\u001b[32m┡━━━━━━━━━━━━━━━━━━━━━━━━━━━━━━━━╇━━━━━━━━━━━━━━━━━━━━━━━━━━━━━━━━━━━━━━━━━━━━━━━━━━━━━━━━━╇━━━━━━━━━━━━━━━━━┩\u001b[0m\n",
              "\u001b[32m│\u001b[0m\u001b[36m \u001b[0m\u001b[36mgoemotions                    \u001b[0m\u001b[36m \u001b[0m\u001b[32m│\u001b[0m\u001b[37m \u001b[0m\u001b[37mmonologg/bert-base-cased-goemotions-original           \u001b[0m\u001b[37m \u001b[0m\u001b[32m│\u001b[0m\u001b[33m \u001b[0m\u001b[33m  Built-in ⚙️   \u001b[0m\u001b[33m \u001b[0m\u001b[32m│\u001b[0m\n",
              "\u001b[32m│\u001b[0m\u001b[36m \u001b[0m\u001b[36mgoemotions-roberta            \u001b[0m\u001b[36m \u001b[0m\u001b[32m│\u001b[0m\u001b[37m \u001b[0m\u001b[37mSamLowe/roberta-base-go_emotions                       \u001b[0m\u001b[37m \u001b[0m\u001b[32m│\u001b[0m\u001b[33m \u001b[0m\u001b[33m  Built-in ⚙️   \u001b[0m\u001b[33m \u001b[0m\u001b[32m│\u001b[0m\n",
              "\u001b[32m│\u001b[0m\u001b[36m \u001b[0m\u001b[36mgoemotions-ekman              \u001b[0m\u001b[36m \u001b[0m\u001b[32m│\u001b[0m\u001b[37m \u001b[0m\u001b[37mj-hartmann/emotion-english-distilroberta-base          \u001b[0m\u001b[37m \u001b[0m\u001b[32m│\u001b[0m\u001b[33m \u001b[0m\u001b[33m  Built-in ⚙️   \u001b[0m\u001b[33m \u001b[0m\u001b[32m│\u001b[0m\n",
              "\u001b[32m│\u001b[0m\u001b[36m \u001b[0m\u001b[36mregistry:j-hartmann/emotion-e…\u001b[0m\u001b[36m \u001b[0m\u001b[32m│\u001b[0m\u001b[37m \u001b[0m\u001b[37mEmotion English DistilRoBERTa-base                     \u001b[0m\u001b[37m \u001b[0m\u001b[32m│\u001b[0m\u001b[33m \u001b[0m\u001b[33m  Registry 🔗  \u001b[0m\u001b[33m \u001b[0m\u001b[32m│\u001b[0m\n",
              "\u001b[32m│\u001b[0m\u001b[36m \u001b[0m\u001b[36mregistry:nlptown/bert-base-mu…\u001b[0m\u001b[36m \u001b[0m\u001b[32m│\u001b[0m\u001b[37m \u001b[0m\u001b[37mbert-base-multilingual-uncased-sentiment               \u001b[0m\u001b[37m \u001b[0m\u001b[32m│\u001b[0m\u001b[33m \u001b[0m\u001b[33m  Registry 🔗  \u001b[0m\u001b[33m \u001b[0m\u001b[32m│\u001b[0m\n",
              "\u001b[32m│\u001b[0m\u001b[36m \u001b[0m\u001b[36mregistry:boltuix/bert-emotion \u001b[0m\u001b[36m \u001b[0m\u001b[32m│\u001b[0m\u001b[37m \u001b[0m\u001b[37mBERT-Emotion — Lightweight BERT for Real-Time Emotion  \u001b[0m\u001b[37m \u001b[0m\u001b[32m│\u001b[0m\u001b[33m \u001b[0m\u001b[33m  Registry 🔗  \u001b[0m\u001b[33m \u001b[0m\u001b[32m│\u001b[0m\n",
              "\u001b[32m│\u001b[0m\u001b[36m                                \u001b[0m\u001b[32m│\u001b[0m\u001b[37m \u001b[0m\u001b[37mDetection                                              \u001b[0m\u001b[37m \u001b[0m\u001b[32m│\u001b[0m\u001b[33m                 \u001b[0m\u001b[32m│\u001b[0m\n",
              "\u001b[32m│\u001b[0m\u001b[36m \u001b[0m\u001b[36mregistry:papluca/xlm-roberta-…\u001b[0m\u001b[36m \u001b[0m\u001b[32m│\u001b[0m\u001b[37m \u001b[0m\u001b[37mxlm-roberta-base-language-detection                    \u001b[0m\u001b[37m \u001b[0m\u001b[32m│\u001b[0m\u001b[33m \u001b[0m\u001b[33m  Registry 🔗  \u001b[0m\u001b[33m \u001b[0m\u001b[32m│\u001b[0m\n",
              "\u001b[32m│\u001b[0m\u001b[36m \u001b[0m\u001b[36mregistry:tabularisai/multilin…\u001b[0m\u001b[36m \u001b[0m\u001b[32m│\u001b[0m\u001b[37m \u001b[0m\u001b[37mmultilingual-sentiment-analysis                        \u001b[0m\u001b[37m \u001b[0m\u001b[32m│\u001b[0m\u001b[33m \u001b[0m\u001b[33m  Registry 🔗  \u001b[0m\u001b[33m \u001b[0m\u001b[32m│\u001b[0m\n",
              "\u001b[32m│\u001b[0m\u001b[36m \u001b[0m\u001b[36mregistry:citizenlab/twitter-x…\u001b[0m\u001b[36m \u001b[0m\u001b[32m│\u001b[0m\u001b[37m \u001b[0m\u001b[37mtwitter-xlm-roberta-base-sentiment-finetunned          \u001b[0m\u001b[37m \u001b[0m\u001b[32m│\u001b[0m\u001b[33m \u001b[0m\u001b[33m  Registry 🔗  \u001b[0m\u001b[33m \u001b[0m\u001b[32m│\u001b[0m\n",
              "\u001b[32m└────────────────────────────────┴─────────────────────────────────────────────────────────┴─────────────────┘\u001b[0m\n"
            ]
          },
          "metadata": {},
          "output_type": "display_data"
        },
        {
          "data": {
            "text/html": [
              "<pre style=\"white-space:pre;overflow-x:auto;line-height:normal;font-family:Menlo,'DejaVu Sans Mono',consolas,'Courier New',monospace\">\n",
              "</pre>\n"
            ],
            "text/plain": [
              "\n"
            ]
          },
          "metadata": {},
          "output_type": "display_data"
        },
        {
          "data": {
            "text/html": [
              "<pre style=\"white-space:pre;overflow-x:auto;line-height:normal;font-family:Menlo,'DejaVu Sans Mono',consolas,'Courier New',monospace\"><span style=\"color: #000080; text-decoration-color: #000080; font-weight: bold\">                                               🇳🇱 DUTCH Models                                                </span>\n",
              "<span style=\"color: #000080; text-decoration-color: #000080\">┏━━━━━━━━━━━━━━━━━━━━━━━━━━━━━━━━┳━━━━━━━━━━━━━━━━━━━━━━━━━━━━━━━━━━━━━━━━━━━━━━━━━━━━━━━━━┳━━━━━━━━━━━━━━━━━┓</span>\n",
              "<span style=\"color: #000080; text-decoration-color: #000080\">┃</span><span style=\"color: #800080; text-decoration-color: #800080; font-weight: bold\"> Model Key                      </span><span style=\"color: #000080; text-decoration-color: #000080\">┃</span><span style=\"color: #800080; text-decoration-color: #800080; font-weight: bold\"> HuggingFace Model / Display Name                        </span><span style=\"color: #000080; text-decoration-color: #000080\">┃</span><span style=\"color: #800080; text-decoration-color: #800080; font-weight: bold\">      Type       </span><span style=\"color: #000080; text-decoration-color: #000080\">┃</span>\n",
              "<span style=\"color: #000080; text-decoration-color: #000080\">┡━━━━━━━━━━━━━━━━━━━━━━━━━━━━━━━━╇━━━━━━━━━━━━━━━━━━━━━━━━━━━━━━━━━━━━━━━━━━━━━━━━━━━━━━━━━╇━━━━━━━━━━━━━━━━━┩</span>\n",
              "<span style=\"color: #000080; text-decoration-color: #000080\">│</span><span style=\"color: #008080; text-decoration-color: #008080\"> sentiment                      </span><span style=\"color: #000080; text-decoration-color: #000080\">│</span><span style=\"color: #c0c0c0; text-decoration-color: #c0c0c0\"> nlptown/bert-base-multilingual-uncased-sentiment        </span><span style=\"color: #000080; text-decoration-color: #000080\">│</span><span style=\"color: #808000; text-decoration-color: #808000\">   Built-in ⚙️    </span><span style=\"color: #000080; text-decoration-color: #000080\">│</span>\n",
              "<span style=\"color: #000080; text-decoration-color: #000080\">│</span><span style=\"color: #008080; text-decoration-color: #008080\"> bertje-sentiment               </span><span style=\"color: #000080; text-decoration-color: #000080\">│</span><span style=\"color: #c0c0c0; text-decoration-color: #c0c0c0\"> DTAI-KULeuven/robbert-v2-dutch-sentiment                </span><span style=\"color: #000080; text-decoration-color: #000080\">│</span><span style=\"color: #808000; text-decoration-color: #808000\">   Built-in ⚙️    </span><span style=\"color: #000080; text-decoration-color: #000080\">│</span>\n",
              "<span style=\"color: #000080; text-decoration-color: #000080\">│</span><span style=\"color: #008080; text-decoration-color: #008080\"> emotion                        </span><span style=\"color: #000080; text-decoration-color: #000080\">│</span><span style=\"color: #c0c0c0; text-decoration-color: #c0c0c0\"> wietsedv/bert-base-dutch-cased-finetuned-sentiment      </span><span style=\"color: #000080; text-decoration-color: #000080\">│</span><span style=\"color: #808000; text-decoration-color: #808000\">   Built-in ⚙️    </span><span style=\"color: #000080; text-decoration-color: #000080\">│</span>\n",
              "<span style=\"color: #000080; text-decoration-color: #000080\">│</span><span style=\"color: #008080; text-decoration-color: #008080\"> registry:nlptown/bert-base-mu… </span><span style=\"color: #000080; text-decoration-color: #000080\">│</span><span style=\"color: #c0c0c0; text-decoration-color: #c0c0c0\"> bert-base-multilingual-uncased-sentiment                </span><span style=\"color: #000080; text-decoration-color: #000080\">│</span><span style=\"color: #808000; text-decoration-color: #808000\">   Registry 🔗   </span><span style=\"color: #000080; text-decoration-color: #000080\">│</span>\n",
              "<span style=\"color: #000080; text-decoration-color: #000080\">│</span><span style=\"color: #008080; text-decoration-color: #008080\"> registry:papluca/xlm-roberta-… </span><span style=\"color: #000080; text-decoration-color: #000080\">│</span><span style=\"color: #c0c0c0; text-decoration-color: #c0c0c0\"> xlm-roberta-base-language-detection                     </span><span style=\"color: #000080; text-decoration-color: #000080\">│</span><span style=\"color: #808000; text-decoration-color: #808000\">   Registry 🔗   </span><span style=\"color: #000080; text-decoration-color: #000080\">│</span>\n",
              "<span style=\"color: #000080; text-decoration-color: #000080\">│</span><span style=\"color: #008080; text-decoration-color: #008080\"> registry:tabularisai/multilin… </span><span style=\"color: #000080; text-decoration-color: #000080\">│</span><span style=\"color: #c0c0c0; text-decoration-color: #c0c0c0\"> multilingual-sentiment-analysis                         </span><span style=\"color: #000080; text-decoration-color: #000080\">│</span><span style=\"color: #808000; text-decoration-color: #808000\">   Registry 🔗   </span><span style=\"color: #000080; text-decoration-color: #000080\">│</span>\n",
              "<span style=\"color: #000080; text-decoration-color: #000080\">│</span><span style=\"color: #008080; text-decoration-color: #008080\"> registry:citizenlab/twitter-x… </span><span style=\"color: #000080; text-decoration-color: #000080\">│</span><span style=\"color: #c0c0c0; text-decoration-color: #c0c0c0\"> twitter-xlm-roberta-base-sentiment-finetunned           </span><span style=\"color: #000080; text-decoration-color: #000080\">│</span><span style=\"color: #808000; text-decoration-color: #808000\">   Registry 🔗   </span><span style=\"color: #000080; text-decoration-color: #000080\">│</span>\n",
              "<span style=\"color: #000080; text-decoration-color: #000080\">└────────────────────────────────┴─────────────────────────────────────────────────────────┴─────────────────┘</span>\n",
              "</pre>\n"
            ],
            "text/plain": [
              "\u001b[1;34m                                               \u001b[0m\u001b[1;34m🇳🇱 DUTCH Models\u001b[0m\u001b[1;34m                                                \u001b[0m\n",
              "\u001b[34m┏━━━━━━━━━━━━━━━━━━━━━━━━━━━━━━━━┳━━━━━━━━━━━━━━━━━━━━━━━━━━━━━━━━━━━━━━━━━━━━━━━━━━━━━━━━━┳━━━━━━━━━━━━━━━━━┓\u001b[0m\n",
              "\u001b[34m┃\u001b[0m\u001b[1;35m \u001b[0m\u001b[1;35mModel Key                     \u001b[0m\u001b[1;35m \u001b[0m\u001b[34m┃\u001b[0m\u001b[1;35m \u001b[0m\u001b[1;35mHuggingFace Model / Display Name                       \u001b[0m\u001b[1;35m \u001b[0m\u001b[34m┃\u001b[0m\u001b[1;35m \u001b[0m\u001b[1;35m     Type      \u001b[0m\u001b[1;35m \u001b[0m\u001b[34m┃\u001b[0m\n",
              "\u001b[34m┡━━━━━━━━━━━━━━━━━━━━━━━━━━━━━━━━╇━━━━━━━━━━━━━━━━━━━━━━━━━━━━━━━━━━━━━━━━━━━━━━━━━━━━━━━━━╇━━━━━━━━━━━━━━━━━┩\u001b[0m\n",
              "\u001b[34m│\u001b[0m\u001b[36m \u001b[0m\u001b[36msentiment                     \u001b[0m\u001b[36m \u001b[0m\u001b[34m│\u001b[0m\u001b[37m \u001b[0m\u001b[37mnlptown/bert-base-multilingual-uncased-sentiment       \u001b[0m\u001b[37m \u001b[0m\u001b[34m│\u001b[0m\u001b[33m \u001b[0m\u001b[33m  Built-in ⚙️   \u001b[0m\u001b[33m \u001b[0m\u001b[34m│\u001b[0m\n",
              "\u001b[34m│\u001b[0m\u001b[36m \u001b[0m\u001b[36mbertje-sentiment              \u001b[0m\u001b[36m \u001b[0m\u001b[34m│\u001b[0m\u001b[37m \u001b[0m\u001b[37mDTAI-KULeuven/robbert-v2-dutch-sentiment               \u001b[0m\u001b[37m \u001b[0m\u001b[34m│\u001b[0m\u001b[33m \u001b[0m\u001b[33m  Built-in ⚙️   \u001b[0m\u001b[33m \u001b[0m\u001b[34m│\u001b[0m\n",
              "\u001b[34m│\u001b[0m\u001b[36m \u001b[0m\u001b[36memotion                       \u001b[0m\u001b[36m \u001b[0m\u001b[34m│\u001b[0m\u001b[37m \u001b[0m\u001b[37mwietsedv/bert-base-dutch-cased-finetuned-sentiment     \u001b[0m\u001b[37m \u001b[0m\u001b[34m│\u001b[0m\u001b[33m \u001b[0m\u001b[33m  Built-in ⚙️   \u001b[0m\u001b[33m \u001b[0m\u001b[34m│\u001b[0m\n",
              "\u001b[34m│\u001b[0m\u001b[36m \u001b[0m\u001b[36mregistry:nlptown/bert-base-mu…\u001b[0m\u001b[36m \u001b[0m\u001b[34m│\u001b[0m\u001b[37m \u001b[0m\u001b[37mbert-base-multilingual-uncased-sentiment               \u001b[0m\u001b[37m \u001b[0m\u001b[34m│\u001b[0m\u001b[33m \u001b[0m\u001b[33m  Registry 🔗  \u001b[0m\u001b[33m \u001b[0m\u001b[34m│\u001b[0m\n",
              "\u001b[34m│\u001b[0m\u001b[36m \u001b[0m\u001b[36mregistry:papluca/xlm-roberta-…\u001b[0m\u001b[36m \u001b[0m\u001b[34m│\u001b[0m\u001b[37m \u001b[0m\u001b[37mxlm-roberta-base-language-detection                    \u001b[0m\u001b[37m \u001b[0m\u001b[34m│\u001b[0m\u001b[33m \u001b[0m\u001b[33m  Registry 🔗  \u001b[0m\u001b[33m \u001b[0m\u001b[34m│\u001b[0m\n",
              "\u001b[34m│\u001b[0m\u001b[36m \u001b[0m\u001b[36mregistry:tabularisai/multilin…\u001b[0m\u001b[36m \u001b[0m\u001b[34m│\u001b[0m\u001b[37m \u001b[0m\u001b[37mmultilingual-sentiment-analysis                        \u001b[0m\u001b[37m \u001b[0m\u001b[34m│\u001b[0m\u001b[33m \u001b[0m\u001b[33m  Registry 🔗  \u001b[0m\u001b[33m \u001b[0m\u001b[34m│\u001b[0m\n",
              "\u001b[34m│\u001b[0m\u001b[36m \u001b[0m\u001b[36mregistry:citizenlab/twitter-x…\u001b[0m\u001b[36m \u001b[0m\u001b[34m│\u001b[0m\u001b[37m \u001b[0m\u001b[37mtwitter-xlm-roberta-base-sentiment-finetunned          \u001b[0m\u001b[37m \u001b[0m\u001b[34m│\u001b[0m\u001b[33m \u001b[0m\u001b[33m  Registry 🔗  \u001b[0m\u001b[33m \u001b[0m\u001b[34m│\u001b[0m\n",
              "\u001b[34m└────────────────────────────────┴─────────────────────────────────────────────────────────┴─────────────────┘\u001b[0m\n"
            ]
          },
          "metadata": {},
          "output_type": "display_data"
        },
        {
          "data": {
            "text/html": [
              "<pre style=\"white-space:pre;overflow-x:auto;line-height:normal;font-family:Menlo,'DejaVu Sans Mono',consolas,'Courier New',monospace\">\n",
              "</pre>\n"
            ],
            "text/plain": [
              "\n"
            ]
          },
          "metadata": {},
          "output_type": "display_data"
        },
        {
          "data": {
            "text/html": [
              "<pre style=\"white-space:pre;overflow-x:auto;line-height:normal;font-family:Menlo,'DejaVu Sans Mono',consolas,'Courier New',monospace\"><span style=\"color: #800080; text-decoration-color: #800080; font-weight: bold\">                                              🇮🇷 PERSIAN Models                                               </span>\n",
              "<span style=\"color: #800080; text-decoration-color: #800080\">┏━━━━━━━━━━━━━━━━━━━━━━━━━━━━━━━━┳━━━━━━━━━━━━━━━━━━━━━━━━━━━━━━━━━━━━━━━━━━━━━━━━━━━━━━━━━┳━━━━━━━━━━━━━━━━━┓</span>\n",
              "<span style=\"color: #800080; text-decoration-color: #800080\">┃</span><span style=\"color: #800080; text-decoration-color: #800080; font-weight: bold\"> Model Key                      </span><span style=\"color: #800080; text-decoration-color: #800080\">┃</span><span style=\"color: #800080; text-decoration-color: #800080; font-weight: bold\"> HuggingFace Model / Display Name                        </span><span style=\"color: #800080; text-decoration-color: #800080\">┃</span><span style=\"color: #800080; text-decoration-color: #800080; font-weight: bold\">      Type       </span><span style=\"color: #800080; text-decoration-color: #800080\">┃</span>\n",
              "<span style=\"color: #800080; text-decoration-color: #800080\">┡━━━━━━━━━━━━━━━━━━━━━━━━━━━━━━━━╇━━━━━━━━━━━━━━━━━━━━━━━━━━━━━━━━━━━━━━━━━━━━━━━━━━━━━━━━━╇━━━━━━━━━━━━━━━━━┩</span>\n",
              "<span style=\"color: #800080; text-decoration-color: #800080\">│</span><span style=\"color: #008080; text-decoration-color: #008080\"> sentiment                      </span><span style=\"color: #800080; text-decoration-color: #800080\">│</span><span style=\"color: #c0c0c0; text-decoration-color: #c0c0c0\"> HooshvareLab/bert-fa-base-uncased-sentiment-digikala    </span><span style=\"color: #800080; text-decoration-color: #800080\">│</span><span style=\"color: #808000; text-decoration-color: #808000\">   Built-in ⚙️    </span><span style=\"color: #800080; text-decoration-color: #800080\">│</span>\n",
              "<span style=\"color: #800080; text-decoration-color: #800080\">│</span><span style=\"color: #008080; text-decoration-color: #008080\"> parsbert-snappfood             </span><span style=\"color: #800080; text-decoration-color: #800080\">│</span><span style=\"color: #c0c0c0; text-decoration-color: #c0c0c0\"> HooshvareLab/bert-fa-base-uncased-sentiment-snappfood   </span><span style=\"color: #800080; text-decoration-color: #800080\">│</span><span style=\"color: #808000; text-decoration-color: #808000\">   Built-in ⚙️    </span><span style=\"color: #800080; text-decoration-color: #800080\">│</span>\n",
              "<span style=\"color: #800080; text-decoration-color: #800080\">│</span><span style=\"color: #008080; text-decoration-color: #008080\"> albert-sentiment               </span><span style=\"color: #800080; text-decoration-color: #800080\">│</span><span style=\"color: #c0c0c0; text-decoration-color: #c0c0c0\"> m3hrdadfi/albert-fa-base-v2-sentiment-deepsentipers-bi… </span><span style=\"color: #800080; text-decoration-color: #800080\">│</span><span style=\"color: #808000; text-decoration-color: #808000\">   Built-in ⚙️    </span><span style=\"color: #800080; text-decoration-color: #800080\">│</span>\n",
              "<span style=\"color: #800080; text-decoration-color: #800080\">│</span><span style=\"color: #008080; text-decoration-color: #008080\"> registry:nlptown/bert-base-mu… </span><span style=\"color: #800080; text-decoration-color: #800080\">│</span><span style=\"color: #c0c0c0; text-decoration-color: #c0c0c0\"> bert-base-multilingual-uncased-sentiment                </span><span style=\"color: #800080; text-decoration-color: #800080\">│</span><span style=\"color: #808000; text-decoration-color: #808000\">   Registry 🔗   </span><span style=\"color: #800080; text-decoration-color: #800080\">│</span>\n",
              "<span style=\"color: #800080; text-decoration-color: #800080\">│</span><span style=\"color: #008080; text-decoration-color: #008080\"> registry:papluca/xlm-roberta-… </span><span style=\"color: #800080; text-decoration-color: #800080\">│</span><span style=\"color: #c0c0c0; text-decoration-color: #c0c0c0\"> xlm-roberta-base-language-detection                     </span><span style=\"color: #800080; text-decoration-color: #800080\">│</span><span style=\"color: #808000; text-decoration-color: #808000\">   Registry 🔗   </span><span style=\"color: #800080; text-decoration-color: #800080\">│</span>\n",
              "<span style=\"color: #800080; text-decoration-color: #800080\">│</span><span style=\"color: #008080; text-decoration-color: #008080\"> registry:tabularisai/multilin… </span><span style=\"color: #800080; text-decoration-color: #800080\">│</span><span style=\"color: #c0c0c0; text-decoration-color: #c0c0c0\"> multilingual-sentiment-analysis                         </span><span style=\"color: #800080; text-decoration-color: #800080\">│</span><span style=\"color: #808000; text-decoration-color: #808000\">   Registry 🔗   </span><span style=\"color: #800080; text-decoration-color: #800080\">│</span>\n",
              "<span style=\"color: #800080; text-decoration-color: #800080\">│</span><span style=\"color: #008080; text-decoration-color: #008080\"> registry:citizenlab/twitter-x… </span><span style=\"color: #800080; text-decoration-color: #800080\">│</span><span style=\"color: #c0c0c0; text-decoration-color: #c0c0c0\"> twitter-xlm-roberta-base-sentiment-finetunned           </span><span style=\"color: #800080; text-decoration-color: #800080\">│</span><span style=\"color: #808000; text-decoration-color: #808000\">   Registry 🔗   </span><span style=\"color: #800080; text-decoration-color: #800080\">│</span>\n",
              "<span style=\"color: #800080; text-decoration-color: #800080\">└────────────────────────────────┴─────────────────────────────────────────────────────────┴─────────────────┘</span>\n",
              "</pre>\n"
            ],
            "text/plain": [
              "\u001b[1;35m                                              \u001b[0m\u001b[1;35m🇮🇷 PERSIAN Models\u001b[0m\u001b[1;35m                                               \u001b[0m\n",
              "\u001b[35m┏━━━━━━━━━━━━━━━━━━━━━━━━━━━━━━━━┳━━━━━━━━━━━━━━━━━━━━━━━━━━━━━━━━━━━━━━━━━━━━━━━━━━━━━━━━━┳━━━━━━━━━━━━━━━━━┓\u001b[0m\n",
              "\u001b[35m┃\u001b[0m\u001b[1;35m \u001b[0m\u001b[1;35mModel Key                     \u001b[0m\u001b[1;35m \u001b[0m\u001b[35m┃\u001b[0m\u001b[1;35m \u001b[0m\u001b[1;35mHuggingFace Model / Display Name                       \u001b[0m\u001b[1;35m \u001b[0m\u001b[35m┃\u001b[0m\u001b[1;35m \u001b[0m\u001b[1;35m     Type      \u001b[0m\u001b[1;35m \u001b[0m\u001b[35m┃\u001b[0m\n",
              "\u001b[35m┡━━━━━━━━━━━━━━━━━━━━━━━━━━━━━━━━╇━━━━━━━━━━━━━━━━━━━━━━━━━━━━━━━━━━━━━━━━━━━━━━━━━━━━━━━━━╇━━━━━━━━━━━━━━━━━┩\u001b[0m\n",
              "\u001b[35m│\u001b[0m\u001b[36m \u001b[0m\u001b[36msentiment                     \u001b[0m\u001b[36m \u001b[0m\u001b[35m│\u001b[0m\u001b[37m \u001b[0m\u001b[37mHooshvareLab/bert-fa-base-uncased-sentiment-digikala   \u001b[0m\u001b[37m \u001b[0m\u001b[35m│\u001b[0m\u001b[33m \u001b[0m\u001b[33m  Built-in ⚙️   \u001b[0m\u001b[33m \u001b[0m\u001b[35m│\u001b[0m\n",
              "\u001b[35m│\u001b[0m\u001b[36m \u001b[0m\u001b[36mparsbert-snappfood            \u001b[0m\u001b[36m \u001b[0m\u001b[35m│\u001b[0m\u001b[37m \u001b[0m\u001b[37mHooshvareLab/bert-fa-base-uncased-sentiment-snappfood  \u001b[0m\u001b[37m \u001b[0m\u001b[35m│\u001b[0m\u001b[33m \u001b[0m\u001b[33m  Built-in ⚙️   \u001b[0m\u001b[33m \u001b[0m\u001b[35m│\u001b[0m\n",
              "\u001b[35m│\u001b[0m\u001b[36m \u001b[0m\u001b[36malbert-sentiment              \u001b[0m\u001b[36m \u001b[0m\u001b[35m│\u001b[0m\u001b[37m \u001b[0m\u001b[37mm3hrdadfi/albert-fa-base-v2-sentiment-deepsentipers-bi…\u001b[0m\u001b[37m \u001b[0m\u001b[35m│\u001b[0m\u001b[33m \u001b[0m\u001b[33m  Built-in ⚙️   \u001b[0m\u001b[33m \u001b[0m\u001b[35m│\u001b[0m\n",
              "\u001b[35m│\u001b[0m\u001b[36m \u001b[0m\u001b[36mregistry:nlptown/bert-base-mu…\u001b[0m\u001b[36m \u001b[0m\u001b[35m│\u001b[0m\u001b[37m \u001b[0m\u001b[37mbert-base-multilingual-uncased-sentiment               \u001b[0m\u001b[37m \u001b[0m\u001b[35m│\u001b[0m\u001b[33m \u001b[0m\u001b[33m  Registry 🔗  \u001b[0m\u001b[33m \u001b[0m\u001b[35m│\u001b[0m\n",
              "\u001b[35m│\u001b[0m\u001b[36m \u001b[0m\u001b[36mregistry:papluca/xlm-roberta-…\u001b[0m\u001b[36m \u001b[0m\u001b[35m│\u001b[0m\u001b[37m \u001b[0m\u001b[37mxlm-roberta-base-language-detection                    \u001b[0m\u001b[37m \u001b[0m\u001b[35m│\u001b[0m\u001b[33m \u001b[0m\u001b[33m  Registry 🔗  \u001b[0m\u001b[33m \u001b[0m\u001b[35m│\u001b[0m\n",
              "\u001b[35m│\u001b[0m\u001b[36m \u001b[0m\u001b[36mregistry:tabularisai/multilin…\u001b[0m\u001b[36m \u001b[0m\u001b[35m│\u001b[0m\u001b[37m \u001b[0m\u001b[37mmultilingual-sentiment-analysis                        \u001b[0m\u001b[37m \u001b[0m\u001b[35m│\u001b[0m\u001b[33m \u001b[0m\u001b[33m  Registry 🔗  \u001b[0m\u001b[33m \u001b[0m\u001b[35m│\u001b[0m\n",
              "\u001b[35m│\u001b[0m\u001b[36m \u001b[0m\u001b[36mregistry:citizenlab/twitter-x…\u001b[0m\u001b[36m \u001b[0m\u001b[35m│\u001b[0m\u001b[37m \u001b[0m\u001b[37mtwitter-xlm-roberta-base-sentiment-finetunned          \u001b[0m\u001b[37m \u001b[0m\u001b[35m│\u001b[0m\u001b[33m \u001b[0m\u001b[33m  Registry 🔗  \u001b[0m\u001b[33m \u001b[0m\u001b[35m│\u001b[0m\n",
              "\u001b[35m└────────────────────────────────┴─────────────────────────────────────────────────────────┴─────────────────┘\u001b[0m\n"
            ]
          },
          "metadata": {},
          "output_type": "display_data"
        },
        {
          "data": {
            "text/html": [
              "<pre style=\"white-space:pre;overflow-x:auto;line-height:normal;font-family:Menlo,'DejaVu Sans Mono',consolas,'Courier New',monospace\">\n",
              "</pre>\n"
            ],
            "text/plain": [
              "\n"
            ]
          },
          "metadata": {},
          "output_type": "display_data"
        }
      ],
      "source": [
        "# Display supported languages and their models with enhanced formatting\n",
        "languages = get_supported_languages()\n",
        "\n",
        "console.print()\n",
        "console.rule(\"[bold cyan]🌍 Supported Languages and Models[/bold cyan]\", style=\"cyan\")\n",
        "console.print()\n",
        "\n",
        "language_flags = {\n",
        "    \"english\": \"🇬🇧\",\n",
        "    \"dutch\": \"🇳🇱\",\n",
        "    \"persian\": \"🇮🇷\"\n",
        "}\n",
        "\n",
        "language_colors = {\n",
        "    \"english\": \"green\",\n",
        "    \"dutch\": \"blue\",\n",
        "    \"persian\": \"magenta\"\n",
        "}\n",
        "\n",
        "for lang in languages:\n",
        "    models = get_available_models(lang)\n",
        "    flag = language_flags.get(lang, \"🌐\")\n",
        "    color = language_colors.get(lang, \"cyan\")\n",
        "\n",
        "    table = Table(\n",
        "        title=f\"[bold {color}]{flag} {lang.upper()} Models[/bold {color}]\",\n",
        "        show_header=True,\n",
        "        header_style=\"bold magenta\",\n",
        "        border_style=color,\n",
        "        title_style=f\"bold {color}\"\n",
        "    )\n",
        "    table.add_column(\"Model Key\", style=\"cyan\", width=30)\n",
        "    table.add_column(\"HuggingFace Model / Display Name\", style=\"white\", width=55)\n",
        "    table.add_column(\"Type\", style=\"yellow\", width=15, justify=\"center\")\n",
        "\n",
        "    for key, model_name in models.items():\n",
        "        # Determine if it's a registry model or built-in\n",
        "        if key.startswith(\"registry:\"):\n",
        "            model_type = \"Registry 🔗\"\n",
        "        else:\n",
        "            model_type = \"Built-in ⚙️\"\n",
        "        table.add_row(key, model_name, model_type)\n",
        "\n",
        "    console.print(table)\n",
        "    console.print()\n"
      ]
    },
    {
      "cell_type": "markdown",
      "metadata": {},
      "source": [
        "## 🎭 GoEmotions Taxonomy\n",
        "\n",
        "The GoEmotions dataset includes 28 fine-grained emotion categories grouped by sentiment.\n"
      ]
    },
    {
      "cell_type": "code",
      "execution_count": 15,
      "metadata": {},
      "outputs": [
        {
          "data": {
            "text/html": [
              "<pre style=\"white-space:pre;overflow-x:auto;line-height:normal;font-family:Menlo,'DejaVu Sans Mono',consolas,'Courier New',monospace\">\n",
              "</pre>\n"
            ],
            "text/plain": [
              "\n"
            ]
          },
          "metadata": {},
          "output_type": "display_data"
        },
        {
          "data": {
            "text/html": [
              "<pre style=\"white-space:pre;overflow-x:auto;line-height:normal;font-family:Menlo,'DejaVu Sans Mono',consolas,'Courier New',monospace\"><span style=\"color: #008080; text-decoration-color: #008080\">───────────────────────────────────────── </span><span style=\"color: #008080; text-decoration-color: #008080; font-weight: bold\">🎭 GoEmotions Emotion Taxonomy</span><span style=\"color: #008080; text-decoration-color: #008080\"> ──────────────────────────────────────────</span>\n",
              "</pre>\n"
            ],
            "text/plain": [
              "\u001b[36m───────────────────────────────────────── \u001b[0m\u001b[1;36m🎭 GoEmotions Emotion Taxonomy\u001b[0m\u001b[36m ──────────────────────────────────────────\u001b[0m\n"
            ]
          },
          "metadata": {},
          "output_type": "display_data"
        },
        {
          "data": {
            "text/html": [
              "<pre style=\"white-space:pre;overflow-x:auto;line-height:normal;font-family:Menlo,'DejaVu Sans Mono',consolas,'Courier New',monospace\">\n",
              "</pre>\n"
            ],
            "text/plain": [
              "\n"
            ]
          },
          "metadata": {},
          "output_type": "display_data"
        },
        {
          "data": {
            "text/html": [
              "<pre style=\"white-space:pre;overflow-x:auto;line-height:normal;font-family:Menlo,'DejaVu Sans Mono',consolas,'Courier New',monospace\"><span style=\"color: #008000; text-decoration-color: #008000\">╭─────────────────────────────────────────────────── </span><span style=\"color: #008000; text-decoration-color: #008000; font-weight: bold\">POSITIVE</span><span style=\"color: #008000; text-decoration-color: #008000\"> ────────────────────────────────────────────────────╮</span>\n",
              "<span style=\"color: #008000; text-decoration-color: #008000\">│</span>                                                                                                                 <span style=\"color: #008000; text-decoration-color: #008000\">│</span>\n",
              "<span style=\"color: #008000; text-decoration-color: #008000\">│</span>  <span style=\"color: #008000; text-decoration-color: #008000\">admiration</span><span style=\"color: #7f7f7f; text-decoration-color: #7f7f7f\"> • </span><span style=\"color: #008000; text-decoration-color: #008000\">amusement</span><span style=\"color: #7f7f7f; text-decoration-color: #7f7f7f\"> • </span><span style=\"color: #008000; text-decoration-color: #008000\">approval</span><span style=\"color: #7f7f7f; text-decoration-color: #7f7f7f\"> • </span><span style=\"color: #008000; text-decoration-color: #008000\">caring</span><span style=\"color: #7f7f7f; text-decoration-color: #7f7f7f\"> • </span><span style=\"color: #008000; text-decoration-color: #008000\">desire</span><span style=\"color: #7f7f7f; text-decoration-color: #7f7f7f\"> • </span><span style=\"color: #008000; text-decoration-color: #008000\">excitement</span><span style=\"color: #7f7f7f; text-decoration-color: #7f7f7f\"> • </span><span style=\"color: #008000; text-decoration-color: #008000\">gratitude</span><span style=\"color: #7f7f7f; text-decoration-color: #7f7f7f\"> • </span><span style=\"color: #008000; text-decoration-color: #008000\">joy</span><span style=\"color: #7f7f7f; text-decoration-color: #7f7f7f\"> • </span><span style=\"color: #008000; text-decoration-color: #008000\">love</span><span style=\"color: #7f7f7f; text-decoration-color: #7f7f7f\"> • </span><span style=\"color: #008000; text-decoration-color: #008000\">optimism</span><span style=\"color: #7f7f7f; text-decoration-color: #7f7f7f\"> • </span><span style=\"color: #008000; text-decoration-color: #008000\">pride</span><span style=\"color: #7f7f7f; text-decoration-color: #7f7f7f\"> </span>  <span style=\"color: #008000; text-decoration-color: #008000\">│</span>\n",
              "<span style=\"color: #008000; text-decoration-color: #008000\">│</span>  <span style=\"color: #7f7f7f; text-decoration-color: #7f7f7f\">• </span><span style=\"color: #008000; text-decoration-color: #008000\">relief</span>                                                                                                       <span style=\"color: #008000; text-decoration-color: #008000\">│</span>\n",
              "<span style=\"color: #008000; text-decoration-color: #008000\">│</span>                                                                                                                 <span style=\"color: #008000; text-decoration-color: #008000\">│</span>\n",
              "<span style=\"color: #008000; text-decoration-color: #008000\">╰────────────────────────────────────────────────── </span><span style=\"color: #7fbf7f; text-decoration-color: #7fbf7f\">12 emotions</span><span style=\"color: #008000; text-decoration-color: #008000\"> ──────────────────────────────────────────────────╯</span>\n",
              "<span style=\"color: #800000; text-decoration-color: #800000\">╭─────────────────────────────────────────────────── </span><span style=\"color: #800000; text-decoration-color: #800000; font-weight: bold\">NEGATIVE</span><span style=\"color: #800000; text-decoration-color: #800000\"> ────────────────────────────────────────────────────╮</span>\n",
              "<span style=\"color: #800000; text-decoration-color: #800000\">│</span>                                                                                                                 <span style=\"color: #800000; text-decoration-color: #800000\">│</span>\n",
              "<span style=\"color: #800000; text-decoration-color: #800000\">│</span>  <span style=\"color: #800000; text-decoration-color: #800000\">anger</span><span style=\"color: #7f7f7f; text-decoration-color: #7f7f7f\"> • </span><span style=\"color: #800000; text-decoration-color: #800000\">annoyance</span><span style=\"color: #7f7f7f; text-decoration-color: #7f7f7f\"> • </span><span style=\"color: #800000; text-decoration-color: #800000\">disappointment</span><span style=\"color: #7f7f7f; text-decoration-color: #7f7f7f\"> • </span><span style=\"color: #800000; text-decoration-color: #800000\">disapproval</span><span style=\"color: #7f7f7f; text-decoration-color: #7f7f7f\"> • </span><span style=\"color: #800000; text-decoration-color: #800000\">disgust</span><span style=\"color: #7f7f7f; text-decoration-color: #7f7f7f\"> • </span><span style=\"color: #800000; text-decoration-color: #800000\">embarrassment</span><span style=\"color: #7f7f7f; text-decoration-color: #7f7f7f\"> • </span><span style=\"color: #800000; text-decoration-color: #800000\">fear</span><span style=\"color: #7f7f7f; text-decoration-color: #7f7f7f\"> • </span><span style=\"color: #800000; text-decoration-color: #800000\">grief</span><span style=\"color: #7f7f7f; text-decoration-color: #7f7f7f\"> • </span><span style=\"color: #800000; text-decoration-color: #800000\">nervousness</span><span style=\"color: #7f7f7f; text-decoration-color: #7f7f7f\"> • </span>     <span style=\"color: #800000; text-decoration-color: #800000\">│</span>\n",
              "<span style=\"color: #800000; text-decoration-color: #800000\">│</span>  <span style=\"color: #800000; text-decoration-color: #800000\">remorse</span><span style=\"color: #7f7f7f; text-decoration-color: #7f7f7f\"> • </span><span style=\"color: #800000; text-decoration-color: #800000\">sadness</span>                                                                                              <span style=\"color: #800000; text-decoration-color: #800000\">│</span>\n",
              "<span style=\"color: #800000; text-decoration-color: #800000\">│</span>                                                                                                                 <span style=\"color: #800000; text-decoration-color: #800000\">│</span>\n",
              "<span style=\"color: #800000; text-decoration-color: #800000\">╰────────────────────────────────────────────────── </span><span style=\"color: #bf7f7f; text-decoration-color: #bf7f7f\">11 emotions</span><span style=\"color: #800000; text-decoration-color: #800000\"> ──────────────────────────────────────────────────╯</span>\n",
              "</pre>\n"
            ],
            "text/plain": [
              "\u001b[32m╭─\u001b[0m\u001b[32m──────────────────────────────────────────────────\u001b[0m\u001b[32m \u001b[0m\u001b[1;32mPOSITIVE\u001b[0m\u001b[32m \u001b[0m\u001b[32m───────────────────────────────────────────────────\u001b[0m\u001b[32m─╮\u001b[0m\n",
              "\u001b[32m│\u001b[0m                                                                                                                 \u001b[32m│\u001b[0m\n",
              "\u001b[32m│\u001b[0m  \u001b[32madmiration\u001b[0m\u001b[2m • \u001b[0m\u001b[32mamusement\u001b[0m\u001b[2m • \u001b[0m\u001b[32mapproval\u001b[0m\u001b[2m • \u001b[0m\u001b[32mcaring\u001b[0m\u001b[2m • \u001b[0m\u001b[32mdesire\u001b[0m\u001b[2m • \u001b[0m\u001b[32mexcitement\u001b[0m\u001b[2m • \u001b[0m\u001b[32mgratitude\u001b[0m\u001b[2m • \u001b[0m\u001b[32mjoy\u001b[0m\u001b[2m • \u001b[0m\u001b[32mlove\u001b[0m\u001b[2m • \u001b[0m\u001b[32moptimism\u001b[0m\u001b[2m • \u001b[0m\u001b[32mpride\u001b[0m\u001b[2m \u001b[0m  \u001b[32m│\u001b[0m\n",
              "\u001b[32m│\u001b[0m  \u001b[2m• \u001b[0m\u001b[32mrelief\u001b[0m                                                                                                       \u001b[32m│\u001b[0m\n",
              "\u001b[32m│\u001b[0m                                                                                                                 \u001b[32m│\u001b[0m\n",
              "\u001b[32m╰─\u001b[0m\u001b[32m─────────────────────────────────────────────────\u001b[0m\u001b[32m \u001b[0m\u001b[2;32m12 emotions\u001b[0m\u001b[32m \u001b[0m\u001b[32m─────────────────────────────────────────────────\u001b[0m\u001b[32m─╯\u001b[0m\n",
              "\u001b[31m╭─\u001b[0m\u001b[31m──────────────────────────────────────────────────\u001b[0m\u001b[31m \u001b[0m\u001b[1;31mNEGATIVE\u001b[0m\u001b[31m \u001b[0m\u001b[31m───────────────────────────────────────────────────\u001b[0m\u001b[31m─╮\u001b[0m\n",
              "\u001b[31m│\u001b[0m                                                                                                                 \u001b[31m│\u001b[0m\n",
              "\u001b[31m│\u001b[0m  \u001b[31manger\u001b[0m\u001b[2m • \u001b[0m\u001b[31mannoyance\u001b[0m\u001b[2m • \u001b[0m\u001b[31mdisappointment\u001b[0m\u001b[2m • \u001b[0m\u001b[31mdisapproval\u001b[0m\u001b[2m • \u001b[0m\u001b[31mdisgust\u001b[0m\u001b[2m • \u001b[0m\u001b[31membarrassment\u001b[0m\u001b[2m • \u001b[0m\u001b[31mfear\u001b[0m\u001b[2m • \u001b[0m\u001b[31mgrief\u001b[0m\u001b[2m • \u001b[0m\u001b[31mnervousness\u001b[0m\u001b[2m • \u001b[0m     \u001b[31m│\u001b[0m\n",
              "\u001b[31m│\u001b[0m  \u001b[31mremorse\u001b[0m\u001b[2m • \u001b[0m\u001b[31msadness\u001b[0m                                                                                              \u001b[31m│\u001b[0m\n",
              "\u001b[31m│\u001b[0m                                                                                                                 \u001b[31m│\u001b[0m\n",
              "\u001b[31m╰─\u001b[0m\u001b[31m─────────────────────────────────────────────────\u001b[0m\u001b[31m \u001b[0m\u001b[2;31m11 emotions\u001b[0m\u001b[31m \u001b[0m\u001b[31m─────────────────────────────────────────────────\u001b[0m\u001b[31m─╯\u001b[0m\n"
            ]
          },
          "metadata": {},
          "output_type": "display_data"
        },
        {
          "data": {
            "text/html": [
              "<pre style=\"white-space:pre;overflow-x:auto;line-height:normal;font-family:Menlo,'DejaVu Sans Mono',consolas,'Courier New',monospace\">\n",
              "</pre>\n"
            ],
            "text/plain": [
              "\n"
            ]
          },
          "metadata": {},
          "output_type": "display_data"
        },
        {
          "data": {
            "text/html": [
              "<pre style=\"white-space:pre;overflow-x:auto;line-height:normal;font-family:Menlo,'DejaVu Sans Mono',consolas,'Courier New',monospace\"><span style=\"color: #808000; text-decoration-color: #808000\">╭─────────────────── </span><span style=\"color: #808000; text-decoration-color: #808000; font-weight: bold\">AMBIGUOUS</span><span style=\"color: #808000; text-decoration-color: #808000\"> ────────────────────╮</span>                                      <span style=\"color: #c0c0c0; text-decoration-color: #c0c0c0\">╭─────── </span><span style=\"color: #c0c0c0; text-decoration-color: #c0c0c0; font-weight: bold\">NEUTRAL</span><span style=\"color: #c0c0c0; text-decoration-color: #c0c0c0\"> ───────╮</span>\n",
              "<span style=\"color: #808000; text-decoration-color: #808000\">│</span>                                                  <span style=\"color: #808000; text-decoration-color: #808000\">│</span>                                      <span style=\"color: #c0c0c0; text-decoration-color: #c0c0c0\">│</span>                       <span style=\"color: #c0c0c0; text-decoration-color: #c0c0c0\">│</span>\n",
              "<span style=\"color: #808000; text-decoration-color: #808000\">│</span>  <span style=\"color: #808000; text-decoration-color: #808000\">confusion</span><span style=\"color: #7f7f7f; text-decoration-color: #7f7f7f\"> • </span><span style=\"color: #808000; text-decoration-color: #808000\">curiosity</span><span style=\"color: #7f7f7f; text-decoration-color: #7f7f7f\"> • </span><span style=\"color: #808000; text-decoration-color: #808000\">realization</span><span style=\"color: #7f7f7f; text-decoration-color: #7f7f7f\"> • </span><span style=\"color: #808000; text-decoration-color: #808000\">surprise</span>  <span style=\"color: #808000; text-decoration-color: #808000\">│</span>                                      <span style=\"color: #c0c0c0; text-decoration-color: #c0c0c0\">│</span>  <span style=\"color: #c0c0c0; text-decoration-color: #c0c0c0\">neutral</span>              <span style=\"color: #c0c0c0; text-decoration-color: #c0c0c0\">│</span>\n",
              "<span style=\"color: #808000; text-decoration-color: #808000\">│</span>                                                  <span style=\"color: #808000; text-decoration-color: #808000\">│</span>                                      <span style=\"color: #c0c0c0; text-decoration-color: #c0c0c0\">│</span>                       <span style=\"color: #c0c0c0; text-decoration-color: #c0c0c0\">│</span>\n",
              "<span style=\"color: #808000; text-decoration-color: #808000\">╰─────────────────── </span><span style=\"color: #bfbf7f; text-decoration-color: #bfbf7f\">4 emotions</span><span style=\"color: #808000; text-decoration-color: #808000\"> ───────────────────╯</span>                                      <span style=\"color: #c0c0c0; text-decoration-color: #c0c0c0\">╰───── </span><span style=\"color: #dfdfdf; text-decoration-color: #dfdfdf\">1 emotions</span><span style=\"color: #c0c0c0; text-decoration-color: #c0c0c0\"> ──────╯</span>\n",
              "</pre>\n"
            ],
            "text/plain": [
              "\u001b[33m╭─\u001b[0m\u001b[33m──────────────────\u001b[0m\u001b[33m \u001b[0m\u001b[1;33mAMBIGUOUS\u001b[0m\u001b[33m \u001b[0m\u001b[33m───────────────────\u001b[0m\u001b[33m─╮\u001b[0m                                      \u001b[37m╭─\u001b[0m\u001b[37m──────\u001b[0m\u001b[37m \u001b[0m\u001b[1;37mNEUTRAL\u001b[0m\u001b[37m \u001b[0m\u001b[37m──────\u001b[0m\u001b[37m─╮\u001b[0m\n",
              "\u001b[33m│\u001b[0m                                                  \u001b[33m│\u001b[0m                                      \u001b[37m│\u001b[0m                       \u001b[37m│\u001b[0m\n",
              "\u001b[33m│\u001b[0m  \u001b[33mconfusion\u001b[0m\u001b[2m • \u001b[0m\u001b[33mcuriosity\u001b[0m\u001b[2m • \u001b[0m\u001b[33mrealization\u001b[0m\u001b[2m • \u001b[0m\u001b[33msurprise\u001b[0m  \u001b[33m│\u001b[0m                                      \u001b[37m│\u001b[0m  \u001b[37mneutral\u001b[0m              \u001b[37m│\u001b[0m\n",
              "\u001b[33m│\u001b[0m                                                  \u001b[33m│\u001b[0m                                      \u001b[37m│\u001b[0m                       \u001b[37m│\u001b[0m\n",
              "\u001b[33m╰─\u001b[0m\u001b[33m──────────────────\u001b[0m\u001b[33m \u001b[0m\u001b[2;33m4 emotions\u001b[0m\u001b[33m \u001b[0m\u001b[33m──────────────────\u001b[0m\u001b[33m─╯\u001b[0m                                      \u001b[37m╰─\u001b[0m\u001b[37m────\u001b[0m\u001b[37m \u001b[0m\u001b[2;37m1 emotions\u001b[0m\u001b[37m \u001b[0m\u001b[37m─────\u001b[0m\u001b[37m─╯\u001b[0m\n"
            ]
          },
          "metadata": {},
          "output_type": "display_data"
        },
        {
          "data": {
            "text/html": [
              "<pre style=\"white-space:pre;overflow-x:auto;line-height:normal;font-family:Menlo,'DejaVu Sans Mono',consolas,'Courier New',monospace\">\n",
              "</pre>\n"
            ],
            "text/plain": [
              "\n"
            ]
          },
          "metadata": {},
          "output_type": "display_data"
        }
      ],
      "source": [
        "# Display emotion taxonomy with enhanced formatting\n",
        "from rich.columns import Columns\n",
        "\n",
        "console.print()\n",
        "console.rule(\"[bold cyan]🎭 GoEmotions Emotion Taxonomy[/bold cyan]\", style=\"cyan\")\n",
        "console.print()\n",
        "\n",
        "colors = {\n",
        "    \"positive\": \"green\",\n",
        "    \"negative\": \"red\",\n",
        "    \"ambiguous\": \"yellow\",\n",
        "    \"neutral\": \"white\"\n",
        "}\n",
        "\n",
        "# Create a panel for each emotion group\n",
        "panels = []\n",
        "for group, emotions in EMOTION_GROUPS.items():\n",
        "    color = colors.get(group, \"white\")\n",
        "\n",
        "    # Create emotion list with better formatting\n",
        "    emotion_text = Text()\n",
        "    for i, emotion in enumerate(emotions):\n",
        "        if i > 0:\n",
        "            emotion_text.append(\" • \", style=\"dim\")\n",
        "        emotion_text.append(emotion, style=color)\n",
        "\n",
        "    panel = Panel(\n",
        "        emotion_text,\n",
        "        title=f\"[bold {color}]{group.upper()}[/bold {color}]\",\n",
        "        subtitle=f\"[dim]{len(emotions)} emotions[/dim]\",\n",
        "        border_style=color,\n",
        "        padding=(1, 2)\n",
        "    )\n",
        "    panels.append(panel)\n",
        "\n",
        "# Display in 2 columns\n",
        "console.print(Columns(panels[:2], equal=True, expand=True))\n",
        "console.print()\n",
        "console.print(Columns(panels[2:], equal=True, expand=True))\n",
        "console.print()\n"
      ]
    },
    {
      "cell_type": "markdown",
      "metadata": {},
      "source": [
        "## 🔍 Language Detection\n",
        "\n",
        "Bahar can automatically detect the language of input text.\n"
      ]
    },
    {
      "cell_type": "code",
      "execution_count": 10,
      "metadata": {},
      "outputs": [
        {
          "data": {
            "text/html": [
              "<pre style=\"white-space:pre;overflow-x:auto;line-height:normal;font-family:Menlo,'DejaVu Sans Mono',consolas,'Courier New',monospace\">\n",
              "</pre>\n"
            ],
            "text/plain": [
              "\n"
            ]
          },
          "metadata": {},
          "output_type": "display_data"
        },
        {
          "data": {
            "text/html": [
              "<pre style=\"white-space:pre;overflow-x:auto;line-height:normal;font-family:Menlo,'DejaVu Sans Mono',consolas,'Courier New',monospace\"><span style=\"color: #008080; text-decoration-color: #008080\">─────────────────────────────────────────── </span><span style=\"color: #008080; text-decoration-color: #008080; font-weight: bold\">🔍 Language Detection Demo</span><span style=\"color: #008080; text-decoration-color: #008080\"> ────────────────────────────────────────────</span>\n",
              "</pre>\n"
            ],
            "text/plain": [
              "\u001b[36m─────────────────────────────────────────── \u001b[0m\u001b[1;36m🔍 Language Detection Demo\u001b[0m\u001b[36m ────────────────────────────────────────────\u001b[0m\n"
            ]
          },
          "metadata": {},
          "output_type": "display_data"
        },
        {
          "data": {
            "text/html": [
              "<pre style=\"white-space:pre;overflow-x:auto;line-height:normal;font-family:Menlo,'DejaVu Sans Mono',consolas,'Courier New',monospace\">\n",
              "</pre>\n"
            ],
            "text/plain": [
              "\n"
            ]
          },
          "metadata": {},
          "output_type": "display_data"
        },
        {
          "data": {
            "text/html": [
              "<pre style=\"white-space:pre;overflow-x:auto;line-height:normal;font-family:Menlo,'DejaVu Sans Mono',consolas,'Courier New',monospace\"><span style=\"color: #008080; text-decoration-color: #008080; font-weight: bold\">                                    Automatic Language Detection                                     </span>\n",
              "<span style=\"color: #008080; text-decoration-color: #008080\">┏━━━━━━━━┳━━━━━━━━━━━━━━━━━━━━━━━━━━━━━━━━━━━━━━━━━━━━━━━━━━━━━━━━━┳━━━━━━━━━━━━━━━━━┳━━━━━━━━━━━━━━┓</span>\n",
              "<span style=\"color: #008080; text-decoration-color: #008080\">┃</span><span style=\"color: #800080; text-decoration-color: #800080; font-weight: bold\">  Flag  </span><span style=\"color: #008080; text-decoration-color: #008080\">┃</span><span style=\"color: #800080; text-decoration-color: #800080; font-weight: bold\"> Text Sample                                             </span><span style=\"color: #008080; text-decoration-color: #008080\">┃</span><span style=\"color: #800080; text-decoration-color: #800080; font-weight: bold\">    Detected     </span><span style=\"color: #008080; text-decoration-color: #008080\">┃</span><span style=\"color: #800080; text-decoration-color: #800080; font-weight: bold\">  Confidence  </span><span style=\"color: #008080; text-decoration-color: #008080\">┃</span>\n",
              "<span style=\"color: #008080; text-decoration-color: #008080\">┡━━━━━━━━╇━━━━━━━━━━━━━━━━━━━━━━━━━━━━━━━━━━━━━━━━━━━━━━━━━━━━━━━━━╇━━━━━━━━━━━━━━━━━╇━━━━━━━━━━━━━━┩</span>\n",
              "<span style=\"color: #008080; text-decoration-color: #008080\">│</span><span style=\"color: #c0c0c0; text-decoration-color: #c0c0c0\">   🇬🇧   </span><span style=\"color: #008080; text-decoration-color: #008080\">│</span><span style=\"color: #c0c0c0; text-decoration-color: #c0c0c0\"> This is absolutely wonderful and amazing!               </span><span style=\"color: #008080; text-decoration-color: #008080\">│</span><span style=\"color: #008000; text-decoration-color: #008000; font-weight: bold\">     ENGLISH     </span><span style=\"color: #008080; text-decoration-color: #008080\">│</span><span style=\"color: #808000; text-decoration-color: #808000\">    High ✓    </span><span style=\"color: #008080; text-decoration-color: #008080\">│</span>\n",
              "<span style=\"color: #008080; text-decoration-color: #008080\">│</span><span style=\"color: #c0c0c0; text-decoration-color: #c0c0c0\">   🇳🇱   </span><span style=\"color: #008080; text-decoration-color: #008080\">│</span><span style=\"color: #c0c0c0; text-decoration-color: #c0c0c0\"> Dit is absoluut verschrikkelijk en teleurstellend.      </span><span style=\"color: #008080; text-decoration-color: #008080\">│</span><span style=\"color: #008000; text-decoration-color: #008000; font-weight: bold\">      DUTCH      </span><span style=\"color: #008080; text-decoration-color: #008080\">│</span><span style=\"color: #808000; text-decoration-color: #808000\">    High ✓    </span><span style=\"color: #008080; text-decoration-color: #008080\">│</span>\n",
              "<span style=\"color: #008080; text-decoration-color: #008080\">│</span><span style=\"color: #c0c0c0; text-decoration-color: #c0c0c0\">   🇮🇷   </span><span style=\"color: #008080; text-decoration-color: #008080\">│</span><span style=\"color: #c0c0c0; text-decoration-color: #c0c0c0\"> این واقعاً افتضاح و ناامیدکننده است.                     </span><span style=\"color: #008080; text-decoration-color: #008080\">│</span><span style=\"color: #008000; text-decoration-color: #008000; font-weight: bold\">     PERSIAN     </span><span style=\"color: #008080; text-decoration-color: #008080\">│</span><span style=\"color: #808000; text-decoration-color: #808000\">    High ✓    </span><span style=\"color: #008080; text-decoration-color: #008080\">│</span>\n",
              "<span style=\"color: #008080; text-decoration-color: #008080\">└────────┴─────────────────────────────────────────────────────────┴─────────────────┴──────────────┘</span>\n",
              "</pre>\n"
            ],
            "text/plain": [
              "\u001b[1;36m                                    \u001b[0m\u001b[1;36mAutomatic Language Detection\u001b[0m\u001b[1;36m                                     \u001b[0m\n",
              "\u001b[36m┏━━━━━━━━┳━━━━━━━━━━━━━━━━━━━━━━━━━━━━━━━━━━━━━━━━━━━━━━━━━━━━━━━━━┳━━━━━━━━━━━━━━━━━┳━━━━━━━━━━━━━━┓\u001b[0m\n",
              "\u001b[36m┃\u001b[0m\u001b[1;35m \u001b[0m\u001b[1;35m Flag \u001b[0m\u001b[1;35m \u001b[0m\u001b[36m┃\u001b[0m\u001b[1;35m \u001b[0m\u001b[1;35mText Sample                                            \u001b[0m\u001b[1;35m \u001b[0m\u001b[36m┃\u001b[0m\u001b[1;35m \u001b[0m\u001b[1;35m   Detected    \u001b[0m\u001b[1;35m \u001b[0m\u001b[36m┃\u001b[0m\u001b[1;35m \u001b[0m\u001b[1;35m Confidence \u001b[0m\u001b[1;35m \u001b[0m\u001b[36m┃\u001b[0m\n",
              "\u001b[36m┡━━━━━━━━╇━━━━━━━━━━━━━━━━━━━━━━━━━━━━━━━━━━━━━━━━━━━━━━━━━━━━━━━━━╇━━━━━━━━━━━━━━━━━╇━━━━━━━━━━━━━━┩\u001b[0m\n",
              "\u001b[36m│\u001b[0m\u001b[37m \u001b[0m\u001b[37m  🇬🇧  \u001b[0m\u001b[37m \u001b[0m\u001b[36m│\u001b[0m\u001b[37m \u001b[0m\u001b[37mThis is absolutely wonderful and amazing!              \u001b[0m\u001b[37m \u001b[0m\u001b[36m│\u001b[0m\u001b[1;32m \u001b[0m\u001b[1;32m    ENGLISH    \u001b[0m\u001b[1;32m \u001b[0m\u001b[36m│\u001b[0m\u001b[33m \u001b[0m\u001b[33m   High ✓   \u001b[0m\u001b[33m \u001b[0m\u001b[36m│\u001b[0m\n",
              "\u001b[36m│\u001b[0m\u001b[37m \u001b[0m\u001b[37m  🇳🇱  \u001b[0m\u001b[37m \u001b[0m\u001b[36m│\u001b[0m\u001b[37m \u001b[0m\u001b[37mDit is absoluut verschrikkelijk en teleurstellend.     \u001b[0m\u001b[37m \u001b[0m\u001b[36m│\u001b[0m\u001b[1;32m \u001b[0m\u001b[1;32m     DUTCH     \u001b[0m\u001b[1;32m \u001b[0m\u001b[36m│\u001b[0m\u001b[33m \u001b[0m\u001b[33m   High ✓   \u001b[0m\u001b[33m \u001b[0m\u001b[36m│\u001b[0m\n",
              "\u001b[36m│\u001b[0m\u001b[37m \u001b[0m\u001b[37m  🇮🇷  \u001b[0m\u001b[37m \u001b[0m\u001b[36m│\u001b[0m\u001b[37m \u001b[0m\u001b[37mاین واقعاً افتضاح و ناامیدکننده است.                    \u001b[0m\u001b[37m \u001b[0m\u001b[36m│\u001b[0m\u001b[1;32m \u001b[0m\u001b[1;32m    PERSIAN    \u001b[0m\u001b[1;32m \u001b[0m\u001b[36m│\u001b[0m\u001b[33m \u001b[0m\u001b[33m   High ✓   \u001b[0m\u001b[33m \u001b[0m\u001b[36m│\u001b[0m\n",
              "\u001b[36m└────────┴─────────────────────────────────────────────────────────┴─────────────────┴──────────────┘\u001b[0m\n"
            ]
          },
          "metadata": {},
          "output_type": "display_data"
        },
        {
          "data": {
            "text/html": [
              "<pre style=\"white-space:pre;overflow-x:auto;line-height:normal;font-family:Menlo,'DejaVu Sans Mono',consolas,'Courier New',monospace\">\n",
              "</pre>\n"
            ],
            "text/plain": [
              "\n"
            ]
          },
          "metadata": {},
          "output_type": "display_data"
        }
      ],
      "source": [
        "# Test language detection with enhanced display\n",
        "test_texts = [\n",
        "    (\"This is absolutely wonderful and amazing!\", \"🇬🇧\"),\n",
        "    (\"Dit is absoluut verschrikkelijk en teleurstellend.\", \"🇳🇱\"),\n",
        "    (\"این واقعاً افتضاح و ناامیدکننده است.\", \"🇮🇷\"),\n",
        "]\n",
        "\n",
        "console.print()\n",
        "console.rule(\"[bold cyan]🔍 Language Detection Demo[/bold cyan]\", style=\"cyan\")\n",
        "console.print()\n",
        "\n",
        "detection_table = Table(\n",
        "    show_header=True,\n",
        "    header_style=\"bold magenta\",\n",
        "    border_style=\"cyan\",\n",
        "    title=\"[bold]Automatic Language Detection[/bold]\",\n",
        "    title_style=\"bold cyan\"\n",
        ")\n",
        "detection_table.add_column(\"Flag\", style=\"white\", width=6, justify=\"center\")\n",
        "detection_table.add_column(\"Text Sample\", style=\"white\", width=55)\n",
        "detection_table.add_column(\"Detected\", style=\"green bold\", width=15, justify=\"center\")\n",
        "detection_table.add_column(\"Confidence\", style=\"yellow\", width=12, justify=\"center\")\n",
        "\n",
        "for text, flag in test_texts:\n",
        "    detected = detect_language(text)\n",
        "    # Simple confidence based on detection (in real scenario, would be from model)\n",
        "    confidence = \"High ✓\"\n",
        "    detection_table.add_row(flag, text, detected.upper(), confidence)\n",
        "\n",
        "console.print(detection_table)\n",
        "console.print()\n"
      ]
    },
    {
      "cell_type": "markdown",
      "metadata": {},
      "source": [
        "## 🎭 Basic Emotion Analysis\n",
        "\n",
        "### Example 1: English - GoEmotions Model\n",
        "\n",
        "Let's analyze a positive English text using the GoEmotions model.\n"
      ]
    },
    {
      "cell_type": "code",
      "execution_count": 11,
      "metadata": {},
      "outputs": [
        {
          "data": {
            "text/html": [
              "<pre style=\"white-space:pre;overflow-x:auto;line-height:normal;font-family:Menlo,'DejaVu Sans Mono',consolas,'Courier New',monospace\">\n",
              "</pre>\n"
            ],
            "text/plain": [
              "\n"
            ]
          },
          "metadata": {},
          "output_type": "display_data"
        },
        {
          "data": {
            "text/html": [
              "<pre style=\"white-space:pre;overflow-x:auto;line-height:normal;font-family:Menlo,'DejaVu Sans Mono',consolas,'Courier New',monospace\"><span style=\"color: #008000; text-decoration-color: #008000\">───────────────────────────────────── </span><span style=\"color: #008000; text-decoration-color: #008000; font-weight: bold\">🇬🇧 English Analysis - GoEmotions Model</span><span style=\"color: #008000; text-decoration-color: #008000\"> ──────────────────────────────────────</span>\n",
              "</pre>\n"
            ],
            "text/plain": [
              "\u001b[32m───────────────────────────────────── \u001b[0m\u001b[1;32m🇬🇧 English Analysis - GoEmotions Model\u001b[0m\u001b[32m ──────────────────────────────────────\u001b[0m\n"
            ]
          },
          "metadata": {},
          "output_type": "display_data"
        },
        {
          "data": {
            "text/html": [
              "<pre style=\"white-space:pre;overflow-x:auto;line-height:normal;font-family:Menlo,'DejaVu Sans Mono',consolas,'Courier New',monospace\">\n",
              "</pre>\n"
            ],
            "text/plain": [
              "\n"
            ]
          },
          "metadata": {},
          "output_type": "display_data"
        },
        {
          "data": {
            "text/html": [
              "<pre style=\"white-space:pre;overflow-x:auto;line-height:normal;font-family:Menlo,'DejaVu Sans Mono',consolas,'Courier New',monospace\"></pre>\n"
            ],
            "text/plain": []
          },
          "metadata": {},
          "output_type": "display_data"
        },
        {
          "data": {
            "text/html": [
              "<pre style=\"white-space:pre;overflow-x:auto;line-height:normal;font-family:Menlo,'DejaVu Sans Mono',consolas,'Courier New',monospace\"><span style=\"color: #008000; text-decoration-color: #008000; font-weight: bold\">✓ Model loaded successfully!</span>\n",
              "\n",
              "</pre>\n"
            ],
            "text/plain": [
              "\u001b[1;32m✓ Model loaded successfully!\u001b[0m\n",
              "\n"
            ]
          },
          "metadata": {},
          "output_type": "display_data"
        },
        {
          "data": {
            "text/html": [
              "<pre style=\"white-space:pre;overflow-x:auto;line-height:normal;font-family:Menlo,'DejaVu Sans Mono',consolas,'Courier New',monospace\"><span style=\"color: #008080; text-decoration-color: #008080\">╭───────────────────────────────────────────────── </span><span style=\"color: #008080; text-decoration-color: #008080; font-weight: bold\">📝 Input Text</span><span style=\"color: #008080; text-decoration-color: #008080\"> ─────────────────────────────────────────────────╮</span>\n",
              "<span style=\"color: #008080; text-decoration-color: #008080\">│</span>                                                                                                                 <span style=\"color: #008080; text-decoration-color: #008080\">│</span>\n",
              "<span style=\"color: #008080; text-decoration-color: #008080\">│</span>  <span style=\"color: #c0c0c0; text-decoration-color: #c0c0c0\">This is absolutely wonderful and amazing! I'm so excited and grateful!</span>                                         <span style=\"color: #008080; text-decoration-color: #008080\">│</span>\n",
              "<span style=\"color: #008080; text-decoration-color: #008080\">│</span>                                                                                                                 <span style=\"color: #008080; text-decoration-color: #008080\">│</span>\n",
              "<span style=\"color: #008080; text-decoration-color: #008080\">╰─────────────────────────────────────────────────────────────────────────────────────────────────────────────────╯</span>\n",
              "</pre>\n"
            ],
            "text/plain": [
              "\u001b[36m╭─\u001b[0m\u001b[36m────────────────────────────────────────────────\u001b[0m\u001b[36m \u001b[0m\u001b[1;36m📝 Input Text\u001b[0m\u001b[36m \u001b[0m\u001b[36m────────────────────────────────────────────────\u001b[0m\u001b[36m─╮\u001b[0m\n",
              "\u001b[36m│\u001b[0m                                                                                                                 \u001b[36m│\u001b[0m\n",
              "\u001b[36m│\u001b[0m  \u001b[37mThis is absolutely wonderful and amazing! I'm so excited and grateful!\u001b[0m                                         \u001b[36m│\u001b[0m\n",
              "\u001b[36m│\u001b[0m                                                                                                                 \u001b[36m│\u001b[0m\n",
              "\u001b[36m╰─────────────────────────────────────────────────────────────────────────────────────────────────────────────────╯\u001b[0m\n"
            ]
          },
          "metadata": {},
          "output_type": "display_data"
        },
        {
          "data": {
            "text/html": [
              "<pre style=\"white-space:pre;overflow-x:auto;line-height:normal;font-family:Menlo,'DejaVu Sans Mono',consolas,'Courier New',monospace\">\n",
              "</pre>\n"
            ],
            "text/plain": [
              "\n"
            ]
          },
          "metadata": {},
          "output_type": "display_data"
        },
        {
          "data": {
            "text/html": [
              "<pre style=\"white-space:pre;overflow-x:auto;line-height:normal;font-family:Menlo,'DejaVu Sans Mono',consolas,'Courier New',monospace\"><span style=\"color: #008000; text-decoration-color: #008000; font-weight: bold\">                                  🎭 Emotion Analysis Results                                  </span>\n",
              "<span style=\"color: #008000; text-decoration-color: #008000\">┏━━━━━━━━┳━━━━━━━━━━━━━━━━━━━━┳━━━━━━━━━━━━┳━━━━━━━━━━━━┳━━━━━━━━━━━━━━━━━━━━━━━━━━━━━━━━━━━━━┓</span>\n",
              "<span style=\"color: #008000; text-decoration-color: #008000\">┃</span><span style=\"color: #800080; text-decoration-color: #800080; font-weight: bold\">  Rank  </span><span style=\"color: #008000; text-decoration-color: #008000\">┃</span><span style=\"color: #800080; text-decoration-color: #800080; font-weight: bold\"> Emotion            </span><span style=\"color: #008000; text-decoration-color: #008000\">┃</span><span style=\"color: #800080; text-decoration-color: #800080; font-weight: bold\">      Score </span><span style=\"color: #008000; text-decoration-color: #008000\">┃</span><span style=\"color: #800080; text-decoration-color: #800080; font-weight: bold\"> Percentage </span><span style=\"color: #008000; text-decoration-color: #008000\">┃</span><span style=\"color: #800080; text-decoration-color: #800080; font-weight: bold\"> Confidence                          </span><span style=\"color: #008000; text-decoration-color: #008000\">┃</span>\n",
              "<span style=\"color: #008000; text-decoration-color: #008000\">┡━━━━━━━━╇━━━━━━━━━━━━━━━━━━━━╇━━━━━━━━━━━━╇━━━━━━━━━━━━╇━━━━━━━━━━━━━━━━━━━━━━━━━━━━━━━━━━━━━┩</span>\n",
              "<span style=\"color: #008000; text-decoration-color: #008000\">│</span><span style=\"color: #7f7f7f; text-decoration-color: #7f7f7f\">   🥇   </span><span style=\"color: #008000; text-decoration-color: #008000\">│</span><span style=\"color: #008080; text-decoration-color: #008080; font-weight: bold\"> Excitement         </span><span style=\"color: #008000; text-decoration-color: #008000\">│</span><span style=\"color: #808000; text-decoration-color: #808000\">     0.7011 </span><span style=\"color: #008000; text-decoration-color: #008000\">│      70.1% │</span><span style=\"color: #c0c0c0; text-decoration-color: #c0c0c0\"> █████████████████████░░░░░░░░░      </span><span style=\"color: #008000; text-decoration-color: #008000\">│</span>\n",
              "<span style=\"color: #008000; text-decoration-color: #008000\">│</span><span style=\"color: #7f7f7f; text-decoration-color: #7f7f7f\">   🥈   </span><span style=\"color: #008000; text-decoration-color: #008000\">│</span><span style=\"color: #008080; text-decoration-color: #008080; font-weight: bold\"> Admiration         </span><span style=\"color: #008000; text-decoration-color: #008000\">│</span><span style=\"color: #808000; text-decoration-color: #808000\">     0.2900 </span><span style=\"color: #008000; text-decoration-color: #008000\">│      29.0% │</span><span style=\"color: #c0c0c0; text-decoration-color: #c0c0c0\"> ████████░░░░░░░░░░░░░░░░░░░░░░      </span><span style=\"color: #008000; text-decoration-color: #008000\">│</span>\n",
              "<span style=\"color: #008000; text-decoration-color: #008000\">│</span><span style=\"color: #7f7f7f; text-decoration-color: #7f7f7f\">   🥉   </span><span style=\"color: #008000; text-decoration-color: #008000\">│</span><span style=\"color: #008080; text-decoration-color: #008080; font-weight: bold\"> Gratitude          </span><span style=\"color: #008000; text-decoration-color: #008000\">│</span><span style=\"color: #808000; text-decoration-color: #808000\">     0.0030 </span><span style=\"color: #008000; text-decoration-color: #008000\">│       0.3% │</span><span style=\"color: #c0c0c0; text-decoration-color: #c0c0c0\"> ░░░░░░░░░░░░░░░░░░░░░░░░░░░░░░      </span><span style=\"color: #008000; text-decoration-color: #008000\">│</span>\n",
              "<span style=\"color: #008000; text-decoration-color: #008000\">│</span><span style=\"color: #7f7f7f; text-decoration-color: #7f7f7f\">   4    </span><span style=\"color: #008000; text-decoration-color: #008000\">│</span><span style=\"color: #008080; text-decoration-color: #008080; font-weight: bold\"> Pride              </span><span style=\"color: #008000; text-decoration-color: #008000\">│</span><span style=\"color: #808000; text-decoration-color: #808000\">     0.0019 </span><span style=\"color: #008000; text-decoration-color: #008000\">│       0.2% │</span><span style=\"color: #c0c0c0; text-decoration-color: #c0c0c0\"> ░░░░░░░░░░░░░░░░░░░░░░░░░░░░░░      </span><span style=\"color: #008000; text-decoration-color: #008000\">│</span>\n",
              "<span style=\"color: #008000; text-decoration-color: #008000\">│</span><span style=\"color: #7f7f7f; text-decoration-color: #7f7f7f\">   5    </span><span style=\"color: #008000; text-decoration-color: #008000\">│</span><span style=\"color: #008080; text-decoration-color: #008080; font-weight: bold\"> Joy                </span><span style=\"color: #008000; text-decoration-color: #008000\">│</span><span style=\"color: #808000; text-decoration-color: #808000\">     0.0019 </span><span style=\"color: #008000; text-decoration-color: #008000\">│       0.2% │</span><span style=\"color: #c0c0c0; text-decoration-color: #c0c0c0\"> ░░░░░░░░░░░░░░░░░░░░░░░░░░░░░░      </span><span style=\"color: #008000; text-decoration-color: #008000\">│</span>\n",
              "<span style=\"color: #008000; text-decoration-color: #008000\">└────────┴────────────────────┴────────────┴────────────┴─────────────────────────────────────┘</span>\n",
              "</pre>\n"
            ],
            "text/plain": [
              "\u001b[1;32m                                  \u001b[0m\u001b[1;32m🎭 Emotion Analysis Results\u001b[0m\u001b[1;32m                                  \u001b[0m\n",
              "\u001b[32m┏━━━━━━━━┳━━━━━━━━━━━━━━━━━━━━┳━━━━━━━━━━━━┳━━━━━━━━━━━━┳━━━━━━━━━━━━━━━━━━━━━━━━━━━━━━━━━━━━━┓\u001b[0m\n",
              "\u001b[32m┃\u001b[0m\u001b[1;35m \u001b[0m\u001b[1;35m Rank \u001b[0m\u001b[1;35m \u001b[0m\u001b[32m┃\u001b[0m\u001b[1;35m \u001b[0m\u001b[1;35mEmotion           \u001b[0m\u001b[1;35m \u001b[0m\u001b[32m┃\u001b[0m\u001b[1;35m \u001b[0m\u001b[1;35m     Score\u001b[0m\u001b[1;35m \u001b[0m\u001b[32m┃\u001b[0m\u001b[1;35m \u001b[0m\u001b[1;35mPercentage\u001b[0m\u001b[1;35m \u001b[0m\u001b[32m┃\u001b[0m\u001b[1;35m \u001b[0m\u001b[1;35mConfidence                         \u001b[0m\u001b[1;35m \u001b[0m\u001b[32m┃\u001b[0m\n",
              "\u001b[32m┡━━━━━━━━╇━━━━━━━━━━━━━━━━━━━━╇━━━━━━━━━━━━╇━━━━━━━━━━━━╇━━━━━━━━━━━━━━━━━━━━━━━━━━━━━━━━━━━━━┩\u001b[0m\n",
              "\u001b[32m│\u001b[0m\u001b[2m \u001b[0m\u001b[2m  🥇  \u001b[0m\u001b[2m \u001b[0m\u001b[32m│\u001b[0m\u001b[1;36m \u001b[0m\u001b[1;36mExcitement        \u001b[0m\u001b[1;36m \u001b[0m\u001b[32m│\u001b[0m\u001b[33m \u001b[0m\u001b[33m    0.7011\u001b[0m\u001b[33m \u001b[0m\u001b[32m│\u001b[0m\u001b[32m \u001b[0m\u001b[32m     70.1%\u001b[0m\u001b[32m \u001b[0m\u001b[32m│\u001b[0m\u001b[37m \u001b[0m\u001b[37m█████████████████████░░░░░░░░░     \u001b[0m\u001b[37m \u001b[0m\u001b[32m│\u001b[0m\n",
              "\u001b[32m│\u001b[0m\u001b[2m \u001b[0m\u001b[2m  🥈  \u001b[0m\u001b[2m \u001b[0m\u001b[32m│\u001b[0m\u001b[1;36m \u001b[0m\u001b[1;36mAdmiration        \u001b[0m\u001b[1;36m \u001b[0m\u001b[32m│\u001b[0m\u001b[33m \u001b[0m\u001b[33m    0.2900\u001b[0m\u001b[33m \u001b[0m\u001b[32m│\u001b[0m\u001b[32m \u001b[0m\u001b[32m     29.0%\u001b[0m\u001b[32m \u001b[0m\u001b[32m│\u001b[0m\u001b[37m \u001b[0m\u001b[37m████████░░░░░░░░░░░░░░░░░░░░░░     \u001b[0m\u001b[37m \u001b[0m\u001b[32m│\u001b[0m\n",
              "\u001b[32m│\u001b[0m\u001b[2m \u001b[0m\u001b[2m  🥉  \u001b[0m\u001b[2m \u001b[0m\u001b[32m│\u001b[0m\u001b[1;36m \u001b[0m\u001b[1;36mGratitude         \u001b[0m\u001b[1;36m \u001b[0m\u001b[32m│\u001b[0m\u001b[33m \u001b[0m\u001b[33m    0.0030\u001b[0m\u001b[33m \u001b[0m\u001b[32m│\u001b[0m\u001b[32m \u001b[0m\u001b[32m      0.3%\u001b[0m\u001b[32m \u001b[0m\u001b[32m│\u001b[0m\u001b[37m \u001b[0m\u001b[37m░░░░░░░░░░░░░░░░░░░░░░░░░░░░░░     \u001b[0m\u001b[37m \u001b[0m\u001b[32m│\u001b[0m\n",
              "\u001b[32m│\u001b[0m\u001b[2m \u001b[0m\u001b[2m  4   \u001b[0m\u001b[2m \u001b[0m\u001b[32m│\u001b[0m\u001b[1;36m \u001b[0m\u001b[1;36mPride             \u001b[0m\u001b[1;36m \u001b[0m\u001b[32m│\u001b[0m\u001b[33m \u001b[0m\u001b[33m    0.0019\u001b[0m\u001b[33m \u001b[0m\u001b[32m│\u001b[0m\u001b[32m \u001b[0m\u001b[32m      0.2%\u001b[0m\u001b[32m \u001b[0m\u001b[32m│\u001b[0m\u001b[37m \u001b[0m\u001b[37m░░░░░░░░░░░░░░░░░░░░░░░░░░░░░░     \u001b[0m\u001b[37m \u001b[0m\u001b[32m│\u001b[0m\n",
              "\u001b[32m│\u001b[0m\u001b[2m \u001b[0m\u001b[2m  5   \u001b[0m\u001b[2m \u001b[0m\u001b[32m│\u001b[0m\u001b[1;36m \u001b[0m\u001b[1;36mJoy               \u001b[0m\u001b[1;36m \u001b[0m\u001b[32m│\u001b[0m\u001b[33m \u001b[0m\u001b[33m    0.0019\u001b[0m\u001b[33m \u001b[0m\u001b[32m│\u001b[0m\u001b[32m \u001b[0m\u001b[32m      0.2%\u001b[0m\u001b[32m \u001b[0m\u001b[32m│\u001b[0m\u001b[37m \u001b[0m\u001b[37m░░░░░░░░░░░░░░░░░░░░░░░░░░░░░░     \u001b[0m\u001b[37m \u001b[0m\u001b[32m│\u001b[0m\n",
              "\u001b[32m└────────┴────────────────────┴────────────┴────────────┴─────────────────────────────────────┘\u001b[0m\n"
            ]
          },
          "metadata": {},
          "output_type": "display_data"
        },
        {
          "data": {
            "text/html": [
              "<pre style=\"white-space:pre;overflow-x:auto;line-height:normal;font-family:Menlo,'DejaVu Sans Mono',consolas,'Courier New',monospace\">\n",
              "</pre>\n"
            ],
            "text/plain": [
              "\n"
            ]
          },
          "metadata": {},
          "output_type": "display_data"
        },
        {
          "data": {
            "text/html": [
              "<pre style=\"white-space:pre;overflow-x:auto;line-height:normal;font-family:Menlo,'DejaVu Sans Mono',consolas,'Courier New',monospace\"><span style=\"color: #008000; text-decoration-color: #008000\">╭───────────────────────────────────────────── </span><span style=\"color: #008000; text-decoration-color: #008000; font-weight: bold\">💭 Overall Sentiment</span><span style=\"color: #008000; text-decoration-color: #008000\"> ──────────────────────────────────────────────╮</span>\n",
              "<span style=\"color: #008000; text-decoration-color: #008000\">│</span>  <span style=\"color: #008000; text-decoration-color: #008000; font-weight: bold\">                                                  POSITIVE                                                   </span>  <span style=\"color: #008000; text-decoration-color: #008000\">│</span>\n",
              "<span style=\"color: #008000; text-decoration-color: #008000\">╰─────────────────────────────────────────────────────────────────────────────────────────────────────────────────╯</span>\n",
              "</pre>\n"
            ],
            "text/plain": [
              "\u001b[32m╭─\u001b[0m\u001b[32m────────────────────────────────────────────\u001b[0m\u001b[32m \u001b[0m\u001b[1;32m💭 Overall Sentiment\u001b[0m\u001b[32m \u001b[0m\u001b[32m─────────────────────────────────────────────\u001b[0m\u001b[32m─╮\u001b[0m\n",
              "\u001b[32m│\u001b[0m  \u001b[1;32m                                                  POSITIVE                                                   \u001b[0m  \u001b[32m│\u001b[0m\n",
              "\u001b[32m╰─────────────────────────────────────────────────────────────────────────────────────────────────────────────────╯\u001b[0m\n"
            ]
          },
          "metadata": {},
          "output_type": "display_data"
        },
        {
          "data": {
            "text/html": [
              "<pre style=\"white-space:pre;overflow-x:auto;line-height:normal;font-family:Menlo,'DejaVu Sans Mono',consolas,'Courier New',monospace\">\n",
              "</pre>\n"
            ],
            "text/plain": [
              "\n"
            ]
          },
          "metadata": {},
          "output_type": "display_data"
        }
      ],
      "source": [
        "# Initialize English analyzer with GoEmotions\n",
        "from rich.progress import Progress, SpinnerColumn, TextColumn\n",
        "\n",
        "console.print()\n",
        "console.rule(\"[bold green]🇬🇧 English Analysis - GoEmotions Model[/bold green]\", style=\"green\")\n",
        "console.print()\n",
        "\n",
        "with Progress(\n",
        "    SpinnerColumn(),\n",
        "    TextColumn(\"[progress.description]{task.description}\"),\n",
        "    console=console,\n",
        ") as progress:\n",
        "    task = progress.add_task(\"[cyan]Loading English GoEmotions model...\", total=None)\n",
        "    analyzer_en = EmotionAnalyzer(language=\"english\", model_key=\"goemotions\")\n",
        "    analyzer_en.load_model()\n",
        "    progress.update(task, completed=True)\n",
        "\n",
        "console.print(\"[bold green]✓ Model loaded successfully![/bold green]\\n\")\n",
        "\n",
        "# Analyze positive English text\n",
        "text_en = \"This is absolutely wonderful and amazing! I'm so excited and grateful!\"\n",
        "\n",
        "# Display input text in a panel\n",
        "input_panel = Panel(\n",
        "    Text(text_en, style=\"white\"),\n",
        "    title=\"[bold cyan]📝 Input Text[/bold cyan]\",\n",
        "    border_style=\"cyan\",\n",
        "    padding=(1, 2)\n",
        ")\n",
        "console.print(input_panel)\n",
        "console.print()\n",
        "\n",
        "result_en = analyzer_en.analyze(text_en, top_k=5)\n",
        "\n",
        "# Display results in an enhanced table\n",
        "table = Table(\n",
        "    title=\"[bold]🎭 Emotion Analysis Results[/bold]\",\n",
        "    show_header=True,\n",
        "    header_style=\"bold magenta\",\n",
        "    border_style=\"green\",\n",
        "    title_style=\"bold green\"\n",
        ")\n",
        "table.add_column(\"Rank\", style=\"dim\", width=6, justify=\"center\")\n",
        "table.add_column(\"Emotion\", style=\"cyan bold\", width=18)\n",
        "table.add_column(\"Score\", style=\"yellow\", width=10, justify=\"right\")\n",
        "table.add_column(\"Percentage\", style=\"green\", width=10, justify=\"right\")\n",
        "table.add_column(\"Confidence\", style=\"white\", width=35)\n",
        "\n",
        "for idx, (emotion, score) in enumerate(result_en.get_top_emotions(), 1):\n",
        "    bar_length = int(score * 30)\n",
        "    bar = \"█\" * bar_length + \"░\" * (30 - bar_length)\n",
        "    percentage = f\"{score * 100:.1f}%\"\n",
        "\n",
        "    # Add medal emoji for top 3\n",
        "    rank_display = [\"🥇\", \"🥈\", \"🥉\"][idx-1] if idx <= 3 else str(idx)\n",
        "\n",
        "    table.add_row(rank_display, emotion.title(), f\"{score:.4f}\", percentage, bar)\n",
        "\n",
        "console.print(table)\n",
        "console.print()\n",
        "\n",
        "# Display sentiment in a styled panel\n",
        "sentiment = result_en.get_sentiment_group()\n",
        "sentiment_colors = {\n",
        "    \"positive\": \"green\",\n",
        "    \"negative\": \"red\",\n",
        "    \"ambiguous\": \"yellow\",\n",
        "    \"neutral\": \"white\"\n",
        "}\n",
        "color = sentiment_colors.get(sentiment, \"white\")\n",
        "\n",
        "sentiment_panel = Panel(\n",
        "    Text(sentiment.upper(), style=f\"bold {color}\", justify=\"center\"),\n",
        "    title=\"[bold]💭 Overall Sentiment[/bold]\",\n",
        "    border_style=color,\n",
        "    padding=(0, 2)\n",
        ")\n",
        "console.print(sentiment_panel)\n",
        "console.print()\n"
      ]
    },
    {
      "cell_type": "markdown",
      "metadata": {},
      "source": [
        "### Example 2: Dutch - Sentiment Model\n",
        "\n",
        "Now let's analyze a negative Dutch text. The model correctly detects it as negative!\n"
      ]
    },
    {
      "cell_type": "code",
      "execution_count": 12,
      "metadata": {},
      "outputs": [
        {
          "data": {
            "text/html": [
              "<pre style=\"white-space:pre;overflow-x:auto;line-height:normal;font-family:Menlo,'DejaVu Sans Mono',consolas,'Courier New',monospace\">\n",
              "</pre>\n"
            ],
            "text/plain": [
              "\n"
            ]
          },
          "metadata": {},
          "output_type": "display_data"
        },
        {
          "data": {
            "text/html": [
              "<pre style=\"white-space:pre;overflow-x:auto;line-height:normal;font-family:Menlo,'DejaVu Sans Mono',consolas,'Courier New',monospace\"><span style=\"color: #000080; text-decoration-color: #000080\">──────────────────────────────── </span><span style=\"color: #000080; text-decoration-color: #000080; font-weight: bold\">🇳🇱 Dutch Analysis - Multilingual Sentiment Model</span><span style=\"color: #000080; text-decoration-color: #000080\"> ─────────────────────────────────</span>\n",
              "</pre>\n"
            ],
            "text/plain": [
              "\u001b[34m──────────────────────────────── \u001b[0m\u001b[1;34m🇳🇱 Dutch Analysis - Multilingual Sentiment Model\u001b[0m\u001b[34m ─────────────────────────────────\u001b[0m\n"
            ]
          },
          "metadata": {},
          "output_type": "display_data"
        },
        {
          "data": {
            "text/html": [
              "<pre style=\"white-space:pre;overflow-x:auto;line-height:normal;font-family:Menlo,'DejaVu Sans Mono',consolas,'Courier New',monospace\">\n",
              "</pre>\n"
            ],
            "text/plain": [
              "\n"
            ]
          },
          "metadata": {},
          "output_type": "display_data"
        },
        {
          "data": {
            "text/html": [
              "<pre style=\"white-space:pre;overflow-x:auto;line-height:normal;font-family:Menlo,'DejaVu Sans Mono',consolas,'Courier New',monospace\"></pre>\n"
            ],
            "text/plain": []
          },
          "metadata": {},
          "output_type": "display_data"
        },
        {
          "data": {
            "text/html": [
              "<pre style=\"white-space:pre;overflow-x:auto;line-height:normal;font-family:Menlo,'DejaVu Sans Mono',consolas,'Courier New',monospace\"><span style=\"color: #008000; text-decoration-color: #008000; font-weight: bold\">✓ Model loaded successfully!</span>\n",
              "\n",
              "</pre>\n"
            ],
            "text/plain": [
              "\u001b[1;32m✓ Model loaded successfully!\u001b[0m\n",
              "\n"
            ]
          },
          "metadata": {},
          "output_type": "display_data"
        },
        {
          "data": {
            "text/html": [
              "<pre style=\"white-space:pre;overflow-x:auto;line-height:normal;font-family:Menlo,'DejaVu Sans Mono',consolas,'Courier New',monospace\"><span style=\"color: #008080; text-decoration-color: #008080\">╭───────────────────────────────────────────── </span><span style=\"color: #008080; text-decoration-color: #008080; font-weight: bold\">📝 Input Text (Dutch)</span><span style=\"color: #008080; text-decoration-color: #008080\"> ─────────────────────────────────────────────╮</span>\n",
              "<span style=\"color: #008080; text-decoration-color: #008080\">│</span>                                                                                                                 <span style=\"color: #008080; text-decoration-color: #008080\">│</span>\n",
              "<span style=\"color: #008080; text-decoration-color: #008080\">│</span>  <span style=\"color: #c0c0c0; text-decoration-color: #c0c0c0; font-weight: bold\">Dit is absoluut verschrikkelijk en teleurstellend.</span>                                                             <span style=\"color: #008080; text-decoration-color: #008080\">│</span>\n",
              "<span style=\"color: #008080; text-decoration-color: #008080\">│</span>                                                                                                                 <span style=\"color: #008080; text-decoration-color: #008080\">│</span>\n",
              "<span style=\"color: #008080; text-decoration-color: #008080\">│</span>  <span style=\"color: #7f7f7f; text-decoration-color: #7f7f7f; font-style: italic\">🔄 Translation: This is absolutely terrible and disappointing.</span>                                                 <span style=\"color: #008080; text-decoration-color: #008080\">│</span>\n",
              "<span style=\"color: #008080; text-decoration-color: #008080\">│</span>                                                                                                                 <span style=\"color: #008080; text-decoration-color: #008080\">│</span>\n",
              "<span style=\"color: #008080; text-decoration-color: #008080\">╰─────────────────────────────────────────────────────────────────────────────────────────────────────────────────╯</span>\n",
              "</pre>\n"
            ],
            "text/plain": [
              "\u001b[36m╭─\u001b[0m\u001b[36m────────────────────────────────────────────\u001b[0m\u001b[36m \u001b[0m\u001b[1;36m📝 Input Text (Dutch)\u001b[0m\u001b[36m \u001b[0m\u001b[36m────────────────────────────────────────────\u001b[0m\u001b[36m─╮\u001b[0m\n",
              "\u001b[36m│\u001b[0m                                                                                                                 \u001b[36m│\u001b[0m\n",
              "\u001b[36m│\u001b[0m  \u001b[1;37mDit is absoluut verschrikkelijk en teleurstellend.\u001b[0m                                                             \u001b[36m│\u001b[0m\n",
              "\u001b[36m│\u001b[0m                                                                                                                 \u001b[36m│\u001b[0m\n",
              "\u001b[36m│\u001b[0m  \u001b[2;3m🔄 Translation: \u001b[0m\u001b[2;3mThis is absolutely terrible and disappointing.\u001b[0m                                                 \u001b[36m│\u001b[0m\n",
              "\u001b[36m│\u001b[0m                                                                                                                 \u001b[36m│\u001b[0m\n",
              "\u001b[36m╰─────────────────────────────────────────────────────────────────────────────────────────────────────────────────╯\u001b[0m\n"
            ]
          },
          "metadata": {},
          "output_type": "display_data"
        },
        {
          "data": {
            "text/html": [
              "<pre style=\"white-space:pre;overflow-x:auto;line-height:normal;font-family:Menlo,'DejaVu Sans Mono',consolas,'Courier New',monospace\">\n",
              "</pre>\n"
            ],
            "text/plain": [
              "\n"
            ]
          },
          "metadata": {},
          "output_type": "display_data"
        },
        {
          "data": {
            "text/html": [
              "<pre style=\"white-space:pre;overflow-x:auto;line-height:normal;font-family:Menlo,'DejaVu Sans Mono',consolas,'Courier New',monospace\"><span style=\"color: #000080; text-decoration-color: #000080; font-weight: bold\">                                  🎭 Emotion Analysis Results                                  </span>\n",
              "<span style=\"color: #000080; text-decoration-color: #000080\">┏━━━━━━━━┳━━━━━━━━━━━━━━━━━━━━┳━━━━━━━━━━━━┳━━━━━━━━━━━━┳━━━━━━━━━━━━━━━━━━━━━━━━━━━━━━━━━━━━━┓</span>\n",
              "<span style=\"color: #000080; text-decoration-color: #000080\">┃</span><span style=\"color: #800080; text-decoration-color: #800080; font-weight: bold\">  Rank  </span><span style=\"color: #000080; text-decoration-color: #000080\">┃</span><span style=\"color: #800080; text-decoration-color: #800080; font-weight: bold\"> Emotion            </span><span style=\"color: #000080; text-decoration-color: #000080\">┃</span><span style=\"color: #800080; text-decoration-color: #800080; font-weight: bold\">      Score </span><span style=\"color: #000080; text-decoration-color: #000080\">┃</span><span style=\"color: #800080; text-decoration-color: #800080; font-weight: bold\"> Percentage </span><span style=\"color: #000080; text-decoration-color: #000080\">┃</span><span style=\"color: #800080; text-decoration-color: #800080; font-weight: bold\"> Confidence                          </span><span style=\"color: #000080; text-decoration-color: #000080\">┃</span>\n",
              "<span style=\"color: #000080; text-decoration-color: #000080\">┡━━━━━━━━╇━━━━━━━━━━━━━━━━━━━━╇━━━━━━━━━━━━╇━━━━━━━━━━━━╇━━━━━━━━━━━━━━━━━━━━━━━━━━━━━━━━━━━━━┩</span>\n",
              "<span style=\"color: #000080; text-decoration-color: #000080\">│</span><span style=\"color: #7f7f7f; text-decoration-color: #7f7f7f\">   🥇   </span><span style=\"color: #000080; text-decoration-color: #000080\">│</span><span style=\"color: #008080; text-decoration-color: #008080; font-weight: bold\"> Disappointment     </span><span style=\"color: #000080; text-decoration-color: #000080\">│</span><span style=\"color: #808000; text-decoration-color: #808000\">     0.4107 </span><span style=\"color: #000080; text-decoration-color: #000080\">│</span><span style=\"color: #800000; text-decoration-color: #800000\">      41.1% </span><span style=\"color: #000080; text-decoration-color: #000080\">│</span><span style=\"color: #c0c0c0; text-decoration-color: #c0c0c0\"> ████████████░░░░░░░░░░░░░░░░░░      </span><span style=\"color: #000080; text-decoration-color: #000080\">│</span>\n",
              "<span style=\"color: #000080; text-decoration-color: #000080\">│</span><span style=\"color: #7f7f7f; text-decoration-color: #7f7f7f\">   🥈   </span><span style=\"color: #000080; text-decoration-color: #000080\">│</span><span style=\"color: #008080; text-decoration-color: #008080; font-weight: bold\"> Anger              </span><span style=\"color: #000080; text-decoration-color: #000080\">│</span><span style=\"color: #808000; text-decoration-color: #808000\">     0.2342 </span><span style=\"color: #000080; text-decoration-color: #000080\">│</span><span style=\"color: #800000; text-decoration-color: #800000\">      23.4% </span><span style=\"color: #000080; text-decoration-color: #000080\">│</span><span style=\"color: #c0c0c0; text-decoration-color: #c0c0c0\"> ███████░░░░░░░░░░░░░░░░░░░░░░░      </span><span style=\"color: #000080; text-decoration-color: #000080\">│</span>\n",
              "<span style=\"color: #000080; text-decoration-color: #000080\">│</span><span style=\"color: #7f7f7f; text-decoration-color: #7f7f7f\">   🥉   </span><span style=\"color: #000080; text-decoration-color: #000080\">│</span><span style=\"color: #008080; text-decoration-color: #008080; font-weight: bold\"> Disgust            </span><span style=\"color: #000080; text-decoration-color: #000080\">│</span><span style=\"color: #808000; text-decoration-color: #808000\">     0.1562 </span><span style=\"color: #000080; text-decoration-color: #000080\">│</span><span style=\"color: #800000; text-decoration-color: #800000\">      15.6% </span><span style=\"color: #000080; text-decoration-color: #000080\">│</span><span style=\"color: #c0c0c0; text-decoration-color: #c0c0c0\"> ████░░░░░░░░░░░░░░░░░░░░░░░░░░      </span><span style=\"color: #000080; text-decoration-color: #000080\">│</span>\n",
              "<span style=\"color: #000080; text-decoration-color: #000080\">│</span><span style=\"color: #7f7f7f; text-decoration-color: #7f7f7f\">   4    </span><span style=\"color: #000080; text-decoration-color: #000080\">│</span><span style=\"color: #008080; text-decoration-color: #008080; font-weight: bold\"> Sadness            </span><span style=\"color: #000080; text-decoration-color: #000080\">│</span><span style=\"color: #808000; text-decoration-color: #808000\">     0.1371 </span><span style=\"color: #000080; text-decoration-color: #000080\">│</span><span style=\"color: #800000; text-decoration-color: #800000\">      13.7% </span><span style=\"color: #000080; text-decoration-color: #000080\">│</span><span style=\"color: #c0c0c0; text-decoration-color: #c0c0c0\"> ████░░░░░░░░░░░░░░░░░░░░░░░░░░      </span><span style=\"color: #000080; text-decoration-color: #000080\">│</span>\n",
              "<span style=\"color: #000080; text-decoration-color: #000080\">│</span><span style=\"color: #7f7f7f; text-decoration-color: #7f7f7f\">   5    </span><span style=\"color: #000080; text-decoration-color: #000080\">│</span><span style=\"color: #008080; text-decoration-color: #008080; font-weight: bold\"> Disapproval        </span><span style=\"color: #000080; text-decoration-color: #000080\">│</span><span style=\"color: #808000; text-decoration-color: #808000\">     0.0394 </span><span style=\"color: #000080; text-decoration-color: #000080\">│</span><span style=\"color: #800000; text-decoration-color: #800000\">       3.9% </span><span style=\"color: #000080; text-decoration-color: #000080\">│</span><span style=\"color: #c0c0c0; text-decoration-color: #c0c0c0\"> █░░░░░░░░░░░░░░░░░░░░░░░░░░░░░      </span><span style=\"color: #000080; text-decoration-color: #000080\">│</span>\n",
              "<span style=\"color: #000080; text-decoration-color: #000080\">└────────┴────────────────────┴────────────┴────────────┴─────────────────────────────────────┘</span>\n",
              "</pre>\n"
            ],
            "text/plain": [
              "\u001b[1;34m                                  \u001b[0m\u001b[1;34m🎭 Emotion Analysis Results\u001b[0m\u001b[1;34m                                  \u001b[0m\n",
              "\u001b[34m┏━━━━━━━━┳━━━━━━━━━━━━━━━━━━━━┳━━━━━━━━━━━━┳━━━━━━━━━━━━┳━━━━━━━━━━━━━━━━━━━━━━━━━━━━━━━━━━━━━┓\u001b[0m\n",
              "\u001b[34m┃\u001b[0m\u001b[1;35m \u001b[0m\u001b[1;35m Rank \u001b[0m\u001b[1;35m \u001b[0m\u001b[34m┃\u001b[0m\u001b[1;35m \u001b[0m\u001b[1;35mEmotion           \u001b[0m\u001b[1;35m \u001b[0m\u001b[34m┃\u001b[0m\u001b[1;35m \u001b[0m\u001b[1;35m     Score\u001b[0m\u001b[1;35m \u001b[0m\u001b[34m┃\u001b[0m\u001b[1;35m \u001b[0m\u001b[1;35mPercentage\u001b[0m\u001b[1;35m \u001b[0m\u001b[34m┃\u001b[0m\u001b[1;35m \u001b[0m\u001b[1;35mConfidence                         \u001b[0m\u001b[1;35m \u001b[0m\u001b[34m┃\u001b[0m\n",
              "\u001b[34m┡━━━━━━━━╇━━━━━━━━━━━━━━━━━━━━╇━━━━━━━━━━━━╇━━━━━━━━━━━━╇━━━━━━━━━━━━━━━━━━━━━━━━━━━━━━━━━━━━━┩\u001b[0m\n",
              "\u001b[34m│\u001b[0m\u001b[2m \u001b[0m\u001b[2m  🥇  \u001b[0m\u001b[2m \u001b[0m\u001b[34m│\u001b[0m\u001b[1;36m \u001b[0m\u001b[1;36mDisappointment    \u001b[0m\u001b[1;36m \u001b[0m\u001b[34m│\u001b[0m\u001b[33m \u001b[0m\u001b[33m    0.4107\u001b[0m\u001b[33m \u001b[0m\u001b[34m│\u001b[0m\u001b[31m \u001b[0m\u001b[31m     41.1%\u001b[0m\u001b[31m \u001b[0m\u001b[34m│\u001b[0m\u001b[37m \u001b[0m\u001b[37m████████████░░░░░░░░░░░░░░░░░░     \u001b[0m\u001b[37m \u001b[0m\u001b[34m│\u001b[0m\n",
              "\u001b[34m│\u001b[0m\u001b[2m \u001b[0m\u001b[2m  🥈  \u001b[0m\u001b[2m \u001b[0m\u001b[34m│\u001b[0m\u001b[1;36m \u001b[0m\u001b[1;36mAnger             \u001b[0m\u001b[1;36m \u001b[0m\u001b[34m│\u001b[0m\u001b[33m \u001b[0m\u001b[33m    0.2342\u001b[0m\u001b[33m \u001b[0m\u001b[34m│\u001b[0m\u001b[31m \u001b[0m\u001b[31m     23.4%\u001b[0m\u001b[31m \u001b[0m\u001b[34m│\u001b[0m\u001b[37m \u001b[0m\u001b[37m███████░░░░░░░░░░░░░░░░░░░░░░░     \u001b[0m\u001b[37m \u001b[0m\u001b[34m│\u001b[0m\n",
              "\u001b[34m│\u001b[0m\u001b[2m \u001b[0m\u001b[2m  🥉  \u001b[0m\u001b[2m \u001b[0m\u001b[34m│\u001b[0m\u001b[1;36m \u001b[0m\u001b[1;36mDisgust           \u001b[0m\u001b[1;36m \u001b[0m\u001b[34m│\u001b[0m\u001b[33m \u001b[0m\u001b[33m    0.1562\u001b[0m\u001b[33m \u001b[0m\u001b[34m│\u001b[0m\u001b[31m \u001b[0m\u001b[31m     15.6%\u001b[0m\u001b[31m \u001b[0m\u001b[34m│\u001b[0m\u001b[37m \u001b[0m\u001b[37m████░░░░░░░░░░░░░░░░░░░░░░░░░░     \u001b[0m\u001b[37m \u001b[0m\u001b[34m│\u001b[0m\n",
              "\u001b[34m│\u001b[0m\u001b[2m \u001b[0m\u001b[2m  4   \u001b[0m\u001b[2m \u001b[0m\u001b[34m│\u001b[0m\u001b[1;36m \u001b[0m\u001b[1;36mSadness           \u001b[0m\u001b[1;36m \u001b[0m\u001b[34m│\u001b[0m\u001b[33m \u001b[0m\u001b[33m    0.1371\u001b[0m\u001b[33m \u001b[0m\u001b[34m│\u001b[0m\u001b[31m \u001b[0m\u001b[31m     13.7%\u001b[0m\u001b[31m \u001b[0m\u001b[34m│\u001b[0m\u001b[37m \u001b[0m\u001b[37m████░░░░░░░░░░░░░░░░░░░░░░░░░░     \u001b[0m\u001b[37m \u001b[0m\u001b[34m│\u001b[0m\n",
              "\u001b[34m│\u001b[0m\u001b[2m \u001b[0m\u001b[2m  5   \u001b[0m\u001b[2m \u001b[0m\u001b[34m│\u001b[0m\u001b[1;36m \u001b[0m\u001b[1;36mDisapproval       \u001b[0m\u001b[1;36m \u001b[0m\u001b[34m│\u001b[0m\u001b[33m \u001b[0m\u001b[33m    0.0394\u001b[0m\u001b[33m \u001b[0m\u001b[34m│\u001b[0m\u001b[31m \u001b[0m\u001b[31m      3.9%\u001b[0m\u001b[31m \u001b[0m\u001b[34m│\u001b[0m\u001b[37m \u001b[0m\u001b[37m█░░░░░░░░░░░░░░░░░░░░░░░░░░░░░     \u001b[0m\u001b[37m \u001b[0m\u001b[34m│\u001b[0m\n",
              "\u001b[34m└────────┴────────────────────┴────────────┴────────────┴─────────────────────────────────────┘\u001b[0m\n"
            ]
          },
          "metadata": {},
          "output_type": "display_data"
        },
        {
          "data": {
            "text/html": [
              "<pre style=\"white-space:pre;overflow-x:auto;line-height:normal;font-family:Menlo,'DejaVu Sans Mono',consolas,'Courier New',monospace\">\n",
              "</pre>\n"
            ],
            "text/plain": [
              "\n"
            ]
          },
          "metadata": {},
          "output_type": "display_data"
        },
        {
          "data": {
            "text/html": [
              "<pre style=\"white-space:pre;overflow-x:auto;line-height:normal;font-family:Menlo,'DejaVu Sans Mono',consolas,'Courier New',monospace\"><span style=\"color: #800000; text-decoration-color: #800000\">╭───────────────────────────────────────────── </span><span style=\"color: #800000; text-decoration-color: #800000; font-weight: bold\">💭 Overall Sentiment</span><span style=\"color: #800000; text-decoration-color: #800000\"> ──────────────────────────────────────────────╮</span>\n",
              "<span style=\"color: #800000; text-decoration-color: #800000\">│</span>  <span style=\"color: #800000; text-decoration-color: #800000; font-weight: bold\">                                                  NEGATIVE                                                   </span>  <span style=\"color: #800000; text-decoration-color: #800000\">│</span>\n",
              "<span style=\"color: #800000; text-decoration-color: #800000\">╰─────────────────────────────────────────────────────────────────────────────────────────────────────────────────╯</span>\n",
              "</pre>\n"
            ],
            "text/plain": [
              "\u001b[31m╭─\u001b[0m\u001b[31m────────────────────────────────────────────\u001b[0m\u001b[31m \u001b[0m\u001b[1;31m💭 Overall Sentiment\u001b[0m\u001b[31m \u001b[0m\u001b[31m─────────────────────────────────────────────\u001b[0m\u001b[31m─╮\u001b[0m\n",
              "\u001b[31m│\u001b[0m  \u001b[1;31m                                                  NEGATIVE                                                   \u001b[0m  \u001b[31m│\u001b[0m\n",
              "\u001b[31m╰─────────────────────────────────────────────────────────────────────────────────────────────────────────────────╯\u001b[0m\n"
            ]
          },
          "metadata": {},
          "output_type": "display_data"
        },
        {
          "data": {
            "text/html": [
              "<pre style=\"white-space:pre;overflow-x:auto;line-height:normal;font-family:Menlo,'DejaVu Sans Mono',consolas,'Courier New',monospace\">\n",
              "</pre>\n"
            ],
            "text/plain": [
              "\n"
            ]
          },
          "metadata": {},
          "output_type": "display_data"
        }
      ],
      "source": [
        "# Initialize Dutch analyzer\n",
        "console.print()\n",
        "console.rule(\"[bold blue]🇳🇱 Dutch Analysis - Multilingual Sentiment Model[/bold blue]\", style=\"blue\")\n",
        "console.print()\n",
        "\n",
        "with Progress(\n",
        "    SpinnerColumn(),\n",
        "    TextColumn(\"[progress.description]{task.description}\"),\n",
        "    console=console,\n",
        ") as progress:\n",
        "    task = progress.add_task(\"[cyan]Loading Dutch sentiment model...\", total=None)\n",
        "    analyzer_nl = EmotionAnalyzer(language=\"dutch\", model_key=\"sentiment\")\n",
        "    analyzer_nl.load_model()\n",
        "    progress.update(task, completed=True)\n",
        "\n",
        "console.print(\"[bold green]✓ Model loaded successfully![/bold green]\\n\")\n",
        "\n",
        "# Analyze negative Dutch text\n",
        "text_nl = \"Dit is absoluut verschrikkelijk en teleurstellend.\"\n",
        "translation = \"This is absolutely terrible and disappointing.\"\n",
        "\n",
        "# Display input text with translation\n",
        "input_text = Text()\n",
        "input_text.append(text_nl, style=\"white bold\")\n",
        "input_text.append(\"\\n\\n\", style=\"\")\n",
        "input_text.append(\"🔄 Translation: \", style=\"dim italic\")\n",
        "input_text.append(translation, style=\"dim italic\")\n",
        "\n",
        "input_panel = Panel(\n",
        "    input_text,\n",
        "    title=\"[bold cyan]📝 Input Text (Dutch)[/bold cyan]\",\n",
        "    border_style=\"cyan\",\n",
        "    padding=(1, 2)\n",
        ")\n",
        "console.print(input_panel)\n",
        "console.print()\n",
        "\n",
        "result_nl = analyzer_nl.analyze(text_nl, top_k=5)\n",
        "\n",
        "# Display results in an enhanced table\n",
        "table = Table(\n",
        "    title=\"[bold]🎭 Emotion Analysis Results[/bold]\",\n",
        "    show_header=True,\n",
        "    header_style=\"bold magenta\",\n",
        "    border_style=\"blue\",\n",
        "    title_style=\"bold blue\"\n",
        ")\n",
        "table.add_column(\"Rank\", style=\"dim\", width=6, justify=\"center\")\n",
        "table.add_column(\"Emotion\", style=\"cyan bold\", width=18)\n",
        "table.add_column(\"Score\", style=\"yellow\", width=10, justify=\"right\")\n",
        "table.add_column(\"Percentage\", style=\"red\", width=10, justify=\"right\")\n",
        "table.add_column(\"Confidence\", style=\"white\", width=35)\n",
        "\n",
        "for idx, (emotion, score) in enumerate(result_nl.get_top_emotions(), 1):\n",
        "    bar_length = int(score * 30)\n",
        "    bar = \"█\" * bar_length + \"░\" * (30 - bar_length)\n",
        "    percentage = f\"{score * 100:.1f}%\"\n",
        "    rank_display = [\"🥇\", \"🥈\", \"🥉\"][idx-1] if idx <= 3 else str(idx)\n",
        "    table.add_row(rank_display, emotion.title(), f\"{score:.4f}\", percentage, bar)\n",
        "\n",
        "console.print(table)\n",
        "console.print()\n",
        "\n",
        "# Display sentiment\n",
        "sentiment = result_nl.get_sentiment_group()\n",
        "sentiment_colors = {\n",
        "    \"positive\": \"green\",\n",
        "    \"negative\": \"red\",\n",
        "    \"ambiguous\": \"yellow\",\n",
        "    \"neutral\": \"white\"\n",
        "}\n",
        "color = sentiment_colors.get(sentiment, \"white\")\n",
        "\n",
        "sentiment_panel = Panel(\n",
        "    Text(sentiment.upper(), style=f\"bold {color}\", justify=\"center\"),\n",
        "    title=\"[bold]💭 Overall Sentiment[/bold]\",\n",
        "    border_style=color,\n",
        "    padding=(0, 2)\n",
        ")\n",
        "console.print(sentiment_panel)\n",
        "console.print()\n"
      ]
    },
    {
      "cell_type": "markdown",
      "metadata": {},
      "source": [
        "### Example 3: Persian - ParsBERT Model\n",
        "\n",
        "Let's analyze Persian text using the ParsBERT model.\n"
      ]
    },
    {
      "cell_type": "code",
      "execution_count": 13,
      "metadata": {},
      "outputs": [
        {
          "data": {
            "text/html": [
              "<pre style=\"white-space:pre;overflow-x:auto;line-height:normal;font-family:Menlo,'DejaVu Sans Mono',consolas,'Courier New',monospace\">\n",
              "<span style=\"color: #008080; text-decoration-color: #008080; font-weight: bold\">Loading Persian ParsBERT model...</span>\n",
              "</pre>\n"
            ],
            "text/plain": [
              "\n",
              "\u001b[1;36mLoading Persian ParsBERT model\u001b[0m\u001b[1;36m...\u001b[0m\n"
            ]
          },
          "metadata": {},
          "output_type": "display_data"
        },
        {
          "data": {
            "text/html": [
              "<pre style=\"white-space:pre;overflow-x:auto;line-height:normal;font-family:Menlo,'DejaVu Sans Mono',consolas,'Courier New',monospace\"><span style=\"color: #008000; text-decoration-color: #008000; font-weight: bold\">✓ Model loaded!</span>\n",
              "\n",
              "</pre>\n"
            ],
            "text/plain": [
              "\u001b[1;32m✓ Model loaded!\u001b[0m\n",
              "\n"
            ]
          },
          "metadata": {},
          "output_type": "display_data"
        },
        {
          "data": {
            "text/html": [
              "<pre style=\"white-space:pre;overflow-x:auto;line-height:normal;font-family:Menlo,'DejaVu Sans Mono',consolas,'Courier New',monospace\"><span style=\"font-weight: bold\">Text:</span> این واقعاً افتضاح و ناامیدکننده است.\n",
              "</pre>\n"
            ],
            "text/plain": [
              "\u001b[1mText:\u001b[0m این واقعاً افتضاح و ناامیدکننده است.\n"
            ]
          },
          "metadata": {},
          "output_type": "display_data"
        },
        {
          "data": {
            "text/html": [
              "<pre style=\"white-space:pre;overflow-x:auto;line-height:normal;font-family:Menlo,'DejaVu Sans Mono',consolas,'Courier New',monospace\"><span style=\"color: #7f7f7f; text-decoration-color: #7f7f7f\">Translation: This is really terrible and disappointing.</span>\n",
              "\n",
              "</pre>\n"
            ],
            "text/plain": [
              "\u001b[2mTranslation: This is really terrible and disappointing.\u001b[0m\n",
              "\n"
            ]
          },
          "metadata": {},
          "output_type": "display_data"
        },
        {
          "data": {
            "text/html": [
              "<pre style=\"white-space:pre;overflow-x:auto;line-height:normal;font-family:Menlo,'DejaVu Sans Mono',consolas,'Courier New',monospace\"><span style=\"font-style: italic\">                       Persian Emotion Analysis                       </span>\n",
              "┏━━━━━━━━━━━━━━━━━━━━━━┳━━━━━━━━━━━━┳━━━━━━━━━━━━━━━━━━━━━━━━━━━━━━━━┓\n",
              "┃<span style=\"color: #008000; text-decoration-color: #008000; font-weight: bold\"> Emotion              </span>┃<span style=\"color: #008000; text-decoration-color: #008000; font-weight: bold\"> Score      </span>┃<span style=\"color: #008000; text-decoration-color: #008000; font-weight: bold\"> Confidence Bar                 </span>┃\n",
              "┡━━━━━━━━━━━━━━━━━━━━━━╇━━━━━━━━━━━━╇━━━━━━━━━━━━━━━━━━━━━━━━━━━━━━━━┩\n",
              "│<span style=\"color: #008080; text-decoration-color: #008080\"> disappointment       </span>│<span style=\"color: #808000; text-decoration-color: #808000\"> 0.3412     </span>│<span style=\"color: #c0c0c0; text-decoration-color: #c0c0c0\"> ██████████░░░░░░░░░░░░░░░░░░░░ </span>│\n",
              "│<span style=\"color: #008080; text-decoration-color: #008080\"> disapproval          </span>│<span style=\"color: #808000; text-decoration-color: #808000\"> 0.2924     </span>│<span style=\"color: #c0c0c0; text-decoration-color: #c0c0c0\"> ████████░░░░░░░░░░░░░░░░░░░░░░ </span>│\n",
              "│<span style=\"color: #008080; text-decoration-color: #008080\"> sadness              </span>│<span style=\"color: #808000; text-decoration-color: #808000\"> 0.1949     </span>│<span style=\"color: #c0c0c0; text-decoration-color: #c0c0c0\"> █████░░░░░░░░░░░░░░░░░░░░░░░░░ </span>│\n",
              "│<span style=\"color: #008080; text-decoration-color: #008080\"> anger                </span>│<span style=\"color: #808000; text-decoration-color: #808000\"> 0.1462     </span>│<span style=\"color: #c0c0c0; text-decoration-color: #c0c0c0\"> ████░░░░░░░░░░░░░░░░░░░░░░░░░░ </span>│\n",
              "│<span style=\"color: #008080; text-decoration-color: #008080\"> neutral              </span>│<span style=\"color: #808000; text-decoration-color: #808000\"> 0.0116     </span>│<span style=\"color: #c0c0c0; text-decoration-color: #c0c0c0\"> ░░░░░░░░░░░░░░░░░░░░░░░░░░░░░░ </span>│\n",
              "└──────────────────────┴────────────┴────────────────────────────────┘\n",
              "</pre>\n"
            ],
            "text/plain": [
              "\u001b[3m                       Persian Emotion Analysis                       \u001b[0m\n",
              "┏━━━━━━━━━━━━━━━━━━━━━━┳━━━━━━━━━━━━┳━━━━━━━━━━━━━━━━━━━━━━━━━━━━━━━━┓\n",
              "┃\u001b[1;32m \u001b[0m\u001b[1;32mEmotion             \u001b[0m\u001b[1;32m \u001b[0m┃\u001b[1;32m \u001b[0m\u001b[1;32mScore     \u001b[0m\u001b[1;32m \u001b[0m┃\u001b[1;32m \u001b[0m\u001b[1;32mConfidence Bar                \u001b[0m\u001b[1;32m \u001b[0m┃\n",
              "┡━━━━━━━━━━━━━━━━━━━━━━╇━━━━━━━━━━━━╇━━━━━━━━━━━━━━━━━━━━━━━━━━━━━━━━┩\n",
              "│\u001b[36m \u001b[0m\u001b[36mdisappointment      \u001b[0m\u001b[36m \u001b[0m│\u001b[33m \u001b[0m\u001b[33m0.3412    \u001b[0m\u001b[33m \u001b[0m│\u001b[37m \u001b[0m\u001b[37m██████████░░░░░░░░░░░░░░░░░░░░\u001b[0m\u001b[37m \u001b[0m│\n",
              "│\u001b[36m \u001b[0m\u001b[36mdisapproval         \u001b[0m\u001b[36m \u001b[0m│\u001b[33m \u001b[0m\u001b[33m0.2924    \u001b[0m\u001b[33m \u001b[0m│\u001b[37m \u001b[0m\u001b[37m████████░░░░░░░░░░░░░░░░░░░░░░\u001b[0m\u001b[37m \u001b[0m│\n",
              "│\u001b[36m \u001b[0m\u001b[36msadness             \u001b[0m\u001b[36m \u001b[0m│\u001b[33m \u001b[0m\u001b[33m0.1949    \u001b[0m\u001b[33m \u001b[0m│\u001b[37m \u001b[0m\u001b[37m█████░░░░░░░░░░░░░░░░░░░░░░░░░\u001b[0m\u001b[37m \u001b[0m│\n",
              "│\u001b[36m \u001b[0m\u001b[36manger               \u001b[0m\u001b[36m \u001b[0m│\u001b[33m \u001b[0m\u001b[33m0.1462    \u001b[0m\u001b[33m \u001b[0m│\u001b[37m \u001b[0m\u001b[37m████░░░░░░░░░░░░░░░░░░░░░░░░░░\u001b[0m\u001b[37m \u001b[0m│\n",
              "│\u001b[36m \u001b[0m\u001b[36mneutral             \u001b[0m\u001b[36m \u001b[0m│\u001b[33m \u001b[0m\u001b[33m0.0116    \u001b[0m\u001b[33m \u001b[0m│\u001b[37m \u001b[0m\u001b[37m░░░░░░░░░░░░░░░░░░░░░░░░░░░░░░\u001b[0m\u001b[37m \u001b[0m│\n",
              "└──────────────────────┴────────────┴────────────────────────────────┘\n"
            ]
          },
          "metadata": {},
          "output_type": "display_data"
        },
        {
          "data": {
            "text/html": [
              "<pre style=\"white-space:pre;overflow-x:auto;line-height:normal;font-family:Menlo,'DejaVu Sans Mono',consolas,'Courier New',monospace\">\n",
              "<span style=\"font-weight: bold\">Sentiment:</span> <span style=\"color: #800000; text-decoration-color: #800000\">NEGATIVE</span>\n",
              "</pre>\n"
            ],
            "text/plain": [
              "\n",
              "\u001b[1mSentiment:\u001b[0m \u001b[31mNEGATIVE\u001b[0m\n"
            ]
          },
          "metadata": {},
          "output_type": "display_data"
        }
      ],
      "source": [
        "# Initialize Persian analyzer\n",
        "console.print(\"\\n[bold cyan]Loading Persian ParsBERT model...[/bold cyan]\")\n",
        "analyzer_fa = EmotionAnalyzer(language=\"persian\", model_key=\"sentiment\")\n",
        "analyzer_fa.load_model()\n",
        "console.print(\"[bold green]✓ Model loaded![/bold green]\\n\")\n",
        "\n",
        "# Analyze Persian text\n",
        "text_fa = \"این واقعاً افتضاح و ناامیدکننده است.\"\n",
        "\n",
        "console.print(f\"[bold]Text:[/bold] {text_fa}\")\n",
        "console.print(f\"[dim]Translation: This is really terrible and disappointing.[/dim]\\n\")\n",
        "\n",
        "result_fa = analyzer_fa.analyze(text_fa, top_k=5)\n",
        "\n",
        "# Display results\n",
        "table = Table(title=\"Persian Emotion Analysis\", show_header=True, header_style=\"bold green\")\n",
        "table.add_column(\"Emotion\", style=\"cyan\", width=20)\n",
        "table.add_column(\"Score\", style=\"yellow\", width=10)\n",
        "table.add_column(\"Confidence Bar\", style=\"white\", width=30)\n",
        "\n",
        "for emotion, score in result_fa.get_top_emotions():\n",
        "    bar_length = int(score * 30)\n",
        "    bar = \"█\" * bar_length + \"░\" * (30 - bar_length)\n",
        "    table.add_row(emotion, f\"{score:.4f}\", bar)\n",
        "\n",
        "console.print(table)\n",
        "\n",
        "sentiment = result_fa.get_sentiment_group()\n",
        "console.print(f\"\\n[bold]Sentiment:[/bold] [red]{sentiment.upper()}[/red]\")\n"
      ]
    },
    {
      "cell_type": "markdown",
      "metadata": {},
      "source": [
        "## 🎨 Enhanced Analysis (Emotion + Linguistics)\n",
        "\n",
        "The Enhanced Analyzer combines emotion detection with linguistic dimension analysis including formality, tone, intensity, and communication style.\n"
      ]
    },
    {
      "cell_type": "code",
      "execution_count": 8,
      "metadata": {},
      "outputs": [
        {
          "data": {
            "text/html": [
              "<pre style=\"white-space:pre;overflow-x:auto;line-height:normal;font-family:Menlo,'DejaVu Sans Mono',consolas,'Courier New',monospace\">\n",
              "<span style=\"color: #008080; text-decoration-color: #008080; font-weight: bold\">Loading Enhanced Analyzer...</span>\n",
              "</pre>\n"
            ],
            "text/plain": [
              "\n",
              "\u001b[1;36mLoading Enhanced Analyzer\u001b[0m\u001b[1;36m...\u001b[0m\n"
            ]
          },
          "metadata": {},
          "output_type": "display_data"
        },
        {
          "data": {
            "text/html": [
              "<pre style=\"white-space:pre;overflow-x:auto;line-height:normal;font-family:Menlo,'DejaVu Sans Mono',consolas,'Courier New',monospace\"><span style=\"color: #008000; text-decoration-color: #008000; font-weight: bold\">✓ Model loaded!</span>\n",
              "\n",
              "</pre>\n"
            ],
            "text/plain": [
              "\u001b[1;32m✓ Model loaded!\u001b[0m\n",
              "\n"
            ]
          },
          "metadata": {},
          "output_type": "display_data"
        },
        {
          "data": {
            "text/html": [
              "<pre style=\"white-space:pre;overflow-x:auto;line-height:normal;font-family:Menlo,'DejaVu Sans Mono',consolas,'Courier New',monospace\"><span style=\"color: #008080; text-decoration-color: #008080; font-weight: bold\">═══ Example </span><span style=\"color: #008080; text-decoration-color: #008080; font-weight: bold\">1</span><span style=\"color: #008080; text-decoration-color: #008080; font-weight: bold\">: Formal negative feedback ═══</span>\n",
              "\n",
              "</pre>\n"
            ],
            "text/plain": [
              "\u001b[1;36m═══ Example \u001b[0m\u001b[1;36m1\u001b[0m\u001b[1;36m: Formal negative feedback ═══\u001b[0m\n",
              "\n"
            ]
          },
          "metadata": {},
          "output_type": "display_data"
        },
        {
          "data": {
            "text/html": [
              "<pre style=\"white-space:pre;overflow-x:auto;line-height:normal;font-family:Menlo,'DejaVu Sans Mono',consolas,'Courier New',monospace\"><span style=\"font-weight: bold\">Text:</span> I am extremely disappointed with this terrible service.\n",
              "\n",
              "</pre>\n"
            ],
            "text/plain": [
              "\u001b[1mText:\u001b[0m I am extremely disappointed with this terrible service.\n",
              "\n"
            ]
          },
          "metadata": {},
          "output_type": "display_data"
        },
        {
          "data": {
            "text/html": [
              "<pre style=\"white-space:pre;overflow-x:auto;line-height:normal;font-family:Menlo,'DejaVu Sans Mono',consolas,'Courier New',monospace\"><span style=\"font-style: italic\">                       🎭 Emotion Analysis                       </span>\n",
              "┏━━━━━━━━━━━━━━━━━━━━━━┳━━━━━━━━━━━━┳━━━━━━━━━━━━━━━━━━━━━━━━━━━┓\n",
              "┃<span style=\"color: #008000; text-decoration-color: #008000; font-weight: bold\"> Emotion              </span>┃<span style=\"color: #008000; text-decoration-color: #008000; font-weight: bold\"> Score      </span>┃<span style=\"color: #008000; text-decoration-color: #008000; font-weight: bold\"> Bar                       </span>┃\n",
              "┡━━━━━━━━━━━━━━━━━━━━━━╇━━━━━━━━━━━━╇━━━━━━━━━━━━━━━━━━━━━━━━━━━┩\n",
              "│<span style=\"color: #008080; text-decoration-color: #008080\"> disappointment       </span>│<span style=\"color: #808000; text-decoration-color: #808000\"> 0.999      </span>│<span style=\"color: #c0c0c0; text-decoration-color: #c0c0c0\"> ████████████████████████  </span>│\n",
              "│<span style=\"color: #008080; text-decoration-color: #008080\"> neutral              </span>│<span style=\"color: #808000; text-decoration-color: #808000\"> 0.000      </span>│<span style=\"color: #c0c0c0; text-decoration-color: #c0c0c0\">                           </span>│\n",
              "│<span style=\"color: #008080; text-decoration-color: #008080\"> admiration           </span>│<span style=\"color: #808000; text-decoration-color: #808000\"> 0.000      </span>│<span style=\"color: #c0c0c0; text-decoration-color: #c0c0c0\">                           </span>│\n",
              "└──────────────────────┴────────────┴───────────────────────────┘\n",
              "</pre>\n"
            ],
            "text/plain": [
              "\u001b[3m                       🎭 Emotion Analysis                       \u001b[0m\n",
              "┏━━━━━━━━━━━━━━━━━━━━━━┳━━━━━━━━━━━━┳━━━━━━━━━━━━━━━━━━━━━━━━━━━┓\n",
              "┃\u001b[1;32m \u001b[0m\u001b[1;32mEmotion             \u001b[0m\u001b[1;32m \u001b[0m┃\u001b[1;32m \u001b[0m\u001b[1;32mScore     \u001b[0m\u001b[1;32m \u001b[0m┃\u001b[1;32m \u001b[0m\u001b[1;32mBar                      \u001b[0m\u001b[1;32m \u001b[0m┃\n",
              "┡━━━━━━━━━━━━━━━━━━━━━━╇━━━━━━━━━━━━╇━━━━━━━━━━━━━━━━━━━━━━━━━━━┩\n",
              "│\u001b[36m \u001b[0m\u001b[36mdisappointment      \u001b[0m\u001b[36m \u001b[0m│\u001b[33m \u001b[0m\u001b[33m0.999     \u001b[0m\u001b[33m \u001b[0m│\u001b[37m \u001b[0m\u001b[37m████████████████████████ \u001b[0m\u001b[37m \u001b[0m│\n",
              "│\u001b[36m \u001b[0m\u001b[36mneutral             \u001b[0m\u001b[36m \u001b[0m│\u001b[33m \u001b[0m\u001b[33m0.000     \u001b[0m\u001b[33m \u001b[0m│\u001b[37m \u001b[0m\u001b[37m                         \u001b[0m\u001b[37m \u001b[0m│\n",
              "│\u001b[36m \u001b[0m\u001b[36madmiration          \u001b[0m\u001b[36m \u001b[0m│\u001b[33m \u001b[0m\u001b[33m0.000     \u001b[0m\u001b[33m \u001b[0m│\u001b[37m \u001b[0m\u001b[37m                         \u001b[0m\u001b[37m \u001b[0m│\n",
              "└──────────────────────┴────────────┴───────────────────────────┘\n"
            ]
          },
          "metadata": {},
          "output_type": "display_data"
        },
        {
          "data": {
            "text/html": [
              "<pre style=\"white-space:pre;overflow-x:auto;line-height:normal;font-family:Menlo,'DejaVu Sans Mono',consolas,'Courier New',monospace\"><span style=\"font-style: italic\">               📊 Linguistic Dimensions                </span>\n",
              "┏━━━━━━━━━━━━━━━━━━━━━━┳━━━━━━━━━━━━━━━━━┳━━━━━━━━━━━━┓\n",
              "┃<span style=\"color: #800080; text-decoration-color: #800080; font-weight: bold\"> Dimension            </span>┃<span style=\"color: #800080; text-decoration-color: #800080; font-weight: bold\"> Value           </span>┃<span style=\"color: #800080; text-decoration-color: #800080; font-weight: bold\"> Confidence </span>┃\n",
              "┡━━━━━━━━━━━━━━━━━━━━━━╇━━━━━━━━━━━━━━━━━╇━━━━━━━━━━━━┩\n",
              "│<span style=\"color: #008080; text-decoration-color: #008080\"> Formality            </span>│<span style=\"color: #808000; text-decoration-color: #808000\"> neutral         </span>│<span style=\"color: #c0c0c0; text-decoration-color: #c0c0c0\"> 50.00%     </span>│\n",
              "│<span style=\"color: #008080; text-decoration-color: #008080\"> Tone                 </span>│<span style=\"color: #808000; text-decoration-color: #808000\"> neutral         </span>│<span style=\"color: #c0c0c0; text-decoration-color: #c0c0c0\"> 50.00%     </span>│\n",
              "│<span style=\"color: #008080; text-decoration-color: #008080\"> Intensity            </span>│<span style=\"color: #808000; text-decoration-color: #808000\"> high            </span>│<span style=\"color: #c0c0c0; text-decoration-color: #c0c0c0\"> 100.00%    </span>│\n",
              "│<span style=\"color: #008080; text-decoration-color: #008080\"> Style                </span>│<span style=\"color: #808000; text-decoration-color: #808000\"> neutral         </span>│<span style=\"color: #c0c0c0; text-decoration-color: #c0c0c0\"> 50.00%     </span>│\n",
              "└──────────────────────┴─────────────────┴────────────┘\n",
              "</pre>\n"
            ],
            "text/plain": [
              "\u001b[3m               📊 Linguistic Dimensions                \u001b[0m\n",
              "┏━━━━━━━━━━━━━━━━━━━━━━┳━━━━━━━━━━━━━━━━━┳━━━━━━━━━━━━┓\n",
              "┃\u001b[1;35m \u001b[0m\u001b[1;35mDimension           \u001b[0m\u001b[1;35m \u001b[0m┃\u001b[1;35m \u001b[0m\u001b[1;35mValue          \u001b[0m\u001b[1;35m \u001b[0m┃\u001b[1;35m \u001b[0m\u001b[1;35mConfidence\u001b[0m\u001b[1;35m \u001b[0m┃\n",
              "┡━━━━━━━━━━━━━━━━━━━━━━╇━━━━━━━━━━━━━━━━━╇━━━━━━━━━━━━┩\n",
              "│\u001b[36m \u001b[0m\u001b[36mFormality           \u001b[0m\u001b[36m \u001b[0m│\u001b[33m \u001b[0m\u001b[33mneutral        \u001b[0m\u001b[33m \u001b[0m│\u001b[37m \u001b[0m\u001b[37m50.00%    \u001b[0m\u001b[37m \u001b[0m│\n",
              "│\u001b[36m \u001b[0m\u001b[36mTone                \u001b[0m\u001b[36m \u001b[0m│\u001b[33m \u001b[0m\u001b[33mneutral        \u001b[0m\u001b[33m \u001b[0m│\u001b[37m \u001b[0m\u001b[37m50.00%    \u001b[0m\u001b[37m \u001b[0m│\n",
              "│\u001b[36m \u001b[0m\u001b[36mIntensity           \u001b[0m\u001b[36m \u001b[0m│\u001b[33m \u001b[0m\u001b[33mhigh           \u001b[0m\u001b[33m \u001b[0m│\u001b[37m \u001b[0m\u001b[37m100.00%   \u001b[0m\u001b[37m \u001b[0m│\n",
              "│\u001b[36m \u001b[0m\u001b[36mStyle               \u001b[0m\u001b[36m \u001b[0m│\u001b[33m \u001b[0m\u001b[33mneutral        \u001b[0m\u001b[33m \u001b[0m│\u001b[37m \u001b[0m\u001b[37m50.00%    \u001b[0m\u001b[37m \u001b[0m│\n",
              "└──────────────────────┴─────────────────┴────────────┘\n"
            ]
          },
          "metadata": {},
          "output_type": "display_data"
        },
        {
          "data": {
            "text/html": [
              "<pre style=\"white-space:pre;overflow-x:auto;line-height:normal;font-family:Menlo,'DejaVu Sans Mono',consolas,'Courier New',monospace\">\n",
              "<span style=\"font-weight: bold\">Overall Sentiment:</span> <span style=\"color: #800000; text-decoration-color: #800000\">NEGATIVE</span>\n",
              "\n",
              "</pre>\n"
            ],
            "text/plain": [
              "\n",
              "\u001b[1mOverall Sentiment:\u001b[0m \u001b[31mNEGATIVE\u001b[0m\n",
              "\n"
            ]
          },
          "metadata": {},
          "output_type": "display_data"
        },
        {
          "data": {
            "text/html": [
              "<pre style=\"white-space:pre;overflow-x:auto;line-height:normal;font-family:Menlo,'DejaVu Sans Mono',consolas,'Courier New',monospace\"><span style=\"color: #008080; text-decoration-color: #008080; font-weight: bold\">═══ Example </span><span style=\"color: #008080; text-decoration-color: #008080; font-weight: bold\">2</span><span style=\"color: #008080; text-decoration-color: #008080; font-weight: bold\">: Informal enthusiastic response ═══</span>\n",
              "\n",
              "</pre>\n"
            ],
            "text/plain": [
              "\u001b[1;36m═══ Example \u001b[0m\u001b[1;36m2\u001b[0m\u001b[1;36m: Informal enthusiastic response ═══\u001b[0m\n",
              "\n"
            ]
          },
          "metadata": {},
          "output_type": "display_data"
        },
        {
          "data": {
            "text/html": [
              "<pre style=\"white-space:pre;overflow-x:auto;line-height:normal;font-family:Menlo,'DejaVu Sans Mono',consolas,'Courier New',monospace\"><span style=\"font-weight: bold\">Text:</span> OMG this is sooo amazing!!! I love it!!!\n",
              "\n",
              "</pre>\n"
            ],
            "text/plain": [
              "\u001b[1mText:\u001b[0m OMG this is sooo amazing!!! I love it!!!\n",
              "\n"
            ]
          },
          "metadata": {},
          "output_type": "display_data"
        },
        {
          "data": {
            "text/html": [
              "<pre style=\"white-space:pre;overflow-x:auto;line-height:normal;font-family:Menlo,'DejaVu Sans Mono',consolas,'Courier New',monospace\"><span style=\"font-style: italic\">                       🎭 Emotion Analysis                       </span>\n",
              "┏━━━━━━━━━━━━━━━━━━━━━━┳━━━━━━━━━━━━┳━━━━━━━━━━━━━━━━━━━━━━━━━━━┓\n",
              "┃<span style=\"color: #008000; text-decoration-color: #008000; font-weight: bold\"> Emotion              </span>┃<span style=\"color: #008000; text-decoration-color: #008000; font-weight: bold\"> Score      </span>┃<span style=\"color: #008000; text-decoration-color: #008000; font-weight: bold\"> Bar                       </span>┃\n",
              "┡━━━━━━━━━━━━━━━━━━━━━━╇━━━━━━━━━━━━╇━━━━━━━━━━━━━━━━━━━━━━━━━━━┩\n",
              "│<span style=\"color: #008080; text-decoration-color: #008080\"> love                 </span>│<span style=\"color: #808000; text-decoration-color: #808000\"> 0.863      </span>│<span style=\"color: #c0c0c0; text-decoration-color: #c0c0c0\"> █████████████████████     </span>│\n",
              "│<span style=\"color: #008080; text-decoration-color: #008080\"> surprise             </span>│<span style=\"color: #808000; text-decoration-color: #808000\"> 0.095      </span>│<span style=\"color: #c0c0c0; text-decoration-color: #c0c0c0\"> ██                        </span>│\n",
              "│<span style=\"color: #008080; text-decoration-color: #008080\"> admiration           </span>│<span style=\"color: #808000; text-decoration-color: #808000\"> 0.026      </span>│<span style=\"color: #c0c0c0; text-decoration-color: #c0c0c0\">                           </span>│\n",
              "└──────────────────────┴────────────┴───────────────────────────┘\n",
              "</pre>\n"
            ],
            "text/plain": [
              "\u001b[3m                       🎭 Emotion Analysis                       \u001b[0m\n",
              "┏━━━━━━━━━━━━━━━━━━━━━━┳━━━━━━━━━━━━┳━━━━━━━━━━━━━━━━━━━━━━━━━━━┓\n",
              "┃\u001b[1;32m \u001b[0m\u001b[1;32mEmotion             \u001b[0m\u001b[1;32m \u001b[0m┃\u001b[1;32m \u001b[0m\u001b[1;32mScore     \u001b[0m\u001b[1;32m \u001b[0m┃\u001b[1;32m \u001b[0m\u001b[1;32mBar                      \u001b[0m\u001b[1;32m \u001b[0m┃\n",
              "┡━━━━━━━━━━━━━━━━━━━━━━╇━━━━━━━━━━━━╇━━━━━━━━━━━━━━━━━━━━━━━━━━━┩\n",
              "│\u001b[36m \u001b[0m\u001b[36mlove                \u001b[0m\u001b[36m \u001b[0m│\u001b[33m \u001b[0m\u001b[33m0.863     \u001b[0m\u001b[33m \u001b[0m│\u001b[37m \u001b[0m\u001b[37m█████████████████████    \u001b[0m\u001b[37m \u001b[0m│\n",
              "│\u001b[36m \u001b[0m\u001b[36msurprise            \u001b[0m\u001b[36m \u001b[0m│\u001b[33m \u001b[0m\u001b[33m0.095     \u001b[0m\u001b[33m \u001b[0m│\u001b[37m \u001b[0m\u001b[37m██                       \u001b[0m\u001b[37m \u001b[0m│\n",
              "│\u001b[36m \u001b[0m\u001b[36madmiration          \u001b[0m\u001b[36m \u001b[0m│\u001b[33m \u001b[0m\u001b[33m0.026     \u001b[0m\u001b[33m \u001b[0m│\u001b[37m \u001b[0m\u001b[37m                         \u001b[0m\u001b[37m \u001b[0m│\n",
              "└──────────────────────┴────────────┴───────────────────────────┘\n"
            ]
          },
          "metadata": {},
          "output_type": "display_data"
        },
        {
          "data": {
            "text/html": [
              "<pre style=\"white-space:pre;overflow-x:auto;line-height:normal;font-family:Menlo,'DejaVu Sans Mono',consolas,'Courier New',monospace\"><span style=\"font-style: italic\">               📊 Linguistic Dimensions                </span>\n",
              "┏━━━━━━━━━━━━━━━━━━━━━━┳━━━━━━━━━━━━━━━━━┳━━━━━━━━━━━━┓\n",
              "┃<span style=\"color: #800080; text-decoration-color: #800080; font-weight: bold\"> Dimension            </span>┃<span style=\"color: #800080; text-decoration-color: #800080; font-weight: bold\"> Value           </span>┃<span style=\"color: #800080; text-decoration-color: #800080; font-weight: bold\"> Confidence </span>┃\n",
              "┡━━━━━━━━━━━━━━━━━━━━━━╇━━━━━━━━━━━━━━━━━╇━━━━━━━━━━━━┩\n",
              "│<span style=\"color: #008080; text-decoration-color: #008080\"> Formality            </span>│<span style=\"color: #808000; text-decoration-color: #808000\"> colloquial      </span>│<span style=\"color: #c0c0c0; text-decoration-color: #c0c0c0\"> 100.00%    </span>│\n",
              "│<span style=\"color: #008080; text-decoration-color: #008080\"> Tone                 </span>│<span style=\"color: #808000; text-decoration-color: #808000\"> friendly        </span>│<span style=\"color: #c0c0c0; text-decoration-color: #c0c0c0\"> 100.00%    </span>│\n",
              "│<span style=\"color: #008080; text-decoration-color: #008080\"> Intensity            </span>│<span style=\"color: #808000; text-decoration-color: #808000\"> high            </span>│<span style=\"color: #c0c0c0; text-decoration-color: #c0c0c0\"> 100.00%    </span>│\n",
              "│<span style=\"color: #008080; text-decoration-color: #008080\"> Style                </span>│<span style=\"color: #808000; text-decoration-color: #808000\"> neutral         </span>│<span style=\"color: #c0c0c0; text-decoration-color: #c0c0c0\"> 50.00%     </span>│\n",
              "└──────────────────────┴─────────────────┴────────────┘\n",
              "</pre>\n"
            ],
            "text/plain": [
              "\u001b[3m               📊 Linguistic Dimensions                \u001b[0m\n",
              "┏━━━━━━━━━━━━━━━━━━━━━━┳━━━━━━━━━━━━━━━━━┳━━━━━━━━━━━━┓\n",
              "┃\u001b[1;35m \u001b[0m\u001b[1;35mDimension           \u001b[0m\u001b[1;35m \u001b[0m┃\u001b[1;35m \u001b[0m\u001b[1;35mValue          \u001b[0m\u001b[1;35m \u001b[0m┃\u001b[1;35m \u001b[0m\u001b[1;35mConfidence\u001b[0m\u001b[1;35m \u001b[0m┃\n",
              "┡━━━━━━━━━━━━━━━━━━━━━━╇━━━━━━━━━━━━━━━━━╇━━━━━━━━━━━━┩\n",
              "│\u001b[36m \u001b[0m\u001b[36mFormality           \u001b[0m\u001b[36m \u001b[0m│\u001b[33m \u001b[0m\u001b[33mcolloquial     \u001b[0m\u001b[33m \u001b[0m│\u001b[37m \u001b[0m\u001b[37m100.00%   \u001b[0m\u001b[37m \u001b[0m│\n",
              "│\u001b[36m \u001b[0m\u001b[36mTone                \u001b[0m\u001b[36m \u001b[0m│\u001b[33m \u001b[0m\u001b[33mfriendly       \u001b[0m\u001b[33m \u001b[0m│\u001b[37m \u001b[0m\u001b[37m100.00%   \u001b[0m\u001b[37m \u001b[0m│\n",
              "│\u001b[36m \u001b[0m\u001b[36mIntensity           \u001b[0m\u001b[36m \u001b[0m│\u001b[33m \u001b[0m\u001b[33mhigh           \u001b[0m\u001b[33m \u001b[0m│\u001b[37m \u001b[0m\u001b[37m100.00%   \u001b[0m\u001b[37m \u001b[0m│\n",
              "│\u001b[36m \u001b[0m\u001b[36mStyle               \u001b[0m\u001b[36m \u001b[0m│\u001b[33m \u001b[0m\u001b[33mneutral        \u001b[0m\u001b[33m \u001b[0m│\u001b[37m \u001b[0m\u001b[37m50.00%    \u001b[0m\u001b[37m \u001b[0m│\n",
              "└──────────────────────┴─────────────────┴────────────┘\n"
            ]
          },
          "metadata": {},
          "output_type": "display_data"
        },
        {
          "data": {
            "text/html": [
              "<pre style=\"white-space:pre;overflow-x:auto;line-height:normal;font-family:Menlo,'DejaVu Sans Mono',consolas,'Courier New',monospace\">\n",
              "<span style=\"font-weight: bold\">Overall Sentiment:</span> <span style=\"color: #008000; text-decoration-color: #008000\">POSITIVE</span>\n",
              "\n",
              "</pre>\n"
            ],
            "text/plain": [
              "\n",
              "\u001b[1mOverall Sentiment:\u001b[0m \u001b[32mPOSITIVE\u001b[0m\n",
              "\n"
            ]
          },
          "metadata": {},
          "output_type": "display_data"
        }
      ],
      "source": [
        "# Initialize enhanced analyzer\n",
        "console.print(\"\\n[bold cyan]Loading Enhanced Analyzer...[/bold cyan]\")\n",
        "enhanced_analyzer = EnhancedAnalyzer(language=\"english\", model_key=\"goemotions\")\n",
        "enhanced_analyzer.load_model()\n",
        "console.print(\"[bold green]✓ Model loaded![/bold green]\\n\")\n",
        "\n",
        "# Test different text styles\n",
        "test_cases = [\n",
        "    {\n",
        "        \"text\": \"I am extremely disappointed with this terrible service.\",\n",
        "        \"description\": \"Formal negative feedback\"\n",
        "    },\n",
        "    {\n",
        "        \"text\": \"OMG this is sooo amazing!!! I love it!!!\",\n",
        "        \"description\": \"Informal enthusiastic response\"\n",
        "    },\n",
        "]\n",
        "\n",
        "for idx, case in enumerate(test_cases, 1):\n",
        "    console.print(f\"[bold cyan]═══ Example {idx}: {case['description']} ═══[/bold cyan]\\n\")\n",
        "    console.print(f\"[bold]Text:[/bold] {case['text']}\\n\")\n",
        "\n",
        "    result = enhanced_analyzer.analyze(case['text'], top_k=3)\n",
        "\n",
        "    # Emotion Analysis\n",
        "    emotion_table = Table(title=\"🎭 Emotion Analysis\", show_header=True, header_style=\"bold green\")\n",
        "    emotion_table.add_column(\"Emotion\", style=\"cyan\", width=20)\n",
        "    emotion_table.add_column(\"Score\", style=\"yellow\", width=10)\n",
        "    emotion_table.add_column(\"Bar\", style=\"white\", width=25)\n",
        "\n",
        "    for emotion, score in result.emotion_result.get_top_emotions():\n",
        "        bar_length = int(score * 25)\n",
        "        bar = \"█\" * bar_length\n",
        "        emotion_table.add_row(emotion, f\"{score:.3f}\", bar)\n",
        "\n",
        "    console.print(emotion_table)\n",
        "\n",
        "    # Linguistic Features\n",
        "    ling_table = Table(title=\"📊 Linguistic Dimensions\", show_header=True, header_style=\"bold magenta\")\n",
        "    ling_table.add_column(\"Dimension\", style=\"cyan\", width=20)\n",
        "    ling_table.add_column(\"Value\", style=\"yellow\", width=15)\n",
        "    ling_table.add_column(\"Confidence\", style=\"white\", width=10)\n",
        "\n",
        "    ling = result.linguistic_features\n",
        "    ling_table.add_row(\"Formality\", ling.formality, f\"{ling.formality_score:.2%}\")\n",
        "    ling_table.add_row(\"Tone\", ling.tone, f\"{ling.tone_score:.2%}\")\n",
        "    ling_table.add_row(\"Intensity\", ling.intensity, f\"{ling.intensity_score:.2%}\")\n",
        "    ling_table.add_row(\"Style\", ling.communication_style, f\"{ling.style_score:.2%}\")\n",
        "\n",
        "    console.print(ling_table)\n",
        "\n",
        "    # Sentiment\n",
        "    sentiment = result.emotion_result.get_sentiment_group()\n",
        "    sentiment_colors = {\"positive\": \"green\", \"negative\": \"red\", \"ambiguous\": \"yellow\", \"neutral\": \"white\"}\n",
        "    color = sentiment_colors.get(sentiment, \"white\")\n",
        "    console.print(f\"\\n[bold]Overall Sentiment:[/bold] [{color}]{sentiment.upper()}[/{color}]\\n\")\n"
      ]
    },
    {
      "cell_type": "markdown",
      "metadata": {},
      "source": []
    }
  ],
  "metadata": {
    "kernelspec": {
      "display_name": ".venv",
      "language": "python",
      "name": "python3"
    },
    "language_info": {
      "codemirror_mode": {
        "name": "ipython",
        "version": 3
      },
      "file_extension": ".py",
      "mimetype": "text/x-python",
      "name": "python",
      "nbconvert_exporter": "python",
      "pygments_lexer": "ipython3",
      "version": "3.12.0"
    }
  },
  "nbformat": 4,
  "nbformat_minor": 2
}
